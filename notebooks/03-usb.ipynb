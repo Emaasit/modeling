{
 "cells": [
  {
   "cell_type": "markdown",
   "metadata": {
    "extensions": {
     "jupyter_dashboards": {
      "version": 1,
      "views": {
       "grid_default": {
        "col": 0,
        "height": 4,
        "hidden": false,
        "row": 0,
        "width": 4
       },
       "report_default": {}
      }
     }
    },
    "slideshow": {
     "slide_type": "slide"
    }
   },
   "source": [
    "# USB Data\n",
    "----"
   ]
  },
  {
   "cell_type": "markdown",
   "metadata": {
    "extensions": {
     "jupyter_dashboards": {
      "version": 1,
      "views": {
       "grid_default": {
        "col": 0,
        "height": 4,
        "hidden": false,
        "row": 4,
        "width": 12
       },
       "report_default": {}
      }
     }
    },
    "slideshow": {
     "slide_type": "slide"
    }
   },
   "source": [
    "## Understanding USB Data in the Context of Insider Threat\n",
    "**What are the features/properties of USB data that will inform modeling for unsual behaviour?**"
   ]
  },
  {
   "cell_type": "markdown",
   "metadata": {
    "extensions": {
     "jupyter_dashboards": {
      "version": 1,
      "views": {
       "grid_default": {
        "col": 4,
        "height": 4,
        "hidden": false,
        "row": 0,
        "width": 4
       },
       "report_default": {}
      }
     }
    }
   },
   "source": [
    "<img src=\"usb-insider.png\" alt=\"Haystax's Data Science Workflow\" width=\"25%\" />\n",
    "<figcaption>Image credit: www.secudrives.com.</figcaption>"
   ]
  },
  {
   "cell_type": "markdown",
   "metadata": {
    "extensions": {
     "jupyter_dashboards": {
      "version": 1,
      "views": {
       "grid_default": {
        "col": 0,
        "height": 4,
        "hidden": false,
        "row": 8,
        "width": 4
       },
       "report_default": {}
      }
     }
    }
   },
   "source": [
    "USB data shows the connect and disconnect activity of employees with corresponding attributes such as `date`, `user`, `pc`, and `file_tree`."
   ]
  },
  {
   "cell_type": "markdown",
   "metadata": {
    "extensions": {
     "jupyter_dashboards": {
      "version": 1,
      "views": {
       "grid_default": {
        "col": 4,
        "height": 4,
        "hidden": false,
        "row": 8,
        "width": 4
       },
       "report_default": {}
      }
     }
    }
   },
   "source": [
    "### Initial thoughts"
   ]
  },
  {
   "cell_type": "markdown",
   "metadata": {
    "extensions": {
     "jupyter_dashboards": {
      "version": 1,
      "views": {
       "grid_default": {
        "col": 0,
        "height": 15,
        "hidden": false,
        "row": 12,
        "width": 12
       },
       "report_default": {}
      }
     }
    }
   },
   "source": [
    "* Users are typically assigned a normal/average number of thumb drive uses per day. Deviations from a user's normal usage can be considered significant.\n",
    "* The `file_tree` field is a semicolon-delimited list of directories on the device. We can look at these directories for some insights.\n",
    "* Malicious insiders will often copy large amounts of proprietary data to a USB device  or a personal device\n",
    "* Unauthorized downloading of data onto a personal USB drive or other storage medium.\n",
    "* Copying data to an unsecured USB is an example of insider threat that cannot be detected with controls such as Firewalls, IDS, IPS, SIEM because they are focused on external attacks.  \n",
    "\n",
    "* Understanding the context: \n",
    "  * With external attacks, the line between good and bad activity is very clear. An external entity should be accessing your web page, for example, but should never be running software that tries to log in with 500 different passwords in a short time. Therefore, typical preventive measures are very effective. With an insider threat, a user performs a normal set of actions, but the context in which the user executes them is quite different. As an example, one user could be accessing files for project A because she is actively working with the client. This is quite different than the user who is accessing files for project B, a project he has not worked on for several months, then immediately copies the information to a USB drive. In both cases, the access is similar, but the context makes these very different situations.\n",
    "\n",
    "* Copying, modifying and deleting data on a USB during offboarding is a potential indicator of insider threat.\n",
    "* An insider visits a restricted site (e.g. wikileaks) after having inserted a USB device\n",
    "* An example of a malicious scenario from CERT:\n",
    "  * User who did not previously use removable drives or work after hours begins logging in after hours, using a removable drive, and uploading data to wikileaks.org. Leaves the organization shortly thereafter."
   ]
  },
  {
   "cell_type": "markdown",
   "metadata": {
    "extensions": {
     "jupyter_dashboards": {
      "version": 1,
      "views": {
       "grid_default": {
        "col": 8,
        "height": 4,
        "hidden": false,
        "row": 8,
        "width": 4
       },
       "report_default": {}
      }
     }
    }
   },
   "source": [
    "First, let's set up our working environment including required libraries."
   ]
  },
  {
   "cell_type": "code",
   "execution_count": 1,
   "metadata": {
    "extensions": {
     "jupyter_dashboards": {
      "version": 1,
      "views": {
       "grid_default": {
        "hidden": true
       },
       "report_default": {}
      }
     }
    },
    "slideshow": {
     "slide_type": "subslide"
    }
   },
   "outputs": [
    {
     "ename": "ValueError",
     "evalue": "You are tring to use the old GPU back-end. It was removed from Theano. Use device=cuda* now. See https://github.com/Theano/Theano/wiki/Converting-to-the-new-gpu-back-end%28gpuarray%29 for more information.",
     "output_type": "error",
     "traceback": [
      "\u001b[0;31m---------------------------------------------------------------------------\u001b[0m",
      "\u001b[0;31mValueError\u001b[0m                                Traceback (most recent call last)",
      "\u001b[0;32m<ipython-input-1-5651f8f10860>\u001b[0m in \u001b[0;36m<module>\u001b[0;34m()\u001b[0m\n\u001b[1;32m      5\u001b[0m \u001b[0;32mimport\u001b[0m \u001b[0mnumpy\u001b[0m \u001b[0;32mas\u001b[0m \u001b[0mnp\u001b[0m\u001b[0;34m\u001b[0m\u001b[0m\n\u001b[1;32m      6\u001b[0m \u001b[0;32mimport\u001b[0m \u001b[0mpandas\u001b[0m \u001b[0;32mas\u001b[0m \u001b[0mpd\u001b[0m\u001b[0;34m\u001b[0m\u001b[0m\n\u001b[0;32m----> 7\u001b[0;31m \u001b[0;32mimport\u001b[0m \u001b[0mpymc3\u001b[0m \u001b[0;32mas\u001b[0m \u001b[0mpm\u001b[0m\u001b[0;34m\u001b[0m\u001b[0m\n\u001b[0m\u001b[1;32m      8\u001b[0m \u001b[0;32mimport\u001b[0m \u001b[0mtheano\u001b[0m\u001b[0;34m\u001b[0m\u001b[0m\n\u001b[1;32m      9\u001b[0m \u001b[0;32mimport\u001b[0m \u001b[0mdask\u001b[0m\u001b[0;34m.\u001b[0m\u001b[0mdataframe\u001b[0m \u001b[0;32mas\u001b[0m \u001b[0mdd\u001b[0m\u001b[0;34m\u001b[0m\u001b[0m\n",
      "\u001b[0;32m/opt/conda/lib/python3.6/site-packages/pymc3/__init__.py\u001b[0m in \u001b[0;36m<module>\u001b[0;34m()\u001b[0m\n\u001b[1;32m      3\u001b[0m \u001b[0;34m\u001b[0m\u001b[0m\n\u001b[1;32m      4\u001b[0m \u001b[0;32mfrom\u001b[0m \u001b[0;34m.\u001b[0m\u001b[0mblocking\u001b[0m \u001b[0;32mimport\u001b[0m \u001b[0;34m*\u001b[0m\u001b[0;34m\u001b[0m\u001b[0m\n\u001b[0;32m----> 5\u001b[0;31m \u001b[0;32mfrom\u001b[0m \u001b[0;34m.\u001b[0m\u001b[0mdistributions\u001b[0m \u001b[0;32mimport\u001b[0m \u001b[0;34m*\u001b[0m\u001b[0;34m\u001b[0m\u001b[0m\n\u001b[0m\u001b[1;32m      6\u001b[0m \u001b[0;32mfrom\u001b[0m \u001b[0;34m.\u001b[0m\u001b[0mexternal\u001b[0m \u001b[0;32mimport\u001b[0m \u001b[0;34m*\u001b[0m\u001b[0;34m\u001b[0m\u001b[0m\n\u001b[1;32m      7\u001b[0m \u001b[0;32mfrom\u001b[0m \u001b[0;34m.\u001b[0m\u001b[0mglm\u001b[0m \u001b[0;32mimport\u001b[0m \u001b[0;34m*\u001b[0m\u001b[0;34m\u001b[0m\u001b[0m\n",
      "\u001b[0;32m/opt/conda/lib/python3.6/site-packages/pymc3/distributions/__init__.py\u001b[0m in \u001b[0;36m<module>\u001b[0;34m()\u001b[0m\n\u001b[0;32m----> 1\u001b[0;31m \u001b[0;32mfrom\u001b[0m \u001b[0;34m.\u001b[0m \u001b[0;32mimport\u001b[0m \u001b[0mtimeseries\u001b[0m\u001b[0;34m\u001b[0m\u001b[0m\n\u001b[0m\u001b[1;32m      2\u001b[0m \u001b[0;32mfrom\u001b[0m \u001b[0;34m.\u001b[0m \u001b[0;32mimport\u001b[0m \u001b[0mtransforms\u001b[0m\u001b[0;34m\u001b[0m\u001b[0m\n\u001b[1;32m      3\u001b[0m \u001b[0;34m\u001b[0m\u001b[0m\n\u001b[1;32m      4\u001b[0m \u001b[0;32mfrom\u001b[0m \u001b[0;34m.\u001b[0m\u001b[0mcontinuous\u001b[0m \u001b[0;32mimport\u001b[0m \u001b[0mUniform\u001b[0m\u001b[0;34m\u001b[0m\u001b[0m\n\u001b[1;32m      5\u001b[0m \u001b[0;32mfrom\u001b[0m \u001b[0;34m.\u001b[0m\u001b[0mcontinuous\u001b[0m \u001b[0;32mimport\u001b[0m \u001b[0mFlat\u001b[0m\u001b[0;34m\u001b[0m\u001b[0m\n",
      "\u001b[0;32m/opt/conda/lib/python3.6/site-packages/pymc3/distributions/timeseries.py\u001b[0m in \u001b[0;36m<module>\u001b[0;34m()\u001b[0m\n\u001b[0;32m----> 1\u001b[0;31m \u001b[0;32mimport\u001b[0m \u001b[0mtheano\u001b[0m\u001b[0;34m.\u001b[0m\u001b[0mtensor\u001b[0m \u001b[0;32mas\u001b[0m \u001b[0mtt\u001b[0m\u001b[0;34m\u001b[0m\u001b[0m\n\u001b[0m\u001b[1;32m      2\u001b[0m \u001b[0;32mfrom\u001b[0m \u001b[0mtheano\u001b[0m \u001b[0;32mimport\u001b[0m \u001b[0mscan\u001b[0m\u001b[0;34m\u001b[0m\u001b[0m\n\u001b[1;32m      3\u001b[0m \u001b[0;34m\u001b[0m\u001b[0m\n\u001b[1;32m      4\u001b[0m \u001b[0;32mfrom\u001b[0m \u001b[0mpymc3\u001b[0m\u001b[0;34m.\u001b[0m\u001b[0mutil\u001b[0m \u001b[0;32mimport\u001b[0m \u001b[0mget_variable_name\u001b[0m\u001b[0;34m\u001b[0m\u001b[0m\n\u001b[1;32m      5\u001b[0m \u001b[0;32mfrom\u001b[0m \u001b[0;34m.\u001b[0m\u001b[0mcontinuous\u001b[0m \u001b[0;32mimport\u001b[0m \u001b[0mget_tau_sd\u001b[0m\u001b[0;34m,\u001b[0m \u001b[0mNormal\u001b[0m\u001b[0;34m,\u001b[0m \u001b[0mFlat\u001b[0m\u001b[0;34m\u001b[0m\u001b[0m\n",
      "\u001b[0;32m/opt/conda/lib/python3.6/site-packages/theano/__init__.py\u001b[0m in \u001b[0;36m<module>\u001b[0;34m()\u001b[0m\n\u001b[1;32m     86\u001b[0m \u001b[0;34m\u001b[0m\u001b[0m\n\u001b[1;32m     87\u001b[0m \u001b[0;34m\u001b[0m\u001b[0m\n\u001b[0;32m---> 88\u001b[0;31m \u001b[0;32mfrom\u001b[0m \u001b[0mtheano\u001b[0m\u001b[0;34m.\u001b[0m\u001b[0mconfigdefaults\u001b[0m \u001b[0;32mimport\u001b[0m \u001b[0mconfig\u001b[0m\u001b[0;34m\u001b[0m\u001b[0m\n\u001b[0m\u001b[1;32m     89\u001b[0m \u001b[0;32mfrom\u001b[0m \u001b[0mtheano\u001b[0m\u001b[0;34m.\u001b[0m\u001b[0mconfigparser\u001b[0m \u001b[0;32mimport\u001b[0m \u001b[0mchange_flags\u001b[0m\u001b[0;34m\u001b[0m\u001b[0m\n\u001b[1;32m     90\u001b[0m \u001b[0;34m\u001b[0m\u001b[0m\n",
      "\u001b[0;32m/opt/conda/lib/python3.6/site-packages/theano/configdefaults.py\u001b[0m in \u001b[0;36m<module>\u001b[0;34m()\u001b[0m\n\u001b[1;32m    135\u001b[0m      \"letters, only lower case even if NVIDIA uses capital letters.\"),\n\u001b[1;32m    136\u001b[0m     \u001b[0mDeviceParam\u001b[0m\u001b[0;34m(\u001b[0m\u001b[0;34m'cpu'\u001b[0m\u001b[0;34m,\u001b[0m \u001b[0mallow_override\u001b[0m\u001b[0;34m=\u001b[0m\u001b[0;32mFalse\u001b[0m\u001b[0;34m)\u001b[0m\u001b[0;34m,\u001b[0m\u001b[0;34m\u001b[0m\u001b[0m\n\u001b[0;32m--> 137\u001b[0;31m     in_c_key=False)\n\u001b[0m\u001b[1;32m    138\u001b[0m \u001b[0;34m\u001b[0m\u001b[0m\n\u001b[1;32m    139\u001b[0m AddConfigVar(\n",
      "\u001b[0;32m/opt/conda/lib/python3.6/site-packages/theano/configparser.py\u001b[0m in \u001b[0;36mAddConfigVar\u001b[0;34m(name, doc, configparam, root, in_c_key)\u001b[0m\n\u001b[1;32m    285\u001b[0m         \u001b[0;31m# This allow to filter wrong value from the user.\u001b[0m\u001b[0;34m\u001b[0m\u001b[0;34m\u001b[0m\u001b[0m\n\u001b[1;32m    286\u001b[0m         \u001b[0;32mif\u001b[0m \u001b[0;32mnot\u001b[0m \u001b[0mcallable\u001b[0m\u001b[0;34m(\u001b[0m\u001b[0mconfigparam\u001b[0m\u001b[0;34m.\u001b[0m\u001b[0mdefault\u001b[0m\u001b[0;34m)\u001b[0m\u001b[0;34m:\u001b[0m\u001b[0;34m\u001b[0m\u001b[0m\n\u001b[0;32m--> 287\u001b[0;31m             \u001b[0mconfigparam\u001b[0m\u001b[0;34m.\u001b[0m\u001b[0m__get__\u001b[0m\u001b[0;34m(\u001b[0m\u001b[0mroot\u001b[0m\u001b[0;34m,\u001b[0m \u001b[0mtype\u001b[0m\u001b[0;34m(\u001b[0m\u001b[0mroot\u001b[0m\u001b[0;34m)\u001b[0m\u001b[0;34m,\u001b[0m \u001b[0mdelete_key\u001b[0m\u001b[0;34m=\u001b[0m\u001b[0;32mTrue\u001b[0m\u001b[0;34m)\u001b[0m\u001b[0;34m\u001b[0m\u001b[0m\n\u001b[0m\u001b[1;32m    288\u001b[0m         \u001b[0;32melse\u001b[0m\u001b[0;34m:\u001b[0m\u001b[0;34m\u001b[0m\u001b[0m\n\u001b[1;32m    289\u001b[0m             \u001b[0;31m# We do not want to evaluate now the default value\u001b[0m\u001b[0;34m\u001b[0m\u001b[0;34m\u001b[0m\u001b[0m\n",
      "\u001b[0;32m/opt/conda/lib/python3.6/site-packages/theano/configparser.py\u001b[0m in \u001b[0;36m__get__\u001b[0;34m(self, cls, type_, delete_key)\u001b[0m\n\u001b[1;32m    333\u001b[0m                 \u001b[0;32melse\u001b[0m\u001b[0;34m:\u001b[0m\u001b[0;34m\u001b[0m\u001b[0m\n\u001b[1;32m    334\u001b[0m                     \u001b[0mval_str\u001b[0m \u001b[0;34m=\u001b[0m \u001b[0mself\u001b[0m\u001b[0;34m.\u001b[0m\u001b[0mdefault\u001b[0m\u001b[0;34m\u001b[0m\u001b[0m\n\u001b[0;32m--> 335\u001b[0;31m             \u001b[0mself\u001b[0m\u001b[0;34m.\u001b[0m\u001b[0m__set__\u001b[0m\u001b[0;34m(\u001b[0m\u001b[0mcls\u001b[0m\u001b[0;34m,\u001b[0m \u001b[0mval_str\u001b[0m\u001b[0;34m)\u001b[0m\u001b[0;34m\u001b[0m\u001b[0m\n\u001b[0m\u001b[1;32m    336\u001b[0m         \u001b[0;31m# print \"RVAL\", self.val\u001b[0m\u001b[0;34m\u001b[0m\u001b[0;34m\u001b[0m\u001b[0m\n\u001b[1;32m    337\u001b[0m         \u001b[0;32mreturn\u001b[0m \u001b[0mself\u001b[0m\u001b[0;34m.\u001b[0m\u001b[0mval\u001b[0m\u001b[0;34m\u001b[0m\u001b[0m\n",
      "\u001b[0;32m/opt/conda/lib/python3.6/site-packages/theano/configparser.py\u001b[0m in \u001b[0;36m__set__\u001b[0;34m(self, cls, val)\u001b[0m\n\u001b[1;32m    344\u001b[0m         \u001b[0;31m# print \"SETTING PARAM\", self.fullname,(cls), val\u001b[0m\u001b[0;34m\u001b[0m\u001b[0;34m\u001b[0m\u001b[0m\n\u001b[1;32m    345\u001b[0m         \u001b[0;32mif\u001b[0m \u001b[0mself\u001b[0m\u001b[0;34m.\u001b[0m\u001b[0mfilter\u001b[0m\u001b[0;34m:\u001b[0m\u001b[0;34m\u001b[0m\u001b[0m\n\u001b[0;32m--> 346\u001b[0;31m             \u001b[0mself\u001b[0m\u001b[0;34m.\u001b[0m\u001b[0mval\u001b[0m \u001b[0;34m=\u001b[0m \u001b[0mself\u001b[0m\u001b[0;34m.\u001b[0m\u001b[0mfilter\u001b[0m\u001b[0;34m(\u001b[0m\u001b[0mval\u001b[0m\u001b[0;34m)\u001b[0m\u001b[0;34m\u001b[0m\u001b[0m\n\u001b[0m\u001b[1;32m    347\u001b[0m         \u001b[0;32melse\u001b[0m\u001b[0;34m:\u001b[0m\u001b[0;34m\u001b[0m\u001b[0m\n\u001b[1;32m    348\u001b[0m             \u001b[0mself\u001b[0m\u001b[0;34m.\u001b[0m\u001b[0mval\u001b[0m \u001b[0;34m=\u001b[0m \u001b[0mval\u001b[0m\u001b[0;34m\u001b[0m\u001b[0m\n",
      "\u001b[0;32m/opt/conda/lib/python3.6/site-packages/theano/configdefaults.py\u001b[0m in \u001b[0;36mfilter\u001b[0;34m(val)\u001b[0m\n\u001b[1;32m    114\u001b[0m             \u001b[0;32melif\u001b[0m \u001b[0mval\u001b[0m\u001b[0;34m.\u001b[0m\u001b[0mstartswith\u001b[0m\u001b[0;34m(\u001b[0m\u001b[0;34m'gpu'\u001b[0m\u001b[0;34m)\u001b[0m\u001b[0;34m:\u001b[0m\u001b[0;34m\u001b[0m\u001b[0m\n\u001b[1;32m    115\u001b[0m                 raise ValueError(\n\u001b[0;32m--> 116\u001b[0;31m                     \u001b[0;34m'You are tring to use the old GPU back-end. '\u001b[0m\u001b[0;34m\u001b[0m\u001b[0m\n\u001b[0m\u001b[1;32m    117\u001b[0m                     \u001b[0;34m'It was removed from Theano. Use device=cuda* now. '\u001b[0m\u001b[0;34m\u001b[0m\u001b[0m\n\u001b[1;32m    118\u001b[0m                     \u001b[0;34m'See https://github.com/Theano/Theano/wiki/Converting-to-the-new-gpu-back-end%28gpuarray%29 '\u001b[0m\u001b[0;34m\u001b[0m\u001b[0m\n",
      "\u001b[0;31mValueError\u001b[0m: You are tring to use the old GPU back-end. It was removed from Theano. Use device=cuda* now. See https://github.com/Theano/Theano/wiki/Converting-to-the-new-gpu-back-end%28gpuarray%29 for more information."
     ]
    }
   ],
   "source": [
    "# %load modeling.py\n",
    "%matplotlib inline\n",
    "%config InlineBackend.figure_format = 'retina'\n",
    "import os\n",
    "import numpy as np\n",
    "import pandas as pd\n",
    "import pymc3 as pm\n",
    "import theano\n",
    "import dask.dataframe as dd\n",
    "import pickle\n",
    "import seaborn as sns             # for static plots\n",
    "import matplotlib.pyplot as plt\n",
    "from bqplot import *              # for interactive plots\n",
    "from ipywidgets import interact, interactive, fixed, interact_manual\n",
    "import ipywidgets as ipw\n",
    "fig_layout = ipw.Layout(width = \"100%\", height = \"600px\")\n",
    "sns.set_context('notebook', font_scale = 1.1)\n",
    "np.random.seed(12345)\n",
    "rc = {'xtick.labelsize': 40, 'ytick.labelsize': 40, 'axes.labelsize': 40, 'font.size': 40,\n",
    "      'lines.linewidth': 4.0, 'lines.markersize': 40, 'font.family': \"serif\", 'font.serif': \"cm\",\n",
    "      'savefig.dpi': 200, 'text.usetex': False, 'legend.fontsize': 40.0, 'axes.titlesize': 40, \n",
    "      \"figure.figsize\": [24, 16]}\n",
    "sns.set(rc = rc)\n",
    "sns.set_style(\"ticks\")\n",
    "from IPython.core.interactiveshell import InteractiveShell\n",
    "InteractiveShell.ast_node_interactivity = \"all\"\n",
    "from warnings import filterwarnings\n",
    "filterwarnings(\"ignore\")"
   ]
  },
  {
   "cell_type": "markdown",
   "metadata": {
    "extensions": {
     "jupyter_dashboards": {
      "version": 1,
      "views": {
       "grid_default": {
        "col": 0,
        "height": 6,
        "hidden": false,
        "row": 27,
        "width": 12
       },
       "report_default": {}
      }
     }
    },
    "slideshow": {
     "slide_type": "slide"
    }
   },
   "source": [
    "### Import the standardized data\n",
    "Import the standardized data and peform sanity checks to verify its consistency with the Haystax's core-data dictionary including:\n",
    "* required columns, and \n",
    "* correct data types."
   ]
  },
  {
   "cell_type": "code",
   "execution_count": 2,
   "metadata": {
    "extensions": {
     "jupyter_dashboards": {
      "version": 1,
      "views": {
       "grid_default": {
        "hidden": true
       },
       "report_default": {}
      }
     }
    }
   },
   "outputs": [],
   "source": [
    "# First, specify data source here\n",
    "hard_disk = \"/opt/usb/\"\n",
    "folder = \"cert/standardized/usb\"\n",
    "file_type = \"*.parquet\" # may include csv, hdf, json, text, etc\n",
    "data_path = os.path.join(hard_disk, folder, file_type)"
   ]
  },
  {
   "cell_type": "code",
   "execution_count": 3,
   "metadata": {
    "extensions": {
     "jupyter_dashboards": {
      "version": 1,
      "views": {
       "grid_default": {
        "hidden": true
       },
       "report_default": {}
      }
     }
    },
    "slideshow": {
     "slide_type": "subslide"
    }
   },
   "outputs": [],
   "source": [
    "def import_data (path):\n",
    "    \"\"\"Import data from the source into a distributed dask dataframe.  \n",
    "    Then check whether data is standardized to Haystax's core-data-dictionary.\n",
    "    Then check whether the data types are correct i.e categorical, int, datetime, string \n",
    "    \"\"\"\n",
    "    try:\n",
    "        ddf = dd.read_parquet(path)\n",
    "    except IOError:\n",
    "        print(\"Cannot find this data source: \"+hard_disk+folder)\n",
    "        print(\"Contact David Jones for the correct data source\")\n",
    "        print(\"Quiting!\")\n",
    "        quit()\n",
    "\n",
    "\n",
    "    # Check if data is standardized to Haystax's core data dictionary    \n",
    "    required_columns = [\"record_id\", \"employee_id\", \"timestamp\", \"computer_id\", \n",
    "                        \"file_tree\", \"connect_activity\"]\n",
    "    try:\n",
    "        if not (ddf.columns == required_columns).all():\n",
    "            raise ValueError\n",
    "    except:\n",
    "        print(\"The columns in the data are not standardized.\")\n",
    "        print(\"Quiting!\")\n",
    "        print(\"Contact David Jones for Haystax's standard-core-data dictionary\")\n",
    "        quit() \n",
    "        \n",
    "    \n",
    "\n",
    "     \n",
    "        #     # Check if the columns are of the right data type i.e categorical, datetime, int, or string    \n",
    "#     required_data_types = [\"category\", \"category\", \"category\",\n",
    "#                         \"str\", \"datetime64[ns]\", \"int64\", \n",
    "#                         \"float\", \"str\", \"datetime64[ns]\"]\n",
    "    \n",
    "#     data_types = [ddf.record_id.dtype == 'category', \n",
    "#                   ddf.sender_employee_id.dtype == 'category',\n",
    "#                   ddf.sender_username.dtype == 'category',\n",
    "#                   ddf.subject.dtype == 'str',\n",
    "#                   ddf.timestamp.dtype == 'datetime64[ns]',\n",
    "#                   ddf.number_of_attachments.dtype == 'int64',\n",
    "#                   ddf.attachment_size.dtype == 'float',\n",
    "#                   ddf.email_text.dtype == 'str',\n",
    "#                   ddf.file_date.dtype == 'datetime64[ns]']\n",
    "#     data_types = [True, True, True, False, True, False, False, False, False]\n",
    "    \n",
    "#     try:\n",
    "#         if not (data_types == required_columns).all():\n",
    "#             raise ValueError\n",
    "#     except:\n",
    "#         print(\"The columns in the data are not of the correct data type.\")\n",
    "#         print(\"Quiting!\")\n",
    "#         print(\"Contact David Jones for Haystax's standard-core-data dictionary\")\n",
    "#         quit() \n",
    "\n",
    "    return ddf"
   ]
  },
  {
   "cell_type": "code",
   "execution_count": 4,
   "metadata": {
    "extensions": {
     "jupyter_dashboards": {
      "version": 1,
      "views": {
       "grid_default": {
        "col": 0,
        "height": 11,
        "hidden": false,
        "row": 33,
        "width": 4
       },
       "report_default": {}
      }
     }
    }
   },
   "outputs": [
    {
     "name": "stdout",
     "output_type": "stream",
     "text": [
      "<class 'pandas.core.frame.DataFrame'>\n",
      "RangeIndex: 5 entries, 0 to 4\n",
      "Data columns (total 6 columns):\n",
      "record_id           5 non-null object\n",
      "employee_id         5 non-null object\n",
      "timestamp           5 non-null datetime64[ns]\n",
      "computer_id         5 non-null object\n",
      "file_tree           5 non-null object\n",
      "connect_activity    5 non-null object\n",
      "dtypes: datetime64[ns](1), object(5)\n",
      "memory usage: 320.0+ bytes\n"
     ]
    },
    {
     "data": {
      "text/plain": [
       "Index(['record_id', 'employee_id', 'timestamp', 'computer_id', 'file_tree',\n",
       "       'connect_activity'],\n",
       "      dtype='object')"
      ]
     },
     "execution_count": 4,
     "metadata": {},
     "output_type": "execute_result"
    }
   ],
   "source": [
    "ddf = import_data(path = data_path)\n",
    "ddf.head().info()\n",
    "ddf.columns"
   ]
  },
  {
   "cell_type": "code",
   "execution_count": 5,
   "metadata": {
    "extensions": {
     "jupyter_dashboards": {
      "version": 1,
      "views": {
       "grid_default": {
        "col": 4,
        "height": 11,
        "hidden": false,
        "row": 33,
        "width": 4
       },
       "report_default": {}
      }
     }
    },
    "scrolled": false
   },
   "outputs": [
    {
     "name": "stdout",
     "output_type": "stream",
     "text": [
      "<class 'pandas.core.frame.DataFrame'>\n",
      "RangeIndex: 711646 entries, 0 to 711645\n",
      "Data columns (total 6 columns):\n",
      "record_id           711646 non-null object\n",
      "employee_id         711646 non-null object\n",
      "timestamp           711646 non-null datetime64[ns]\n",
      "computer_id         711646 non-null object\n",
      "file_tree           711646 non-null object\n",
      "connect_activity    711646 non-null object\n",
      "dtypes: datetime64[ns](1), object(5)\n",
      "memory usage: 32.6+ MB\n"
     ]
    }
   ],
   "source": [
    "df = ddf.get_partition(n = 1).compute()\n",
    "df.info()"
   ]
  },
  {
   "cell_type": "code",
   "execution_count": 6,
   "metadata": {
    "extensions": {
     "jupyter_dashboards": {
      "version": 1,
      "views": {
       "grid_default": {
        "col": 8,
        "height": 4,
        "hidden": false,
        "row": 33,
        "width": 4
       },
       "report_default": {}
      }
     }
    }
   },
   "outputs": [
    {
     "data": {
      "text/plain": [
       "3"
      ]
     },
     "execution_count": 6,
     "metadata": {},
     "output_type": "execute_result"
    },
    {
     "data": {
      "text/plain": [
       "(None, None, None, None)"
      ]
     },
     "execution_count": 6,
     "metadata": {},
     "output_type": "execute_result"
    }
   ],
   "source": [
    "# df.to_csv(os.path.join(hard_disk, folder, \"usb_filtered.csv\"))\n",
    "ddf.npartitions\n",
    "ddf.divisions"
   ]
  },
  {
   "cell_type": "code",
   "execution_count": 7,
   "metadata": {
    "extensions": {
     "jupyter_dashboards": {
      "version": 1,
      "views": {
       "grid_default": {
        "col": 0,
        "height": 16,
        "hidden": false,
        "row": 44,
        "width": 7
       },
       "report_default": {}
      }
     }
    },
    "scrolled": true
   },
   "outputs": [
    {
     "data": {
      "text/html": [
       "<div>\n",
       "<style scoped>\n",
       "    .dataframe tbody tr th:only-of-type {\n",
       "        vertical-align: middle;\n",
       "    }\n",
       "\n",
       "    .dataframe tbody tr th {\n",
       "        vertical-align: top;\n",
       "    }\n",
       "\n",
       "    .dataframe thead th {\n",
       "        text-align: right;\n",
       "    }\n",
       "</style>\n",
       "<table border=\"1\" class=\"dataframe\">\n",
       "  <thead>\n",
       "    <tr style=\"text-align: right;\">\n",
       "      <th></th>\n",
       "      <th>record_id</th>\n",
       "      <th>employee_id</th>\n",
       "      <th>timestamp</th>\n",
       "      <th>computer_id</th>\n",
       "      <th>file_tree</th>\n",
       "      <th>connect_activity</th>\n",
       "    </tr>\n",
       "  </thead>\n",
       "  <tbody>\n",
       "    <tr>\n",
       "      <th>0</th>\n",
       "      <td>{O8W0-V9IB85HG-1450TSUE}</td>\n",
       "      <td>CQS2883</td>\n",
       "      <td>2010-08-16 10:58:11</td>\n",
       "      <td>PC-6220</td>\n",
       "      <td>nan</td>\n",
       "      <td>Disconnect</td>\n",
       "    </tr>\n",
       "    <tr>\n",
       "      <th>1</th>\n",
       "      <td>{J0G8-V7JL47TS-2815LUVW}</td>\n",
       "      <td>WNW2002</td>\n",
       "      <td>2010-08-16 10:58:30</td>\n",
       "      <td>PC-6583</td>\n",
       "      <td>nan</td>\n",
       "      <td>Disconnect</td>\n",
       "    </tr>\n",
       "    <tr>\n",
       "      <th>2</th>\n",
       "      <td>{H3G1-Y0TF18ZX-6825OMMX}</td>\n",
       "      <td>ESS3318</td>\n",
       "      <td>2010-08-16 10:58:51</td>\n",
       "      <td>PC-2607</td>\n",
       "      <td>R:\\;R:\\83HcQ51;R:\\994GYK8;R:\\ESS3318</td>\n",
       "      <td>Connect</td>\n",
       "    </tr>\n",
       "    <tr>\n",
       "      <th>3</th>\n",
       "      <td>{F3W8-C5DT43NQ-4939NPGL}</td>\n",
       "      <td>REJ2666</td>\n",
       "      <td>2010-08-16 10:58:55</td>\n",
       "      <td>PC-9016</td>\n",
       "      <td>R:\\;R:\\39d26d6;R:\\44V73d6;R:\\81R64j6;R:\\85VB4T...</td>\n",
       "      <td>Connect</td>\n",
       "    </tr>\n",
       "    <tr>\n",
       "      <th>4</th>\n",
       "      <td>{I9M2-O1MV98PV-2407PPSH}</td>\n",
       "      <td>GNT0221</td>\n",
       "      <td>2010-08-16 10:58:59</td>\n",
       "      <td>PC-6427</td>\n",
       "      <td>nan</td>\n",
       "      <td>Disconnect</td>\n",
       "    </tr>\n",
       "    <tr>\n",
       "      <th>5</th>\n",
       "      <td>{Z6A0-B6MN65EU-9724FMXV}</td>\n",
       "      <td>BDJ3001</td>\n",
       "      <td>2010-08-16 10:59:04</td>\n",
       "      <td>PC-4401</td>\n",
       "      <td>R:\\;R:\\43WTgN0;R:\\87rRp41;R:\\BDJ3001</td>\n",
       "      <td>Connect</td>\n",
       "    </tr>\n",
       "  </tbody>\n",
       "</table>\n",
       "</div>"
      ],
      "text/plain": [
       "                  record_id employee_id           timestamp computer_id  \\\n",
       "0  {O8W0-V9IB85HG-1450TSUE}     CQS2883 2010-08-16 10:58:11     PC-6220   \n",
       "1  {J0G8-V7JL47TS-2815LUVW}     WNW2002 2010-08-16 10:58:30     PC-6583   \n",
       "2  {H3G1-Y0TF18ZX-6825OMMX}     ESS3318 2010-08-16 10:58:51     PC-2607   \n",
       "3  {F3W8-C5DT43NQ-4939NPGL}     REJ2666 2010-08-16 10:58:55     PC-9016   \n",
       "4  {I9M2-O1MV98PV-2407PPSH}     GNT0221 2010-08-16 10:58:59     PC-6427   \n",
       "5  {Z6A0-B6MN65EU-9724FMXV}     BDJ3001 2010-08-16 10:59:04     PC-4401   \n",
       "\n",
       "                                           file_tree connect_activity  \n",
       "0                                                nan       Disconnect  \n",
       "1                                                nan       Disconnect  \n",
       "2               R:\\;R:\\83HcQ51;R:\\994GYK8;R:\\ESS3318          Connect  \n",
       "3  R:\\;R:\\39d26d6;R:\\44V73d6;R:\\81R64j6;R:\\85VB4T...          Connect  \n",
       "4                                                nan       Disconnect  \n",
       "5               R:\\;R:\\43WTgN0;R:\\87rRp41;R:\\BDJ3001          Connect  "
      ]
     },
     "execution_count": 7,
     "metadata": {},
     "output_type": "execute_result"
    }
   ],
   "source": [
    "# df = pd.read_csv(os.path.join(hard_disk, folder, \"usb_filtered.csv\"))\n",
    "df.head(n = 6)"
   ]
  },
  {
   "cell_type": "markdown",
   "metadata": {},
   "source": [
    "### Step 1: Prepare the data"
   ]
  },
  {
   "cell_type": "code",
   "execution_count": null,
   "metadata": {},
   "outputs": [],
   "source": [
    "# create some data as a Numpy array or pandas df\n",
    "data = np.random.randn(40000)\n",
    "#y = pm.Minibatch(data, batch_size=500)\n",
    "y = theano.shared(data)\n",
    "y.get_value()"
   ]
  },
  {
   "cell_type": "markdown",
   "metadata": {
    "extensions": {
     "jupyter_dashboards": {
      "version": 1,
      "views": {
       "grid_default": {
        "col": 8,
        "height": 4,
        "hidden": false,
        "row": 37,
        "width": 4
       },
       "report_default": {}
      }
     }
    }
   },
   "source": [
    "## What is the proportion of connect activity?"
   ]
  },
  {
   "cell_type": "markdown",
   "metadata": {
    "extensions": {
     "jupyter_dashboards": {
      "version": 1,
      "views": {
       "grid_default": {
        "col": 0,
        "height": 5,
        "hidden": false,
        "row": 60,
        "width": 12
       },
       "report_default": {}
      }
     }
    }
   },
   "source": [
    "Some important notes: \n",
    "* Users are assigned a normal/average number of thumb drive uses per day. Deviations from a user's normal usage can be considered significant.\n",
    "* Some connect events may be missing disconnect events, because users can power down machine before removing drive"
   ]
  },
  {
   "cell_type": "code",
   "execution_count": 8,
   "metadata": {
    "extensions": {
     "jupyter_dashboards": {
      "version": 1,
      "views": {
       "grid_default": {
        "col": 8,
        "height": 4,
        "hidden": false,
        "row": 41,
        "width": 4
       },
       "report_default": {}
      }
     }
    }
   },
   "outputs": [
    {
     "data": {
      "text/plain": [
       "connect_activity\n",
       "Connect       357017\n",
       "Disconnect    354629\n",
       "Name: connect_activity, dtype: int64"
      ]
     },
     "execution_count": 8,
     "metadata": {},
     "output_type": "execute_result"
    }
   ],
   "source": [
    "connect_act = df.groupby(\"connect_activity\").connect_activity.count()\n",
    "connect_act"
   ]
  },
  {
   "cell_type": "code",
   "execution_count": 9,
   "metadata": {
    "extensions": {
     "jupyter_dashboards": {
      "version": 1,
      "views": {
       "grid_default": {
        "col": 0,
        "height": 23,
        "hidden": false,
        "row": 65,
        "width": null
       },
       "report_default": {}
      }
     }
    }
   },
   "outputs": [
    {
     "data": {
      "application/vnd.jupyter.widget-view+json": {
       "model_id": "e5c9aa51485f44288afeb0a79a6495a3",
       "version_major": 2,
       "version_minor": 0
      },
      "text/plain": [
       "VBox(children=(Figure(animation_duration=5000, axes=[Axis(label='Connect Activity', scale=OrdinalScale()), Axi…"
      ]
     },
     "metadata": {},
     "output_type": "display_data"
    }
   ],
   "source": [
    "xs = OrdinalScale()\n",
    "ys = LinearScale()\n",
    "x = connect_act.index\n",
    "y = connect_act.values/1e3\n",
    "\n",
    "bar_chart = Bars(x = x, y = y, \n",
    "                 scales = {'x': xs, 'y': ys}, \n",
    "                 colors = [\"limegreen\"], \n",
    "                 padding = 0.2, \n",
    "                 display_legend = False, \n",
    "                 labels = [\"Connect Activity\"])\n",
    "\n",
    "tt = Tooltip(fields = [\"x\", \"y\"], \n",
    "             formats = [\"\", \"0.2f\"], \n",
    "             labels = [\"Activity\", \"Count\"])\n",
    "\n",
    "bar_chart.tooltip = tt\n",
    "bar_chart.selected_style = {\"fill\" : \"red\"}\n",
    "bar_chart.interactions = {\n",
    "    'legend_hover': 'highlight_axes',\n",
    "    'hover': 'tooltip', \n",
    "    'click': 'select',\n",
    "}\n",
    "\n",
    "x_ax = Axis(scale=xs, label='Connect Activity', grid_lines='solid')\n",
    "y_ax = Axis(scale=ys, orientation='vertical', tick_format='0.2f', label='Count', grid_lines='solid')\n",
    "\n",
    "\n",
    "panzoom = PanZoom(scales={'x': [xs], 'y': [ys]})\n",
    "\n",
    "fig1 = Figure(marks=[bar_chart], \n",
    "              axes=[x_ax, y_ax], \n",
    "              animation_duration=5000, \n",
    "              layout = fig_layout, \n",
    "              background_style={'fill': 'aliceblue'}, \n",
    "              title = \"Proportion of Connect Activity\", \n",
    "              legend_location = \"top-right\", \n",
    "              legend_style = {\"fill\" : \"white\"}\n",
    "             )\n",
    "    \n",
    "\n",
    "ipw.VBox([fig1])"
   ]
  },
  {
   "cell_type": "markdown",
   "metadata": {
    "extensions": {
     "jupyter_dashboards": {
      "version": 1,
      "views": {
       "grid_default": {
        "col": 7,
        "height": 4,
        "hidden": false,
        "row": 45,
        "width": 4
       },
       "report_default": {}
      }
     }
    }
   },
   "source": [
    "There are always more connect activities than disconnect activities. This implies that sometimes insiders power off their computers before disconneting their USB devices."
   ]
  },
  {
   "cell_type": "markdown",
   "metadata": {
    "extensions": {
     "jupyter_dashboards": {
      "version": 1,
      "views": {
       "grid_default": {
        "col": 8,
        "height": 4,
        "hidden": false,
        "row": 0,
        "width": 4
       },
       "report_default": {}
      }
     }
    }
   },
   "source": [
    "## Which computer IDs experience the most activity?"
   ]
  },
  {
   "cell_type": "code",
   "execution_count": 10,
   "metadata": {
    "extensions": {
     "jupyter_dashboards": {
      "version": 1,
      "views": {
       "grid_default": {
        "col": 0,
        "height": 12,
        "hidden": false,
        "row": 88,
        "width": 4
       },
       "report_default": {}
      }
     }
    },
    "scrolled": true
   },
   "outputs": [
    {
     "data": {
      "text/html": [
       "<div>\n",
       "<style scoped>\n",
       "    .dataframe tbody tr th:only-of-type {\n",
       "        vertical-align: middle;\n",
       "    }\n",
       "\n",
       "    .dataframe tbody tr th {\n",
       "        vertical-align: top;\n",
       "    }\n",
       "\n",
       "    .dataframe thead th {\n",
       "        text-align: right;\n",
       "    }\n",
       "</style>\n",
       "<table border=\"1\" class=\"dataframe\">\n",
       "  <thead>\n",
       "    <tr style=\"text-align: right;\">\n",
       "      <th>connect_activity</th>\n",
       "      <th>Connect</th>\n",
       "      <th>Disconnect</th>\n",
       "    </tr>\n",
       "    <tr>\n",
       "      <th>computer_id</th>\n",
       "      <th></th>\n",
       "      <th></th>\n",
       "    </tr>\n",
       "  </thead>\n",
       "  <tbody>\n",
       "    <tr>\n",
       "      <th>PC-3471</th>\n",
       "      <td>2048</td>\n",
       "      <td>2042</td>\n",
       "    </tr>\n",
       "    <tr>\n",
       "      <th>PC-1105</th>\n",
       "      <td>2036</td>\n",
       "      <td>2026</td>\n",
       "    </tr>\n",
       "    <tr>\n",
       "      <th>PC-0937</th>\n",
       "      <td>2029</td>\n",
       "      <td>2014</td>\n",
       "    </tr>\n",
       "    <tr>\n",
       "      <th>PC-3154</th>\n",
       "      <td>2009</td>\n",
       "      <td>1998</td>\n",
       "    </tr>\n",
       "    <tr>\n",
       "      <th>PC-2158</th>\n",
       "      <td>2000</td>\n",
       "      <td>1987</td>\n",
       "    </tr>\n",
       "    <tr>\n",
       "      <th>PC-7117</th>\n",
       "      <td>1991</td>\n",
       "      <td>1983</td>\n",
       "    </tr>\n",
       "    <tr>\n",
       "      <th>PC-2659</th>\n",
       "      <td>1978</td>\n",
       "      <td>1965</td>\n",
       "    </tr>\n",
       "    <tr>\n",
       "      <th>PC-2057</th>\n",
       "      <td>1963</td>\n",
       "      <td>1949</td>\n",
       "    </tr>\n",
       "    <tr>\n",
       "      <th>PC-5849</th>\n",
       "      <td>1959</td>\n",
       "      <td>1947</td>\n",
       "    </tr>\n",
       "    <tr>\n",
       "      <th>PC-7046</th>\n",
       "      <td>1949</td>\n",
       "      <td>1935</td>\n",
       "    </tr>\n",
       "  </tbody>\n",
       "</table>\n",
       "</div>"
      ],
      "text/plain": [
       "connect_activity  Connect  Disconnect\n",
       "computer_id                          \n",
       "PC-3471              2048        2042\n",
       "PC-1105              2036        2026\n",
       "PC-0937              2029        2014\n",
       "PC-3154              2009        1998\n",
       "PC-2158              2000        1987\n",
       "PC-7117              1991        1983\n",
       "PC-2659              1978        1965\n",
       "PC-2057              1963        1949\n",
       "PC-5849              1959        1947\n",
       "PC-7046              1949        1935"
      ]
     },
     "execution_count": 10,
     "metadata": {},
     "output_type": "execute_result"
    }
   ],
   "source": [
    "pc = (df.groupby([\"computer_id\", \"connect_activity\"])[\"employee_id\"]\n",
    "      .size()\n",
    "      .unstack()\n",
    "      .sort_values(by = \"Connect\", ascending = False)\n",
    "      .head(n = 10)\n",
    "     )\n",
    "pc"
   ]
  },
  {
   "cell_type": "code",
   "execution_count": 11,
   "metadata": {
    "extensions": {
     "jupyter_dashboards": {
      "version": 1,
      "views": {
       "grid_default": {
        "col": 4,
        "height": 22,
        "hidden": false,
        "row": 88,
        "width": null
       },
       "report_default": {}
      }
     }
    },
    "scrolled": false
   },
   "outputs": [
    {
     "data": {
      "application/vnd.jupyter.widget-view+json": {
       "model_id": "c046b43a81ad4e74b8a7e9eda08b2219",
       "version_major": 2,
       "version_minor": 0
      },
      "text/plain": [
       "VBox(children=(Figure(animation_duration=5000, axes=[Axis(label='Computer ID', scale=OrdinalScale()), Axis(lab…"
      ]
     },
     "metadata": {},
     "output_type": "display_data"
    }
   ],
   "source": [
    "xs = OrdinalScale()\n",
    "ys = LinearScale()\n",
    "x = pc.index\n",
    "y = [pc.Connect/1e3, pc.Disconnect/1e3]\n",
    "\n",
    "bar_chart = Bars(x = x, y = y, \n",
    "                 scales = {'x': xs, 'y': ys}, type = \"grouped\",\n",
    "                 colors = [\"hotpink\", \"orange\"], \n",
    "                 padding = 0.1,\n",
    "                 display_legend = True,\n",
    "                 labels = [\"Connect\", \"Disconnect\"])\n",
    "\n",
    "tt = Tooltip(fields = [\"x\", \"y\"], \n",
    "             formats = [\"\", \"0.1f\"], \n",
    "             labels = [\"Computer ID\", \"Activity\"])\n",
    "\n",
    "bar_chart.tooltip = tt\n",
    "bar_chart.selected_style = {\"fill\" : \"red\"}\n",
    "bar_chart.interactions = {\n",
    "    'legend_hover': 'highlight_axes',\n",
    "    'hover': 'tooltip', \n",
    "    'click': 'select',\n",
    "}\n",
    "\n",
    "x_ax = Axis(scale=xs, label='Computer ID', grid_lines='solid')\n",
    "y_ax = Axis(scale=ys, orientation='vertical', tick_format='0.1f', label='Count', grid_lines='solid')\n",
    "\n",
    "\n",
    "panzoom = PanZoom(scales={'x': [xs], 'y': [ys]})\n",
    "\n",
    "fig2 = Figure(marks=[bar_chart], \n",
    "              axes=[x_ax, y_ax], \n",
    "              animation_duration=5000, \n",
    "              layout = fig_layout, \n",
    "              background_style={'fill': 'aliceblue'}, \n",
    "              title = \"Proportion of Connect & Disconnet Activity\", \n",
    "              legend_location = \"top-right\", \n",
    "              legend_style = {\"fill\" : \"white\"}\n",
    "             )\n",
    "    \n",
    "\n",
    "ipw.VBox([fig2])"
   ]
  },
  {
   "cell_type": "markdown",
   "metadata": {
    "extensions": {
     "jupyter_dashboards": {
      "version": 1,
      "views": {
       "grid_default": {
        "col": 7,
        "height": 4,
        "hidden": false,
        "row": 49,
        "width": 4
       },
       "report_default": {}
      }
     }
    }
   },
   "source": [
    "There are always more connect activities than disconnect activities. This implies that sometimes insiders power off their computers before disconneting their USB devices."
   ]
  },
  {
   "cell_type": "markdown",
   "metadata": {
    "extensions": {
     "jupyter_dashboards": {
      "version": 1,
      "views": {
       "grid_default": {
        "col": 7,
        "height": 4,
        "hidden": false,
        "row": 53,
        "width": 4
       },
       "report_default": {}
      }
     }
    }
   },
   "source": [
    "## What file directories are most common?"
   ]
  },
  {
   "cell_type": "code",
   "execution_count": 12,
   "metadata": {
    "extensions": {
     "jupyter_dashboards": {
      "version": 1,
      "views": {
       "grid_default": {
        "hidden": true
       },
       "report_default": {}
      }
     }
    }
   },
   "outputs": [],
   "source": [
    "df[\"file_tree2\"] = df.file_tree.apply(lambda x: x.split(\";\"))"
   ]
  },
  {
   "cell_type": "code",
   "execution_count": 13,
   "metadata": {
    "extensions": {
     "jupyter_dashboards": {
      "version": 1,
      "views": {
       "grid_default": {
        "hidden": true
       },
       "report_default": {}
      }
     }
    }
   },
   "outputs": [],
   "source": [
    "file_tree2 = df.file_tree2\n",
    "combined_list=[]\n",
    "for x in file_tree2:\n",
    "    combined_list.extend(x) "
   ]
  },
  {
   "cell_type": "code",
   "execution_count": 14,
   "metadata": {
    "extensions": {
     "jupyter_dashboards": {
      "version": 1,
      "views": {
       "grid_default": {
        "col": 0,
        "height": 4,
        "hidden": false,
        "row": 100,
        "width": 4
       },
       "report_default": {}
      }
     }
    }
   },
   "outputs": [
    {
     "name": "stdout",
     "output_type": "stream",
     "text": [
      "There are 2275 unique directories\n",
      "There are 1807088 directories\n",
      "The directory 'R:\\39d26d6' appears 1492 times\n"
     ]
    }
   ],
   "source": [
    "print(\"There are {count} unique directories\".format(count = len(set(combined_list))))\n",
    "print(\"There are {count} directories\".format(count = len(combined_list)))\n",
    "print(\"The directory 'R:\\\\39d26d6' appears {count} times\".format(count = combined_list.count(\"R:\\\\39d26d6\")))"
   ]
  },
  {
   "cell_type": "code",
   "execution_count": 15,
   "metadata": {
    "extensions": {
     "jupyter_dashboards": {
      "version": 1,
      "views": {
       "grid_default": {
        "col": 0,
        "height": 7,
        "hidden": false,
        "row": 104,
        "width": 4
       },
       "report_default": {}
      }
     }
    }
   },
   "outputs": [
    {
     "data": {
      "text/plain": [
       "R:\\           357017\n",
       "nan           354629\n",
       "R:\\13jd423      2046\n",
       "R:\\CJM0273      2046\n",
       "R:\\49FP5C2      2046\n",
       "R:\\51n6647      2046\n",
       "R:\\JDM1042      2033\n",
       "R:\\84xF4F2      2033\n",
       "R:\\AKB2312      2025\n",
       "R:\\787PQ59      2006\n",
       "dtype: int64"
      ]
     },
     "execution_count": 15,
     "metadata": {},
     "output_type": "execute_result"
    }
   ],
   "source": [
    "dir_count = pd.Series(combined_list).value_counts()\n",
    "dir_count.head(n = 10)"
   ]
  },
  {
   "cell_type": "code",
   "execution_count": 16,
   "metadata": {
    "extensions": {
     "jupyter_dashboards": {
      "version": 1,
      "views": {
       "grid_default": {
        "col": 4,
        "height": 22,
        "hidden": false,
        "row": 110,
        "width": null
       },
       "report_default": {}
      }
     }
    }
   },
   "outputs": [
    {
     "data": {
      "application/vnd.jupyter.widget-view+json": {
       "model_id": "e6fae3b6940c4d50916f1a91972edfd0",
       "version_major": 2,
       "version_minor": 0
      },
      "text/plain": [
       "VBox(children=(Figure(animation_duration=5000, axes=[Axis(label='Directory name', scale=OrdinalScale()), Axis(…"
      ]
     },
     "metadata": {},
     "output_type": "display_data"
    }
   ],
   "source": [
    "xs = OrdinalScale()\n",
    "ys = LinearScale()\n",
    "x = dir_count.tail(n = 10).index\n",
    "y = dir_count.tail(n = 10).values\n",
    "\n",
    "bar_chart = Bars(x = x, y = y, \n",
    "                 scales = {'x': xs, 'y': ys}, \n",
    "                 colors = [\"dodgerblue\"], \n",
    "                 padding = 0.2, \n",
    "                 display_legend = False, \n",
    "                 labels = [\"Directory name\"])\n",
    "\n",
    "tt = Tooltip(fields = [\"x\", \"y\"], \n",
    "             formats = [\"\", \"f\"], \n",
    "             labels = [\"Directory\", \"Count\"])\n",
    "\n",
    "bar_chart.tooltip = tt\n",
    "bar_chart.selected_style = {\"fill\" : \"red\"}\n",
    "bar_chart.interactions = {\n",
    "    'legend_hover': 'highlight_axes',\n",
    "    'hover': 'tooltip', \n",
    "    'click': 'select',\n",
    "}\n",
    "\n",
    "x_ax = Axis(scale=xs, label='Directory name', grid_lines='solid')\n",
    "y_ax = Axis(scale=ys, orientation='vertical', tick_format='f', label='Count (log)', grid_lines='solid')\n",
    "\n",
    "\n",
    "panzoom = PanZoom(scales={'x': [xs], 'y': [ys]})\n",
    "\n",
    "fig3 = Figure(marks=[bar_chart], \n",
    "              axes=[x_ax, y_ax], \n",
    "              animation_duration=5000, \n",
    "              layout = fig_layout, \n",
    "              background_style={'fill': 'aliceblue'}, \n",
    "              title = \"Proportion of Directory Access\", \n",
    "              legend_location = \"top-right\", \n",
    "              legend_style = {\"fill\" : \"white\"}\n",
    "             )\n",
    "    \n",
    "\n",
    "ipw.VBox([fig3])"
   ]
  },
  {
   "cell_type": "code",
   "execution_count": 17,
   "metadata": {
    "extensions": {
     "jupyter_dashboards": {
      "version": 1,
      "views": {
       "grid_default": {
        "col": 0,
        "height": 4,
        "hidden": false,
        "row": 111,
        "width": 4
       },
       "report_default": {}
      }
     }
    },
    "scrolled": false
   },
   "outputs": [
    {
     "data": {
      "text/plain": [
       "connect_activity\n",
       "Connect    357017\n",
       "Name: connect_activity, dtype: int64"
      ]
     },
     "execution_count": 17,
     "metadata": {},
     "output_type": "execute_result"
    }
   ],
   "source": [
    "_dir = (df[df[\"file_tree\"] != \"nan\"]\n",
    "        .groupby(\"connect_activity\")\n",
    "       )\n",
    "_dir.connect_activity.count()"
   ]
  },
  {
   "cell_type": "markdown",
   "metadata": {
    "extensions": {
     "jupyter_dashboards": {
      "version": 1,
      "views": {
       "grid_default": {
        "col": 0,
        "height": 4,
        "hidden": false,
        "row": 115,
        "width": 4
       },
       "report_default": {}
      }
     }
    }
   },
   "source": [
    "There are 0 directories associated with disconnect activity."
   ]
  },
  {
   "cell_type": "code",
   "execution_count": 18,
   "metadata": {
    "extensions": {
     "jupyter_dashboards": {
      "version": 1,
      "views": {
       "grid_default": {
        "col": 0,
        "height": 14,
        "hidden": false,
        "row": 132,
        "width": 8
       },
       "report_default": {}
      }
     }
    },
    "scrolled": true
   },
   "outputs": [
    {
     "data": {
      "text/html": [
       "<div>\n",
       "<style scoped>\n",
       "    .dataframe tbody tr th:only-of-type {\n",
       "        vertical-align: middle;\n",
       "    }\n",
       "\n",
       "    .dataframe tbody tr th {\n",
       "        vertical-align: top;\n",
       "    }\n",
       "\n",
       "    .dataframe thead th {\n",
       "        text-align: right;\n",
       "    }\n",
       "</style>\n",
       "<table border=\"1\" class=\"dataframe\">\n",
       "  <thead>\n",
       "    <tr style=\"text-align: right;\">\n",
       "      <th></th>\n",
       "      <th>record_id</th>\n",
       "      <th>employee_id</th>\n",
       "      <th>timestamp</th>\n",
       "      <th>computer_id</th>\n",
       "      <th>file_tree</th>\n",
       "      <th>connect_activity</th>\n",
       "      <th>file_tree2</th>\n",
       "    </tr>\n",
       "  </thead>\n",
       "  <tbody>\n",
       "    <tr>\n",
       "      <th>2</th>\n",
       "      <td>{H3G1-Y0TF18ZX-6825OMMX}</td>\n",
       "      <td>ESS3318</td>\n",
       "      <td>2010-08-16 10:58:51</td>\n",
       "      <td>PC-2607</td>\n",
       "      <td>R:\\;R:\\83HcQ51;R:\\994GYK8;R:\\ESS3318</td>\n",
       "      <td>Connect</td>\n",
       "      <td>[R:\\, R:\\83HcQ51, R:\\994GYK8, R:\\ESS3318]</td>\n",
       "    </tr>\n",
       "    <tr>\n",
       "      <th>3</th>\n",
       "      <td>{F3W8-C5DT43NQ-4939NPGL}</td>\n",
       "      <td>REJ2666</td>\n",
       "      <td>2010-08-16 10:58:55</td>\n",
       "      <td>PC-9016</td>\n",
       "      <td>R:\\;R:\\39d26d6;R:\\44V73d6;R:\\81R64j6;R:\\85VB4T...</td>\n",
       "      <td>Connect</td>\n",
       "      <td>[R:\\, R:\\39d26d6, R:\\44V73d6, R:\\81R64j6, R:\\8...</td>\n",
       "    </tr>\n",
       "    <tr>\n",
       "      <th>5</th>\n",
       "      <td>{Z6A0-B6MN65EU-9724FMXV}</td>\n",
       "      <td>BDJ3001</td>\n",
       "      <td>2010-08-16 10:59:04</td>\n",
       "      <td>PC-4401</td>\n",
       "      <td>R:\\;R:\\43WTgN0;R:\\87rRp41;R:\\BDJ3001</td>\n",
       "      <td>Connect</td>\n",
       "      <td>[R:\\, R:\\43WTgN0, R:\\87rRp41, R:\\BDJ3001]</td>\n",
       "    </tr>\n",
       "    <tr>\n",
       "      <th>6</th>\n",
       "      <td>{J2U3-J6MT33ZB-3858WFSX}</td>\n",
       "      <td>CCF3529</td>\n",
       "      <td>2010-08-16 10:59:06</td>\n",
       "      <td>PC-1616</td>\n",
       "      <td>R:\\;R:\\CCF3529</td>\n",
       "      <td>Connect</td>\n",
       "      <td>[R:\\, R:\\CCF3529]</td>\n",
       "    </tr>\n",
       "    <tr>\n",
       "      <th>7</th>\n",
       "      <td>{N5C0-N1UH90WF-6176BDOP}</td>\n",
       "      <td>TGP1343</td>\n",
       "      <td>2010-08-16 10:59:08</td>\n",
       "      <td>PC-6751</td>\n",
       "      <td>R:\\;R:\\21JD983;R:\\38q7Mn4;R:\\TGP1343</td>\n",
       "      <td>Connect</td>\n",
       "      <td>[R:\\, R:\\21JD983, R:\\38q7Mn4, R:\\TGP1343]</td>\n",
       "    </tr>\n",
       "  </tbody>\n",
       "</table>\n",
       "</div>"
      ],
      "text/plain": [
       "                  record_id employee_id           timestamp computer_id  \\\n",
       "2  {H3G1-Y0TF18ZX-6825OMMX}     ESS3318 2010-08-16 10:58:51     PC-2607   \n",
       "3  {F3W8-C5DT43NQ-4939NPGL}     REJ2666 2010-08-16 10:58:55     PC-9016   \n",
       "5  {Z6A0-B6MN65EU-9724FMXV}     BDJ3001 2010-08-16 10:59:04     PC-4401   \n",
       "6  {J2U3-J6MT33ZB-3858WFSX}     CCF3529 2010-08-16 10:59:06     PC-1616   \n",
       "7  {N5C0-N1UH90WF-6176BDOP}     TGP1343 2010-08-16 10:59:08     PC-6751   \n",
       "\n",
       "                                           file_tree connect_activity  \\\n",
       "2               R:\\;R:\\83HcQ51;R:\\994GYK8;R:\\ESS3318          Connect   \n",
       "3  R:\\;R:\\39d26d6;R:\\44V73d6;R:\\81R64j6;R:\\85VB4T...          Connect   \n",
       "5               R:\\;R:\\43WTgN0;R:\\87rRp41;R:\\BDJ3001          Connect   \n",
       "6                                     R:\\;R:\\CCF3529          Connect   \n",
       "7               R:\\;R:\\21JD983;R:\\38q7Mn4;R:\\TGP1343          Connect   \n",
       "\n",
       "                                          file_tree2  \n",
       "2          [R:\\, R:\\83HcQ51, R:\\994GYK8, R:\\ESS3318]  \n",
       "3  [R:\\, R:\\39d26d6, R:\\44V73d6, R:\\81R64j6, R:\\8...  \n",
       "5          [R:\\, R:\\43WTgN0, R:\\87rRp41, R:\\BDJ3001]  \n",
       "6                                  [R:\\, R:\\CCF3529]  \n",
       "7          [R:\\, R:\\21JD983, R:\\38q7Mn4, R:\\TGP1343]  "
      ]
     },
     "execution_count": 18,
     "metadata": {},
     "output_type": "execute_result"
    }
   ],
   "source": [
    "_dir.head()"
   ]
  },
  {
   "cell_type": "markdown",
   "metadata": {
    "extensions": {
     "jupyter_dashboards": {
      "version": 1,
      "views": {
       "grid_default": {
        "col": 0,
        "height": 4,
        "hidden": false,
        "row": 119,
        "width": 4
       },
       "report_default": {}
      }
     }
    }
   },
   "source": [
    "## What periods experience the most activity?"
   ]
  },
  {
   "cell_type": "code",
   "execution_count": 19,
   "metadata": {
    "extensions": {
     "jupyter_dashboards": {
      "version": 1,
      "views": {
       "grid_default": {
        "col": 0,
        "height": 6,
        "hidden": false,
        "row": 123,
        "width": 4
       },
       "report_default": {}
      }
     }
    }
   },
   "outputs": [],
   "source": [
    "connect_time = (df[df[\"connect_activity\"] == \"Connect\"].groupby(df.timestamp.dt.hour)\n",
    "                .connect_activity\n",
    "                .count()\n",
    "#                 .sort_values(ascending = False)\n",
    "                .reset_index()\n",
    ")\n",
    "connect_time.timestamp = pd.to_datetime(connect_time.timestamp, unit = 'h')"
   ]
  },
  {
   "cell_type": "code",
   "execution_count": 20,
   "metadata": {
    "extensions": {
     "jupyter_dashboards": {
      "version": 1,
      "views": {
       "grid_default": {
        "col": 8,
        "height": 22,
        "hidden": false,
        "row": 132,
        "width": null
       },
       "report_default": {}
      }
     }
    },
    "scrolled": false
   },
   "outputs": [
    {
     "data": {
      "application/vnd.jupyter.widget-view+json": {
       "model_id": "ab50efb3c7a942618163502f26cc1cf9",
       "version_major": 2,
       "version_minor": 0
      },
      "text/plain": [
       "VBox(children=(Figure(animation_duration=5000, axes=[Axis(label='Hours of the Day', scale=DateScale()), Axis(l…"
      ]
     },
     "metadata": {},
     "output_type": "display_data"
    }
   ],
   "source": [
    "date_fmt = \"%H\"\n",
    "xs = DateScale(date_format = date_fmt)\n",
    "ys = LinearScale()\n",
    "x = connect_time.timestamp\n",
    "y = connect_time.connect_activity/1e3\n",
    "\n",
    "bar_chart = Bars(x = x, y = y, \n",
    "                 scales = {'x': xs, 'y': ys}, \n",
    "                 colors = [\"limegreen\"],\n",
    "                 display_legend = False, \n",
    "                 labels = [\"Number of USB Connections\"]\n",
    "                )\n",
    "\n",
    "tt = Tooltip(fields = [\"x\", \"y\"], \n",
    "             formats = [\"\", \"f\"], \n",
    "             labels = [\"Date\", \"Number of USB Connections\"]\n",
    "            )\n",
    "\n",
    "bar_chart.tooltip = tt\n",
    "bar_chart.selected_style = {\"fill\" : \"red\"}\n",
    "bar_chart.interactions = {\n",
    "    'legend_hover': 'highlight_axes',\n",
    "    'hover': 'tooltip', \n",
    "    'click': 'select',\n",
    "}\n",
    "\n",
    "x_ax = Axis(scale=xs, label='Hours of the Day', grid_lines='solid')\n",
    "y_ax = Axis(scale=ys, orientation='vertical', tick_format='f', \n",
    "            label='Number of USB Connections', grid_lines='solid')\n",
    "\n",
    "\n",
    "panzoom = PanZoom(scales={'x': [xs], 'y': [ys]})\n",
    "\n",
    "fig4 = Figure(marks=[bar_chart], \n",
    "              axes=[x_ax, y_ax], \n",
    "              animation_duration=5000, \n",
    "              layout = fig_layout, \n",
    "              background_style={'fill': 'aliceblue'}, \n",
    "              title = \"USB Connections\", \n",
    "              legend_location = \"top-right\"\n",
    "             )\n",
    "    \n",
    "\n",
    "ipw.VBox([fig4])"
   ]
  },
  {
   "cell_type": "code",
   "execution_count": 21,
   "metadata": {
    "extensions": {
     "jupyter_dashboards": {
      "version": 1,
      "views": {
       "grid_default": {
        "hidden": true
       },
       "report_default": {
        "hidden": true
       }
      }
     }
    },
    "scrolled": true
   },
   "outputs": [],
   "source": [
    "connect_time_per_person = (df[df[\"connect_activity\"] == \"Connect\"]\n",
    "                           .groupby([\"employee_id\", df.timestamp.dt.hour])\n",
    "                           .connect_activity\n",
    "                           .count()\n",
    "#                            .sort_values(ascending = False)\n",
    "                           .reset_index()\n",
    "            )\n",
    "connect_time_per_person.timestamp = pd.to_datetime(connect_time_per_person.timestamp, unit = 'h')"
   ]
  },
  {
   "cell_type": "markdown",
   "metadata": {
    "extensions": {
     "jupyter_dashboards": {
      "version": 1,
      "views": {
       "grid_default": {
        "col": 0,
        "height": 4,
        "hidden": false,
        "row": 146,
        "width": 4
       },
       "report_default": {}
      }
     }
    }
   },
   "source": [
    "## What are the connect periods per employee?"
   ]
  },
  {
   "cell_type": "code",
   "execution_count": 22,
   "metadata": {
    "extensions": {
     "jupyter_dashboards": {
      "version": 1,
      "views": {
       "grid_default": {
        "col": 11,
        "height": 22,
        "hidden": false,
        "row": 177,
        "width": null
       },
       "report_default": {}
      }
     }
    },
    "scrolled": false
   },
   "outputs": [
    {
     "data": {
      "application/vnd.jupyter.widget-view+json": {
       "model_id": "54ad6012a8614ba8a4ab514dc8f6b6e1",
       "version_major": 2,
       "version_minor": 0
      },
      "text/plain": [
       "VBox(children=(Figure(animation_duration=5000, axes=[Axis(label='Hours of the Day', scale=DateScale()), Axis(l…"
      ]
     },
     "metadata": {},
     "output_type": "display_data"
    }
   ],
   "source": [
    "date_fmt = \"%H\"\n",
    "xs = DateScale(date_format = date_fmt)\n",
    "ys = LinearScale()\n",
    "x = connect_time_per_person[connect_time_per_person[\"employee_id\"] == \"AAP1919\"].timestamp\n",
    "y = connect_time_per_person[connect_time_per_person[\"employee_id\"] == \"AAP1919\"].connect_activity\n",
    "\n",
    "bar_chart = Bars(x = x, y = y, \n",
    "                 scales = {'x': xs, 'y': ys}, \n",
    "                 colors = [\"skyblue\"],\n",
    "                 display_legend = False, \n",
    "                 labels = [\"Number of USB Connections\"]\n",
    "                )\n",
    "\n",
    "tt = Tooltip(fields = [\"x\", \"y\"], \n",
    "             formats = [\"\", \"f\"], \n",
    "             labels = [\"Date\", \"Number of USB Connections\"]\n",
    "            )\n",
    "\n",
    "bar_chart.tooltip = tt\n",
    "bar_chart.selected_style = {\"fill\" : \"red\"}\n",
    "bar_chart.interactions = {\n",
    "    'legend_hover': 'highlight_axes',\n",
    "    'hover': 'tooltip', \n",
    "    'click': 'select',\n",
    "}\n",
    "\n",
    "x_ax = Axis(scale=xs, label='Hours of the Day', grid_lines='solid')\n",
    "y_ax = Axis(scale=ys, orientation='vertical', tick_format='f', \n",
    "            label='Number of USB Connections', grid_lines='solid')\n",
    "\n",
    "\n",
    "panzoom = PanZoom(scales={'x': [xs], 'y': [ys]})\n",
    "\n",
    "fig4 = Figure(marks=[bar_chart], \n",
    "              axes=[x_ax, y_ax], \n",
    "              animation_duration=5000, \n",
    "              layout = fig_layout, \n",
    "              background_style={'fill': 'aliceblue'}, \n",
    "              title = \"USB Connections Per Employee\", \n",
    "              legend_location = \"top-right\"\n",
    "             )\n",
    "    \n",
    "\n",
    "ipw.VBox([fig4])"
   ]
  },
  {
   "cell_type": "markdown",
   "metadata": {
    "extensions": {
     "jupyter_dashboards": {
      "version": 1,
      "views": {
       "grid_default": {
        "col": 4,
        "height": 4,
        "hidden": false,
        "row": 146,
        "width": 4
       },
       "report_default": {}
      }
     }
    }
   },
   "source": [
    "## What is the connection time per person?"
   ]
  },
  {
   "cell_type": "code",
   "execution_count": 23,
   "metadata": {
    "extensions": {
     "jupyter_dashboards": {
      "version": 1,
      "views": {
       "grid_default": {
        "col": 11,
        "height": 23,
        "hidden": false,
        "row": 154,
        "width": null
       },
       "report_default": {}
      }
     }
    },
    "scrolled": false
   },
   "outputs": [
    {
     "data": {
      "application/vnd.jupyter.widget-view+json": {
       "model_id": "4066c09bae8c4f3d8ccc2bf9ef0da313",
       "version_major": 2,
       "version_minor": 0
      },
      "text/plain": [
       "VBox(children=(HBox(children=(Dropdown(description='Select Employee ID', options=('AAC0610', 'AAP1919'), style…"
      ]
     },
     "metadata": {},
     "output_type": "display_data"
    }
   ],
   "source": [
    "date_fmt = \"%H\"\n",
    "xs = DateScale(date_format = date_fmt)\n",
    "ys = LinearScale()\n",
    "x = connect_time_per_person[connect_time_per_person[\"employee_id\"] == \"AAC0610\"].timestamp\n",
    "y = connect_time_per_person[connect_time_per_person[\"employee_id\"] == \"AAC0610\"].connect_activity\n",
    "\n",
    "bar_chart = Bars(x = x, y = y, \n",
    "                 scales = {'x': xs, 'y': ys}, \n",
    "                 colors = [\"skyblue\"],\n",
    "                 display_legend = False, \n",
    "                 labels = [\"Number of USB Connections\"]\n",
    "                )\n",
    "\n",
    "tt = Tooltip(fields = [\"x\", \"y\"], \n",
    "             formats = [\"\", \"f\"], \n",
    "             labels = [\"Date\", \"Number of USB Connections\"]\n",
    "            )\n",
    "\n",
    "bar_chart.tooltip = tt\n",
    "bar_chart.selected_style = {\"fill\" : \"red\"}\n",
    "bar_chart.interactions = {\n",
    "    'legend_hover': 'highlight_axes',\n",
    "    'hover': 'tooltip', \n",
    "    'click': 'select',\n",
    "}\n",
    "\n",
    "x_ax = Axis(scale=xs, label='Hours of the Day', grid_lines='solid')\n",
    "y_ax = Axis(scale=ys, orientation='vertical', tick_format='f', \n",
    "            label='Number of USB Connections', grid_lines='solid')\n",
    "\n",
    "\n",
    "panzoom = PanZoom(scales={'x': [xs], 'y': [ys]})\n",
    "\n",
    "fig4 = Figure(marks=[bar_chart], \n",
    "              axes=[x_ax, y_ax], \n",
    "              animation_duration=3000, \n",
    "              layout = fig_layout, \n",
    "              background_style={'fill': 'aliceblue'}, \n",
    "              title = \"USB Connections Per Employee\", \n",
    "              legend_location = \"top-right\"\n",
    "             )\n",
    "\n",
    "employee_dd = ipw.Dropdown(options=['AAC0610', 'AAP1919'], \n",
    "                              description = \"Select Employee ID\", \n",
    "                              style = {'description_width': 'initial'}\n",
    "                              )   \n",
    "def dd_changed(change):\n",
    "    if employee_dd.value == 'AAC0610':\n",
    "        bar_chart.y = (connect_time_per_person[connect_time_per_person[\"employee_id\"] == \"AAC0610\"]\n",
    "                       .connect_activity)\n",
    "    else:\n",
    "        bar_chart.y = (connect_time_per_person[connect_time_per_person[\"employee_id\"] == \"AAP1919\"]\n",
    "                       .connect_activity)\n",
    "    \n",
    "employee_dd.observe(dd_changed, 'value')\n",
    "\n",
    "ipw.VBox([ipw.HBox([employee_dd]), fig4]) "
   ]
  }
 ],
 "metadata": {
  "extensions": {
   "jupyter_dashboards": {
    "activeView": "grid_default",
    "version": 1,
    "views": {
     "grid_default": {
      "cellMargin": 10,
      "defaultCellHeight": 20,
      "maxColumns": 12,
      "name": "grid",
      "type": "grid"
     },
     "report_default": {
      "name": "report",
      "type": "report"
     }
    }
   }
  },
  "kernelspec": {
   "display_name": "Python 3",
   "language": "python",
   "name": "python3"
  },
  "language_info": {
   "codemirror_mode": {
    "name": "ipython",
    "version": 3
   },
   "file_extension": ".py",
   "mimetype": "text/x-python",
   "name": "python",
   "nbconvert_exporter": "python",
   "pygments_lexer": "ipython3",
   "version": "3.6.3"
  },
  "toc": {
   "nav_menu": {},
   "number_sections": true,
   "sideBar": true,
   "skip_h1_title": false,
   "title_cell": "Table of Contents",
   "title_sidebar": "Contents",
   "toc_cell": false,
   "toc_position": {
    "height": "calc(100% - 180px)",
    "left": "10px",
    "top": "150px",
    "width": "165px"
   },
   "toc_section_display": true,
   "toc_window_display": false
  },
  "widgets": {
   "application/vnd.jupyter.widget-state+json": {
    "state": {
     "000dedc932c54efca8b648ceec7e205c": {
      "model_module": "bqplot",
      "model_module_version": "^0.3.6",
      "model_name": "LinearScaleModel",
      "state": {
       "allow_padding": false,
       "max": 1,
       "min": 0,
       "stabilized": false
      }
     },
     "002730dbeefd4e7da8ee1aeb38c9b83b": {
      "model_module": "bqplot",
      "model_module_version": "^0.3.6",
      "model_name": "AxisModel",
      "state": {
       "label": "Hours of the Day",
       "scale": "IPY_MODEL_d3fe598b12814fe18a289515c8c622b9",
       "side": "bottom",
       "tick_values": {
        "type": null,
        "values": null
       }
      }
     },
     "002ba560545d481aa6aca175a0e8b4c3": {
      "model_module": "bqplot",
      "model_module_version": "^0.3.6",
      "model_name": "AxisModel",
      "state": {
       "label": "Number of USB Connections",
       "orientation": "vertical",
       "scale": "IPY_MODEL_41531c491e6345e5bf97266e31b187c3",
       "side": "left",
       "tick_format": "0.2f",
       "tick_values": {
        "type": null,
        "values": null
       }
      }
     },
     "005489e7e2e74378b5312f6e8dc732fb": {
      "model_module": "bqplot",
      "model_module_version": "^0.3.6",
      "model_name": "LinearScaleModel",
      "state": {
       "allow_padding": false,
       "max": 1,
       "min": 0,
       "stabilized": false
      }
     },
     "005606af612848159c61881ae89fa3da": {
      "model_module": "bqplot",
      "model_module_version": "^0.3.6",
      "model_name": "LinearScaleModel",
      "state": {
       "stabilized": false
      }
     },
     "0095eae637fe418bae6e5368f35d209d": {
      "model_module": "@jupyter-widgets/controls",
      "model_module_version": "1.2.0",
      "model_name": "VBoxModel",
      "state": {
       "children": [
        "IPY_MODEL_9a382dec5e3c48bcb8c91f5f5e245e88"
       ],
       "layout": "IPY_MODEL_fadec291c26648669a0b0391900f46a9"
      }
     },
     "00b1eeaf17774028a47594ce3cd81852": {
      "model_module": "@jupyter-widgets/controls",
      "model_module_version": "1.2.0",
      "model_name": "HBoxModel",
      "state": {
       "children": [
        "IPY_MODEL_9b6c652a36fa46779528bd2c57d3a9ad"
       ],
       "layout": "IPY_MODEL_ec7c2ed786d545a882bd47226de2409e"
      }
     },
     "0100685be9044a1e879b2406b3f8426f": {
      "model_module": "bqplot",
      "model_module_version": "^0.3.6",
      "model_name": "OrdinalScaleModel",
      "state": {
       "domain": []
      }
     },
     "010d7a9067aa4f44aacd6b621b95e4f3": {
      "model_module": "bqplot",
      "model_module_version": "^0.3.6",
      "model_name": "LinearScaleModel",
      "state": {
       "allow_padding": false,
       "max": 1,
       "min": 0,
       "stabilized": false
      }
     },
     "012819897595494fb22949f2b3db5628": {
      "model_module": "bqplot",
      "model_module_version": "^0.3.6",
      "model_name": "BarsModel",
      "state": {
       "color": {
        "type": null,
        "values": null
       },
       "colors": [
        "blue"
       ],
       "display_legend": false,
       "interactions": {
        "click": "select",
        "hover": "tooltip",
        "legend_hover": "highlight_axes"
       },
       "labels": [
        "Connect Activity"
       ],
       "padding": 0.2,
       "scales": {
        "x": "IPY_MODEL_9e322141d2544e63bebde8d6f1640ba9",
        "y": "IPY_MODEL_fe810ba531c34ab7ba0253da2e4e67f0"
       },
       "selected": [],
       "selected_style": {
        "fill": "red"
       },
       "tooltip": "IPY_MODEL_bb19f55befe042cfa7486567b591e90c",
       "x": {
        "type": "object",
        "values": [
         "R:\\",
         "nan",
         "R:\\13jd423",
         "R:\\49FP5C2",
         "R:\\51n6647",
         "R:\\CJM0273",
         "R:\\JDM1042",
         "R:\\84xF4F2",
         "R:\\AKB2312",
         "R:\\787PQ59"
        ]
       },
       "y": {
        "type": "float",
        "values": [
         5.877783399693508,
         5.871072172586023,
         0.7158866675294346,
         0.7158866675294346,
         0.7158866675294346,
         0.7158866675294346,
         0.7095125346462096,
         0.7095125346462096,
         0.7055697005585024,
         0.6961426895397437
        ]
       }
      }
     },
     "0187591133d2404ea5ac51abc70e1a77": {
      "model_module": "bqplot",
      "model_module_version": "^0.3.6",
      "model_name": "DateScaleModel",
      "state": {}
     },
     "01e2c0fc1af04e25a6ac24c7dcb87756": {
      "model_module": "@jupyter-widgets/base",
      "model_module_version": "1.0.0",
      "model_name": "LayoutModel",
      "state": {}
     },
     "026ced66823a472e93a8fda67d41701f": {
      "model_module": "bqplot",
      "model_module_version": "^0.3.6",
      "model_name": "BarsModel",
      "state": {
       "color": {
        "type": null,
        "values": null
       },
       "colors": [
        "blue"
       ],
       "display_legend": false,
       "interactions": {
        "click": "select",
        "hover": "tooltip",
        "legend_hover": "highlight_axes"
       },
       "labels": [
        "Directory name"
       ],
       "padding": 0.2,
       "scales": {
        "x": "IPY_MODEL_2773d153388e405d8946c235fd170db2",
        "y": "IPY_MODEL_501780ca2abf4895801366bbf70e5fbf"
       },
       "selected": [],
       "selected_style": {
        "fill": "red"
       },
       "tooltip": "IPY_MODEL_af67c51044414ee9b032ca1b479af912",
       "x": {
        "type": "object",
        "values": [
         "R:\\189XJ29",
         "R:\\CTC0859",
         "R:\\37Ntzz0",
         "R:\\CKP3600",
         "R:\\61mrHg0",
         "R:\\ACM2278",
         "R:\\782bxm8",
         "R:\\52G6677",
         "R:\\XAB0936",
         "R:\\29P96D6"
        ]
       },
       "y": {
        "type": "float",
        "values": [
         21,
         21,
         20,
         20,
         20,
         9,
         9,
         9,
         2,
         2
        ]
       }
      }
     },
     "0289b73c1d944d0292b9b2bc16c90f6a": {
      "model_module": "@jupyter-widgets/controls",
      "model_module_version": "1.2.0",
      "model_name": "VBoxModel",
      "state": {
       "children": [
        "IPY_MODEL_2f47e20fc7ea47a08b49efa89d6410ad"
       ],
       "layout": "IPY_MODEL_1b5fc44429bc4a20913851f3d4201966"
      }
     },
     "02e957e335794af58ad98c0fe6ad7793": {
      "model_module": "bqplot",
      "model_module_version": "^0.3.6",
      "model_name": "AxisModel",
      "state": {
       "label": "Count",
       "orientation": "vertical",
       "scale": "IPY_MODEL_35808ea8e97a4e1fa7b70d91a126a61e",
       "side": "left",
       "tick_format": "0.1f",
       "tick_values": {
        "type": null,
        "values": null
       }
      }
     },
     "038580c608f343e483343cc079e5bd59": {
      "model_module": "bqplot",
      "model_module_version": "^0.3.6",
      "model_name": "TooltipModel",
      "state": {
       "fields": [
        "x",
        "y"
       ],
       "formats": [
        "",
        "0.2f"
       ],
       "labels": [
        "Activity",
        "Count"
       ],
       "layout": "IPY_MODEL_681f500ae8f14cdc9504a9dc1150d314"
      }
     },
     "03c4e26db6fc4554bf50ae452122d47b": {
      "model_module": "bqplot",
      "model_module_version": "^0.3.6",
      "model_name": "LinearScaleModel",
      "state": {
       "allow_padding": false,
       "max": 1,
       "min": 0,
       "stabilized": false
      }
     },
     "03d392e2c4d44395abb3851561ec1483": {
      "model_module": "bqplot",
      "model_module_version": "^0.3.6",
      "model_name": "PanZoomModel",
      "state": {
       "scales": {
        "x": [
         "IPY_MODEL_98383247ce4a4ecfbd7f3ec334c5d2bd"
        ],
        "y": [
         "IPY_MODEL_43f0bc1db0124d13b8cc4040070eecaf"
        ]
       }
      }
     },
     "04152406d8dc4a1daadc0ebc079f366d": {
      "model_module": "bqplot",
      "model_module_version": "^0.3.6",
      "model_name": "FigureModel",
      "state": {
       "_dom_classes": [],
       "animation_duration": 5000,
       "axes": [
        "IPY_MODEL_c4af2090170940188dea3be9a2d7fdce",
        "IPY_MODEL_68eb53bfbaa74d4695347ba35dbf0659"
       ],
       "background_style": {
        "fill": "aliceblue"
       },
       "layout": "IPY_MODEL_360a2d7a357046b58bad9a48c3a6e8c9",
       "marks": [
        "IPY_MODEL_e8d3a2dd1d124f0e9dd512905fac2497"
       ],
       "max_aspect_ratio": 6,
       "scale_x": "IPY_MODEL_bb296ee39dd345d5837aff9b275a2a5c",
       "scale_y": "IPY_MODEL_2d907f89541f422a8f41b121e2459d70",
       "title": "USB Connections"
      }
     },
     "04283494408d4c30bd5deb2fa58427cb": {
      "model_module": "bqplot",
      "model_module_version": "^0.3.6",
      "model_name": "LinearScaleModel",
      "state": {
       "allow_padding": false,
       "max": 1,
       "min": 0,
       "stabilized": false
      }
     },
     "04293800fcaf46a8a19138f579d94fe9": {
      "model_module": "@jupyter-widgets/controls",
      "model_module_version": "1.2.0",
      "model_name": "VBoxModel",
      "state": {
       "children": [
        "IPY_MODEL_b1f9317601784a628e6daf90812f7ab9"
       ],
       "layout": "IPY_MODEL_43878de58ea541449ff01547ece6cf93"
      }
     },
     "043f16a859404c108e2e6989fd8ddbd7": {
      "model_module": "bqplot",
      "model_module_version": "^0.3.6",
      "model_name": "DateScaleModel",
      "state": {}
     },
     "04433ad1b7e44218a8db49f0e5c45b78": {
      "model_module": "bqplot",
      "model_module_version": "^0.3.6",
      "model_name": "DateScaleModel",
      "state": {}
     },
     "048f370d14c74efa95f0b4876db1bb2c": {
      "model_module": "bqplot",
      "model_module_version": "^0.3.6",
      "model_name": "PanZoomModel",
      "state": {
       "scales": {
        "x": [
         "IPY_MODEL_6a03b1526a27427ea94d73a6fadf8027"
        ],
        "y": [
         "IPY_MODEL_4fbcf2e8aea645849220a676230fb8ff"
        ]
       }
      }
     },
     "04aebd96ac58450aad22cf0ab5a41914": {
      "model_module": "bqplot",
      "model_module_version": "^0.3.6",
      "model_name": "DateScaleModel",
      "state": {}
     },
     "04d132cce5b54d508b8200f7d1387033": {
      "model_module": "bqplot",
      "model_module_version": "^0.3.6",
      "model_name": "OrdinalScaleModel",
      "state": {
       "domain": []
      }
     },
     "04ded28b9452442fac826d2668e22904": {
      "model_module": "bqplot",
      "model_module_version": "^0.3.6",
      "model_name": "LinearScaleModel",
      "state": {
       "allow_padding": false,
       "max": 1,
       "min": 0,
       "stabilized": false
      }
     },
     "04e5c9fab6134d36adabb912dc2d1d23": {
      "model_module": "bqplot",
      "model_module_version": "^0.3.6",
      "model_name": "LinearScaleModel",
      "state": {
       "stabilized": false
      }
     },
     "055bba031fb34280bdbea77edc11d091": {
      "model_module": "bqplot",
      "model_module_version": "^0.3.6",
      "model_name": "TooltipModel",
      "state": {
       "fields": [
        "x",
        "y"
       ],
       "formats": [
        "",
        "f"
       ],
       "labels": [
        "Date",
        "Number of USB Connections"
       ],
       "layout": "IPY_MODEL_3f498e77c9a7460d9e1df1950670e923"
      }
     },
     "0576a851dcbc4aee92cb218e1570c82d": {
      "model_module": "bqplot",
      "model_module_version": "^0.3.6",
      "model_name": "LinearScaleModel",
      "state": {
       "stabilized": false
      }
     },
     "05937611ad9243d39249c5b4638e7318": {
      "model_module": "@jupyter-widgets/base",
      "model_module_version": "1.0.0",
      "model_name": "LayoutModel",
      "state": {}
     },
     "065b2e5c74e642b3847cdc4154c4892b": {
      "model_module": "bqplot",
      "model_module_version": "^0.3.6",
      "model_name": "LinearScaleModel",
      "state": {
       "allow_padding": false,
       "max": 1,
       "min": 0,
       "stabilized": false
      }
     },
     "067879f23a38484bb06918b828d08331": {
      "model_module": "bqplot",
      "model_module_version": "^0.3.6",
      "model_name": "LinearScaleModel",
      "state": {
       "allow_padding": false,
       "max": 1,
       "min": 0,
       "stabilized": false
      }
     },
     "0735322fc8074fe9818f912e098e586e": {
      "model_module": "bqplot",
      "model_module_version": "^0.3.6",
      "model_name": "AxisModel",
      "state": {
       "label": "Number of USB Connections",
       "orientation": "vertical",
       "scale": "IPY_MODEL_005606af612848159c61881ae89fa3da",
       "side": "left",
       "tick_format": "f",
       "tick_values": {
        "type": null,
        "values": null
       }
      }
     },
     "0741e6a29b3b432a884eef19ade5635b": {
      "model_module": "bqplot",
      "model_module_version": "^0.3.6",
      "model_name": "TooltipModel",
      "state": {
       "fields": [
        "x",
        "y"
       ],
       "formats": [
        "",
        "0.2f"
       ],
       "labels": [
        "Activity",
        "Count"
       ],
       "layout": "IPY_MODEL_656b637b186b45f4b7f6953d18be1370"
      }
     },
     "07720ee0cbbf4c49bf11d68e94441a3c": {
      "model_module": "bqplot",
      "model_module_version": "^0.3.6",
      "model_name": "TooltipModel",
      "state": {
       "fields": [
        "x",
        "y"
       ],
       "formats": [
        "",
        "0.2f"
       ],
       "labels": [
        "Directory",
        "Count"
       ],
       "layout": "IPY_MODEL_01e2c0fc1af04e25a6ac24c7dcb87756"
      }
     },
     "077fe4f8f7164ffc9f8beafb0fde8765": {
      "model_module": "bqplot",
      "model_module_version": "^0.3.6",
      "model_name": "AxisModel",
      "state": {
       "label": "Number of USB Connections",
       "orientation": "vertical",
       "scale": "IPY_MODEL_bfc657263aaa44bba2743f852d7a86b2",
       "side": "left",
       "tick_format": "0.2f",
       "tick_values": {
        "type": null,
        "values": null
       }
      }
     },
     "07ee80b734764d72b96bda8394bb28ef": {
      "model_module": "bqplot",
      "model_module_version": "^0.3.6",
      "model_name": "LinearScaleModel",
      "state": {
       "allow_padding": false,
       "max": 1,
       "min": 0,
       "stabilized": false
      }
     },
     "083bfbe9ea6d4d198ec34d2019510337": {
      "model_module": "bqplot",
      "model_module_version": "^0.3.6",
      "model_name": "PanZoomModel",
      "state": {
       "scales": {
        "x": [
         "IPY_MODEL_5d3c7e0971a24278a72284f9068234c8"
        ],
        "y": [
         "IPY_MODEL_5ed78a7e4d4b40549f250b81769db13c"
        ]
       }
      }
     },
     "08819383302c432687980f9dc1fe7466": {
      "model_module": "@jupyter-widgets/base",
      "model_module_version": "1.0.0",
      "model_name": "LayoutModel",
      "state": {}
     },
     "08c34fbb369e4a4b93e1645fc889bace": {
      "model_module": "bqplot",
      "model_module_version": "^0.3.6",
      "model_name": "OrdinalScaleModel",
      "state": {
       "domain": []
      }
     },
     "08d5a2b156764e8caff5881e0155dd3f": {
      "model_module": "bqplot",
      "model_module_version": "^0.3.6",
      "model_name": "LinearScaleModel",
      "state": {
       "allow_padding": false,
       "max": 1,
       "min": 0,
       "stabilized": false
      }
     },
     "08f0247c77db4f06b69cdffd12594243": {
      "model_module": "bqplot",
      "model_module_version": "^0.3.6",
      "model_name": "LinearScaleModel",
      "state": {
       "allow_padding": false,
       "max": 1,
       "min": 0,
       "stabilized": false
      }
     },
     "091228b2c529480c89f2cf2352b642e1": {
      "model_module": "@jupyter-widgets/base",
      "model_module_version": "1.0.0",
      "model_name": "LayoutModel",
      "state": {
       "height": "900px",
       "width": "100%"
      }
     },
     "093410aa6dec4dc38be3267ea3825de0": {
      "model_module": "@jupyter-widgets/base",
      "model_module_version": "1.0.0",
      "model_name": "LayoutModel",
      "state": {}
     },
     "09377787f6ce4efa9fc32288a0f6b3f0": {
      "model_module": "bqplot",
      "model_module_version": "^0.3.6",
      "model_name": "DateScaleModel",
      "state": {}
     },
     "0969414a474245208007ecf110d706e1": {
      "model_module": "bqplot",
      "model_module_version": "^0.3.6",
      "model_name": "LinearScaleModel",
      "state": {
       "allow_padding": false,
       "max": 1,
       "min": 0,
       "stabilized": false
      }
     },
     "0a2af27ba3574d2d850ab9852ed14aab": {
      "model_module": "bqplot",
      "model_module_version": "^0.3.6",
      "model_name": "TooltipModel",
      "state": {
       "fields": [
        "x",
        "y"
       ],
       "formats": [
        "",
        "0.2f"
       ],
       "labels": [
        "Date",
        "Email Size"
       ],
       "layout": "IPY_MODEL_bef0b35b46004c1d916dbc7534e1ab95"
      }
     },
     "0a5d2e5a1c3a496887756aeda9704f05": {
      "model_module": "bqplot",
      "model_module_version": "^0.3.6",
      "model_name": "TooltipModel",
      "state": {
       "fields": [
        "x",
        "y"
       ],
       "formats": [
        "",
        "0.2f"
       ],
       "labels": [
        "Activity",
        "Count"
       ],
       "layout": "IPY_MODEL_f005bc2b2c5642ecb013e2b30ced9bd4"
      }
     },
     "0aa8855256a34394b29382a239807a20": {
      "model_module": "@jupyter-widgets/controls",
      "model_module_version": "1.2.0",
      "model_name": "VBoxModel",
      "state": {
       "children": [
        "IPY_MODEL_eecbb34dc6214950bba80baf3c08e3d7",
        "IPY_MODEL_fee2268458e54853ad1d757eac929089"
       ],
       "layout": "IPY_MODEL_efba976503d7474abf023b9596e3f655"
      }
     },
     "0b6f209b0b6a4f6cb8d92fcc7162ae89": {
      "model_module": "@jupyter-widgets/controls",
      "model_module_version": "1.2.0",
      "model_name": "VBoxModel",
      "state": {
       "children": [
        "IPY_MODEL_d135640da7694c0bad5f336aca48e297",
        "IPY_MODEL_2030edb254ab441d87ccc3899a880572"
       ],
       "layout": "IPY_MODEL_a1800f7004db4e1eade9d90dca07d00e"
      }
     },
     "0b861222c7a5489f9b1dda86592febde": {
      "model_module": "bqplot",
      "model_module_version": "^0.3.6",
      "model_name": "TooltipModel",
      "state": {
       "fields": [
        "x",
        "y"
       ],
       "formats": [
        "",
        "0.2f"
       ],
       "labels": [
        "Activity",
        "Count"
       ],
       "layout": "IPY_MODEL_675c061c77bf4d6db7f3a67abed644aa"
      }
     },
     "0b89c2d666674a12986c9cb48e6d6e78": {
      "model_module": "bqplot",
      "model_module_version": "^0.3.6",
      "model_name": "PanZoomModel",
      "state": {
       "scales": {
        "x": [
         "IPY_MODEL_eaaa3b2612084e078f3133abc7749645"
        ],
        "y": [
         "IPY_MODEL_0576a851dcbc4aee92cb218e1570c82d"
        ]
       }
      }
     },
     "0bca2cf2fc0249598ea793eb115c4520": {
      "model_module": "bqplot",
      "model_module_version": "^0.3.6",
      "model_name": "DateScaleModel",
      "state": {}
     },
     "0c65fd247ec34b3c8c69da7e1d24695c": {
      "model_module": "bqplot",
      "model_module_version": "^0.3.6",
      "model_name": "AxisModel",
      "state": {
       "label": "Computer ID",
       "scale": "IPY_MODEL_eb4bc451544a471eab328fd011455c63",
       "side": "bottom",
       "tick_values": {
        "type": null,
        "values": null
       }
      }
     },
     "0c8618fcb31942b6ae2ae7a8732e9a28": {
      "model_module": "bqplot",
      "model_module_version": "^0.3.6",
      "model_name": "PanZoomModel",
      "state": {
       "scales": {
        "x": [
         "IPY_MODEL_b8897bc045174e5d99e267daa3d8623a"
        ],
        "y": [
         "IPY_MODEL_92c9eb3da5f945dba850a3a4ddef341a"
        ]
       }
      }
     },
     "0d62c161b2bb48eb96eb4e361dbb613e": {
      "model_module": "bqplot",
      "model_module_version": "^0.3.6",
      "model_name": "FigureModel",
      "state": {
       "_dom_classes": [],
       "animation_duration": 5000,
       "axes": [
        "IPY_MODEL_2cb015a7acb64643aa20951247305b2b",
        "IPY_MODEL_9b65f96cbbfb47839bac4c91a62a5464"
       ],
       "background_style": {
        "fill": "aliceblue"
       },
       "layout": "IPY_MODEL_e66adf27db7a4619b093ea97ec24db5c",
       "marks": [
        "IPY_MODEL_846fedc623bd40798ccdc61b2cece1d4"
       ],
       "max_aspect_ratio": 6,
       "scale_x": "IPY_MODEL_8f8bc95560574940a9ff8a36e129371e",
       "scale_y": "IPY_MODEL_862da930c7ba4de083c28dcfa73789d6",
       "title": "USB Connections"
      }
     },
     "0d9863a789d845a793429226bc8124ee": {
      "model_module": "@jupyter-widgets/base",
      "model_module_version": "1.0.0",
      "model_name": "LayoutModel",
      "state": {}
     },
     "0da0cbfaaafe4b4fbb285a56c2ece3e2": {
      "model_module": "bqplot",
      "model_module_version": "^0.3.6",
      "model_name": "DateScaleModel",
      "state": {}
     },
     "0dce316413b0459490b1cc76a69b5de7": {
      "model_module": "bqplot",
      "model_module_version": "^0.3.6",
      "model_name": "LinearScaleModel",
      "state": {
       "allow_padding": false,
       "max": 1,
       "min": 0,
       "stabilized": false
      }
     },
     "0dfbca617c054c75a176256987cee47c": {
      "model_module": "bqplot",
      "model_module_version": "^0.3.6",
      "model_name": "FigureModel",
      "state": {
       "_dom_classes": [],
       "animation_duration": 5000,
       "axes": [
        "IPY_MODEL_f1c12157af644bf380ad719903cb264a",
        "IPY_MODEL_cc8fb2eccc964c859ada58120b14f39d"
       ],
       "background_style": {
        "fill": "aliceblue"
       },
       "layout": "IPY_MODEL_e66adf27db7a4619b093ea97ec24db5c",
       "marks": [
        "IPY_MODEL_56f52581628840a8af3372c95cb31bb5"
       ],
       "max_aspect_ratio": 6,
       "scale_x": "IPY_MODEL_5d90561b6aab4c9099b7f69a9a42c723",
       "scale_y": "IPY_MODEL_b9aefee89e25401e88a4f7822eb551ce",
       "title": "USB Connections"
      }
     },
     "0e44b68a7f3c406289eb4d42a365f5cf": {
      "model_module": "bqplot",
      "model_module_version": "^0.3.6",
      "model_name": "AxisModel",
      "state": {
       "label": "Connect Activity",
       "scale": "IPY_MODEL_7fb8e24cb9214cf89d671e77f8bedad7",
       "side": "bottom",
       "tick_values": {
        "type": null,
        "values": null
       }
      }
     },
     "0ee822bb5ce34db29d915131e59e9a66": {
      "model_module": "bqplot",
      "model_module_version": "^0.3.6",
      "model_name": "LinearScaleModel",
      "state": {
       "allow_padding": false,
       "max": 1,
       "min": 0,
       "stabilized": false
      }
     },
     "0fd86f1fe9c743aaaae1300b41f69e08": {
      "model_module": "@jupyter-widgets/base",
      "model_module_version": "1.0.0",
      "model_name": "LayoutModel",
      "state": {}
     },
     "10439b611dce4385b8796cb48d79609e": {
      "model_module": "bqplot",
      "model_module_version": "^0.3.6",
      "model_name": "LinearScaleModel",
      "state": {
       "allow_padding": false,
       "max": 1,
       "min": 0,
       "stabilized": false
      }
     },
     "104a1c67d7724c0d8550dce9c8bbfe8e": {
      "model_module": "bqplot",
      "model_module_version": "^0.3.6",
      "model_name": "LinearScaleModel",
      "state": {
       "stabilized": false
      }
     },
     "107e036b46c34d4791040317d84a5b8b": {
      "model_module": "bqplot",
      "model_module_version": "^0.3.6",
      "model_name": "AxisModel",
      "state": {
       "label": "Hours of the Day",
       "scale": "IPY_MODEL_3a0f31cbead449518d47414ef36c7728",
       "side": "bottom",
       "tick_values": {
        "type": null,
        "values": null
       }
      }
     },
     "114593508a674fc793131b60e45e7777": {
      "model_module": "bqplot",
      "model_module_version": "^0.3.6",
      "model_name": "AxisModel",
      "state": {
       "label": "Number of USB Connections",
       "orientation": "vertical",
       "scale": "IPY_MODEL_749d7a601cd54b129ea69157045688a1",
       "side": "left",
       "tick_format": "0.2f",
       "tick_values": {
        "type": null,
        "values": null
       }
      }
     },
     "114a679a92404524a5ba7d6d41dee90e": {
      "model_module": "bqplot",
      "model_module_version": "^0.3.6",
      "model_name": "AxisModel",
      "state": {
       "label": "Hours of the Day",
       "scale": "IPY_MODEL_250ade01ed1e4999a4a14fe0755f7f72",
       "side": "bottom",
       "tick_values": {
        "type": null,
        "values": null
       }
      }
     },
     "11c5457a80634a21a4ea3601019885b7": {
      "model_module": "bqplot",
      "model_module_version": "^0.3.6",
      "model_name": "DateScaleModel",
      "state": {}
     },
     "125e9853a41a4810911325893316a374": {
      "model_module": "@jupyter-widgets/controls",
      "model_module_version": "1.2.0",
      "model_name": "DropdownModel",
      "state": {
       "_options_labels": [
        "AAC0610",
        "AAP1919"
       ],
       "description": "Select Employee Id",
       "index": 0,
       "layout": "IPY_MODEL_7b26a2664f264e00aba05b0dc478727a",
       "style": "IPY_MODEL_fc1411d113184af9aaef9e43fe086e03"
      }
     },
     "125fcdea9d7d4d36a59b0d056e183f84": {
      "model_module": "bqplot",
      "model_module_version": "^0.3.6",
      "model_name": "LinearScaleModel",
      "state": {
       "allow_padding": false,
       "max": 1,
       "min": 0,
       "stabilized": false
      }
     },
     "12b1b1b03b894d2a9bf32c4e768d5ef9": {
      "model_module": "bqplot",
      "model_module_version": "^0.3.6",
      "model_name": "AxisModel",
      "state": {
       "label": "Hours of the Day",
       "scale": "IPY_MODEL_3fa59d4c478141c0abb24e36f8018f97",
       "side": "bottom",
       "tick_values": {
        "type": null,
        "values": null
       }
      }
     },
     "1312a9f461d94e0b94904222976dab07": {
      "model_module": "@jupyter-widgets/controls",
      "model_module_version": "1.2.0",
      "model_name": "VBoxModel",
      "state": {
       "children": [
        "IPY_MODEL_399ec5aaa1a242cfb980bd3202385c73"
       ],
       "layout": "IPY_MODEL_5f311bbe3aef4a5d96811b25ed0b793a"
      }
     },
     "136a0006c6684425b0e2047af6ef4e3d": {
      "model_module": "bqplot",
      "model_module_version": "^0.3.6",
      "model_name": "AxisModel",
      "state": {
       "label": "Number of USB Connections",
       "orientation": "vertical",
       "scale": "IPY_MODEL_e455265fe2444d24a12e9e981a985d43",
       "side": "left",
       "tick_format": "f",
       "tick_values": {
        "type": null,
        "values": null
       }
      }
     },
     "138e4e0671794f6188a715fe66370ecd": {
      "model_module": "@jupyter-widgets/base",
      "model_module_version": "1.0.0",
      "model_name": "LayoutModel",
      "state": {}
     },
     "13cab3dce89740b88a81443bce4683a5": {
      "model_module": "@jupyter-widgets/base",
      "model_module_version": "1.0.0",
      "model_name": "LayoutModel",
      "state": {}
     },
     "13e8ee91e4db497c85a14a5df5189250": {
      "model_module": "@jupyter-widgets/base",
      "model_module_version": "1.0.0",
      "model_name": "LayoutModel",
      "state": {}
     },
     "1436b5a54d5f45fb90bbf4991d6f87d9": {
      "model_module": "@jupyter-widgets/base",
      "model_module_version": "1.0.0",
      "model_name": "LayoutModel",
      "state": {}
     },
     "1442ea78ab124bf68f57ce32678779fa": {
      "model_module": "bqplot",
      "model_module_version": "^0.3.6",
      "model_name": "LinearScaleModel",
      "state": {
       "allow_padding": false,
       "max": 1,
       "min": 0,
       "stabilized": false
      }
     },
     "14f744d30a46407ba790b343714d9085": {
      "model_module": "@jupyter-widgets/controls",
      "model_module_version": "1.2.0",
      "model_name": "VBoxModel",
      "state": {
       "children": [
        "IPY_MODEL_f91dc93ef4f244b6bb536e13361ddaaf"
       ],
       "layout": "IPY_MODEL_b3b61788fc6049fda8e69e72b773f519"
      }
     },
     "154a5bf32811485982110dbfa79a6a4b": {
      "model_module": "bqplot",
      "model_module_version": "^0.3.6",
      "model_name": "LinearScaleModel",
      "state": {
       "stabilized": false
      }
     },
     "15703943a84449768a1914c8ec57746e": {
      "model_module": "bqplot",
      "model_module_version": "^0.3.6",
      "model_name": "TooltipModel",
      "state": {
       "fields": [
        "x",
        "y"
       ],
       "formats": [
        "",
        "f"
       ],
       "labels": [
        "Date",
        "Number of USB Connections"
       ],
       "layout": "IPY_MODEL_215fb222e0844f3e92f625415bf90cd9"
      }
     },
     "15bb08a477a54278a4546a544dd7d407": {
      "model_module": "bqplot",
      "model_module_version": "^0.3.6",
      "model_name": "LinearScaleModel",
      "state": {
       "allow_padding": false,
       "max": 1,
       "min": 0,
       "stabilized": false
      }
     },
     "161ef8b4149c49b3b689ff087fb08ac8": {
      "model_module": "bqplot",
      "model_module_version": "^0.3.6",
      "model_name": "BarsModel",
      "state": {
       "color": {
        "type": null,
        "values": null
       },
       "colors": [
        "skyblue"
       ],
       "display_legend": false,
       "interactions": {
        "click": "select",
        "hover": "tooltip",
        "legend_hover": "highlight_axes"
       },
       "labels": [
        "Number of USB Connections"
       ],
       "scales": {
        "x": "IPY_MODEL_b0d531b61bc540049f4beb9df9b5f689",
        "y": "IPY_MODEL_356e9a3741664a7d93c780e754f2916c"
       },
       "selected": [],
       "selected_style": {
        "fill": "red"
       },
       "tooltip": "IPY_MODEL_b7d0f63061d34d608f946cc6f71ed1e8",
       "x": {
        "type": "date",
        "values": [
         "1970-01-01T07:00:00.000000",
         "1970-01-01T08:00:00.000000",
         "1970-01-01T09:00:00.000000",
         "1970-01-01T10:00:00.000000",
         "1970-01-01T11:00:00.000000",
         "1970-01-01T12:00:00.000000",
         "1970-01-01T13:00:00.000000",
         "1970-01-01T14:00:00.000000",
         "1970-01-01T15:00:00.000000",
         "1970-01-01T16:00:00.000000",
         "1970-01-01T19:00:00.000000",
         "1970-01-01T20:00:00.000000"
        ]
       },
       "y": {
        "type": "float",
        "values": [
         37,
         167,
         169,
         167,
         157,
         151,
         174,
         154,
         187,
         82
        ]
       }
      }
     },
     "1668b2998c484cb484937d3eedc488a2": {
      "model_module": "bqplot",
      "model_module_version": "^0.3.6",
      "model_name": "LinearScaleModel",
      "state": {
       "allow_padding": false,
       "max": 1,
       "min": 0,
       "stabilized": false
      }
     },
     "173d4ea1ab334adaa4cbcbf1be8fec08": {
      "model_module": "@jupyter-widgets/base",
      "model_module_version": "1.0.0",
      "model_name": "LayoutModel",
      "state": {}
     },
     "1770783bce104cadab281e81f275c595": {
      "model_module": "bqplot",
      "model_module_version": "^0.3.6",
      "model_name": "FigureModel",
      "state": {
       "_dom_classes": [],
       "animation_duration": 5000,
       "axes": [
        "IPY_MODEL_41291778d79b4b209c20546e360c01d2",
        "IPY_MODEL_5b819d3a93f04581bf05df89d5ea456a"
       ],
       "background_style": {
        "fill": "aliceblue"
       },
       "layout": "IPY_MODEL_360a2d7a357046b58bad9a48c3a6e8c9",
       "marks": [
        "IPY_MODEL_992e5451a41d4ade8af1e767a9515b2b"
       ],
       "max_aspect_ratio": 6,
       "scale_x": "IPY_MODEL_04ded28b9452442fac826d2668e22904",
       "scale_y": "IPY_MODEL_065b2e5c74e642b3847cdc4154c4892b",
       "title": "USB Connections Per Employee"
      }
     },
     "17e526d58b1340a9b85cce3845d4e5d2": {
      "model_module": "bqplot",
      "model_module_version": "^0.3.6",
      "model_name": "AxisModel",
      "state": {
       "label": "Connect Activity",
       "scale": "IPY_MODEL_c94b06b88316486e918eab85c62ba546",
       "side": "bottom",
       "tick_values": {
        "type": null,
        "values": null
       }
      }
     },
     "18254529a6af4bd0a61ed22907f33402": {
      "model_module": "bqplot",
      "model_module_version": "^0.3.6",
      "model_name": "LinearScaleModel",
      "state": {
       "allow_padding": false,
       "max": 1,
       "min": 0,
       "stabilized": false
      }
     },
     "18ba01712a3a40d79df986123adbb09f": {
      "model_module": "bqplot",
      "model_module_version": "^0.3.6",
      "model_name": "TooltipModel",
      "state": {
       "fields": [
        "x",
        "y"
       ],
       "formats": [
        "",
        "f"
       ],
       "labels": [
        "Date",
        "Number of USB Connections"
       ],
       "layout": "IPY_MODEL_20dd28fd900a46bebe4378c0e1f2f563"
      }
     },
     "19277ec8550447c9926f65f49bd67cca": {
      "model_module": "bqplot",
      "model_module_version": "^0.3.6",
      "model_name": "AxisModel",
      "state": {
       "label": "Number of USB Connections",
       "orientation": "vertical",
       "scale": "IPY_MODEL_21fcfe4211dd45d090880f7f365ac830",
       "side": "left",
       "tick_format": "0.2f",
       "tick_values": {
        "type": null,
        "values": null
       }
      }
     },
     "192b0244166346fdab985a415bad4387": {
      "model_module": "@jupyter-widgets/base",
      "model_module_version": "1.0.0",
      "model_name": "LayoutModel",
      "state": {
       "width": "30%"
      }
     },
     "19f386385a444bbc9415e3c095b73986": {
      "model_module": "bqplot",
      "model_module_version": "^0.3.6",
      "model_name": "LinearScaleModel",
      "state": {
       "allow_padding": false,
       "max": 1,
       "min": 0,
       "stabilized": false
      }
     },
     "1a0888776719489792e0a1ed4ce78d54": {
      "model_module": "@jupyter-widgets/controls",
      "model_module_version": "1.2.0",
      "model_name": "VBoxModel",
      "state": {
       "children": [
        "IPY_MODEL_646cc6d7e9e6402a9166a8419575c908"
       ],
       "layout": "IPY_MODEL_6abaf0858a594a26885ec95647762069"
      }
     },
     "1a13a74babb740638c327c3dbd3d65f8": {
      "model_module": "bqplot",
      "model_module_version": "^0.3.6",
      "model_name": "LinearScaleModel",
      "state": {
       "stabilized": false
      }
     },
     "1a6dd86045ca4633955d0f4881062535": {
      "model_module": "bqplot",
      "model_module_version": "^0.3.6",
      "model_name": "LinearScaleModel",
      "state": {
       "stabilized": false
      }
     },
     "1a84905139224f57988a674365988097": {
      "model_module": "bqplot",
      "model_module_version": "^0.3.6",
      "model_name": "DateScaleModel",
      "state": {}
     },
     "1ab1570205434ce196b945a209339d77": {
      "model_module": "@jupyter-widgets/base",
      "model_module_version": "1.0.0",
      "model_name": "LayoutModel",
      "state": {}
     },
     "1aca030c5f084001bdc0f48caaf9c81e": {
      "model_module": "@jupyter-widgets/base",
      "model_module_version": "1.0.0",
      "model_name": "LayoutModel",
      "state": {}
     },
     "1b0ba47ed46a4fe8b08c056999b62053": {
      "model_module": "bqplot",
      "model_module_version": "^0.3.6",
      "model_name": "ScatterModel",
      "state": {
       "_model_module": "bqplot",
       "_model_module_version": "^0.3.6",
       "_view_count": null,
       "_view_module": "bqplot",
       "_view_module_version": "^0.3.6",
       "apply_clip": true,
       "color": {
        "type": null,
        "values": null
       },
       "colors": [
        "red"
       ],
       "display_legend": false,
       "enable_hover": true,
       "hovered_style": {},
       "interactions": {
        "hover": "tooltip"
       },
       "labels": [
        "email"
       ],
       "names": {
        "type": null,
        "values": null
       },
       "opacity": {
        "type": null,
        "values": null
       },
       "preserve_domain": {},
       "rotation": {
        "type": null,
        "values": null
       },
       "scales": {
        "x": "IPY_MODEL_b2d34b248a4e492abdedea8587190082",
        "y": "IPY_MODEL_1ce0e6f304714618a2209dd0f6488057"
       },
       "scales_metadata": {
        "color": {
         "dimension": "color"
        },
        "opacity": {
         "dimension": "opacity"
        },
        "rotation": {
         "dimension": "rotation"
        },
        "size": {
         "dimension": "size"
        },
        "skew": {
         "dimension": "skew"
        },
        "x": {
         "dimension": "x",
         "orientation": "horizontal"
        },
        "y": {
         "dimension": "y",
         "orientation": "vertical"
        }
       },
       "selected": [],
       "selected_style": {},
       "size": {
        "type": null,
        "values": null
       },
       "skew": {
        "type": null,
        "values": null
       },
       "tooltip": "IPY_MODEL_633d0494cae642a7a5f7f0b577c794af",
       "tooltip_location": "mouse",
       "tooltip_style": {
        "opacity": 0.9
       },
       "unhovered_style": {},
       "unselected_style": {},
       "visible": true,
       "x": {
        "type": "object",
        "values": [
         "Connect",
         "Disconnect"
        ]
       },
       "y": {
        "type": "float",
        "values": [
         0.357017,
         0.354629
        ]
       }
      }
     },
     "1b3de43866ad4b31bb6eed919e4e5b4e": {
      "model_module": "bqplot",
      "model_module_version": "^0.3.6",
      "model_name": "DateScaleModel",
      "state": {}
     },
     "1b5fc44429bc4a20913851f3d4201966": {
      "model_module": "@jupyter-widgets/base",
      "model_module_version": "1.0.0",
      "model_name": "LayoutModel",
      "state": {}
     },
     "1c2ecbca5c404c5eab9b486a60fc6c0e": {
      "model_module": "bqplot",
      "model_module_version": "^0.3.6",
      "model_name": "AxisModel",
      "state": {
       "label": "Number of USB Connections",
       "orientation": "vertical",
       "scale": "IPY_MODEL_fe998a47a20347c082ce86ca8e78d486",
       "side": "left",
       "tick_format": "f",
       "tick_values": {
        "type": null,
        "values": null
       }
      }
     },
     "1c3d2e7543c9442d8adb0184c21e22a8": {
      "model_module": "@jupyter-widgets/controls",
      "model_module_version": "1.2.0",
      "model_name": "VBoxModel",
      "state": {
       "children": [
        "IPY_MODEL_8ef2ecd6bbf34a3ea329b211529a373a"
       ],
       "layout": "IPY_MODEL_e755cfddf60e430d9aa5c28aed1c5d76"
      }
     },
     "1ce0e6f304714618a2209dd0f6488057": {
      "model_module": "bqplot",
      "model_module_version": "^0.3.6",
      "model_name": "LinearScaleModel",
      "state": {
       "stabilized": false
      }
     },
     "1d1ccdeeb1fd4d1fbc21ec400acd7d93": {
      "model_module": "bqplot",
      "model_module_version": "^0.3.6",
      "model_name": "ScatterModel",
      "state": {
       "_model_module": "bqplot",
       "_model_module_version": "^0.3.6",
       "_view_count": null,
       "_view_module": "bqplot",
       "_view_module_version": "^0.3.6",
       "apply_clip": true,
       "color": {
        "type": null,
        "values": null
       },
       "colors": [
        "red"
       ],
       "display_legend": false,
       "enable_hover": true,
       "hovered_style": {},
       "interactions": {
        "hover": "tooltip"
       },
       "labels": [
        "email"
       ],
       "names": {
        "type": null,
        "values": null
       },
       "opacity": {
        "type": null,
        "values": null
       },
       "preserve_domain": {},
       "rotation": {
        "type": null,
        "values": null
       },
       "scales": {
        "x": "IPY_MODEL_b0d6be21b66e481bb8a40e3a37f332d3",
        "y": "IPY_MODEL_57f76fbbf2514bc5b8ed0199e00d5ee4"
       },
       "scales_metadata": {
        "color": {
         "dimension": "color"
        },
        "opacity": {
         "dimension": "opacity"
        },
        "rotation": {
         "dimension": "rotation"
        },
        "size": {
         "dimension": "size"
        },
        "skew": {
         "dimension": "skew"
        },
        "x": {
         "dimension": "x",
         "orientation": "horizontal"
        },
        "y": {
         "dimension": "y",
         "orientation": "vertical"
        }
       },
       "selected": [],
       "selected_style": {},
       "size": {
        "type": null,
        "values": null
       },
       "skew": {
        "type": null,
        "values": null
       },
       "tooltip": "IPY_MODEL_23416e7eb21848d69ea2162cf96bb331",
       "tooltip_location": "mouse",
       "tooltip_style": {
        "opacity": 0.9
       },
       "unhovered_style": {},
       "unselected_style": {},
       "visible": true,
       "x": {
        "type": "object",
        "values": [
         "Connect",
         "Disconnect"
        ]
       },
       "y": {
        "type": "float",
        "values": [
         357.017,
         354.629
        ]
       }
      }
     },
     "1df0f0b3c52243c4b15cbdc32f737e58": {
      "model_module": "bqplot",
      "model_module_version": "^0.3.6",
      "model_name": "LinearScaleModel",
      "state": {
       "allow_padding": false,
       "max": 1,
       "min": 0,
       "stabilized": false
      }
     },
     "1eb186dc81124a1584f9ba1d526898a7": {
      "model_module": "bqplot",
      "model_module_version": "^0.3.6",
      "model_name": "FigureModel",
      "state": {
       "_dom_classes": [],
       "animation_duration": 3000,
       "axes": [
        "IPY_MODEL_b0138131790d444db748ddc6953ec04d",
        "IPY_MODEL_85f9a26cdb544eec84a54b4069b8f623"
       ],
       "background_style": {
        "fill": "aliceblue"
       },
       "layout": "IPY_MODEL_e66adf27db7a4619b093ea97ec24db5c",
       "marks": [
        "IPY_MODEL_bbade615d84d43d0ba11b1ba2b92cf0c"
       ],
       "max_aspect_ratio": 6,
       "scale_x": "IPY_MODEL_8418f51b7f1941ab95c2beed630e5d6b",
       "scale_y": "IPY_MODEL_2d213809abf04373934cd4980269ab6b",
       "title": "USB Connections Per Employee"
      }
     },
     "1ee0ebd7cccb417aa34457d18dd01334": {
      "model_module": "bqplot",
      "model_module_version": "^0.3.6",
      "model_name": "LinearScaleModel",
      "state": {
       "stabilized": false
      }
     },
     "1f1137686c06476a8f1a587ffebbb6c4": {
      "model_module": "bqplot",
      "model_module_version": "^0.3.6",
      "model_name": "LinearScaleModel",
      "state": {
       "allow_padding": false,
       "max": 1,
       "min": 0,
       "stabilized": false
      }
     },
     "1f221f0b5ecf45c8b0f3ab79db032f6d": {
      "model_module": "@jupyter-widgets/base",
      "model_module_version": "1.0.0",
      "model_name": "LayoutModel",
      "state": {}
     },
     "1f6d44cb594b4e83ba1ef78b63150648": {
      "model_module": "bqplot",
      "model_module_version": "^0.3.6",
      "model_name": "AxisModel",
      "state": {
       "label": "Hours of the Day",
       "scale": "IPY_MODEL_26b9a5c10fed49a385b79aaa0fc3282a",
       "side": "bottom",
       "tick_values": {
        "type": null,
        "values": null
       }
      }
     },
     "1f7488011e59435fac1ec6db294c7ddd": {
      "model_module": "bqplot",
      "model_module_version": "^0.3.6",
      "model_name": "BarsModel",
      "state": {
       "color": {
        "type": null,
        "values": null
       },
       "colors": [
        "blue"
       ],
       "display_legend": false,
       "interactions": {
        "click": "select",
        "hover": "tooltip",
        "legend_hover": "highlight_axes"
       },
       "labels": [
        "Number of USB Connections"
       ],
       "scales": {
        "x": "IPY_MODEL_3fa59d4c478141c0abb24e36f8018f97",
        "y": "IPY_MODEL_da5fa4743d5b497fb79ce003a22c5369"
       },
       "selected": [],
       "selected_style": {
        "fill": "red"
       },
       "tooltip": "IPY_MODEL_a4e4d0288b304adc95f569b4d6a3a74f",
       "x": {
        "type": "timedelta64[ns]",
        "values": [
         50400000000000,
         32400000000000,
         46800000000000,
         54000000000000,
         36000000000000,
         28800000000000,
         43200000000000,
         39600000000000,
         57600000000000,
         61200000000000,
         25200000000000,
         64800000000000,
         68400000000000,
         79200000000000,
         82800000000000,
         21600000000000,
         75600000000000,
         72000000000000,
         0,
         3600000000000,
         14400000000000,
         18000000000000,
         10800000000000,
         7200000000000
        ]
       },
       "y": {
        "type": "float",
        "values": [
         41.339,
         40.332,
         37.987,
         37.554,
         35.012,
         34.87,
         32.312,
         31.498,
         26.909,
         15.277,
         10.393,
         5.236,
         1.377,
         0.915,
         0.913,
         0.837,
         0.799,
         0.637,
         0.616,
         0.491,
         0.462,
         0.442,
         0.412,
         0.397
        ]
       }
      }
     },
     "1fa22e733c394448a5e8ce80ebe202a3": {
      "model_module": "bqplot",
      "model_module_version": "^0.3.6",
      "model_name": "BarsModel",
      "state": {
       "color": {
        "type": null,
        "values": null
       },
       "colors": [
        "skyblue"
       ],
       "display_legend": false,
       "interactions": {
        "click": "select",
        "hover": "tooltip",
        "legend_hover": "highlight_axes"
       },
       "labels": [
        "Number of USB Connections"
       ],
       "scales": {
        "x": "IPY_MODEL_c8b0ac8a96064eb194eacf708f83ab4d",
        "y": "IPY_MODEL_477cb91d7f614830af8754650875a62d"
       },
       "selected": [],
       "selected_style": {
        "fill": "red"
       },
       "tooltip": "IPY_MODEL_18ba01712a3a40d79df986123adbb09f",
       "x": {
        "type": "date",
        "values": [
         "1970-01-01T07:00:00.000000",
         "1970-01-01T08:00:00.000000",
         "1970-01-01T09:00:00.000000",
         "1970-01-01T10:00:00.000000",
         "1970-01-01T11:00:00.000000",
         "1970-01-01T12:00:00.000000",
         "1970-01-01T13:00:00.000000",
         "1970-01-01T14:00:00.000000",
         "1970-01-01T15:00:00.000000",
         "1970-01-01T16:00:00.000000",
         "1970-01-01T19:00:00.000000",
         "1970-01-01T20:00:00.000000"
        ]
       },
       "y": {
        "type": "float",
        "values": [
         1,
         22,
         18,
         14,
         17,
         9,
         19,
         26,
         27,
         7,
         1,
         2
        ]
       }
      }
     },
     "1fce3d8b40ea4c868555824e853ad8fd": {
      "model_module": "@jupyter-widgets/base",
      "model_module_version": "1.0.0",
      "model_name": "LayoutModel",
      "state": {}
     },
     "20114ff02fdf43918ac474bbf6fa1315": {
      "model_module": "@jupyter-widgets/controls",
      "model_module_version": "1.2.0",
      "model_name": "VBoxModel",
      "state": {
       "children": [
        "IPY_MODEL_f4a54835a7d346908fb054e24fa45023"
       ],
       "layout": "IPY_MODEL_f82f17f8df5648bbbead7450f0ea7fc7"
      }
     },
     "2030edb254ab441d87ccc3899a880572": {
      "model_module": "bqplot",
      "model_module_version": "^0.3.6",
      "model_name": "FigureModel",
      "state": {
       "_dom_classes": [],
       "animation_duration": 3000,
       "axes": [
        "IPY_MODEL_6e956019a9d5493ea5a88bb05c1a6057",
        "IPY_MODEL_6e35cd21670c4410b0bcfa0c0edf4d14"
       ],
       "background_style": {
        "fill": "aliceblue"
       },
       "layout": "IPY_MODEL_e66adf27db7a4619b093ea97ec24db5c",
       "marks": [
        "IPY_MODEL_f254ee33e614405eb2cb0744f5bd88c5"
       ],
       "max_aspect_ratio": 6,
       "scale_x": "IPY_MODEL_9640286e2e6f49acae207eb5756a98d1",
       "scale_y": "IPY_MODEL_412938db562b433b9b18ee1d46e39049",
       "title": "USB Connections Per Employee"
      }
     },
     "203bc0c998444f1d9eaa61cb60bbab4f": {
      "model_module": "bqplot",
      "model_module_version": "^0.3.6",
      "model_name": "FigureModel",
      "state": {
       "_dom_classes": [],
       "animation_duration": 5000,
       "axes": [
        "IPY_MODEL_d40eda46a475417a9876d3a487ec8b21",
        "IPY_MODEL_a59e0d5556594a6090fdd312d08a757f"
       ],
       "background_style": {
        "fill": "aliceblue"
       },
       "layout": "IPY_MODEL_b911fbd85f9a4a77af90ee01dd13096f",
       "marks": [
        "IPY_MODEL_538a08f13e88485ca4beac702340a083"
       ],
       "max_aspect_ratio": 6,
       "scale_x": "IPY_MODEL_b77b18c3c9bc4881ac3bb88498cb9ba0",
       "scale_y": "IPY_MODEL_10439b611dce4385b8796cb48d79609e",
       "title": "Proportion of Connect Activity"
      }
     },
     "2062e8e9b3014b93815455915e75d369": {
      "model_module": "bqplot",
      "model_module_version": "^0.3.6",
      "model_name": "BarsModel",
      "state": {
       "color": {
        "type": null,
        "values": null
       },
       "colors": [
        "skyblue"
       ],
       "display_legend": false,
       "interactions": {
        "click": "select",
        "hover": "tooltip",
        "legend_hover": "highlight_axes"
       },
       "labels": [
        "Number of USB Connections"
       ],
       "scales": {
        "x": "IPY_MODEL_ae3927f610134a038f3a2de28377c142",
        "y": "IPY_MODEL_8ec3391ca29a4577bfaed7e0170afedf"
       },
       "selected": [],
       "selected_style": {
        "fill": "red"
       },
       "tooltip": "IPY_MODEL_6230b6919c8d445d9a1ede9d9263615a",
       "x": {
        "type": "date",
        "values": [
         "1970-01-01T07:00:00.000000",
         "1970-01-01T08:00:00.000000",
         "1970-01-01T09:00:00.000000",
         "1970-01-01T10:00:00.000000",
         "1970-01-01T11:00:00.000000",
         "1970-01-01T12:00:00.000000",
         "1970-01-01T13:00:00.000000",
         "1970-01-01T14:00:00.000000",
         "1970-01-01T15:00:00.000000",
         "1970-01-01T16:00:00.000000",
         "1970-01-01T19:00:00.000000",
         "1970-01-01T20:00:00.000000"
        ]
       },
       "y": {
        "type": "float",
        "values": [
         1,
         22,
         18,
         14,
         17,
         9,
         19,
         26,
         27,
         7,
         1,
         2
        ]
       }
      }
     },
     "20b147c380384ddf8aa7cd798b54b760": {
      "model_module": "bqplot",
      "model_module_version": "^0.3.6",
      "model_name": "TooltipModel",
      "state": {
       "fields": [
        "x",
        "y"
       ],
       "formats": [
        "",
        "f"
       ],
       "labels": [
        "Computer ID",
        "Activity"
       ],
       "layout": "IPY_MODEL_a11169a2305c40ada9235a1b111901a1"
      }
     },
     "20b334de725c401fbb23e1ca103356e0": {
      "model_module": "@jupyter-widgets/base",
      "model_module_version": "1.0.0",
      "model_name": "LayoutModel",
      "state": {}
     },
     "20c0511e5a534e36a5e5456f40f5b75a": {
      "model_module": "@jupyter-widgets/base",
      "model_module_version": "1.0.0",
      "model_name": "LayoutModel",
      "state": {
       "min_width": "125px"
      }
     },
     "20dd28fd900a46bebe4378c0e1f2f563": {
      "model_module": "@jupyter-widgets/base",
      "model_module_version": "1.0.0",
      "model_name": "LayoutModel",
      "state": {}
     },
     "21598a19b18b4276ab1e2a33c1fd4c3b": {
      "model_module": "bqplot",
      "model_module_version": "^0.3.6",
      "model_name": "AxisModel",
      "state": {
       "label": "x",
       "scale": "IPY_MODEL_b0d6be21b66e481bb8a40e3a37f332d3",
       "side": "bottom",
       "tick_values": {
        "type": null,
        "values": null
       }
      }
     },
     "215fb222e0844f3e92f625415bf90cd9": {
      "model_module": "@jupyter-widgets/base",
      "model_module_version": "1.0.0",
      "model_name": "LayoutModel",
      "state": {}
     },
     "216b20cb501343a8b8719b0f72709b5f": {
      "model_module": "bqplot",
      "model_module_version": "^0.3.6",
      "model_name": "FigureModel",
      "state": {
       "_dom_classes": [],
       "animation_duration": 5000,
       "axes": [
        "IPY_MODEL_8ecd5b3d0f534f7e85e460d2606f768d",
        "IPY_MODEL_407d124a99b346e88f7c0ed06bb70ccb"
       ],
       "background_style": {
        "fill": "aliceblue"
       },
       "layout": "IPY_MODEL_8ac656bdd6b34040a0e26ccd49ed02cd",
       "legend_style": {
        "fill": "white"
       },
       "marks": [
        "IPY_MODEL_d1b15f3d30f94acea4a8c6bd3bfbba3a"
       ],
       "max_aspect_ratio": 6,
       "scale_x": "IPY_MODEL_5dbf45f8dc054bea8966be2bb1353176",
       "scale_y": "IPY_MODEL_9a334b6c02fa4e9896f87b792c1cd2f5",
       "title": "Proportion of Connect Activity"
      }
     },
     "217d20bdc0b34ef488d7321245e8c7e5": {
      "model_module": "bqplot",
      "model_module_version": "^0.3.6",
      "model_name": "BarsModel",
      "state": {
       "color": {
        "type": null,
        "values": null
       },
       "colors": [
        "hotpink",
        "orange"
       ],
       "interactions": {
        "click": "select",
        "hover": "tooltip",
        "legend_hover": "highlight_axes"
       },
       "labels": [
        "Connect",
        "Disconnect"
       ],
       "padding": 0.1,
       "scales": {
        "x": "IPY_MODEL_08c34fbb369e4a4b93e1645fc889bace",
        "y": "IPY_MODEL_64627fde8a7b412b8ca53838f5662537"
       },
       "selected": [],
       "selected_style": {
        "fill": "red"
       },
       "tooltip": "IPY_MODEL_20b147c380384ddf8aa7cd798b54b760",
       "type": "grouped",
       "x": {
        "type": "object",
        "values": [
         "PC-3471",
         "PC-1105",
         "PC-0937",
         "PC-3154",
         "PC-2158",
         "PC-7117",
         "PC-2659",
         "PC-2057",
         "PC-5849",
         "PC-7046"
        ]
       },
       "y": {
        "type": "float",
        "values": [
         [
          2.048,
          2.036,
          2.029,
          2.009,
          2,
          1.991,
          1.978,
          1.963,
          1.959,
          1.949
         ],
         [
          2.042,
          2.026,
          2.014,
          1.998,
          1.987,
          1.983,
          1.965,
          1.949,
          1.947,
          1.935
         ]
        ]
       }
      }
     },
     "21b9da7f94434be891bcf3a2a47702fa": {
      "model_module": "bqplot",
      "model_module_version": "^0.3.6",
      "model_name": "TooltipModel",
      "state": {
       "fields": [
        "x",
        "y"
       ],
       "formats": [
        "",
        "0.2f"
       ],
       "labels": [
        "Date",
        "Email Size"
       ],
       "layout": "IPY_MODEL_b3bcfd923cb54598b38c3205e634fd75"
      }
     },
     "21bb47a838394ba289eca92efeb25364": {
      "model_module": "@jupyter-widgets/controls",
      "model_module_version": "1.2.0",
      "model_name": "DropdownModel",
      "state": {
       "_options_labels": [
        "AAC0610",
        "AAP1919"
       ],
       "index": 0,
       "layout": "IPY_MODEL_13cab3dce89740b88a81443bce4683a5",
       "style": "IPY_MODEL_614f309729d242c69b7cf52b33133aad"
      }
     },
     "21fcfe4211dd45d090880f7f365ac830": {
      "model_module": "bqplot",
      "model_module_version": "^0.3.6",
      "model_name": "LinearScaleModel",
      "state": {
       "stabilized": false
      }
     },
     "221768a830a7410e91763757acd9467c": {
      "model_module": "bqplot",
      "model_module_version": "^0.3.6",
      "model_name": "LinearScaleModel",
      "state": {
       "allow_padding": false,
       "max": 1,
       "min": 0,
       "stabilized": false
      }
     },
     "223ce942b7fb45feb76da464437e3821": {
      "model_module": "bqplot",
      "model_module_version": "^0.3.6",
      "model_name": "LinearScaleModel",
      "state": {
       "stabilized": false
      }
     },
     "225f5f27b75746f8aff65de49640e35c": {
      "model_module": "bqplot",
      "model_module_version": "^0.3.6",
      "model_name": "AxisModel",
      "state": {
       "label": "Hours of the Day",
       "scale": "IPY_MODEL_3dcc54040cb44a88a3ebcfa24f284b3f",
       "side": "bottom",
       "tick_values": {
        "type": null,
        "values": null
       }
      }
     },
     "22925e337b8c465b9537538b5f32fa24": {
      "model_module": "bqplot",
      "model_module_version": "^0.3.6",
      "model_name": "LinearScaleModel",
      "state": {
       "allow_padding": false,
       "max": 1,
       "min": 0,
       "stabilized": false
      }
     },
     "231d81610c0145eb83c64cde323b3c4a": {
      "model_module": "bqplot",
      "model_module_version": "^0.3.6",
      "model_name": "LinearScaleModel",
      "state": {
       "allow_padding": false,
       "max": 1,
       "min": 0,
       "stabilized": false
      }
     },
     "23416e7eb21848d69ea2162cf96bb331": {
      "model_module": "bqplot",
      "model_module_version": "^0.3.6",
      "model_name": "TooltipModel",
      "state": {
       "fields": [
        "index",
        "name"
       ],
       "formats": [
        "",
        "0.2f"
       ],
       "labels": [
        "User ID",
        "Email Size"
       ],
       "layout": "IPY_MODEL_f1dd8c2797f14bd3a674aef0d49e4528"
      }
     },
     "236c30fb8cb4491d9f5652c818c41c03": {
      "model_module": "@jupyter-widgets/base",
      "model_module_version": "1.0.0",
      "model_name": "LayoutModel",
      "state": {}
     },
     "2399c8c884414f9fa2929b9d6c069c2e": {
      "model_module": "bqplot",
      "model_module_version": "^0.3.6",
      "model_name": "FigureModel",
      "state": {
       "_dom_classes": [],
       "animation_duration": 5000,
       "axes": [
        "IPY_MODEL_12b1b1b03b894d2a9bf32c4e768d5ef9",
        "IPY_MODEL_dd8e1cce9fed446b8217804a9a888614"
       ],
       "background_style": {
        "fill": "aliceblue"
       },
       "layout": "IPY_MODEL_8ac656bdd6b34040a0e26ccd49ed02cd",
       "marks": [
        "IPY_MODEL_1f7488011e59435fac1ec6db294c7ddd"
       ],
       "max_aspect_ratio": 6,
       "scale_x": "IPY_MODEL_ee56f1bc99ba47928dc73fe9343127c5",
       "scale_y": "IPY_MODEL_8cec34db1b694e359a4c001cd5d584e4",
       "title": "USB Connections"
      }
     },
     "23a875cf8b524bfcb1fcc9072d26252c": {
      "model_module": "bqplot",
      "model_module_version": "^0.3.6",
      "model_name": "DateScaleModel",
      "state": {}
     },
     "23ca0a310a964d6d94c71401e5cd428b": {
      "model_module": "@jupyter-widgets/base",
      "model_module_version": "1.0.0",
      "model_name": "LayoutModel",
      "state": {}
     },
     "247a780cdfdb41509b8caa687bd97feb": {
      "model_module": "bqplot",
      "model_module_version": "^0.3.6",
      "model_name": "OrdinalScaleModel",
      "state": {
       "domain": []
      }
     },
     "24c95790c71847b2ab392190e311c672": {
      "model_module": "bqplot",
      "model_module_version": "^0.3.6",
      "model_name": "PanZoomModel",
      "state": {
       "scales": {
        "x": [
         "IPY_MODEL_08c34fbb369e4a4b93e1645fc889bace"
        ],
        "y": [
         "IPY_MODEL_64627fde8a7b412b8ca53838f5662537"
        ]
       }
      }
     },
     "250ade01ed1e4999a4a14fe0755f7f72": {
      "model_module": "bqplot",
      "model_module_version": "^0.3.6",
      "model_name": "DateScaleModel",
      "state": {}
     },
     "25120dff506547d28faf5c4f058b8e31": {
      "model_module": "bqplot",
      "model_module_version": "^0.3.6",
      "model_name": "LinearScaleModel",
      "state": {
       "allow_padding": false,
       "max": 1,
       "min": 0,
       "stabilized": false
      }
     },
     "2516ea8fa88841198703abd0f7c01783": {
      "model_module": "bqplot",
      "model_module_version": "^0.3.6",
      "model_name": "AxisModel",
      "state": {
       "label": "Connect Activity",
       "scale": "IPY_MODEL_47087cd3626147b1b758e235b484b4ea",
       "side": "bottom",
       "tick_values": {
        "type": null,
        "values": null
       }
      }
     },
     "25ad99c642eb4f48923bf2cdd30f33a7": {
      "model_module": "bqplot",
      "model_module_version": "^0.3.6",
      "model_name": "FigureModel",
      "state": {
       "_dom_classes": [],
       "animation_duration": 5000,
       "axes": [
        "IPY_MODEL_55b12171052a4c66bc4d500c8d33c525",
        "IPY_MODEL_26fe1e7ad9584637956dfd8d3ec4d5c7"
       ],
       "background_style": {
        "fill": "aliceblue"
       },
       "layout": "IPY_MODEL_8ac656bdd6b34040a0e26ccd49ed02cd",
       "legend_style": {
        "fill": "white"
       },
       "marks": [
        "IPY_MODEL_012819897595494fb22949f2b3db5628"
       ],
       "max_aspect_ratio": 6,
       "scale_x": "IPY_MODEL_c84560dc91784cb1be0ee152fe92bd69",
       "scale_y": "IPY_MODEL_9ef5a882643545f4ad0af651b1aa8346",
       "title": "Proportion of Connect Activity"
      }
     },
     "25d2cf8ddd594096b8bbea46148ddc9f": {
      "model_module": "bqplot",
      "model_module_version": "^0.3.6",
      "model_name": "LinearScaleModel",
      "state": {
       "stabilized": false
      }
     },
     "262c32df14134c478e6f0af94fcc031b": {
      "model_module": "@jupyter-widgets/controls",
      "model_module_version": "1.2.0",
      "model_name": "VBoxModel",
      "state": {
       "children": [
        "IPY_MODEL_8940865fed874aa3a46b604c44534fff",
        "IPY_MODEL_d49d927060544385bd3c2b54944ca863"
       ],
       "layout": "IPY_MODEL_ef796dfd96f24f76ad0738c72a430eff"
      }
     },
     "2669b1e83e0448cbb516734e44acd960": {
      "model_module": "bqplot",
      "model_module_version": "^0.3.6",
      "model_name": "AxisModel",
      "state": {
       "label": "Hours of the Day",
       "scale": "IPY_MODEL_c8b0ac8a96064eb194eacf708f83ab4d",
       "side": "bottom",
       "tick_values": {
        "type": null,
        "values": null
       }
      }
     },
     "26b9a5c10fed49a385b79aaa0fc3282a": {
      "model_module": "bqplot",
      "model_module_version": "^0.3.6",
      "model_name": "DateScaleModel",
      "state": {}
     },
     "26d7e63c6f9b45e98846cc1c9e931daf": {
      "model_module": "bqplot",
      "model_module_version": "^0.3.6",
      "model_name": "TooltipModel",
      "state": {
       "fields": [
        "x",
        "y"
       ],
       "formats": [
        "",
        "0.2f"
       ],
       "labels": [
        "Activity",
        "Count"
       ],
       "layout": "IPY_MODEL_6cd1f1aea4964fa99d7d0f61e41972e5"
      }
     },
     "26fe1e7ad9584637956dfd8d3ec4d5c7": {
      "model_module": "bqplot",
      "model_module_version": "^0.3.6",
      "model_name": "AxisModel",
      "state": {
       "label": "Count",
       "orientation": "vertical",
       "scale": "IPY_MODEL_fe810ba531c34ab7ba0253da2e4e67f0",
       "side": "left",
       "tick_format": "0.2f",
       "tick_values": {
        "type": null,
        "values": null
       }
      }
     },
     "27280747f5804a6db5821c554adf2c99": {
      "model_module": "bqplot",
      "model_module_version": "^0.3.6",
      "model_name": "TooltipModel",
      "state": {
       "fields": [
        "x",
        "y"
       ],
       "formats": [
        "",
        "0.1f"
       ],
       "labels": [
        "Date",
        "Number of USB Connections"
       ],
       "layout": "IPY_MODEL_9a8ca2a72c1b489e997978eab992ac45"
      }
     },
     "2753dd5cef06499aa93302a76c2ae4fd": {
      "model_module": "@jupyter-widgets/base",
      "model_module_version": "1.0.0",
      "model_name": "LayoutModel",
      "state": {}
     },
     "2773d153388e405d8946c235fd170db2": {
      "model_module": "bqplot",
      "model_module_version": "^0.3.6",
      "model_name": "OrdinalScaleModel",
      "state": {
       "domain": []
      }
     },
     "27a80b6d9a804632b0844a50e16bf8c0": {
      "model_module": "@jupyter-widgets/controls",
      "model_module_version": "1.2.0",
      "model_name": "VBoxModel",
      "state": {
       "children": [
        "IPY_MODEL_f94ba72cbf79457fb78009ae1f317d92"
       ],
       "layout": "IPY_MODEL_a22bf6c524204c2b8d5355cd323c1e06"
      }
     },
     "27ee8218491e490389eeb82139ca7aaf": {
      "model_module": "@jupyter-widgets/base",
      "model_module_version": "1.0.0",
      "model_name": "LayoutModel",
      "state": {}
     },
     "27fabf749abe47d79b31fcfd4295169c": {
      "model_module": "@jupyter-widgets/controls",
      "model_module_version": "1.2.0",
      "model_name": "VBoxModel",
      "state": {
       "children": [
        "IPY_MODEL_830d999a7c76422ea241648b5e86b099"
       ],
       "layout": "IPY_MODEL_64661b2252f743aa921c234716120a60"
      }
     },
     "27fce31c8cb3451bb78a699e73218277": {
      "model_module": "bqplot",
      "model_module_version": "^0.3.6",
      "model_name": "LinearScaleModel",
      "state": {
       "stabilized": false
      }
     },
     "280df48aaa754a9aa309ca9eff89d711": {
      "model_module": "bqplot",
      "model_module_version": "^0.3.6",
      "model_name": "LinearScaleModel",
      "state": {
       "allow_padding": false,
       "max": 1,
       "min": 0,
       "stabilized": false
      }
     },
     "288f307f1c2e4e71882a428331027ecd": {
      "model_module": "bqplot",
      "model_module_version": "^0.3.6",
      "model_name": "OrdinalScaleModel",
      "state": {
       "domain": []
      }
     },
     "28a3f405d56d4eb29036cd21100b9f08": {
      "model_module": "@jupyter-widgets/controls",
      "model_module_version": "1.2.0",
      "model_name": "VBoxModel",
      "state": {
       "children": [
        "IPY_MODEL_baa4030cdcae46ce952e416b2e0eef8c"
       ],
       "layout": "IPY_MODEL_2b7eab4b29de486babc119cb0a9a21cf"
      }
     },
     "28e9ef6e3ee4429d9d5372d65082853b": {
      "model_module": "bqplot",
      "model_module_version": "^0.3.6",
      "model_name": "LinearScaleModel",
      "state": {
       "allow_padding": false,
       "max": 1,
       "min": 0,
       "stabilized": false
      }
     },
     "28ec2f5bcd9f4a83b684c01597404a2d": {
      "model_module": "@jupyter-widgets/controls",
      "model_module_version": "1.2.0",
      "model_name": "VBoxModel",
      "state": {
       "children": [
        "IPY_MODEL_203bc0c998444f1d9eaa61cb60bbab4f"
       ],
       "layout": "IPY_MODEL_8f5a71e8966f4f4b963ce6b80f6043d3"
      }
     },
     "2917dac7a708467e873b1be58a4e48df": {
      "model_module": "bqplot",
      "model_module_version": "^0.3.6",
      "model_name": "TooltipModel",
      "state": {
       "fields": [
        "x",
        "y"
       ],
       "formats": [
        "",
        "0f"
       ],
       "labels": [
        "Date",
        "Number of USB Connections"
       ],
       "layout": "IPY_MODEL_173d4ea1ab334adaa4cbcbf1be8fec08"
      }
     },
     "294edcde15c94507b9b36d069bb60afb": {
      "model_module": "@jupyter-widgets/base",
      "model_module_version": "1.0.0",
      "model_name": "LayoutModel",
      "state": {}
     },
     "2957c57c31824d8abaa030258e67a4b0": {
      "model_module": "bqplot",
      "model_module_version": "^0.3.6",
      "model_name": "DateScaleModel",
      "state": {}
     },
     "295c29aba7824568a2e6c3d5fa762ab3": {
      "model_module": "bqplot",
      "model_module_version": "^0.3.6",
      "model_name": "TooltipModel",
      "state": {
       "fields": [
        "x",
        "y"
       ],
       "formats": [
        "",
        "0.2f"
       ],
       "labels": [
        "Activity",
        "Count"
       ],
       "layout": "IPY_MODEL_093410aa6dec4dc38be3267ea3825de0"
      }
     },
     "2975eb30feef43e78fd1338f30606dc0": {
      "model_module": "bqplot",
      "model_module_version": "^0.3.6",
      "model_name": "BarsModel",
      "state": {
       "color": {
        "type": null,
        "values": null
       },
       "colors": [
        "skyblue"
       ],
       "display_legend": false,
       "interactions": {
        "click": "select",
        "hover": "tooltip",
        "legend_hover": "highlight_axes"
       },
       "labels": [
        "Number of USB Connections"
       ],
       "scales": {
        "x": "IPY_MODEL_3bb80561b0bc4bd2b809c568e82f0067",
        "y": "IPY_MODEL_1a6dd86045ca4633955d0f4881062535"
       },
       "selected": [],
       "selected_style": {
        "fill": "red"
       },
       "tooltip": "IPY_MODEL_fe46b84be739460787c1f26ad849b0d8",
       "x": {
        "type": "date",
        "values": [
         "1970-01-01T07:00:00.000000",
         "1970-01-01T08:00:00.000000",
         "1970-01-01T09:00:00.000000",
         "1970-01-01T10:00:00.000000",
         "1970-01-01T11:00:00.000000",
         "1970-01-01T12:00:00.000000",
         "1970-01-01T13:00:00.000000",
         "1970-01-01T14:00:00.000000",
         "1970-01-01T15:00:00.000000",
         "1970-01-01T16:00:00.000000",
         "1970-01-01T19:00:00.000000",
         "1970-01-01T20:00:00.000000"
        ]
       },
       "y": {
        "type": "float",
        "values": [
         1,
         22,
         18,
         14,
         17,
         9,
         19,
         26,
         27,
         7,
         1,
         2
        ]
       }
      }
     },
     "29ac90f7c308429c8188946bdbdbf501": {
      "model_module": "bqplot",
      "model_module_version": "^0.3.6",
      "model_name": "BarsModel",
      "state": {
       "color": {
        "type": null,
        "values": null
       },
       "colors": [
        "green"
       ],
       "display_legend": false,
       "interactions": {
        "click": "select",
        "hover": "tooltip",
        "legend_hover": "highlight_axes"
       },
       "labels": [
        "Connect Activity"
       ],
       "padding": 0.2,
       "scales": {
        "x": "IPY_MODEL_9d41d7e7598d476ca9564ce2cf23373d",
        "y": "IPY_MODEL_c29fcbcd9e8b4250b57a922e5e9d07ef"
       },
       "selected": [],
       "selected_style": {
        "fill": "red"
       },
       "tooltip": "IPY_MODEL_5c25a83f4e294ef0816a4952118a5b67",
       "x": {
        "type": "object",
        "values": [
         "Connect",
         "Disconnect"
        ]
       },
       "y": {
        "type": "float",
        "values": [
         357.017,
         354.629
        ]
       }
      }
     },
     "2a2e39e679ea47b69d76691589ee5246": {
      "model_module": "@jupyter-widgets/base",
      "model_module_version": "1.0.0",
      "model_name": "LayoutModel",
      "state": {}
     },
     "2a5dfc198a8e4680a1d40e3edeea5253": {
      "model_module": "bqplot",
      "model_module_version": "^0.3.6",
      "model_name": "LinearScaleModel",
      "state": {
       "allow_padding": false,
       "max": 1,
       "min": 0,
       "stabilized": false
      }
     },
     "2a8e382e07494226b6b1ff6f6c4fa0d3": {
      "model_module": "bqplot",
      "model_module_version": "^0.3.6",
      "model_name": "LinearScaleModel",
      "state": {
       "allow_padding": false,
       "max": 1,
       "min": 0,
       "stabilized": false
      }
     },
     "2b618078971f4e13995cd9084a91d79e": {
      "model_module": "@jupyter-widgets/controls",
      "model_module_version": "1.2.0",
      "model_name": "DropdownModel",
      "state": {
       "_options_labels": [
        "AAC0610",
        "AAP1919"
       ],
       "description": "Select Employee Id",
       "index": 0,
       "layout": "IPY_MODEL_ba21ccd2c38644b38eed4f2198eeef85",
       "style": "IPY_MODEL_bf53882c10d54609bc302edfc1707075"
      }
     },
     "2b651046d172467b97a125c1c2356c36": {
      "model_module": "bqplot",
      "model_module_version": "^0.3.6",
      "model_name": "FigureModel",
      "state": {
       "_dom_classes": [],
       "animation_duration": 5000,
       "axes": [
        "IPY_MODEL_8d8753d3352b47d1be01a4968e88e724",
        "IPY_MODEL_76581f8343654699ae3214d8d20ce571"
       ],
       "background_style": {
        "fill": "aliceblue"
       },
       "layout": "IPY_MODEL_8ac656bdd6b34040a0e26ccd49ed02cd",
       "marks": [
        "IPY_MODEL_4c14985504fe4bb7953a391a6c2c297e"
       ],
       "max_aspect_ratio": 6,
       "scale_x": "IPY_MODEL_ee5ca7e6b6514e7996d033aa83656455",
       "scale_y": "IPY_MODEL_e504b562393a4008ba4a7f3557faae7f",
       "title": "USB Connections"
      }
     },
     "2b7eab4b29de486babc119cb0a9a21cf": {
      "model_module": "@jupyter-widgets/base",
      "model_module_version": "1.0.0",
      "model_name": "LayoutModel",
      "state": {}
     },
     "2b91627315e04c02a1f123008cf2451d": {
      "model_module": "bqplot",
      "model_module_version": "^0.3.6",
      "model_name": "LinearScaleModel",
      "state": {
       "allow_padding": false,
       "max": 1,
       "min": 0,
       "stabilized": false
      }
     },
     "2bdb3273aa4e42b0852b2faffbc66135": {
      "model_module": "bqplot",
      "model_module_version": "^0.3.6",
      "model_name": "AxisModel",
      "state": {
       "label": "Hours of the Day",
       "scale": "IPY_MODEL_37015d09118a423a9a98ab8c4d7e5816",
       "side": "bottom",
       "tick_values": {
        "type": null,
        "values": null
       }
      }
     },
     "2befeb1770394a98a334144f61ad8b6e": {
      "model_module": "bqplot",
      "model_module_version": "^0.3.6",
      "model_name": "AxisModel",
      "state": {
       "label": "Number of USB Connections",
       "orientation": "vertical",
       "scale": "IPY_MODEL_5f6ed11f6af34541aa4d68c88938e459",
       "side": "left",
       "tick_format": "0.2f",
       "tick_values": {
        "type": null,
        "values": null
       }
      }
     },
     "2cb015a7acb64643aa20951247305b2b": {
      "model_module": "bqplot",
      "model_module_version": "^0.3.6",
      "model_name": "AxisModel",
      "state": {
       "label": "Hours of the Day",
       "scale": "IPY_MODEL_c997d5e61a584fad9f5a91a53ba1ab02",
       "side": "bottom",
       "tick_values": {
        "type": null,
        "values": null
       }
      }
     },
     "2d213809abf04373934cd4980269ab6b": {
      "model_module": "bqplot",
      "model_module_version": "^0.3.6",
      "model_name": "LinearScaleModel",
      "state": {
       "allow_padding": false,
       "max": 1,
       "min": 0,
       "stabilized": false
      }
     },
     "2d45f78229cd41a390eb0b16aaaf3c83": {
      "model_module": "bqplot",
      "model_module_version": "^0.3.6",
      "model_name": "TooltipModel",
      "state": {
       "fields": [
        "x",
        "y"
       ],
       "formats": [
        "",
        "0.2f"
       ],
       "labels": [
        "Date",
        "Number of USB Connections"
       ],
       "layout": "IPY_MODEL_f5a2fb0b0e9e4b9b95083c45909af794"
      }
     },
     "2d58a54a68694e33b4b8877024ecd908": {
      "model_module": "bqplot",
      "model_module_version": "^0.3.6",
      "model_name": "ScatterModel",
      "state": {
       "_model_module": "bqplot",
       "_model_module_version": "^0.3.6",
       "_view_count": null,
       "_view_module": "bqplot",
       "_view_module_version": "^0.3.6",
       "apply_clip": true,
       "color": {
        "type": null,
        "values": null
       },
       "colors": [
        "red"
       ],
       "display_legend": false,
       "enable_hover": true,
       "hovered_style": {},
       "interactions": {
        "hover": "tooltip"
       },
       "labels": [
        "email"
       ],
       "names": {
        "type": null,
        "values": null
       },
       "opacity": {
        "type": null,
        "values": null
       },
       "preserve_domain": {},
       "rotation": {
        "type": null,
        "values": null
       },
       "scales": {
        "x": "IPY_MODEL_8094968796374a54b42ccb3976c13552",
        "y": "IPY_MODEL_853b5c8ae30e49029f4c7134d632abc2"
       },
       "scales_metadata": {
        "color": {
         "dimension": "color"
        },
        "opacity": {
         "dimension": "opacity"
        },
        "rotation": {
         "dimension": "rotation"
        },
        "size": {
         "dimension": "size"
        },
        "skew": {
         "dimension": "skew"
        },
        "x": {
         "dimension": "x",
         "orientation": "horizontal"
        },
        "y": {
         "dimension": "y",
         "orientation": "vertical"
        }
       },
       "selected": [],
       "selected_style": {},
       "size": {
        "type": null,
        "values": null
       },
       "skew": {
        "type": null,
        "values": null
       },
       "tooltip": "IPY_MODEL_bd65df911cdb481d861791a4058ebda8",
       "tooltip_location": "mouse",
       "tooltip_style": {
        "opacity": 0.9
       },
       "unhovered_style": {},
       "unselected_style": {},
       "visible": true,
       "x": {
        "type": "object",
        "values": [
         "Connect",
         "Disconnect"
        ]
       },
       "y": {
        "type": "float",
        "values": [
         357017,
         354629
        ]
       }
      }
     },
     "2d66332c00d046fa8c34db67ee8fb72f": {
      "model_module": "bqplot",
      "model_module_version": "^0.3.6",
      "model_name": "FigureModel",
      "state": {
       "_dom_classes": [],
       "animation_duration": 1000,
       "axes": [
        "IPY_MODEL_21598a19b18b4276ab1e2a33c1fd4c3b",
        "IPY_MODEL_3154e65e7b18417a9b575a502bfb3914"
       ],
       "layout": "IPY_MODEL_20c0511e5a534e36a5e5456f40f5b75a",
       "marks": [
        "IPY_MODEL_1d1ccdeeb1fd4d1fbc21ec400acd7d93"
       ],
       "max_aspect_ratio": 6,
       "scale_x": "IPY_MODEL_9a44b265fc8949c88b6f9bdcbba07de4",
       "scale_y": "IPY_MODEL_1442ea78ab124bf68f57ce32678779fa",
       "title": "Email attachment size"
      }
     },
     "2d7a795b09cf4667bc4005a8ba598724": {
      "model_module": "@jupyter-widgets/controls",
      "model_module_version": "1.2.0",
      "model_name": "VBoxModel",
      "state": {
       "children": [
        "IPY_MODEL_4a663c25319e4c2a9ccef5d6106595ba"
       ],
       "layout": "IPY_MODEL_e5208043a4a544e6a06217f08dd1f452"
      }
     },
     "2d907f89541f422a8f41b121e2459d70": {
      "model_module": "bqplot",
      "model_module_version": "^0.3.6",
      "model_name": "LinearScaleModel",
      "state": {
       "allow_padding": false,
       "max": 1,
       "min": 0,
       "stabilized": false
      }
     },
     "2dd24df9262f4891a1adb91a6decb6e8": {
      "model_module": "bqplot",
      "model_module_version": "^0.3.6",
      "model_name": "LinearScaleModel",
      "state": {
       "stabilized": false
      }
     },
     "2df894e740894ba2a28046c8f4dac439": {
      "model_module": "bqplot",
      "model_module_version": "^0.3.6",
      "model_name": "LinearScaleModel",
      "state": {
       "stabilized": false
      }
     },
     "2e46de359e004d1fa09f014bb0318d2a": {
      "model_module": "bqplot",
      "model_module_version": "^0.3.6",
      "model_name": "LinearScaleModel",
      "state": {
       "allow_padding": false,
       "max": 1,
       "min": 0,
       "stabilized": false
      }
     },
     "2e77dc4a09224d999199388390c4ca1f": {
      "model_module": "bqplot",
      "model_module_version": "^0.3.6",
      "model_name": "TooltipModel",
      "state": {
       "fields": [
        "x",
        "y"
       ],
       "formats": [
        "",
        "0.2f"
       ],
       "labels": [
        "Directory",
        "Count"
       ],
       "layout": "IPY_MODEL_d47e3159b1af466080dd25e09420b487"
      }
     },
     "2ecd4bc76577496a9ae143e37e0a2940": {
      "model_module": "@jupyter-widgets/base",
      "model_module_version": "1.0.0",
      "model_name": "LayoutModel",
      "state": {}
     },
     "2f35c318d24c4d228994528e8730b421": {
      "model_module": "@jupyter-widgets/controls",
      "model_module_version": "1.2.0",
      "model_name": "VBoxModel",
      "state": {
       "children": [
        "IPY_MODEL_62e55f4a89184d61a294022504a64f87"
       ],
       "layout": "IPY_MODEL_f458a300284e4c7fa235a208493fd6bd"
      }
     },
     "2f47e20fc7ea47a08b49efa89d6410ad": {
      "model_module": "bqplot",
      "model_module_version": "^0.3.6",
      "model_name": "FigureModel",
      "state": {
       "_dom_classes": [],
       "animation_duration": 5000,
       "axes": [
        "IPY_MODEL_9a93d78203364010ae47284b8d89cfdc",
        "IPY_MODEL_9467ec6c8ff14fdbad942e21fd63cf64"
       ],
       "background_style": {
        "fill": "aliceblue"
       },
       "layout": "IPY_MODEL_8ac656bdd6b34040a0e26ccd49ed02cd",
       "legend_style": {
        "fill": "white"
       },
       "marks": [
        "IPY_MODEL_89461327b0d14804bf93f4d652084db7"
       ],
       "max_aspect_ratio": 6,
       "scale_x": "IPY_MODEL_669df4b3a1504a5e8da982550040185d",
       "scale_y": "IPY_MODEL_0dce316413b0459490b1cc76a69b5de7",
       "title": "Proportion of Directory Access"
      }
     },
     "2f5e9fe0c61946dea82a01b1b17f21ad": {
      "model_module": "bqplot",
      "model_module_version": "^0.3.6",
      "model_name": "AxisModel",
      "state": {
       "label": "Hours of the Day",
       "scale": "IPY_MODEL_043f16a859404c108e2e6989fd8ddbd7",
       "side": "bottom",
       "tick_values": {
        "type": null,
        "values": null
       }
      }
     },
     "2f6c63d934cf47eebb6124b47b747f1b": {
      "model_module": "@jupyter-widgets/base",
      "model_module_version": "1.0.0",
      "model_name": "LayoutModel",
      "state": {}
     },
     "2f81128a583b4a5cace9a91a184a32a9": {
      "model_module": "bqplot",
      "model_module_version": "^0.3.6",
      "model_name": "PanZoomModel",
      "state": {
       "scales": {
        "x": [
         "IPY_MODEL_04d132cce5b54d508b8200f7d1387033"
        ],
        "y": [
         "IPY_MODEL_83104feda20c486c899dc6efc44b0dce"
        ]
       }
      }
     },
     "30109b74903a49d99dbc3fa16383a403": {
      "model_module": "@jupyter-widgets/base",
      "model_module_version": "1.0.0",
      "model_name": "LayoutModel",
      "state": {}
     },
     "301e2c1ec2aa4384a2d850beb3236384": {
      "model_module": "bqplot",
      "model_module_version": "^0.3.6",
      "model_name": "AxisModel",
      "state": {
       "label": "Hours of the Day",
       "scale": "IPY_MODEL_4c56351efb7a4109a9d4a7113999ba64",
       "side": "bottom",
       "tick_values": {
        "type": null,
        "values": null
       }
      }
     },
     "3029d18bf7a642ca87f50c2f2b736cf5": {
      "model_module": "bqplot",
      "model_module_version": "^0.3.6",
      "model_name": "AxisModel",
      "state": {
       "label": "Days of the Year",
       "scale": "IPY_MODEL_611a4c267deb43e6a1dcb2ea2ae0be64",
       "side": "bottom",
       "tick_values": {
        "type": null,
        "values": null
       }
      }
     },
     "3154e65e7b18417a9b575a502bfb3914": {
      "model_module": "bqplot",
      "model_module_version": "^0.3.6",
      "model_name": "AxisModel",
      "state": {
       "label": "Email attachment size (GB)",
       "orientation": "vertical",
       "scale": "IPY_MODEL_57f76fbbf2514bc5b8ed0199e00d5ee4",
       "side": "left",
       "tick_format": "0.2f",
       "tick_values": {
        "type": null,
        "values": null
       }
      }
     },
     "316bd107c3f4475c9d72fb4ad1faca4c": {
      "model_module": "bqplot",
      "model_module_version": "^0.3.6",
      "model_name": "PanZoomModel",
      "state": {
       "scales": {
        "x": [
         "IPY_MODEL_47087cd3626147b1b758e235b484b4ea"
        ],
        "y": [
         "IPY_MODEL_de3e723f316c4653b9759d67b9c439dd"
        ]
       }
      }
     },
     "325fd9ba8cdc40399da3c457a5e082b6": {
      "model_module": "bqplot",
      "model_module_version": "^0.3.6",
      "model_name": "TooltipModel",
      "state": {
       "fields": [
        "x",
        "y"
       ],
       "formats": [
        "",
        "0.2f"
       ],
       "labels": [
        "Activity",
        "Count"
       ],
       "layout": "IPY_MODEL_2ecd4bc76577496a9ae143e37e0a2940"
      }
     },
     "32693ec71ca9445f88d4b41f4cf08f76": {
      "model_module": "bqplot",
      "model_module_version": "^0.3.6",
      "model_name": "PanZoomModel",
      "state": {
       "scales": {
        "x": [
         "IPY_MODEL_917ad373f56045bfaf6430fa5ec083ff"
        ],
        "y": [
         "IPY_MODEL_c30c5817428540c1b3465ee0a75c0513"
        ]
       }
      }
     },
     "328b22c17ebc4e0ba7cf810d926a1a7b": {
      "model_module": "@jupyter-widgets/base",
      "model_module_version": "1.0.0",
      "model_name": "LayoutModel",
      "state": {}
     },
     "3295ff80fe2a4f24ab11bce64909725b": {
      "model_module": "bqplot",
      "model_module_version": "^0.3.6",
      "model_name": "AxisModel",
      "state": {
       "label": "Hours of the Day",
       "scale": "IPY_MODEL_ae3927f610134a038f3a2de28377c142",
       "side": "bottom",
       "tick_values": {
        "type": null,
        "values": null
       }
      }
     },
     "32db15c3c4f84b00b720ef1740add660": {
      "model_module": "bqplot",
      "model_module_version": "^0.3.6",
      "model_name": "LinearScaleModel",
      "state": {
       "allow_padding": false,
       "max": 1,
       "min": 0,
       "stabilized": false
      }
     },
     "32e1b2d819ee4a868721f65928a80e19": {
      "model_module": "bqplot",
      "model_module_version": "^0.3.6",
      "model_name": "OrdinalScaleModel",
      "state": {
       "domain": []
      }
     },
     "330bd7a3071e45e287cd615da3834e2d": {
      "model_module": "bqplot",
      "model_module_version": "^0.3.6",
      "model_name": "AxisModel",
      "state": {
       "label": "Count (log)",
       "orientation": "vertical",
       "scale": "IPY_MODEL_501780ca2abf4895801366bbf70e5fbf",
       "side": "left",
       "tick_format": "0.2f",
       "tick_values": {
        "type": null,
        "values": null
       }
      }
     },
     "331dcd1c249b45b58babc9728aa02f4c": {
      "model_module": "bqplot",
      "model_module_version": "^0.3.6",
      "model_name": "LinearScaleModel",
      "state": {
       "allow_padding": false,
       "max": 1,
       "min": 0,
       "stabilized": false
      }
     },
     "34193d17ad7c4e70aa2f6ec41c285c08": {
      "model_module": "bqplot",
      "model_module_version": "^0.3.6",
      "model_name": "BarsModel",
      "state": {
       "color": {
        "type": null,
        "values": null
       },
       "colors": [
        "skyblue"
       ],
       "display_legend": false,
       "interactions": {
        "click": "select",
        "hover": "tooltip",
        "legend_hover": "highlight_axes"
       },
       "labels": [
        "Number of USB Connections"
       ],
       "scales": {
        "x": "IPY_MODEL_c68b54bfb794482692e81eb2d6be3190",
        "y": "IPY_MODEL_5f9c8eb3a0c34155bd0a6cea36305380"
       },
       "selected": [],
       "selected_style": {
        "fill": "red"
       },
       "tooltip": "IPY_MODEL_39f404e6a5f849929fe79344724961aa",
       "x": {
        "type": "date",
        "values": [
         "1970-01-01T07:00:00.000000",
         "1970-01-01T08:00:00.000000",
         "1970-01-01T09:00:00.000000",
         "1970-01-01T10:00:00.000000",
         "1970-01-01T11:00:00.000000",
         "1970-01-01T12:00:00.000000",
         "1970-01-01T13:00:00.000000",
         "1970-01-01T14:00:00.000000",
         "1970-01-01T15:00:00.000000",
         "1970-01-01T16:00:00.000000",
         "1970-01-01T19:00:00.000000",
         "1970-01-01T20:00:00.000000"
        ]
       },
       "y": {
        "type": "float",
        "values": [
         0.001,
         0.022,
         0.018,
         0.014,
         0.017,
         0.009,
         0.019,
         0.026,
         0.027,
         0.007,
         0.001,
         0.002
        ]
       }
      }
     },
     "3452f168fbf54c8e8917cabab5954892": {
      "model_module": "bqplot",
      "model_module_version": "^0.3.6",
      "model_name": "LinearScaleModel",
      "state": {
       "stabilized": false
      }
     },
     "348ed840046040c8a01ec3797e7e7372": {
      "model_module": "bqplot",
      "model_module_version": "^0.3.6",
      "model_name": "AxisModel",
      "state": {
       "label": "Number of USB Connections",
       "orientation": "vertical",
       "scale": "IPY_MODEL_6a4c90d1b0d54af2bea438311b8dfa4b",
       "side": "left",
       "tick_format": "0.2f",
       "tick_values": {
        "type": null,
        "values": null
       }
      }
     },
     "34da0669c5d74b7b95fc128607a5d4b0": {
      "model_module": "bqplot",
      "model_module_version": "^0.3.6",
      "model_name": "BarsModel",
      "state": {
       "color": {
        "type": null,
        "values": null
       },
       "colors": [
        "lightblue"
       ],
       "display_legend": false,
       "interactions": {
        "click": "select",
        "hover": "tooltip",
        "legend_hover": "highlight_axes"
       },
       "labels": [
        "Number of USB Connections"
       ],
       "scales": {
        "x": "IPY_MODEL_37015d09118a423a9a98ab8c4d7e5816",
        "y": "IPY_MODEL_81e9319faf0743b1a508746eb7d569ba"
       },
       "selected": [],
       "selected_style": {
        "fill": "red"
       },
       "tooltip": "IPY_MODEL_b2306f73f8b94c798fc62696f2ec908f",
       "x": {
        "type": "date",
        "values": [
         "1900-01-01T14:00:00.000000",
         "1900-01-01T09:00:00.000000",
         "1900-01-01T13:00:00.000000",
         "1900-01-01T15:00:00.000000",
         "1900-01-01T10:00:00.000000",
         "1900-01-01T08:00:00.000000",
         "1900-01-01T12:00:00.000000",
         "1900-01-01T11:00:00.000000",
         "1900-01-01T16:00:00.000000",
         "1900-01-01T17:00:00.000000",
         "1900-01-01T07:00:00.000000",
         "1900-01-01T18:00:00.000000",
         "1900-01-01T19:00:00.000000",
         "1900-01-01T22:00:00.000000",
         "1900-01-01T23:00:00.000000",
         "1900-01-01T06:00:00.000000",
         "1900-01-01T21:00:00.000000",
         "1900-01-01T20:00:00.000000",
         "1900-01-01T00:00:00.000000",
         "1900-01-01T01:00:00.000000",
         "1900-01-01T04:00:00.000000",
         "1900-01-01T05:00:00.000000",
         "1900-01-01T03:00:00.000000",
         "1900-01-01T02:00:00.000000"
        ]
       },
       "y": {
        "type": "float",
        "values": [
         41.339,
         40.332,
         37.987,
         37.554,
         35.012,
         34.87,
         32.312,
         31.498,
         26.909,
         15.277,
         10.393,
         5.236,
         1.377,
         0.915,
         0.913,
         0.837,
         0.799,
         0.637,
         0.616,
         0.491,
         0.462,
         0.442,
         0.412,
         0.397
        ]
       }
      }
     },
     "352671acb8474b8fbb06cd8bb28f4b5d": {
      "model_module": "@jupyter-widgets/base",
      "model_module_version": "1.0.0",
      "model_name": "LayoutModel",
      "state": {}
     },
     "356ba0ecd351448785f3847f1e36ac3e": {
      "model_module": "bqplot",
      "model_module_version": "^0.3.6",
      "model_name": "PanZoomModel",
      "state": {
       "scales": {
        "x": [
         "IPY_MODEL_dd25f85677fa4263a7c93e15f85116d3"
        ],
        "y": [
         "IPY_MODEL_8faede25cd8a4ac0bb521b2f2337a859"
        ]
       }
      }
     },
     "356e9a3741664a7d93c780e754f2916c": {
      "model_module": "bqplot",
      "model_module_version": "^0.3.6",
      "model_name": "LinearScaleModel",
      "state": {
       "stabilized": false
      }
     },
     "35808ea8e97a4e1fa7b70d91a126a61e": {
      "model_module": "bqplot",
      "model_module_version": "^0.3.6",
      "model_name": "LinearScaleModel",
      "state": {
       "stabilized": false
      }
     },
     "35cc86c7a366429dbd8c32f20160b911": {
      "model_module": "bqplot",
      "model_module_version": "^0.3.6",
      "model_name": "AxisModel",
      "state": {
       "label": "Number of USB Connections",
       "orientation": "vertical",
       "scale": "IPY_MODEL_e15159df24ee4545bf758056e220422a",
       "side": "left",
       "tick_format": "0.2f",
       "tick_values": {
        "type": null,
        "values": null
       }
      }
     },
     "360a2d7a357046b58bad9a48c3a6e8c9": {
      "model_module": "@jupyter-widgets/base",
      "model_module_version": "1.0.0",
      "model_name": "LayoutModel",
      "state": {
       "height": "600px",
       "width": "100%"
      }
     },
     "3651fb98277446ea9fad6a4304da52f0": {
      "model_module": "bqplot",
      "model_module_version": "^0.3.6",
      "model_name": "PanZoomModel",
      "state": {
       "scales": {
        "x": [
         "IPY_MODEL_9d41d7e7598d476ca9564ce2cf23373d"
        ],
        "y": [
         "IPY_MODEL_c29fcbcd9e8b4250b57a922e5e9d07ef"
        ]
       }
      }
     },
     "36860da769494c849248a626166a1c04": {
      "model_module": "bqplot",
      "model_module_version": "^0.3.6",
      "model_name": "AxisModel",
      "state": {
       "label": "Connect Activity",
       "scale": "IPY_MODEL_247a780cdfdb41509b8caa687bd97feb",
       "side": "bottom",
       "tick_values": {
        "type": null,
        "values": null
       }
      }
     },
     "36b6f421774e4b54af87e8908e0fa3a2": {
      "model_module": "bqplot",
      "model_module_version": "^0.3.6",
      "model_name": "LinearScaleModel",
      "state": {
       "allow_padding": false,
       "max": 1,
       "min": 0,
       "stabilized": false
      }
     },
     "37015d09118a423a9a98ab8c4d7e5816": {
      "model_module": "bqplot",
      "model_module_version": "^0.3.6",
      "model_name": "DateScaleModel",
      "state": {}
     },
     "37094ff21fec4450b60d924d5453d339": {
      "model_module": "@jupyter-widgets/base",
      "model_module_version": "1.0.0",
      "model_name": "LayoutModel",
      "state": {}
     },
     "3833761029e748b18e276ab68545354f": {
      "model_module": "bqplot",
      "model_module_version": "^0.3.6",
      "model_name": "LinearScaleModel",
      "state": {
       "stabilized": false
      }
     },
     "3844cf3515864e99ab1f6aade46540ef": {
      "model_module": "bqplot",
      "model_module_version": "^0.3.6",
      "model_name": "TooltipModel",
      "state": {
       "fields": [
        "x",
        "y"
       ],
       "formats": [
        "",
        "0.1f"
       ],
       "labels": [
        "Date",
        "Number of USB Connections"
       ],
       "layout": "IPY_MODEL_c33f4e63fe5b4ebc8e019309bcf208e5"
      }
     },
     "3855b1461e2a47158ce8c610478450f0": {
      "model_module": "bqplot",
      "model_module_version": "^0.3.6",
      "model_name": "AxisModel",
      "state": {
       "label": "Hours of the Day",
       "scale": "IPY_MODEL_c0fae34e14ae4a0a803b1c7258d499c7",
       "side": "bottom",
       "tick_values": {
        "type": null,
        "values": null
       }
      }
     },
     "3876f51730834c9b9b8b3fbe26227565": {
      "model_module": "bqplot",
      "model_module_version": "^0.3.6",
      "model_name": "TooltipModel",
      "state": {
       "fields": [
        "x",
        "y"
       ],
       "formats": [
        "",
        "0.2f"
       ],
       "labels": [
        "Activity",
        "Count"
       ],
       "layout": "IPY_MODEL_9e928bf969634f35810e4b10ae7ad079"
      }
     },
     "38be9354665e42f292282514a31a5f8c": {
      "model_module": "@jupyter-widgets/base",
      "model_module_version": "1.0.0",
      "model_name": "LayoutModel",
      "state": {}
     },
     "390ac640b16044ad890243b1f17d7df6": {
      "model_module": "bqplot",
      "model_module_version": "^0.3.6",
      "model_name": "BarsModel",
      "state": {
       "color": {
        "type": null,
        "values": null
       },
       "colors": [
        "green"
       ],
       "display_legend": false,
       "interactions": {
        "click": "select",
        "hover": "tooltip",
        "legend_hover": "highlight_axes"
       },
       "labels": [
        "Number of USB Connections"
       ],
       "scales": {
        "x": "IPY_MODEL_3dcc54040cb44a88a3ebcfa24f284b3f",
        "y": "IPY_MODEL_5f6ed11f6af34541aa4d68c88938e459"
       },
       "selected": [],
       "selected_style": {
        "fill": "red"
       },
       "tooltip": "IPY_MODEL_8f50fce283f34085bbc470feb672fc63",
       "x": {
        "type": "date",
        "values": [
         "1900-01-01T14:00:00.000000",
         "1900-01-01T09:00:00.000000",
         "1900-01-01T13:00:00.000000",
         "1900-01-01T15:00:00.000000",
         "1900-01-01T10:00:00.000000",
         "1900-01-01T08:00:00.000000",
         "1900-01-01T12:00:00.000000",
         "1900-01-01T11:00:00.000000",
         "1900-01-01T16:00:00.000000",
         "1900-01-01T17:00:00.000000",
         "1900-01-01T07:00:00.000000",
         "1900-01-01T18:00:00.000000",
         "1900-01-01T19:00:00.000000",
         "1900-01-01T22:00:00.000000",
         "1900-01-01T23:00:00.000000",
         "1900-01-01T06:00:00.000000",
         "1900-01-01T21:00:00.000000",
         "1900-01-01T20:00:00.000000",
         "1900-01-01T00:00:00.000000",
         "1900-01-01T01:00:00.000000",
         "1900-01-01T04:00:00.000000",
         "1900-01-01T05:00:00.000000",
         "1900-01-01T03:00:00.000000",
         "1900-01-01T02:00:00.000000"
        ]
       },
       "y": {
        "type": "float",
        "values": [
         41.339,
         40.332,
         37.987,
         37.554,
         35.012,
         34.87,
         32.312,
         31.498,
         26.909,
         15.277,
         10.393,
         5.236,
         1.377,
         0.915,
         0.913,
         0.837,
         0.799,
         0.637,
         0.616,
         0.491,
         0.462,
         0.442,
         0.412,
         0.397
        ]
       }
      }
     },
     "39974fe1c2df4799857da2f254f29fde": {
      "model_module": "@jupyter-widgets/base",
      "model_module_version": "1.0.0",
      "model_name": "LayoutModel",
      "state": {}
     },
     "399ec5aaa1a242cfb980bd3202385c73": {
      "model_module": "bqplot",
      "model_module_version": "^0.3.6",
      "model_name": "FigureModel",
      "state": {
       "_dom_classes": [],
       "animation_duration": 5000,
       "axes": [
        "IPY_MODEL_301e2c1ec2aa4384a2d850beb3236384",
        "IPY_MODEL_48d5470661f54794a82da806c37c1f37"
       ],
       "background_style": {
        "fill": "aliceblue"
       },
       "layout": "IPY_MODEL_8ac656bdd6b34040a0e26ccd49ed02cd",
       "marks": [
        "IPY_MODEL_f1e1f1a4fbbd4e8db615e11dfd669566"
       ],
       "max_aspect_ratio": 6,
       "scale_x": "IPY_MODEL_b6c35ff7b4934dd6a01f37e0518c5146",
       "scale_y": "IPY_MODEL_d57739caba474ecd976e0821e8cdad3f",
       "title": "USB Connections"
      }
     },
     "39a8b8d8021443fe9b8c391d9c5d84a6": {
      "model_module": "bqplot",
      "model_module_version": "^0.3.6",
      "model_name": "LinearScaleModel",
      "state": {
       "stabilized": false
      }
     },
     "39b52c3b8c8846a082d61dfaaf8edb57": {
      "model_module": "@jupyter-widgets/base",
      "model_module_version": "1.0.0",
      "model_name": "LayoutModel",
      "state": {
       "height": "600px",
       "width": "100%"
      }
     },
     "39c75904164141519b314328e1a206fa": {
      "model_module": "bqplot",
      "model_module_version": "^0.3.6",
      "model_name": "DateScaleModel",
      "state": {}
     },
     "39e801ed0bc74fc5b16b01e3462d5461": {
      "model_module": "@jupyter-widgets/base",
      "model_module_version": "1.0.0",
      "model_name": "LayoutModel",
      "state": {}
     },
     "39e93bf5269741f294596a6411fe7831": {
      "model_module": "bqplot",
      "model_module_version": "^0.3.6",
      "model_name": "BarsModel",
      "state": {
       "color": {
        "type": null,
        "values": null
       },
       "colors": [
        "hotpink",
        "orange"
       ],
       "interactions": {
        "click": "select",
        "hover": "tooltip",
        "legend_hover": "highlight_axes"
       },
       "labels": [
        "Connect",
        "Disconnect"
       ],
       "padding": 0.1,
       "scales": {
        "x": "IPY_MODEL_79e48fd9bd3944e6a5d25bb0afdcf289",
        "y": "IPY_MODEL_b0524be62ef24b26b28836ed159f44c4"
       },
       "selected": [],
       "selected_style": {
        "fill": "red"
       },
       "tooltip": "IPY_MODEL_6b126332a0c941d0a9729ec52fd85021",
       "type": "grouped",
       "x": {
        "type": "object",
        "values": [
         "PC-3471",
         "PC-1105",
         "PC-0937",
         "PC-3154",
         "PC-2158",
         "PC-7117",
         "PC-2659",
         "PC-2057",
         "PC-5849",
         "PC-7046"
        ]
       },
       "y": {
        "type": "float",
        "values": [
         [
          2.048,
          2.036,
          2.029,
          2.009,
          2,
          1.991,
          1.978,
          1.963,
          1.959,
          1.949
         ],
         [
          2.042,
          2.026,
          2.014,
          1.998,
          1.987,
          1.983,
          1.965,
          1.949,
          1.947,
          1.935
         ]
        ]
       }
      }
     },
     "39f404e6a5f849929fe79344724961aa": {
      "model_module": "bqplot",
      "model_module_version": "^0.3.6",
      "model_name": "TooltipModel",
      "state": {
       "fields": [
        "x",
        "y"
       ],
       "formats": [
        "",
        "f"
       ],
       "labels": [
        "Date",
        "Number of USB Connections"
       ],
       "layout": "IPY_MODEL_39974fe1c2df4799857da2f254f29fde"
      }
     },
     "3a0f31cbead449518d47414ef36c7728": {
      "model_module": "bqplot",
      "model_module_version": "^0.3.6",
      "model_name": "DateScaleModel",
      "state": {}
     },
     "3a15aa8949884feeb850d81903a276a5": {
      "model_module": "bqplot",
      "model_module_version": "^0.3.6",
      "model_name": "BarsModel",
      "state": {
       "color": {
        "type": null,
        "values": null
       },
       "colors": [
        "limegreen"
       ],
       "display_legend": false,
       "interactions": {
        "click": "select",
        "hover": "tooltip",
        "legend_hover": "highlight_axes"
       },
       "labels": [
        "Number of USB Connections"
       ],
       "scales": {
        "x": "IPY_MODEL_44d640bf0dcf4e47bda550b29e5b464d",
        "y": "IPY_MODEL_6d4fc5cefa4a47ab9b7d9e21679270bb"
       },
       "selected": [],
       "selected_style": {
        "fill": "red"
       },
       "tooltip": "IPY_MODEL_5dc2882e65be4c65850efdcb83e2b659",
       "x": {
        "type": "date",
        "values": [
         "1900-01-01T14:00:00.000000",
         "1900-01-01T09:00:00.000000",
         "1900-01-01T13:00:00.000000",
         "1900-01-01T15:00:00.000000",
         "1900-01-01T10:00:00.000000",
         "1900-01-01T08:00:00.000000",
         "1900-01-01T12:00:00.000000",
         "1900-01-01T11:00:00.000000",
         "1900-01-01T16:00:00.000000",
         "1900-01-01T17:00:00.000000",
         "1900-01-01T07:00:00.000000",
         "1900-01-01T18:00:00.000000",
         "1900-01-01T19:00:00.000000",
         "1900-01-01T22:00:00.000000",
         "1900-01-01T23:00:00.000000",
         "1900-01-01T06:00:00.000000",
         "1900-01-01T21:00:00.000000",
         "1900-01-01T20:00:00.000000",
         "1900-01-01T00:00:00.000000",
         "1900-01-01T01:00:00.000000",
         "1900-01-01T04:00:00.000000",
         "1900-01-01T05:00:00.000000",
         "1900-01-01T03:00:00.000000",
         "1900-01-01T02:00:00.000000"
        ]
       },
       "y": {
        "type": "float",
        "values": [
         41.339,
         40.332,
         37.987,
         37.554,
         35.012,
         34.87,
         32.312,
         31.498,
         26.909,
         15.277,
         10.393,
         5.236,
         1.377,
         0.915,
         0.913,
         0.837,
         0.799,
         0.637,
         0.616,
         0.491,
         0.462,
         0.442,
         0.412,
         0.397
        ]
       }
      }
     },
     "3a28cb5cebf5479196dea7aa352f1d2e": {
      "model_module": "@jupyter-widgets/controls",
      "model_module_version": "1.2.0",
      "model_name": "VBoxModel",
      "state": {
       "children": [
        "IPY_MODEL_c9f7d8b0e2e040bba03ce821226fc668"
       ],
       "layout": "IPY_MODEL_f705c64e62744a03a6180b441d7e8cff"
      }
     },
     "3a753e91e3ef451f97c99378a17762d2": {
      "model_module": "bqplot",
      "model_module_version": "^0.3.6",
      "model_name": "LinearScaleModel",
      "state": {
       "allow_padding": false,
       "max": 1,
       "min": 0,
       "stabilized": false
      }
     },
     "3a77226e029c47b38dcca5a6a2de7833": {
      "model_module": "bqplot",
      "model_module_version": "^0.3.6",
      "model_name": "TooltipModel",
      "state": {
       "fields": [
        "x",
        "y"
       ],
       "formats": [
        "",
        "0.2f"
       ],
       "labels": [
        "Directory",
        "Count"
       ],
       "layout": "IPY_MODEL_acdb80567a5f4143bcd08607a86fa3f6"
      }
     },
     "3a8afb99acf6432c8ab80aa568b4cbb8": {
      "model_module": "@jupyter-widgets/controls",
      "model_module_version": "1.2.0",
      "model_name": "VBoxModel",
      "state": {
       "children": [
        "IPY_MODEL_7734f0de31af46b2b6bcaec721e8c994"
       ],
       "layout": "IPY_MODEL_3f0f20d6bd2e4f7e8207b1bf6b8060d7"
      }
     },
     "3b406505f6de4f85ba1a2dafd0887e64": {
      "model_module": "bqplot",
      "model_module_version": "^0.3.6",
      "model_name": "AxisModel",
      "state": {
       "label": "Count",
       "orientation": "vertical",
       "scale": "IPY_MODEL_64627fde8a7b412b8ca53838f5662537",
       "side": "left",
       "tick_format": "f",
       "tick_values": {
        "type": null,
        "values": null
       }
      }
     },
     "3b8ecfe8050740e0b5f24b39ef58ef65": {
      "model_module": "bqplot",
      "model_module_version": "^0.3.6",
      "model_name": "LinearScaleModel",
      "state": {
       "stabilized": false
      }
     },
     "3b9cce5e7d81491e85aecc077ce1e6be": {
      "model_module": "bqplot",
      "model_module_version": "^0.3.6",
      "model_name": "PanZoomModel",
      "state": {
       "scales": {
        "x": [
         "IPY_MODEL_247a780cdfdb41509b8caa687bd97feb"
        ],
        "y": [
         "IPY_MODEL_ad63e5fea3ca4bf9bdf537aac5a53170"
        ]
       }
      }
     },
     "3ba99c638df14c96be9bf6a721f3289e": {
      "model_module": "bqplot",
      "model_module_version": "^0.3.6",
      "model_name": "LinearScaleModel",
      "state": {
       "allow_padding": false,
       "max": 1,
       "min": 0,
       "stabilized": false
      }
     },
     "3bb80561b0bc4bd2b809c568e82f0067": {
      "model_module": "bqplot",
      "model_module_version": "^0.3.6",
      "model_name": "DateScaleModel",
      "state": {}
     },
     "3c9de066a918490eae6313fecbd556f4": {
      "model_module": "bqplot",
      "model_module_version": "^0.3.6",
      "model_name": "AxisModel",
      "state": {
       "label": "Directory name",
       "scale": "IPY_MODEL_f7d850f77a6c4687bbd6ff24c7c77770",
       "side": "bottom",
       "tick_values": {
        "type": null,
        "values": null
       }
      }
     },
     "3cc2a2a02a7244e0939905bc9a52a382": {
      "model_module": "bqplot",
      "model_module_version": "^0.3.6",
      "model_name": "LinearScaleModel",
      "state": {
       "allow_padding": false,
       "max": 1,
       "min": 0,
       "stabilized": false
      }
     },
     "3cca169cda9d4c788d19c5d1c5966761": {
      "model_module": "@jupyter-widgets/controls",
      "model_module_version": "1.2.0",
      "model_name": "VBoxModel",
      "state": {
       "children": [
        "IPY_MODEL_3eb7aa163b5c4a6c91649f30b289a761"
       ],
       "layout": "IPY_MODEL_e71f4df7a10b48fd964d9b4003926721"
      }
     },
     "3ced5bda8620467ebf3f2a699517ef87": {
      "model_module": "@jupyter-widgets/base",
      "model_module_version": "1.0.0",
      "model_name": "LayoutModel",
      "state": {}
     },
     "3cf77d79621d41c4bb9311a6270aba72": {
      "model_module": "bqplot",
      "model_module_version": "^0.3.6",
      "model_name": "PanZoomModel",
      "state": {
       "scales": {
        "x": [
         "IPY_MODEL_2957c57c31824d8abaa030258e67a4b0"
        ],
        "y": [
         "IPY_MODEL_49a15b81aab0485ab6b0fdf5fec51eeb"
        ]
       }
      }
     },
     "3d39c94beec946a18eefd1c94bd320e4": {
      "model_module": "bqplot",
      "model_module_version": "^0.3.6",
      "model_name": "LinearScaleModel",
      "state": {
       "stabilized": false
      }
     },
     "3d4fba5111334f9493f1e10cc0df32c4": {
      "model_module": "@jupyter-widgets/controls",
      "model_module_version": "1.2.0",
      "model_name": "VBoxModel",
      "state": {
       "children": [
        "IPY_MODEL_ef61b4ede2ea4d368ad52f17a5bc726e"
       ],
       "layout": "IPY_MODEL_5c48964c48d64b2f8fdae8758a05d4c2"
      }
     },
     "3d5f72834ef24f9898c3de00e26702be": {
      "model_module": "bqplot",
      "model_module_version": "^0.3.6",
      "model_name": "LinearScaleModel",
      "state": {
       "allow_padding": false,
       "max": 1,
       "min": 0,
       "stabilized": false
      }
     },
     "3d7494ff6a6946f1bd75f209dba503d7": {
      "model_module": "bqplot",
      "model_module_version": "^0.3.6",
      "model_name": "OrdinalScaleModel",
      "state": {
       "domain": []
      }
     },
     "3d8f4918a43d49cab7c0c5df49f1855c": {
      "model_module": "bqplot",
      "model_module_version": "^0.3.6",
      "model_name": "BarsModel",
      "state": {
       "color": {
        "type": null,
        "values": null
       },
       "colors": [
        "skyblue"
       ],
       "display_legend": false,
       "interactions": {
        "click": "select",
        "hover": "tooltip",
        "legend_hover": "highlight_axes"
       },
       "labels": [
        "Number of USB Connections"
       ],
       "scales": {
        "x": "IPY_MODEL_dd25f85677fa4263a7c93e15f85116d3",
        "y": "IPY_MODEL_8faede25cd8a4ac0bb521b2f2337a859"
       },
       "selected": [],
       "selected_style": {
        "fill": "red"
       },
       "tooltip": "IPY_MODEL_7c1b886736f449908c1aa70d4253410e",
       "x": {
        "type": "date",
        "values": [
         "1970-01-01T07:00:00.000000",
         "1970-01-01T08:00:00.000000",
         "1970-01-01T09:00:00.000000",
         "1970-01-01T10:00:00.000000",
         "1970-01-01T11:00:00.000000",
         "1970-01-01T12:00:00.000000",
         "1970-01-01T13:00:00.000000",
         "1970-01-01T14:00:00.000000",
         "1970-01-01T15:00:00.000000",
         "1970-01-01T16:00:00.000000",
         "1970-01-01T19:00:00.000000",
         "1970-01-01T20:00:00.000000"
        ]
       },
       "y": {
        "type": "float",
        "values": [
         1,
         22,
         18,
         14,
         17,
         9,
         19,
         26,
         27,
         7,
         1,
         2
        ]
       }
      }
     },
     "3dcc54040cb44a88a3ebcfa24f284b3f": {
      "model_module": "bqplot",
      "model_module_version": "^0.3.6",
      "model_name": "DateScaleModel",
      "state": {}
     },
     "3dd81ad022cd4cf791c1e9e7a1e822b6": {
      "model_module": "bqplot",
      "model_module_version": "^0.3.6",
      "model_name": "LinearScaleModel",
      "state": {
       "allow_padding": false,
       "max": 1,
       "min": 0,
       "stabilized": false
      }
     },
     "3de4d92910124dbaac533619718ad7c8": {
      "model_module": "@jupyter-widgets/controls",
      "model_module_version": "1.2.0",
      "model_name": "VBoxModel",
      "state": {
       "children": [
        "IPY_MODEL_cdd38cbb294d4e4ebb54f0ca7faf828c"
       ],
       "layout": "IPY_MODEL_0d9863a789d845a793429226bc8124ee"
      }
     },
     "3eb7aa163b5c4a6c91649f30b289a761": {
      "model_module": "bqplot",
      "model_module_version": "^0.3.6",
      "model_name": "FigureModel",
      "state": {
       "_dom_classes": [],
       "animation_duration": 5000,
       "axes": [
        "IPY_MODEL_e969023cb8b047889f7d42cf7fe6feb5",
        "IPY_MODEL_330bd7a3071e45e287cd615da3834e2d"
       ],
       "background_style": {
        "fill": "aliceblue"
       },
       "layout": "IPY_MODEL_8ac656bdd6b34040a0e26ccd49ed02cd",
       "legend_style": {
        "fill": "white"
       },
       "marks": [
        "IPY_MODEL_026ced66823a472e93a8fda67d41701f"
       ],
       "max_aspect_ratio": 6,
       "scale_x": "IPY_MODEL_125fcdea9d7d4d36a59b0d056e183f84",
       "scale_y": "IPY_MODEL_0969414a474245208007ecf110d706e1",
       "title": "Proportion of Directory Access"
      }
     },
     "3eef3bb3753144ab9e466b7eafeb7ba1": {
      "model_module": "bqplot",
      "model_module_version": "^0.3.6",
      "model_name": "AxisModel",
      "state": {
       "label": "Count",
       "orientation": "vertical",
       "scale": "IPY_MODEL_a73464db9a8b47fc81c848e065319b1e",
       "side": "left",
       "tick_format": "0.2f",
       "tick_values": {
        "type": null,
        "values": null
       }
      }
     },
     "3f0f20d6bd2e4f7e8207b1bf6b8060d7": {
      "model_module": "@jupyter-widgets/base",
      "model_module_version": "1.0.0",
      "model_name": "LayoutModel",
      "state": {}
     },
     "3f0f6c7539c14799bd59ec7d638ef02b": {
      "model_module": "bqplot",
      "model_module_version": "^0.3.6",
      "model_name": "LinearScaleModel",
      "state": {
       "allow_padding": false,
       "max": 1,
       "min": 0,
       "stabilized": false
      }
     },
     "3f498e77c9a7460d9e1df1950670e923": {
      "model_module": "@jupyter-widgets/base",
      "model_module_version": "1.0.0",
      "model_name": "LayoutModel",
      "state": {}
     },
     "3fa59d4c478141c0abb24e36f8018f97": {
      "model_module": "bqplot",
      "model_module_version": "^0.3.6",
      "model_name": "DateScaleModel",
      "state": {}
     },
     "3ff4624be6fc47d4a27bfb1c05b35cfe": {
      "model_module": "bqplot",
      "model_module_version": "^0.3.6",
      "model_name": "PanZoomModel",
      "state": {
       "scales": {
        "x": [
         "IPY_MODEL_f16e427d39de48a9aa87b63682e0c708"
        ],
        "y": [
         "IPY_MODEL_41f81b2aab174a258aaa30a960ea3d23"
        ]
       }
      }
     },
     "4001ecc0c0034e34831bfeeea0a3cd33": {
      "model_module": "bqplot",
      "model_module_version": "^0.3.6",
      "model_name": "BarsModel",
      "state": {
       "color": {
        "type": null,
        "values": null
       },
       "colors": [
        "blue"
       ],
       "interactions": {
        "click": "select",
        "hover": "tooltip",
        "legend_hover": "highlight_axes"
       },
       "labels": [
        "Connect Activity"
       ],
       "scales": {
        "x": "IPY_MODEL_eaaa3b2612084e078f3133abc7749645",
        "y": "IPY_MODEL_0576a851dcbc4aee92cb218e1570c82d"
       },
       "selected": [],
       "selected_style": {
        "fill": "red"
       },
       "tooltip": "IPY_MODEL_038580c608f343e483343cc079e5bd59",
       "x": {
        "type": "object",
        "values": [
         "Connect",
         "Disconnect"
        ]
       },
       "y": {
        "type": "float",
        "values": [
         357.017,
         354.629
        ]
       }
      }
     },
     "406950ebdc54471ca87372ad116885ca": {
      "model_module": "bqplot",
      "model_module_version": "^0.3.6",
      "model_name": "LinearScaleModel",
      "state": {
       "allow_padding": false,
       "max": 1,
       "min": 0,
       "stabilized": false
      }
     },
     "407d124a99b346e88f7c0ed06bb70ccb": {
      "model_module": "bqplot",
      "model_module_version": "^0.3.6",
      "model_name": "AxisModel",
      "state": {
       "label": "Count",
       "orientation": "vertical",
       "scale": "IPY_MODEL_1ee0ebd7cccb417aa34457d18dd01334",
       "side": "left",
       "tick_format": "0.2f",
       "tick_values": {
        "type": null,
        "values": null
       }
      }
     },
     "40a648a7302d431aab275a6329836b91": {
      "model_module": "@jupyter-widgets/controls",
      "model_module_version": "1.2.0",
      "model_name": "HBoxModel",
      "state": {
       "children": [
        "IPY_MODEL_125e9853a41a4810911325893316a374"
       ],
       "layout": "IPY_MODEL_08819383302c432687980f9dc1fe7466"
      }
     },
     "40adef24aaff4c208c59c833fa0ab211": {
      "model_module": "bqplot",
      "model_module_version": "^0.3.6",
      "model_name": "BarsModel",
      "state": {
       "color": {
        "type": null,
        "values": null
       },
       "colors": [
        "hotpink",
        "orange"
       ],
       "interactions": {
        "click": "select",
        "hover": "tooltip",
        "legend_hover": "highlight_axes"
       },
       "labels": [
        "Connect",
        "Disconnect"
       ],
       "padding": 0.1,
       "scales": {
        "x": "IPY_MODEL_862c03ae125b4696b50b3a2c78b4bb6d",
        "y": "IPY_MODEL_a73464db9a8b47fc81c848e065319b1e"
       },
       "selected": [],
       "selected_style": {
        "fill": "red"
       },
       "tooltip": "IPY_MODEL_59c86adc542c4a6f90f913dfd1668b35",
       "type": "grouped",
       "x": {
        "type": "object",
        "values": [
         "PC-3471",
         "PC-1105",
         "PC-0937",
         "PC-3154",
         "PC-2158",
         "PC-7117",
         "PC-2659",
         "PC-2057",
         "PC-5849",
         "PC-7046"
        ]
       },
       "y": {
        "type": "float",
        "values": [
         [
          2.048,
          2.036,
          2.029,
          2.009,
          2,
          1.991,
          1.978,
          1.963,
          1.959,
          1.949
         ],
         [
          2.042,
          2.026,
          2.014,
          1.998,
          1.987,
          1.983,
          1.965,
          1.949,
          1.947,
          1.935
         ]
        ]
       }
      }
     },
     "40d55002904749879aa77126c066cadc": {
      "model_module": "@jupyter-widgets/controls",
      "model_module_version": "1.2.0",
      "model_name": "VBoxModel",
      "state": {
       "children": [
        "IPY_MODEL_c102c9d555dc4cb8b118512021d4caac"
       ],
       "layout": "IPY_MODEL_c18c6f77e59b4a45b4713c4447b711f6"
      }
     },
     "41291778d79b4b209c20546e360c01d2": {
      "model_module": "bqplot",
      "model_module_version": "^0.3.6",
      "model_name": "AxisModel",
      "state": {
       "label": "Hours of the Day",
       "scale": "IPY_MODEL_0bca2cf2fc0249598ea793eb115c4520",
       "side": "bottom",
       "tick_values": {
        "type": null,
        "values": null
       }
      }
     },
     "412938db562b433b9b18ee1d46e39049": {
      "model_module": "bqplot",
      "model_module_version": "^0.3.6",
      "model_name": "LinearScaleModel",
      "state": {
       "allow_padding": false,
       "max": 1,
       "min": 0,
       "stabilized": false
      }
     },
     "41531c491e6345e5bf97266e31b187c3": {
      "model_module": "bqplot",
      "model_module_version": "^0.3.6",
      "model_name": "LinearScaleModel",
      "state": {
       "stabilized": false
      }
     },
     "41638d25d9454d0aa4d87a4067c92f5e": {
      "model_module": "@jupyter-widgets/controls",
      "model_module_version": "1.2.0",
      "model_name": "VBoxModel",
      "state": {
       "children": [
        "IPY_MODEL_7368870f7b3a4fd990d01e88e81d30d2"
       ],
       "layout": "IPY_MODEL_ba419fe2b0234944a6d42cac5059ab5d"
      }
     },
     "41865b09f55b4b878f178c8273fc023f": {
      "model_module": "@jupyter-widgets/controls",
      "model_module_version": "1.2.0",
      "model_name": "DropdownModel",
      "state": {
       "_options_labels": [
        "AAC0610",
        "AAP1919"
       ],
       "index": 1,
       "layout": "IPY_MODEL_328b22c17ebc4e0ba7cf810d926a1a7b",
       "style": "IPY_MODEL_63efb0f1add5452ca2c6dd47e874a5c8"
      }
     },
     "41c391585ee34cbb8bff29f528ff0449": {
      "model_module": "@jupyter-widgets/controls",
      "model_module_version": "1.2.0",
      "model_name": "VBoxModel",
      "state": {
       "children": [
        "IPY_MODEL_40a648a7302d431aab275a6329836b91",
        "IPY_MODEL_1eb186dc81124a1584f9ba1d526898a7"
       ],
       "layout": "IPY_MODEL_4ce884058ae44740bc72a8a4712aec3c"
      }
     },
     "41f81b2aab174a258aaa30a960ea3d23": {
      "model_module": "bqplot",
      "model_module_version": "^0.3.6",
      "model_name": "LinearScaleModel",
      "state": {
       "stabilized": false
      }
     },
     "423cdf76b6e74414b7863ed412081a10": {
      "model_module": "@jupyter-widgets/controls",
      "model_module_version": "1.2.0",
      "model_name": "DropdownModel",
      "state": {
       "_options_labels": [
        "AAC0610",
        "AAP1919"
       ],
       "description": "Select Employee Id",
       "index": 0,
       "layout": "IPY_MODEL_192b0244166346fdab985a415bad4387",
       "style": "IPY_MODEL_fb95ffd778594f12b897985ccad4f243"
      }
     },
     "4268dafe1f824ad5b36dc05400dcc357": {
      "model_module": "bqplot",
      "model_module_version": "^0.3.6",
      "model_name": "AxisModel",
      "state": {
       "label": "Number of USB Connections",
       "orientation": "vertical",
       "scale": "IPY_MODEL_55eefbf54f9d4eaba3990200e03ca8f2",
       "side": "left",
       "tick_format": "f",
       "tick_values": {
        "type": null,
        "values": null
       }
      }
     },
     "428b9c0c254d4227aafc3365b62eec50": {
      "model_module": "bqplot",
      "model_module_version": "^0.3.6",
      "model_name": "LinearScaleModel",
      "state": {
       "allow_padding": false,
       "max": 1,
       "min": 0,
       "stabilized": false
      }
     },
     "42c8d99e5e4744b19ebf96b8e1dcf8ee": {
      "model_module": "@jupyter-widgets/base",
      "model_module_version": "1.0.0",
      "model_name": "LayoutModel",
      "state": {}
     },
     "42de93c0f84a4c30b7aa2f8fcd7e45a3": {
      "model_module": "bqplot",
      "model_module_version": "^0.3.6",
      "model_name": "BarsModel",
      "state": {
       "color": {
        "type": null,
        "values": null
       },
       "colors": [
        "blue"
       ],
       "interactions": {
        "click": "select",
        "hover": "tooltip",
        "legend_hover": "highlight_axes"
       },
       "labels": [
        "Email"
       ],
       "scales": {
        "x": "IPY_MODEL_f16e427d39de48a9aa87b63682e0c708",
        "y": "IPY_MODEL_41f81b2aab174a258aaa30a960ea3d23"
       },
       "selected": [],
       "selected_style": {
        "fill": "red"
       },
       "tooltip": "IPY_MODEL_52e53a3cdc6d4c8785c50f1e7c7e2bd8",
       "x": {
        "type": "object",
        "values": [
         "Connect",
         "Disconnect"
        ]
       },
       "y": {
        "type": "float",
        "values": [
         357.017,
         354.629
        ]
       }
      }
     },
     "42f33060149d4e84a1470933a0bbbdc2": {
      "model_module": "bqplot",
      "model_module_version": "^0.3.6",
      "model_name": "TooltipModel",
      "state": {
       "fields": [
        "x",
        "y"
       ],
       "formats": [
        "",
        "0.2f"
       ],
       "labels": [
        "Activity",
        "Count"
       ],
       "layout": "IPY_MODEL_76513ff2516f48ab97a3d59f3fb416ef"
      }
     },
     "43807161b7b44412a0877754d047571e": {
      "model_module": "bqplot",
      "model_module_version": "^0.3.6",
      "model_name": "AxisModel",
      "state": {
       "label": "Connect Activity",
       "scale": "IPY_MODEL_db11f36081734830b95eaf184ddca64b",
       "side": "bottom",
       "tick_values": {
        "type": null,
        "values": null
       }
      }
     },
     "43878de58ea541449ff01547ece6cf93": {
      "model_module": "@jupyter-widgets/base",
      "model_module_version": "1.0.0",
      "model_name": "LayoutModel",
      "state": {}
     },
     "43c75dca21ea49eca3be7f6b9159cb57": {
      "model_module": "bqplot",
      "model_module_version": "^0.3.6",
      "model_name": "DateScaleModel",
      "state": {}
     },
     "43f0bc1db0124d13b8cc4040070eecaf": {
      "model_module": "bqplot",
      "model_module_version": "^0.3.6",
      "model_name": "LinearScaleModel",
      "state": {
       "stabilized": false
      }
     },
     "44063409fc9047c1a5af4ff3448ddeaf": {
      "model_module": "bqplot",
      "model_module_version": "^0.3.6",
      "model_name": "AxisModel",
      "state": {
       "label": "Directory name",
       "scale": "IPY_MODEL_32e1b2d819ee4a868721f65928a80e19",
       "side": "bottom",
       "tick_values": {
        "type": null,
        "values": null
       }
      }
     },
     "4415957e1420448dab47a3e1af280ddf": {
      "model_module": "bqplot",
      "model_module_version": "^0.3.6",
      "model_name": "TooltipModel",
      "state": {
       "fields": [
        "x",
        "y"
       ],
       "formats": [
        "",
        "f"
       ],
       "labels": [
        "Date",
        "Number of USB Connections"
       ],
       "layout": "IPY_MODEL_30109b74903a49d99dbc3fa16383a403"
      }
     },
     "44b142939c12409ba76e5886446f0447": {
      "model_module": "bqplot",
      "model_module_version": "^0.3.6",
      "model_name": "AxisModel",
      "state": {
       "label": "Computer ID",
       "scale": "IPY_MODEL_862c03ae125b4696b50b3a2c78b4bb6d",
       "side": "bottom",
       "tick_values": {
        "type": null,
        "values": null
       }
      }
     },
     "44d640bf0dcf4e47bda550b29e5b464d": {
      "model_module": "bqplot",
      "model_module_version": "^0.3.6",
      "model_name": "DateScaleModel",
      "state": {}
     },
     "450dc14c86df435087e4c34a2538565c": {
      "model_module": "bqplot",
      "model_module_version": "^0.3.6",
      "model_name": "LinearScaleModel",
      "state": {
       "allow_padding": false,
       "max": 1,
       "min": 0,
       "stabilized": false
      }
     },
     "4542f7b0ed8b43a386c60b4375c43478": {
      "model_module": "bqplot",
      "model_module_version": "^0.3.6",
      "model_name": "LinearScaleModel",
      "state": {
       "allow_padding": false,
       "max": 1,
       "min": 0,
       "stabilized": false
      }
     },
     "45ae4e73df5d410385f28abd831feeb3": {
      "model_module": "bqplot",
      "model_module_version": "^0.3.6",
      "model_name": "LinearScaleModel",
      "state": {
       "allow_padding": false,
       "max": 1,
       "min": 0,
       "stabilized": false
      }
     },
     "461c654fda5f43b4b71d926e8315f488": {
      "model_module": "bqplot",
      "model_module_version": "^0.3.6",
      "model_name": "PanZoomModel",
      "state": {
       "scales": {
        "x": [
         "IPY_MODEL_e3569d56d9774513a26e1d8125a64bb0"
        ],
        "y": [
         "IPY_MODEL_e80b87a538fc41fdb66d5fb4231036d0"
        ]
       }
      }
     },
     "46906ab12df0472d878634286b244743": {
      "model_module": "@jupyter-widgets/base",
      "model_module_version": "1.0.0",
      "model_name": "LayoutModel",
      "state": {}
     },
     "46c0dc1b059243a3a8befe01024c3cf9": {
      "model_module": "@jupyter-widgets/controls",
      "model_module_version": "1.2.0",
      "model_name": "VBoxModel",
      "state": {
       "children": [
        "IPY_MODEL_fbc4b685c9964aebbffde8a6195fffeb",
        "IPY_MODEL_7675ebcce094474da1b5c2cad6b931f4"
       ],
       "layout": "IPY_MODEL_9d472e0f91d846ea9988fefd264f12a1"
      }
     },
     "46d7bd3de51e47e19caeba599c13edff": {
      "model_module": "@jupyter-widgets/controls",
      "model_module_version": "1.2.0",
      "model_name": "DropdownModel",
      "state": {
       "_options_labels": [
        "AAC0610",
        "AAP1919"
       ],
       "description": "Select Employee Id",
       "index": 0,
       "layout": "IPY_MODEL_c1476b746de74095bc54797575e121a4",
       "style": "IPY_MODEL_884cb4c4adf94300869dc9455569caf2"
      }
     },
     "47087cd3626147b1b758e235b484b4ea": {
      "model_module": "bqplot",
      "model_module_version": "^0.3.6",
      "model_name": "OrdinalScaleModel",
      "state": {
       "domain": []
      }
     },
     "4709f305ed9f41ddbf57d913c3d9d6b6": {
      "model_module": "bqplot",
      "model_module_version": "^0.3.6",
      "model_name": "FigureModel",
      "state": {
       "_dom_classes": [],
       "animation_duration": 1000,
       "axes": [
        "IPY_MODEL_8e59269ea9564ed8af7c181a59f9dcd0",
        "IPY_MODEL_84f2e42290f646be9f2c898e0d834711"
       ],
       "layout": "IPY_MODEL_91a2aca1397849c48ca9e52cd49ed5d9",
       "marks": [
        "IPY_MODEL_2d58a54a68694e33b4b8877024ecd908"
       ],
       "max_aspect_ratio": 6,
       "scale_x": "IPY_MODEL_c41b564c8a18438a9138e39a354b55f0",
       "scale_y": "IPY_MODEL_604c817149604edf837fc3ba76161e67",
       "title": "Email attachment size"
      }
     },
     "477cb91d7f614830af8754650875a62d": {
      "model_module": "bqplot",
      "model_module_version": "^0.3.6",
      "model_name": "LinearScaleModel",
      "state": {
       "stabilized": false
      }
     },
     "4791b424764e4b05b7c6b8222eb76cf8": {
      "model_module": "bqplot",
      "model_module_version": "^0.3.6",
      "model_name": "AxisModel",
      "state": {
       "label": "Hours of the Day",
       "scale": "IPY_MODEL_04433ad1b7e44218a8db49f0e5c45b78",
       "side": "bottom",
       "tick_values": {
        "type": null,
        "values": null
       }
      }
     },
     "47f8a500c280413f809bf194629f29be": {
      "model_module": "bqplot",
      "model_module_version": "^0.3.6",
      "model_name": "PanZoomModel",
      "state": {
       "scales": {
        "x": [
         "IPY_MODEL_e819157094a84e728e8f4a55a0dba82a"
        ],
        "y": [
         "IPY_MODEL_fe998a47a20347c082ce86ca8e78d486"
        ]
       }
      }
     },
     "48ac1e0457a248b4bc4899993a192e2e": {
      "model_module": "bqplot",
      "model_module_version": "^0.3.6",
      "model_name": "PanZoomModel",
      "state": {
       "scales": {
        "x": [
         "IPY_MODEL_9e322141d2544e63bebde8d6f1640ba9"
        ],
        "y": [
         "IPY_MODEL_fe810ba531c34ab7ba0253da2e4e67f0"
        ]
       }
      }
     },
     "48b7f810f5e94db780a112e5bb29f823": {
      "model_module": "bqplot",
      "model_module_version": "^0.3.6",
      "model_name": "AxisModel",
      "state": {
       "label": "Count",
       "orientation": "vertical",
       "scale": "IPY_MODEL_f105b4936d8b4a738ee95b2d44c14cb3",
       "side": "left",
       "tick_format": "0.2f",
       "tick_values": {
        "type": null,
        "values": null
       }
      }
     },
     "48d03597cdd94419aafd7c7a8b9a51e5": {
      "model_module": "bqplot",
      "model_module_version": "^0.3.6",
      "model_name": "TooltipModel",
      "state": {
       "fields": [
        "x",
        "y"
       ],
       "formats": [
        "",
        "f"
       ],
       "labels": [
        "Date",
        "Number of USB Connections"
       ],
       "layout": "IPY_MODEL_840b4340551349eb88b1bcafce21b771"
      }
     },
     "48d5470661f54794a82da806c37c1f37": {
      "model_module": "bqplot",
      "model_module_version": "^0.3.6",
      "model_name": "AxisModel",
      "state": {
       "label": "Number of USB Connections",
       "orientation": "vertical",
       "scale": "IPY_MODEL_814ae6d39bb143b4bd380e68b6594cab",
       "side": "left",
       "tick_format": "0.2f",
       "tick_values": {
        "type": null,
        "values": null
       }
      }
     },
     "4901a7670f0946cb9bf486c7da015c7c": {
      "model_module": "bqplot",
      "model_module_version": "^0.3.6",
      "model_name": "BarsModel",
      "state": {
       "color": {
        "type": null,
        "values": null
       },
       "colors": [
        "blue"
       ],
       "interactions": {
        "click": "select",
        "hover": "tooltip",
        "legend_hover": "highlight_axes"
       },
       "labels": [
        "Email"
       ],
       "scales": {
        "x": "IPY_MODEL_494a0266f04543799457f1b3fa10c83f",
        "y": "IPY_MODEL_702db2298dc3442e9d80addc15b3662b"
       },
       "selected": [],
       "selected_style": {
        "fill": "red"
       },
       "tooltip": "IPY_MODEL_96e93f69979f465088f2386be4f423de",
       "x": {
        "type": "float",
        "values": [
         14,
         9,
         13,
         15,
         10,
         8,
         12,
         11,
         16,
         17,
         7,
         18,
         19,
         22,
         23,
         6,
         21,
         20,
         0,
         1,
         4,
         5,
         3,
         2
        ]
       },
       "y": {
        "type": "float",
        "values": [
         41.339,
         40.332,
         37.987,
         37.554,
         35.012,
         34.87,
         32.312,
         31.498,
         26.909,
         15.277,
         10.393,
         5.236,
         1.377,
         0.915,
         0.913,
         0.837,
         0.799,
         0.637,
         0.616,
         0.491,
         0.462,
         0.442,
         0.412,
         0.397
        ]
       }
      }
     },
     "49169597156d4c17983ddd5d1d9c134b": {
      "model_module": "bqplot",
      "model_module_version": "^0.3.6",
      "model_name": "BarsModel",
      "state": {
       "color": {
        "type": null,
        "values": null
       },
       "colors": [
        "skyblue"
       ],
       "display_legend": false,
       "interactions": {
        "click": "select",
        "hover": "tooltip",
        "legend_hover": "highlight_axes"
       },
       "labels": [
        "Number of USB Connections"
       ],
       "scales": {
        "x": "IPY_MODEL_23a875cf8b524bfcb1fcc9072d26252c",
        "y": "IPY_MODEL_223ce942b7fb45feb76da464437e3821"
       },
       "selected": [],
       "selected_style": {
        "fill": "red"
       },
       "tooltip": "IPY_MODEL_7fd742ff957547278f45d8e1064999e5",
       "x": {
        "type": "date",
        "values": [
         "1900-01-01T14:00:00.000000",
         "1900-01-01T09:00:00.000000",
         "1900-01-01T13:00:00.000000",
         "1900-01-01T15:00:00.000000",
         "1900-01-01T10:00:00.000000",
         "1900-01-01T08:00:00.000000",
         "1900-01-01T12:00:00.000000",
         "1900-01-01T11:00:00.000000",
         "1900-01-01T16:00:00.000000",
         "1900-01-01T17:00:00.000000",
         "1900-01-01T07:00:00.000000",
         "1900-01-01T18:00:00.000000",
         "1900-01-01T19:00:00.000000",
         "1900-01-01T22:00:00.000000",
         "1900-01-01T23:00:00.000000",
         "1900-01-01T06:00:00.000000",
         "1900-01-01T21:00:00.000000",
         "1900-01-01T20:00:00.000000",
         "1900-01-01T00:00:00.000000",
         "1900-01-01T01:00:00.000000",
         "1900-01-01T04:00:00.000000",
         "1900-01-01T05:00:00.000000",
         "1900-01-01T03:00:00.000000",
         "1900-01-01T02:00:00.000000"
        ]
       },
       "y": {
        "type": "float",
        "values": [
         41.339,
         40.332,
         37.987,
         37.554,
         35.012,
         34.87,
         32.312,
         31.498,
         26.909,
         15.277,
         10.393,
         5.236,
         1.377,
         0.915,
         0.913,
         0.837,
         0.799,
         0.637,
         0.616,
         0.491,
         0.462,
         0.442,
         0.412,
         0.397
        ]
       }
      }
     },
     "494a0266f04543799457f1b3fa10c83f": {
      "model_module": "bqplot",
      "model_module_version": "^0.3.6",
      "model_name": "OrdinalScaleModel",
      "state": {
       "domain": []
      }
     },
     "49a15b81aab0485ab6b0fdf5fec51eeb": {
      "model_module": "bqplot",
      "model_module_version": "^0.3.6",
      "model_name": "LinearScaleModel",
      "state": {
       "stabilized": false
      }
     },
     "49e4a0b4512d410e9ca671453d2762b2": {
      "model_module": "bqplot",
      "model_module_version": "^0.3.6",
      "model_name": "AxisModel",
      "state": {
       "label": "Count (log)",
       "orientation": "vertical",
       "scale": "IPY_MODEL_b70413a5d41f4187bc9b344484c1c526",
       "side": "left",
       "tick_format": "0.2f",
       "tick_values": {
        "type": null,
        "values": null
       }
      }
     },
     "4a663c25319e4c2a9ccef5d6106595ba": {
      "model_module": "bqplot",
      "model_module_version": "^0.3.6",
      "model_name": "FigureModel",
      "state": {
       "_dom_classes": [],
       "animation_duration": 5000,
       "axes": [
        "IPY_MODEL_3029d18bf7a642ca87f50c2f2b736cf5",
        "IPY_MODEL_701c79731c864aa183fd56e9cf262186"
       ],
       "background_style": {
        "fill": "aliceblue"
       },
       "layout": "IPY_MODEL_8ac656bdd6b34040a0e26ccd49ed02cd",
       "marks": [
        "IPY_MODEL_de5f056c5c4f40f999faf3e1466d2a04"
       ],
       "max_aspect_ratio": 6,
       "scale_x": "IPY_MODEL_4e29a1640d6d4adc9ddf77a095cd375a",
       "scale_y": "IPY_MODEL_428b9c0c254d4227aafc3365b62eec50",
       "title": "Number of Emails sent Daily"
      }
     },
     "4abb4050cedf4d32a0cc2bff7cce7178": {
      "model_module": "bqplot",
      "model_module_version": "^0.3.6",
      "model_name": "AxisModel",
      "state": {
       "label": "Count",
       "orientation": "vertical",
       "scale": "IPY_MODEL_8a3364698a2744f0b59485dbf9148ad1",
       "side": "left",
       "tick_format": "0.2f",
       "tick_values": {
        "type": null,
        "values": null
       }
      }
     },
     "4ae12d11229b49a7947d3834b50f6d4d": {
      "model_module": "@jupyter-widgets/controls",
      "model_module_version": "1.2.0",
      "model_name": "VBoxModel",
      "state": {
       "children": [
        "IPY_MODEL_d27294438cbf46d6b06882772fdff224",
        "IPY_MODEL_61ea0727281a401eab67e0b07dac30bf"
       ],
       "layout": "IPY_MODEL_6d01f7439b724396abe8ae22a1a0b0be"
      }
     },
     "4b31345d439348cfb9920fe8d17a5e34": {
      "model_module": "bqplot",
      "model_module_version": "^0.3.6",
      "model_name": "BarsModel",
      "state": {
       "color": {
        "type": null,
        "values": null
       },
       "colors": [
        "green"
       ],
       "display_legend": false,
       "interactions": {
        "click": "select",
        "hover": "tooltip",
        "legend_hover": "highlight_axes"
       },
       "labels": [
        "Number of USB Connections"
       ],
       "scales": {
        "x": "IPY_MODEL_c0fae34e14ae4a0a803b1c7258d499c7",
        "y": "IPY_MODEL_ebd80c75301a40e0bfa9752bcb27dd21"
       },
       "selected": [],
       "selected_style": {
        "fill": "red"
       },
       "tooltip": "IPY_MODEL_cd96ef96bf3c4af9850de111f794c78f",
       "x": {
        "type": "timedelta64[ns]",
        "values": [
         50400000000000,
         32400000000000,
         46800000000000,
         54000000000000,
         36000000000000,
         28800000000000,
         43200000000000,
         39600000000000,
         57600000000000,
         61200000000000,
         25200000000000,
         64800000000000,
         68400000000000,
         79200000000000,
         82800000000000,
         21600000000000,
         75600000000000,
         72000000000000,
         0,
         3600000000000,
         14400000000000,
         18000000000000,
         10800000000000,
         7200000000000
        ]
       },
       "y": {
        "type": "float",
        "values": [
         41.339,
         40.332,
         37.987,
         37.554,
         35.012,
         34.87,
         32.312,
         31.498,
         26.909,
         15.277,
         10.393,
         5.236,
         1.377,
         0.915,
         0.913,
         0.837,
         0.799,
         0.637,
         0.616,
         0.491,
         0.462,
         0.442,
         0.412,
         0.397
        ]
       }
      }
     },
     "4b53aa0e49184e26bb7e4c4f2120b8ea": {
      "model_module": "bqplot",
      "model_module_version": "^0.3.6",
      "model_name": "DateScaleModel",
      "state": {}
     },
     "4b91325fadf949919ec0873ea06d3c06": {
      "model_module": "@jupyter-widgets/base",
      "model_module_version": "1.0.0",
      "model_name": "LayoutModel",
      "state": {}
     },
     "4b9c99ac0f2d40d98ff51fa53d9e9014": {
      "model_module": "@jupyter-widgets/controls",
      "model_module_version": "1.2.0",
      "model_name": "VBoxModel",
      "state": {
       "children": [
        "IPY_MODEL_25ad99c642eb4f48923bf2cdd30f33a7"
       ],
       "layout": "IPY_MODEL_700e43ce39514ec48153b765ea575365"
      }
     },
     "4bbff2ca48494ab6879e9061d4c14862": {
      "model_module": "bqplot",
      "model_module_version": "^0.3.6",
      "model_name": "LinearScaleModel",
      "state": {
       "allow_padding": false,
       "max": 1,
       "min": 0,
       "stabilized": false
      }
     },
     "4bca52067d6d454bacc56446bfbe8dcf": {
      "model_module": "bqplot",
      "model_module_version": "^0.3.6",
      "model_name": "PanZoomModel",
      "state": {
       "scales": {
        "x": [
         "IPY_MODEL_250ade01ed1e4999a4a14fe0755f7f72"
        ],
        "y": [
         "IPY_MODEL_e455265fe2444d24a12e9e981a985d43"
        ]
       }
      }
     },
     "4bd9f03a0ff2451da8c3c0eb4a11c9ca": {
      "model_module": "bqplot",
      "model_module_version": "^0.3.6",
      "model_name": "LinearScaleModel",
      "state": {
       "allow_padding": false,
       "max": 1,
       "min": 0,
       "stabilized": false
      }
     },
     "4c14985504fe4bb7953a391a6c2c297e": {
      "model_module": "bqplot",
      "model_module_version": "^0.3.6",
      "model_name": "BarsModel",
      "state": {
       "color": {
        "type": null,
        "values": null
       },
       "colors": [
        "blue"
       ],
       "display_legend": false,
       "interactions": {
        "click": "select",
        "hover": "tooltip",
        "legend_hover": "highlight_axes"
       },
       "labels": [
        "Number of USB Connections"
       ],
       "scales": {
        "x": "IPY_MODEL_f0ee23b5e38643aa82be40da0831d46c",
        "y": "IPY_MODEL_7070db9713e64a2a8ee76a4e10621d24"
       },
       "selected": [],
       "selected_style": {
        "fill": "red"
       },
       "tooltip": "IPY_MODEL_2d45f78229cd41a390eb0b16aaaf3c83",
       "x": {
        "type": "float",
        "values": [
         14,
         9,
         13,
         15,
         10,
         8,
         12,
         11,
         16,
         17,
         7,
         18,
         19,
         22,
         23,
         6,
         21,
         20,
         0,
         1,
         4,
         5,
         3,
         2
        ]
       },
       "y": {
        "type": "float",
        "values": [
         41.339,
         40.332,
         37.987,
         37.554,
         35.012,
         34.87,
         32.312,
         31.498,
         26.909,
         15.277,
         10.393,
         5.236,
         1.377,
         0.915,
         0.913,
         0.837,
         0.799,
         0.637,
         0.616,
         0.491,
         0.462,
         0.442,
         0.412,
         0.397
        ]
       }
      }
     },
     "4c56351efb7a4109a9d4a7113999ba64": {
      "model_module": "bqplot",
      "model_module_version": "^0.3.6",
      "model_name": "DateScaleModel",
      "state": {}
     },
     "4cbc9d8be072400f9d3c000d34829ab7": {
      "model_module": "bqplot",
      "model_module_version": "^0.3.6",
      "model_name": "AxisModel",
      "state": {
       "label": "Hours of the Day",
       "scale": "IPY_MODEL_4ccd1b0be31e41c3b9876920d0b4b305",
       "side": "bottom",
       "tick_values": {
        "type": null,
        "values": null
       }
      }
     },
     "4ccd1b0be31e41c3b9876920d0b4b305": {
      "model_module": "bqplot",
      "model_module_version": "^0.3.6",
      "model_name": "DateScaleModel",
      "state": {}
     },
     "4ce884058ae44740bc72a8a4712aec3c": {
      "model_module": "@jupyter-widgets/base",
      "model_module_version": "1.0.0",
      "model_name": "LayoutModel",
      "state": {}
     },
     "4d19c256eee04d9fbc34845806851f98": {
      "model_module": "bqplot",
      "model_module_version": "^0.3.6",
      "model_name": "LinearScaleModel",
      "state": {
       "stabilized": false
      }
     },
     "4d83e0c2fa934b41a9f6bf017ad809cc": {
      "model_module": "bqplot",
      "model_module_version": "^0.3.6",
      "model_name": "LinearScaleModel",
      "state": {
       "stabilized": false
      }
     },
     "4da5fd801417407da69256a01e3543f6": {
      "model_module": "bqplot",
      "model_module_version": "^0.3.6",
      "model_name": "BarsModel",
      "state": {
       "color": {
        "type": null,
        "values": null
       },
       "colors": [
        "blue"
       ],
       "display_legend": false,
       "interactions": {
        "click": "select",
        "hover": "tooltip",
        "legend_hover": "highlight_axes"
       },
       "labels": [
        "Directory name"
       ],
       "padding": 0.2,
       "scales": {
        "x": "IPY_MODEL_f7d850f77a6c4687bbd6ff24c7c77770",
        "y": "IPY_MODEL_b98c1d0ddb9042a2a2d2496011ae7e3a"
       },
       "selected": [],
       "selected_style": {
        "fill": "red"
       },
       "tooltip": "IPY_MODEL_2e77dc4a09224d999199388390c4ca1f",
       "x": {
        "type": "object",
        "values": [
         "R:\\189XJ29",
         "R:\\CTC0859",
         "R:\\37Ntzz0",
         "R:\\CKP3600",
         "R:\\61mrHg0",
         "R:\\ACM2278",
         "R:\\782bxm8",
         "R:\\52G6677",
         "R:\\XAB0936",
         "R:\\29P96D6"
        ]
       },
       "y": {
        "type": "float",
        "values": [
         3.044522437723423,
         3.044522437723423,
         2.995732273553991,
         2.995732273553991,
         2.995732273553991,
         2.1972245773362196,
         2.1972245773362196,
         2.1972245773362196,
         0.6931471805599453,
         0.6931471805599453
        ]
       }
      }
     },
     "4da81c6d5afd4a1a8572bf5cdc62b72e": {
      "model_module": "@jupyter-widgets/base",
      "model_module_version": "1.0.0",
      "model_name": "LayoutModel",
      "state": {}
     },
     "4dee69bb1a4344e69621a8bdde432452": {
      "model_module": "bqplot",
      "model_module_version": "^0.3.6",
      "model_name": "TooltipModel",
      "state": {
       "fields": [
        "x",
        "y"
       ],
       "formats": [
        "",
        "0.2f"
       ],
       "labels": [
        "Directory",
        "Count"
       ],
       "layout": "IPY_MODEL_6aa3181fbd984d72aae9961f807f7c98"
      }
     },
     "4e21c22b988f4e069b5af858944e67ad": {
      "model_module": "bqplot",
      "model_module_version": "^0.3.6",
      "model_name": "PanZoomModel",
      "state": {
       "scales": {
        "x": [
         "IPY_MODEL_0187591133d2404ea5ac51abc70e1a77"
        ],
        "y": [
         "IPY_MODEL_2df894e740894ba2a28046c8f4dac439"
        ]
       }
      }
     },
     "4e29a1640d6d4adc9ddf77a095cd375a": {
      "model_module": "bqplot",
      "model_module_version": "^0.3.6",
      "model_name": "LinearScaleModel",
      "state": {
       "allow_padding": false,
       "max": 1,
       "min": 0,
       "stabilized": false
      }
     },
     "4e3e6515ef80414185ed4eeb22fc4a31": {
      "model_module": "bqplot",
      "model_module_version": "^0.3.6",
      "model_name": "AxisModel",
      "state": {
       "label": "Count",
       "orientation": "vertical",
       "scale": "IPY_MODEL_7c2fefe4c0cb467d8942870f0ad0faff",
       "side": "left",
       "tick_format": "0.2f",
       "tick_values": {
        "type": null,
        "values": null
       }
      }
     },
     "4e9eeb3f410d4cf0b6bd89c48d971cf8": {
      "model_module": "bqplot",
      "model_module_version": "^0.3.6",
      "model_name": "LinearScaleModel",
      "state": {
       "allow_padding": false,
       "max": 1,
       "min": 0,
       "stabilized": false
      }
     },
     "4fbcf2e8aea645849220a676230fb8ff": {
      "model_module": "bqplot",
      "model_module_version": "^0.3.6",
      "model_name": "LinearScaleModel",
      "state": {
       "stabilized": false
      }
     },
     "4fed8c54e25a407cb8870963f52132b1": {
      "model_module": "bqplot",
      "model_module_version": "^0.3.6",
      "model_name": "AxisModel",
      "state": {
       "label": "Number of USB Connections",
       "orientation": "vertical",
       "scale": "IPY_MODEL_4d83e0c2fa934b41a9f6bf017ad809cc",
       "side": "left",
       "tick_format": "f",
       "tick_values": {
        "type": null,
        "values": null
       }
      }
     },
     "501780ca2abf4895801366bbf70e5fbf": {
      "model_module": "bqplot",
      "model_module_version": "^0.3.6",
      "model_name": "LinearScaleModel",
      "state": {
       "stabilized": false
      }
     },
     "50436e3849bd415bae5fcff977bac954": {
      "model_module": "@jupyter-widgets/base",
      "model_module_version": "1.0.0",
      "model_name": "LayoutModel",
      "state": {}
     },
     "50dc180adc054bac8bb98fc9443d82e2": {
      "model_module": "bqplot",
      "model_module_version": "^0.3.6",
      "model_name": "DateScaleModel",
      "state": {}
     },
     "50f4993ad02a4e4dbb97c775c21d22ee": {
      "model_module": "bqplot",
      "model_module_version": "^0.3.6",
      "model_name": "PanZoomModel",
      "state": {
       "scales": {
        "x": [
         "IPY_MODEL_3bb80561b0bc4bd2b809c568e82f0067"
        ],
        "y": [
         "IPY_MODEL_1a6dd86045ca4633955d0f4881062535"
        ]
       }
      }
     },
     "51115e4088b64a5cba93462babdd1e39": {
      "model_module": "bqplot",
      "model_module_version": "^0.3.6",
      "model_name": "LinearScaleModel",
      "state": {
       "allow_padding": false,
       "max": 1,
       "min": 0,
       "stabilized": false
      }
     },
     "5186be367e234d5db434c8d060940c96": {
      "model_module": "bqplot",
      "model_module_version": "^0.3.6",
      "model_name": "PanZoomModel",
      "state": {
       "scales": {
        "x": [
         "IPY_MODEL_611a4c267deb43e6a1dcb2ea2ae0be64"
        ],
        "y": [
         "IPY_MODEL_f3e2dd1edfb6412dadbb17743f548779"
        ]
       }
      }
     },
     "51a6c7be6e5d497e9bb167543ab3f76e": {
      "model_module": "bqplot",
      "model_module_version": "^0.3.6",
      "model_name": "BarsModel",
      "state": {
       "color": {
        "type": null,
        "values": null
       },
       "colors": [
        "blue"
       ],
       "interactions": {
        "click": "select",
        "hover": "tooltip",
        "legend_hover": "highlight_axes"
       },
       "labels": [
        "Connect Activity"
       ],
       "scales": {
        "x": "IPY_MODEL_104a1c67d7724c0d8550dce9c8bbfe8e",
        "y": "IPY_MODEL_cfeafceb063449e69fa4af0e3bae5043"
       },
       "selected": [],
       "selected_style": {
        "fill": "red"
       },
       "tooltip": "IPY_MODEL_0741e6a29b3b432a884eef19ade5635b",
       "x": {
        "type": "object",
        "values": [
         "Connect",
         "Disconnect"
        ]
       },
       "y": {
        "type": "float",
        "values": [
         357.017,
         354.629
        ]
       }
      }
     },
     "51c54f4896084baa862d340208d240af": {
      "model_module": "bqplot",
      "model_module_version": "^0.3.6",
      "model_name": "LinearScaleModel",
      "state": {
       "allow_padding": false,
       "max": 1,
       "min": 0,
       "stabilized": false
      }
     },
     "5202b9248bc34473acfe0aac9a04855d": {
      "model_module": "bqplot",
      "model_module_version": "^0.3.6",
      "model_name": "AxisModel",
      "state": {
       "label": "Connect Activity",
       "scale": "IPY_MODEL_eaaa3b2612084e078f3133abc7749645",
       "side": "bottom",
       "tick_values": {
        "type": null,
        "values": null
       }
      }
     },
     "5222108fa03f4768b8c0b7725147748e": {
      "model_module": "@jupyter-widgets/controls",
      "model_module_version": "1.2.0",
      "model_name": "VBoxModel",
      "state": {
       "children": [
        "IPY_MODEL_8cd8e0879e3c4d06b8a6432e8d3b06a8"
       ],
       "layout": "IPY_MODEL_68365d6f35b54ab997aeb0da14a57974"
      }
     },
     "5247fb324cdd4191bc73da500b407463": {
      "model_module": "bqplot",
      "model_module_version": "^0.3.6",
      "model_name": "DateScaleModel",
      "state": {}
     },
     "5256a88beb284fec96ef88c05f180aae": {
      "model_module": "bqplot",
      "model_module_version": "^0.3.6",
      "model_name": "TooltipModel",
      "state": {
       "fields": [
        "x",
        "y"
       ],
       "formats": [
        "",
        "0.2f"
       ],
       "labels": [
        "Date",
        "Number of USB Connections"
       ],
       "layout": "IPY_MODEL_e8211a3958384e9492b417b46392aa36"
      }
     },
     "52622b5abcad448a8fc714a870557977": {
      "model_module": "@jupyter-widgets/controls",
      "model_module_version": "1.2.0",
      "model_name": "VBoxModel",
      "state": {
       "children": [
        "IPY_MODEL_87fd50c3cf8a43dda525abdb3e709f3d"
       ],
       "layout": "IPY_MODEL_3ced5bda8620467ebf3f2a699517ef87"
      }
     },
     "52b3ea5d2ff24bf3bf0c4fef8d8ce0d2": {
      "model_module": "@jupyter-widgets/base",
      "model_module_version": "1.0.0",
      "model_name": "LayoutModel",
      "state": {}
     },
     "52c7eb21b22a4a9aa693ccea890082ae": {
      "model_module": "bqplot",
      "model_module_version": "^0.3.6",
      "model_name": "LinearScaleModel",
      "state": {
       "allow_padding": false,
       "max": 1,
       "min": 0,
       "stabilized": false
      }
     },
     "52e53a3cdc6d4c8785c50f1e7c7e2bd8": {
      "model_module": "bqplot",
      "model_module_version": "^0.3.6",
      "model_name": "TooltipModel",
      "state": {
       "fields": [
        "x",
        "y"
       ],
       "formats": [
        "",
        "0.2f"
       ],
       "labels": [
        "Date",
        "Email Size"
       ],
       "layout": "IPY_MODEL_9ac00430dddf4e528c8d74db328588e3"
      }
     },
     "538a08f13e88485ca4beac702340a083": {
      "model_module": "bqplot",
      "model_module_version": "^0.3.6",
      "model_name": "BarsModel",
      "state": {
       "color": {
        "type": null,
        "values": null
       },
       "colors": [
        "blue"
       ],
       "interactions": {
        "click": "select",
        "hover": "tooltip",
        "legend_hover": "highlight_axes"
       },
       "labels": [
        "Connect Activity"
       ],
       "scales": {
        "x": "IPY_MODEL_288f307f1c2e4e71882a428331027ecd",
        "y": "IPY_MODEL_2dd24df9262f4891a1adb91a6decb6e8"
       },
       "selected": [],
       "selected_style": {
        "fill": "red"
       },
       "tooltip": "IPY_MODEL_3876f51730834c9b9b8b3fbe26227565",
       "x": {
        "type": "object",
        "values": [
         "Connect",
         "Disconnect"
        ]
       },
       "y": {
        "type": "float",
        "values": [
         357.017,
         354.629
        ]
       }
      }
     },
     "542c1f5716024148835f2d1cd3f93b08": {
      "model_module": "bqplot",
      "model_module_version": "^0.3.6",
      "model_name": "FigureModel",
      "state": {
       "_dom_classes": [],
       "animation_duration": 5000,
       "axes": [
        "IPY_MODEL_b02337564a7945328e64a9893f602a11",
        "IPY_MODEL_db2e267797334091ac03bfaf01964d9b"
       ],
       "background_style": {
        "fill": "aliceblue"
       },
       "layout": "IPY_MODEL_8ac656bdd6b34040a0e26ccd49ed02cd",
       "legend_style": {
        "fill": "white"
       },
       "marks": [
        "IPY_MODEL_b95ce6f7f9fc4d4c92a3cdb7adff3bc4"
       ],
       "max_aspect_ratio": 6,
       "scale_x": "IPY_MODEL_798d6093556f474099880b2b54c2e9b3",
       "scale_y": "IPY_MODEL_4542f7b0ed8b43a386c60b4375c43478",
       "title": "Proportion of Connect Activity"
      }
     },
     "54379c1676f0438885c3a73eb0b03e07": {
      "model_module": "@jupyter-widgets/controls",
      "model_module_version": "1.2.0",
      "model_name": "VBoxModel",
      "state": {
       "children": [
        "IPY_MODEL_be3db84830de439693142af589658813"
       ],
       "layout": "IPY_MODEL_7b10270c169d473eb897f345359c0553"
      }
     },
     "5459d73da7374fdbb31c7294ae965ae0": {
      "model_module": "bqplot",
      "model_module_version": "^0.3.6",
      "model_name": "LinearScaleModel",
      "state": {
       "allow_padding": false,
       "max": 1,
       "min": 0,
       "stabilized": false
      }
     },
     "545dc35b1e1a4f82876c60e913e47df1": {
      "model_module": "bqplot",
      "model_module_version": "^0.3.6",
      "model_name": "LinearScaleModel",
      "state": {
       "allow_padding": false,
       "max": 1,
       "min": 0,
       "stabilized": false
      }
     },
     "54a90a8998464e769bd90743ef856398": {
      "model_module": "bqplot",
      "model_module_version": "^0.3.6",
      "model_name": "BarsModel",
      "state": {
       "color": {
        "type": null,
        "values": null
       },
       "colors": [
        "skyblue"
       ],
       "display_legend": false,
       "interactions": {
        "click": "select",
        "hover": "tooltip",
        "legend_hover": "highlight_axes"
       },
       "labels": [
        "Number of USB Connections"
       ],
       "scales": {
        "x": "IPY_MODEL_e819157094a84e728e8f4a55a0dba82a",
        "y": "IPY_MODEL_fe998a47a20347c082ce86ca8e78d486"
       },
       "selected": [],
       "selected_style": {
        "fill": "red"
       },
       "tooltip": "IPY_MODEL_055bba031fb34280bdbea77edc11d091",
       "x": {
        "type": "date",
        "values": [
         "1970-01-01T08:00:00.000000",
         "1970-01-01T09:00:00.000000",
         "1970-01-01T10:00:00.000000",
         "1970-01-01T11:00:00.000000",
         "1970-01-01T12:00:00.000000",
         "1970-01-01T13:00:00.000000",
         "1970-01-01T14:00:00.000000",
         "1970-01-01T15:00:00.000000",
         "1970-01-01T16:00:00.000000",
         "1970-01-01T17:00:00.000000",
         "1970-01-01T18:00:00.000000",
         "1970-01-01T19:00:00.000000",
         "1970-01-01T20:00:00.000000",
         "1970-01-01T21:00:00.000000",
         "1970-01-01T22:00:00.000000",
         "1970-01-01T23:00:00.000000"
        ]
       },
       "y": {
        "type": "float",
        "values": [
         37,
         167,
         169,
         167,
         157,
         151,
         174,
         154,
         187,
         82
        ]
       }
      }
     },
     "551246796713471596aca30eba2ee636": {
      "model_module": "@jupyter-widgets/base",
      "model_module_version": "1.0.0",
      "model_name": "LayoutModel",
      "state": {}
     },
     "55b12171052a4c66bc4d500c8d33c525": {
      "model_module": "bqplot",
      "model_module_version": "^0.3.6",
      "model_name": "AxisModel",
      "state": {
       "label": "Connect Activity",
       "scale": "IPY_MODEL_9e322141d2544e63bebde8d6f1640ba9",
       "side": "bottom",
       "tick_values": {
        "type": null,
        "values": null
       }
      }
     },
     "55b988e88bfa439ab3ac51afaa7609a8": {
      "model_module": "@jupyter-widgets/base",
      "model_module_version": "1.0.0",
      "model_name": "LayoutModel",
      "state": {}
     },
     "55eefbf54f9d4eaba3990200e03ca8f2": {
      "model_module": "bqplot",
      "model_module_version": "^0.3.6",
      "model_name": "LinearScaleModel",
      "state": {
       "stabilized": false
      }
     },
     "5642923e65744471ae3dbb83e5b8fc2f": {
      "model_module": "@jupyter-widgets/controls",
      "model_module_version": "1.2.0",
      "model_name": "VBoxModel",
      "state": {
       "children": [
        "IPY_MODEL_a7d8a9dca18f4181a5d56ea19000f078"
       ],
       "layout": "IPY_MODEL_ba1f76986d754736af37c1e011d3faa8"
      }
     },
     "56600a88ca8a46aa97de62db0f985c72": {
      "model_module": "bqplot",
      "model_module_version": "^0.3.6",
      "model_name": "LinearScaleModel",
      "state": {
       "allow_padding": false,
       "max": 1,
       "min": 0,
       "stabilized": false
      }
     },
     "56a8f980cd0745df9f609798dae0cf23": {
      "model_module": "@jupyter-widgets/base",
      "model_module_version": "1.0.0",
      "model_name": "LayoutModel",
      "state": {}
     },
     "56f52581628840a8af3372c95cb31bb5": {
      "model_module": "bqplot",
      "model_module_version": "^0.3.6",
      "model_name": "BarsModel",
      "state": {
       "color": {
        "type": null,
        "values": null
       },
       "colors": [
        "limegreen"
       ],
       "display_legend": false,
       "interactions": {
        "click": "select",
        "hover": "tooltip",
        "legend_hover": "highlight_axes"
       },
       "labels": [
        "Number of USB Connections"
       ],
       "scales": {
        "x": "IPY_MODEL_917ad373f56045bfaf6430fa5ec083ff",
        "y": "IPY_MODEL_c30c5817428540c1b3465ee0a75c0513"
       },
       "selected": [],
       "selected_style": {
        "fill": "red"
       },
       "tooltip": "IPY_MODEL_27280747f5804a6db5821c554adf2c99",
       "x": {
        "type": "date",
        "values": [
         "1900-01-01T14:00:00.000000",
         "1900-01-01T09:00:00.000000",
         "1900-01-01T13:00:00.000000",
         "1900-01-01T15:00:00.000000",
         "1900-01-01T10:00:00.000000",
         "1900-01-01T08:00:00.000000",
         "1900-01-01T12:00:00.000000",
         "1900-01-01T11:00:00.000000",
         "1900-01-01T16:00:00.000000",
         "1900-01-01T17:00:00.000000",
         "1900-01-01T07:00:00.000000",
         "1900-01-01T18:00:00.000000",
         "1900-01-01T19:00:00.000000",
         "1900-01-01T22:00:00.000000",
         "1900-01-01T23:00:00.000000",
         "1900-01-01T06:00:00.000000",
         "1900-01-01T21:00:00.000000",
         "1900-01-01T20:00:00.000000",
         "1900-01-01T00:00:00.000000",
         "1900-01-01T01:00:00.000000",
         "1900-01-01T04:00:00.000000",
         "1900-01-01T05:00:00.000000",
         "1900-01-01T03:00:00.000000",
         "1900-01-01T02:00:00.000000"
        ]
       },
       "y": {
        "type": "float",
        "values": [
         41.339,
         40.332,
         37.987,
         37.554,
         35.012,
         34.87,
         32.312,
         31.498,
         26.909,
         15.277,
         10.393,
         5.236,
         1.377,
         0.915,
         0.913,
         0.837,
         0.799,
         0.637,
         0.616,
         0.491,
         0.462,
         0.442,
         0.412,
         0.397
        ]
       }
      }
     },
     "56f78268c2e14e3e97ff9fc5fcc1ad75": {
      "model_module": "bqplot",
      "model_module_version": "^0.3.6",
      "model_name": "LinearScaleModel",
      "state": {
       "allow_padding": false,
       "max": 1,
       "min": 0,
       "stabilized": false
      }
     },
     "57404fcbe23448979583c322520e470c": {
      "model_module": "@jupyter-widgets/controls",
      "model_module_version": "1.2.0",
      "model_name": "VBoxModel",
      "state": {
       "children": [
        "IPY_MODEL_f7472a30bb294df8a2ecb1d1c04cc1ea"
       ],
       "layout": "IPY_MODEL_13e8ee91e4db497c85a14a5df5189250"
      }
     },
     "5748d8b6ac324e99b3606acae3728234": {
      "model_module": "@jupyter-widgets/controls",
      "model_module_version": "1.2.0",
      "model_name": "DropdownModel",
      "state": {
       "_options_labels": [
        "AAC0610",
        "AAP1919"
       ],
       "index": 0,
       "layout": "IPY_MODEL_bf29750f823046d29569d080f24a0128",
       "style": "IPY_MODEL_9e4f1460f89e4cc397173593e9c377c0"
      }
     },
     "5757430cb7e84cd29334fcd0e0db11a5": {
      "model_module": "bqplot",
      "model_module_version": "^0.3.6",
      "model_name": "AxisModel",
      "state": {
       "label": "Hours of the Day",
       "scale": "IPY_MODEL_4b53aa0e49184e26bb7e4c4f2120b8ea",
       "side": "bottom",
       "tick_values": {
        "type": null,
        "values": null
       }
      }
     },
     "57d7d2957e7d44db97e7f441affdabbf": {
      "model_module": "bqplot",
      "model_module_version": "^0.3.6",
      "model_name": "AxisModel",
      "state": {
       "label": "Count (log)",
       "orientation": "vertical",
       "scale": "IPY_MODEL_4fbcf2e8aea645849220a676230fb8ff",
       "side": "left",
       "tick_format": "f",
       "tick_values": {
        "type": null,
        "values": null
       }
      }
     },
     "57e10073c9d44f8e9080d54639fdd816": {
      "model_module": "bqplot",
      "model_module_version": "^0.3.6",
      "model_name": "FigureModel",
      "state": {
       "_dom_classes": [],
       "animation_duration": 5000,
       "axes": [
        "IPY_MODEL_6042891ef280440a9727831ec61265cb",
        "IPY_MODEL_48b7f810f5e94db780a112e5bb29f823"
       ],
       "background_style": {
        "fill": "aliceblue"
       },
       "layout": "IPY_MODEL_39b52c3b8c8846a082d61dfaaf8edb57",
       "marks": [
        "IPY_MODEL_793597b3316a4318b9fb432d54d95560"
       ],
       "max_aspect_ratio": 6,
       "scale_x": "IPY_MODEL_9d86b96bf9cf4ea9b44d683b85c98d5b",
       "scale_y": "IPY_MODEL_c4de64e1066d4a31a0c63a85132063b8",
       "title": "Proportion of Connect Activity"
      }
     },
     "57f76fbbf2514bc5b8ed0199e00d5ee4": {
      "model_module": "bqplot",
      "model_module_version": "^0.3.6",
      "model_name": "LinearScaleModel",
      "state": {
       "stabilized": false
      }
     },
     "580d7da53eb94d548cd124bb7a68e2e4": {
      "model_module": "bqplot",
      "model_module_version": "^0.3.6",
      "model_name": "DateScaleModel",
      "state": {}
     },
     "58905d80fe4b4ddca86e7d6e063b16a5": {
      "model_module": "bqplot",
      "model_module_version": "^0.3.6",
      "model_name": "LinearScaleModel",
      "state": {
       "allow_padding": false,
       "max": 1,
       "min": 0,
       "stabilized": false
      }
     },
     "58dd86fc25174a6a8219afd84e3133a5": {
      "model_module": "bqplot",
      "model_module_version": "^0.3.6",
      "model_name": "LinearScaleModel",
      "state": {
       "allow_padding": false,
       "max": 1,
       "min": 0,
       "stabilized": false
      }
     },
     "59c86adc542c4a6f90f913dfd1668b35": {
      "model_module": "bqplot",
      "model_module_version": "^0.3.6",
      "model_name": "TooltipModel",
      "state": {
       "fields": [
        "x",
        "y"
       ],
       "formats": [
        "",
        "0.2f"
       ],
       "labels": [
        "Computer ID",
        "Activity"
       ],
       "layout": "IPY_MODEL_5d73abd75bd34515b2479bcd33505298"
      }
     },
     "5a21a44a5e024caa9e21d5dc5232bc16": {
      "model_module": "bqplot",
      "model_module_version": "^0.3.6",
      "model_name": "LinearScaleModel",
      "state": {
       "stabilized": false
      }
     },
     "5a47acab5b4d4b5c94abe0391438640b": {
      "model_module": "bqplot",
      "model_module_version": "^0.3.6",
      "model_name": "LinearScaleModel",
      "state": {
       "allow_padding": false,
       "max": 1,
       "min": 0,
       "stabilized": false
      }
     },
     "5ad85be973b840cba30eb78aac61e6f3": {
      "model_module": "@jupyter-widgets/controls",
      "model_module_version": "1.2.0",
      "model_name": "VBoxModel",
      "state": {
       "children": [
        "IPY_MODEL_698d9b18d9cf425eb56bff784fc2bf9b"
       ],
       "layout": "IPY_MODEL_2a2e39e679ea47b69d76691589ee5246"
      }
     },
     "5b819d3a93f04581bf05df89d5ea456a": {
      "model_module": "bqplot",
      "model_module_version": "^0.3.6",
      "model_name": "AxisModel",
      "state": {
       "label": "Number of USB Connections",
       "orientation": "vertical",
       "scale": "IPY_MODEL_e0c4ce1f25964b93aef638d5f32783c5",
       "side": "left",
       "tick_format": "0.2f",
       "tick_values": {
        "type": null,
        "values": null
       }
      }
     },
     "5c25a83f4e294ef0816a4952118a5b67": {
      "model_module": "bqplot",
      "model_module_version": "^0.3.6",
      "model_name": "TooltipModel",
      "state": {
       "fields": [
        "x",
        "y"
       ],
       "formats": [
        "",
        "0.2f"
       ],
       "labels": [
        "Activity",
        "Count"
       ],
       "layout": "IPY_MODEL_1f221f0b5ecf45c8b0f3ab79db032f6d"
      }
     },
     "5c48964c48d64b2f8fdae8758a05d4c2": {
      "model_module": "@jupyter-widgets/base",
      "model_module_version": "1.0.0",
      "model_name": "LayoutModel",
      "state": {}
     },
     "5c7cc7f4cff54328b979b19c1def4fcd": {
      "model_module": "@jupyter-widgets/base",
      "model_module_version": "1.0.0",
      "model_name": "LayoutModel",
      "state": {}
     },
     "5d2b1646f9a64dd89c2e30bda6e1f2f8": {
      "model_module": "@jupyter-widgets/base",
      "model_module_version": "1.0.0",
      "model_name": "LayoutModel",
      "state": {}
     },
     "5d3c7e0971a24278a72284f9068234c8": {
      "model_module": "bqplot",
      "model_module_version": "^0.3.6",
      "model_name": "OrdinalScaleModel",
      "state": {
       "domain": []
      }
     },
     "5d73abd75bd34515b2479bcd33505298": {
      "model_module": "@jupyter-widgets/base",
      "model_module_version": "1.0.0",
      "model_name": "LayoutModel",
      "state": {}
     },
     "5d8ac3e74d994ee091ef1ca13d15903c": {
      "model_module": "bqplot",
      "model_module_version": "^0.3.6",
      "model_name": "PanZoomModel",
      "state": {
       "scales": {
        "x": [
         "IPY_MODEL_eb4bc451544a471eab328fd011455c63"
        ],
        "y": [
         "IPY_MODEL_35808ea8e97a4e1fa7b70d91a126a61e"
        ]
       }
      }
     },
     "5d90561b6aab4c9099b7f69a9a42c723": {
      "model_module": "bqplot",
      "model_module_version": "^0.3.6",
      "model_name": "LinearScaleModel",
      "state": {
       "allow_padding": false,
       "max": 1,
       "min": 0,
       "stabilized": false
      }
     },
     "5da3b2bc80fc4b7f9c83588f86db238d": {
      "model_module": "bqplot",
      "model_module_version": "^0.3.6",
      "model_name": "AxisModel",
      "state": {
       "label": "Hours of the Day",
       "scale": "IPY_MODEL_50dc180adc054bac8bb98fc9443d82e2",
       "side": "bottom",
       "tick_values": {
        "type": null,
        "values": null
       }
      }
     },
     "5dbf45f8dc054bea8966be2bb1353176": {
      "model_module": "bqplot",
      "model_module_version": "^0.3.6",
      "model_name": "LinearScaleModel",
      "state": {
       "allow_padding": false,
       "max": 1,
       "min": 0,
       "stabilized": false
      }
     },
     "5dc2882e65be4c65850efdcb83e2b659": {
      "model_module": "bqplot",
      "model_module_version": "^0.3.6",
      "model_name": "TooltipModel",
      "state": {
       "fields": [
        "x",
        "y"
       ],
       "formats": [
        "",
        "f"
       ],
       "labels": [
        "Date",
        "Number of USB Connections"
       ],
       "layout": "IPY_MODEL_5f3c7aaedf134a5d9dc0b8433f769fe0"
      }
     },
     "5e38b1720f9c41c3899fd3317ec6aeea": {
      "model_module": "bqplot",
      "model_module_version": "^0.3.6",
      "model_name": "BarsModel",
      "state": {
       "color": {
        "type": null,
        "values": null
       },
       "colors": [
        "blue"
       ],
       "display_legend": false,
       "interactions": {
        "click": "select",
        "hover": "tooltip",
        "legend_hover": "highlight_axes"
       },
       "labels": [
        "Number of USB Connections"
       ],
       "scales": {
        "x": "IPY_MODEL_43c75dca21ea49eca3be7f6b9159cb57",
        "y": "IPY_MODEL_27fce31c8cb3451bb78a699e73218277"
       },
       "selected": [],
       "selected_style": {
        "fill": "red"
       },
       "tooltip": "IPY_MODEL_6fbe4e6580da44a4897830e16bdc9cd8",
       "x": {
        "type": "timedelta64[ns]",
        "values": [
         50400000000000,
         32400000000000,
         46800000000000,
         54000000000000,
         36000000000000,
         28800000000000,
         43200000000000,
         39600000000000,
         57600000000000,
         61200000000000,
         25200000000000,
         64800000000000,
         68400000000000,
         79200000000000,
         82800000000000,
         21600000000000,
         75600000000000,
         72000000000000,
         0,
         3600000000000,
         14400000000000,
         18000000000000,
         10800000000000,
         7200000000000
        ]
       },
       "y": {
        "type": "float",
        "values": [
         41.339,
         40.332,
         37.987,
         37.554,
         35.012,
         34.87,
         32.312,
         31.498,
         26.909,
         15.277,
         10.393,
         5.236,
         1.377,
         0.915,
         0.913,
         0.837,
         0.799,
         0.637,
         0.616,
         0.491,
         0.462,
         0.442,
         0.412,
         0.397
        ]
       }
      }
     },
     "5ed78a7e4d4b40549f250b81769db13c": {
      "model_module": "bqplot",
      "model_module_version": "^0.3.6",
      "model_name": "LinearScaleModel",
      "state": {
       "stabilized": false
      }
     },
     "5f1b366897c44dd8bed559eada658db3": {
      "model_module": "bqplot",
      "model_module_version": "^0.3.6",
      "model_name": "LinearScaleModel",
      "state": {
       "allow_padding": false,
       "max": 1,
       "min": 0,
       "stabilized": false
      }
     },
     "5f311bbe3aef4a5d96811b25ed0b793a": {
      "model_module": "@jupyter-widgets/base",
      "model_module_version": "1.0.0",
      "model_name": "LayoutModel",
      "state": {}
     },
     "5f3c7aaedf134a5d9dc0b8433f769fe0": {
      "model_module": "@jupyter-widgets/base",
      "model_module_version": "1.0.0",
      "model_name": "LayoutModel",
      "state": {}
     },
     "5f6ed11f6af34541aa4d68c88938e459": {
      "model_module": "bqplot",
      "model_module_version": "^0.3.6",
      "model_name": "LinearScaleModel",
      "state": {
       "stabilized": false
      }
     },
     "5f97d8ec67fa40fda98e8e1f5348cbed": {
      "model_module": "bqplot",
      "model_module_version": "^0.3.6",
      "model_name": "BarsModel",
      "state": {
       "color": {
        "type": null,
        "values": null
       },
       "colors": [
        "limegreen"
       ],
       "display_legend": false,
       "interactions": {
        "click": "select",
        "hover": "tooltip",
        "legend_hover": "highlight_axes"
       },
       "labels": [
        "Number of USB Connections"
       ],
       "scales": {
        "x": "IPY_MODEL_580d7da53eb94d548cd124bb7a68e2e4",
        "y": "IPY_MODEL_154a5bf32811485982110dbfa79a6a4b"
       },
       "selected": [],
       "selected_style": {
        "fill": "red"
       },
       "tooltip": "IPY_MODEL_2917dac7a708467e873b1be58a4e48df",
       "x": {
        "type": "date",
        "values": [
         "1900-01-01T14:00:00.000000",
         "1900-01-01T09:00:00.000000",
         "1900-01-01T13:00:00.000000",
         "1900-01-01T15:00:00.000000",
         "1900-01-01T10:00:00.000000",
         "1900-01-01T08:00:00.000000",
         "1900-01-01T12:00:00.000000",
         "1900-01-01T11:00:00.000000",
         "1900-01-01T16:00:00.000000",
         "1900-01-01T17:00:00.000000",
         "1900-01-01T07:00:00.000000",
         "1900-01-01T18:00:00.000000",
         "1900-01-01T19:00:00.000000",
         "1900-01-01T22:00:00.000000",
         "1900-01-01T23:00:00.000000",
         "1900-01-01T06:00:00.000000",
         "1900-01-01T21:00:00.000000",
         "1900-01-01T20:00:00.000000",
         "1900-01-01T00:00:00.000000",
         "1900-01-01T01:00:00.000000",
         "1900-01-01T04:00:00.000000",
         "1900-01-01T05:00:00.000000",
         "1900-01-01T03:00:00.000000",
         "1900-01-01T02:00:00.000000"
        ]
       },
       "y": {
        "type": "float",
        "values": [
         41.339,
         40.332,
         37.987,
         37.554,
         35.012,
         34.87,
         32.312,
         31.498,
         26.909,
         15.277,
         10.393,
         5.236,
         1.377,
         0.915,
         0.913,
         0.837,
         0.799,
         0.637,
         0.616,
         0.491,
         0.462,
         0.442,
         0.412,
         0.397
        ]
       }
      }
     },
     "5f9c8eb3a0c34155bd0a6cea36305380": {
      "model_module": "bqplot",
      "model_module_version": "^0.3.6",
      "model_name": "LinearScaleModel",
      "state": {
       "stabilized": false
      }
     },
     "60275f6dd8834c34980f733c0f124ae9": {
      "model_module": "bqplot",
      "model_module_version": "^0.3.6",
      "model_name": "PanZoomModel",
      "state": {
       "scales": {
        "x": [
         "IPY_MODEL_b0d531b61bc540049f4beb9df9b5f689"
        ],
        "y": [
         "IPY_MODEL_356e9a3741664a7d93c780e754f2916c"
        ]
       }
      }
     },
     "6042891ef280440a9727831ec61265cb": {
      "model_module": "bqplot",
      "model_module_version": "^0.3.6",
      "model_name": "AxisModel",
      "state": {
       "label": "Connect Activity",
       "scale": "IPY_MODEL_f715fa39027b4ddd9bffe4ae5019c470",
       "side": "bottom",
       "tick_values": {
        "type": null,
        "values": null
       }
      }
     },
     "604c817149604edf837fc3ba76161e67": {
      "model_module": "bqplot",
      "model_module_version": "^0.3.6",
      "model_name": "LinearScaleModel",
      "state": {
       "allow_padding": false,
       "max": 1,
       "min": 0,
       "stabilized": false
      }
     },
     "60733eb14e85491198e5c41375d81972": {
      "model_module": "bqplot",
      "model_module_version": "^0.3.6",
      "model_name": "FigureModel",
      "state": {
       "_dom_classes": [],
       "animation_duration": 5000,
       "axes": [
        "IPY_MODEL_2bdb3273aa4e42b0852b2faffbc66135",
        "IPY_MODEL_9df699cf3f3b42c0ae9c2802585ed2af"
       ],
       "background_style": {
        "fill": "aliceblue"
       },
       "layout": "IPY_MODEL_8ac656bdd6b34040a0e26ccd49ed02cd",
       "marks": [
        "IPY_MODEL_34da0669c5d74b7b95fc128607a5d4b0"
       ],
       "max_aspect_ratio": 6,
       "scale_x": "IPY_MODEL_cbf46b95f3c34043820ed457c8efe1bd",
       "scale_y": "IPY_MODEL_9b6d9c22c6dc47708354e0074ec5c021",
       "title": "USB Connections"
      }
     },
     "611947aff6644a8fa3282b5d9df51096": {
      "model_module": "@jupyter-widgets/controls",
      "model_module_version": "1.2.0",
      "model_name": "VBoxModel",
      "state": {
       "children": [
        "IPY_MODEL_57e10073c9d44f8e9080d54639fdd816"
       ],
       "layout": "IPY_MODEL_733aae42e5df43d39bbbb2b5b01408f7"
      }
     },
     "611a4c267deb43e6a1dcb2ea2ae0be64": {
      "model_module": "bqplot",
      "model_module_version": "^0.3.6",
      "model_name": "OrdinalScaleModel",
      "state": {
       "domain": []
      }
     },
     "614f309729d242c69b7cf52b33133aad": {
      "model_module": "@jupyter-widgets/controls",
      "model_module_version": "1.2.0",
      "model_name": "DescriptionStyleModel",
      "state": {
       "description_width": ""
      }
     },
     "618cb69a145b42eb8ea8a9fe1ddb5fa6": {
      "model_module": "@jupyter-widgets/base",
      "model_module_version": "1.0.0",
      "model_name": "LayoutModel",
      "state": {}
     },
     "61ea0727281a401eab67e0b07dac30bf": {
      "model_module": "bqplot",
      "model_module_version": "^0.3.6",
      "model_name": "FigureModel",
      "state": {
       "_dom_classes": [],
       "animation_duration": 3000,
       "axes": [
        "IPY_MODEL_2669b1e83e0448cbb516734e44acd960",
        "IPY_MODEL_adb51c403ae240ada16715749a939f02"
       ],
       "background_style": {
        "fill": "aliceblue"
       },
       "layout": "IPY_MODEL_e66adf27db7a4619b093ea97ec24db5c",
       "marks": [
        "IPY_MODEL_1fa22e733c394448a5e8ce80ebe202a3"
       ],
       "max_aspect_ratio": 6,
       "scale_x": "IPY_MODEL_66a5e2782c704f55beca407a734c543a",
       "scale_y": "IPY_MODEL_005489e7e2e74378b5312f6e8dc732fb",
       "title": "USB Connections Per Employee"
      }
     },
     "62160df23e6445a8a3f86e89770db46e": {
      "model_module": "bqplot",
      "model_module_version": "^0.3.6",
      "model_name": "PanZoomModel",
      "state": {
       "scales": {
        "x": [
         "IPY_MODEL_f0ee23b5e38643aa82be40da0831d46c"
        ],
        "y": [
         "IPY_MODEL_7070db9713e64a2a8ee76a4e10621d24"
        ]
       }
      }
     },
     "6230b6919c8d445d9a1ede9d9263615a": {
      "model_module": "bqplot",
      "model_module_version": "^0.3.6",
      "model_name": "TooltipModel",
      "state": {
       "fields": [
        "x",
        "y"
       ],
       "formats": [
        "",
        "f"
       ],
       "labels": [
        "Date",
        "Number of USB Connections"
       ],
       "layout": "IPY_MODEL_d34acd5e67d646ec9b0c05d50b6e946d"
      }
     },
     "6245d3e22cc14ec6b294fde33fe338e8": {
      "model_module": "bqplot",
      "model_module_version": "^0.3.6",
      "model_name": "BarsModel",
      "state": {
       "color": {
        "type": null,
        "values": null
       },
       "colors": [
        "skyblue"
       ],
       "display_legend": false,
       "interactions": {
        "click": "select",
        "hover": "tooltip",
        "legend_hover": "highlight_axes"
       },
       "labels": [
        "Number of USB Connections"
       ],
       "scales": {
        "x": "IPY_MODEL_fa76522f66df47aebba3a63d89125640",
        "y": "IPY_MODEL_d81cf6b17c19469ca28bdfaecaf33c70"
       },
       "selected": [],
       "selected_style": {
        "fill": "red"
       },
       "tooltip": "IPY_MODEL_dab2c22a4c1b4333bd2757730c6105a9",
       "x": {
        "type": "date",
        "values": [
         "1970-01-01T07:00:00.000000",
         "1970-01-01T08:00:00.000000",
         "1970-01-01T09:00:00.000000",
         "1970-01-01T10:00:00.000000",
         "1970-01-01T11:00:00.000000",
         "1970-01-01T12:00:00.000000",
         "1970-01-01T13:00:00.000000",
         "1970-01-01T14:00:00.000000",
         "1970-01-01T15:00:00.000000",
         "1970-01-01T16:00:00.000000",
         "1970-01-01T19:00:00.000000",
         "1970-01-01T20:00:00.000000"
        ]
       },
       "y": {
        "type": "float",
        "values": [
         1,
         22,
         18,
         14,
         17,
         9,
         19,
         26,
         27,
         7,
         1,
         2
        ]
       }
      }
     },
     "624aeed7ea5b49329cf53e40b481bb41": {
      "model_module": "@jupyter-widgets/base",
      "model_module_version": "1.0.0",
      "model_name": "LayoutModel",
      "state": {}
     },
     "62883a75a62c4fb2919ec239ca5ce9fb": {
      "model_module": "bqplot",
      "model_module_version": "^0.3.6",
      "model_name": "TooltipModel",
      "state": {
       "fields": [
        "x",
        "y"
       ],
       "formats": [
        "",
        "0.2f"
       ],
       "labels": [
        "Activity",
        "Count"
       ],
       "layout": "IPY_MODEL_9febc4febded476b9ecca7315c3f5eb9"
      }
     },
     "62e55f4a89184d61a294022504a64f87": {
      "model_module": "bqplot",
      "model_module_version": "^0.3.6",
      "model_name": "FigureModel",
      "state": {
       "_dom_classes": [],
       "animation_duration": 5000,
       "axes": [
        "IPY_MODEL_5202b9248bc34473acfe0aac9a04855d",
        "IPY_MODEL_d28bee6b8f324e15918005eeadc4ad62"
       ],
       "background_style": {
        "fill": "aliceblue"
       },
       "layout": "IPY_MODEL_b911fbd85f9a4a77af90ee01dd13096f",
       "marks": [
        "IPY_MODEL_4001ecc0c0034e34831bfeeea0a3cd33"
       ],
       "max_aspect_ratio": 6,
       "scale_x": "IPY_MODEL_067879f23a38484bb06918b828d08331",
       "scale_y": "IPY_MODEL_9ec18425578f48cbbfe40a9f049f0d69",
       "title": "Proportion of Connect Activity"
      }
     },
     "63171e82845e44b4b9d3769c6d693935": {
      "model_module": "bqplot",
      "model_module_version": "^0.3.6",
      "model_name": "AxisModel",
      "state": {
       "label": "Number of USB Connections",
       "orientation": "vertical",
       "scale": "IPY_MODEL_154a5bf32811485982110dbfa79a6a4b",
       "side": "left",
       "tick_format": "0.2f",
       "tick_values": {
        "type": null,
        "values": null
       }
      }
     },
     "631a3514a106403ab3ba58220db3f8eb": {
      "model_module": "bqplot",
      "model_module_version": "^0.3.6",
      "model_name": "TooltipModel",
      "state": {
       "fields": [
        "x",
        "y"
       ],
       "formats": [
        "",
        "0.2f"
       ],
       "labels": [
        "Date",
        "Email Size"
       ],
       "layout": "IPY_MODEL_cfc7e0171a974185841ab007a805149f"
      }
     },
     "633d0494cae642a7a5f7f0b577c794af": {
      "model_module": "bqplot",
      "model_module_version": "^0.3.6",
      "model_name": "TooltipModel",
      "state": {
       "fields": [
        "index",
        "name"
       ],
       "formats": [
        "",
        "0.2f"
       ],
       "labels": [
        "User ID",
        "Email Size"
       ],
       "layout": "IPY_MODEL_d3694aba8fb347dfa13297ee027004a6"
      }
     },
     "6363d4779df44d39857f7261044b307d": {
      "model_module": "@jupyter-widgets/base",
      "model_module_version": "1.0.0",
      "model_name": "LayoutModel",
      "state": {}
     },
     "63ddf5722fe6402584ccbc9be8ebc9d3": {
      "model_module": "@jupyter-widgets/base",
      "model_module_version": "1.0.0",
      "model_name": "LayoutModel",
      "state": {}
     },
     "63efb0f1add5452ca2c6dd47e874a5c8": {
      "model_module": "@jupyter-widgets/controls",
      "model_module_version": "1.2.0",
      "model_name": "DescriptionStyleModel",
      "state": {
       "description_width": ""
      }
     },
     "6402601d56f24ee9a6b4505b8c187dd4": {
      "model_module": "@jupyter-widgets/base",
      "model_module_version": "1.0.0",
      "model_name": "LayoutModel",
      "state": {}
     },
     "64255444ee5b4be180c81ffd4a7cdefb": {
      "model_module": "@jupyter-widgets/controls",
      "model_module_version": "1.2.0",
      "model_name": "HBoxModel",
      "state": {
       "children": [
        "IPY_MODEL_423cdf76b6e74414b7863ed412081a10"
       ],
       "layout": "IPY_MODEL_294edcde15c94507b9b36d069bb60afb"
      }
     },
     "645f01363aac4e958234d0abd304de97": {
      "model_module": "bqplot",
      "model_module_version": "^0.3.6",
      "model_name": "BarsModel",
      "state": {
       "color": {
        "type": null,
        "values": null
       },
       "colors": [
        "dodgerblue"
       ],
       "display_legend": false,
       "interactions": {
        "click": "select",
        "hover": "tooltip",
        "legend_hover": "highlight_axes"
       },
       "labels": [
        "Directory name"
       ],
       "padding": 0.2,
       "scales": {
        "x": "IPY_MODEL_6a03b1526a27427ea94d73a6fadf8027",
        "y": "IPY_MODEL_4fbcf2e8aea645849220a676230fb8ff"
       },
       "selected": [],
       "selected_style": {
        "fill": "red"
       },
       "tooltip": "IPY_MODEL_9d9f42d2ad224fd89ebc81a01c4b0ba6",
       "x": {
        "type": "object",
        "values": [
         "R:\\CTC0859",
         "R:\\189XJ29",
         "R:\\37Ntzz0",
         "R:\\CKP3600",
         "R:\\61mrHg0",
         "R:\\52G6677",
         "R:\\ACM2278",
         "R:\\782bxm8",
         "R:\\XAB0936",
         "R:\\29P96D6"
        ]
       },
       "y": {
        "type": "float",
        "values": [
         21,
         21,
         20,
         20,
         20,
         9,
         9,
         9,
         2,
         2
        ]
       }
      }
     },
     "64627fde8a7b412b8ca53838f5662537": {
      "model_module": "bqplot",
      "model_module_version": "^0.3.6",
      "model_name": "LinearScaleModel",
      "state": {
       "stabilized": false
      }
     },
     "64661b2252f743aa921c234716120a60": {
      "model_module": "@jupyter-widgets/base",
      "model_module_version": "1.0.0",
      "model_name": "LayoutModel",
      "state": {}
     },
     "646cc6d7e9e6402a9166a8419575c908": {
      "model_module": "bqplot",
      "model_module_version": "^0.3.6",
      "model_name": "FigureModel",
      "state": {
       "_dom_classes": [],
       "animation_duration": 5000,
       "axes": [
        "IPY_MODEL_81bd2740be3446c19726c6503bb4d27c",
        "IPY_MODEL_69280e53c2664545a62d2e556cbc81a8"
       ],
       "background_style": {
        "fill": "aliceblue"
       },
       "layout": "IPY_MODEL_e66adf27db7a4619b093ea97ec24db5c",
       "marks": [
        "IPY_MODEL_7507943b8807485f9ae169aa68940435"
       ],
       "max_aspect_ratio": 6,
       "scale_x": "IPY_MODEL_bd95dfbf95894d8fb158cd3c1bb976a5",
       "scale_y": "IPY_MODEL_1f1137686c06476a8f1a587ffebbb6c4",
       "title": "USB Connections Per Employee"
      }
     },
     "64920f07b4ce48c29d53432fe9d73cb5": {
      "model_module": "bqplot",
      "model_module_version": "^0.3.6",
      "model_name": "PanZoomModel",
      "state": {
       "scales": {
        "x": [
         "IPY_MODEL_864de7ed8c644adeb306ce307f06dd67"
        ],
        "y": [
         "IPY_MODEL_3833761029e748b18e276ab68545354f"
        ]
       }
      }
     },
     "64cf8c8406c246e18e8b141ab4779efc": {
      "model_module": "bqplot",
      "model_module_version": "^0.3.6",
      "model_name": "BarsModel",
      "state": {
       "color": {
        "type": null,
        "values": null
       },
       "colors": [
        "blue"
       ],
       "interactions": {
        "click": "select",
        "hover": "tooltip",
        "legend_hover": "highlight_axes"
       },
       "labels": [
        "Email"
       ],
       "scales": {
        "x": "IPY_MODEL_1b3de43866ad4b31bb6eed919e4e5b4e",
        "y": "IPY_MODEL_bfc657263aaa44bba2743f852d7a86b2"
       },
       "selected": [],
       "selected_style": {
        "fill": "red"
       },
       "tooltip": "IPY_MODEL_21b9da7f94434be891bcf3a2a47702fa",
       "x": {
        "type": "date",
        "values": [
         "1900-01-01T14:00:00.000000",
         "1900-01-01T09:00:00.000000",
         "1900-01-01T13:00:00.000000",
         "1900-01-01T15:00:00.000000",
         "1900-01-01T10:00:00.000000",
         "1900-01-01T08:00:00.000000",
         "1900-01-01T12:00:00.000000",
         "1900-01-01T11:00:00.000000",
         "1900-01-01T16:00:00.000000",
         "1900-01-01T17:00:00.000000",
         "1900-01-01T07:00:00.000000",
         "1900-01-01T18:00:00.000000",
         "1900-01-01T19:00:00.000000",
         "1900-01-01T22:00:00.000000",
         "1900-01-01T23:00:00.000000",
         "1900-01-01T06:00:00.000000",
         "1900-01-01T21:00:00.000000",
         "1900-01-01T20:00:00.000000",
         "1900-01-01T00:00:00.000000",
         "1900-01-01T01:00:00.000000",
         "1900-01-01T04:00:00.000000",
         "1900-01-01T05:00:00.000000",
         "1900-01-01T03:00:00.000000",
         "1900-01-01T02:00:00.000000"
        ]
       },
       "y": {
        "type": "float",
        "values": [
         41.339,
         40.332,
         37.987,
         37.554,
         35.012,
         34.87,
         32.312,
         31.498,
         26.909,
         15.277,
         10.393,
         5.236,
         1.377,
         0.915,
         0.913,
         0.837,
         0.799,
         0.637,
         0.616,
         0.491,
         0.462,
         0.442,
         0.412,
         0.397
        ]
       }
      }
     },
     "64df505db7ba43f5961c18fa29767514": {
      "model_module": "bqplot",
      "model_module_version": "^0.3.6",
      "model_name": "LinearScaleModel",
      "state": {
       "stabilized": false
      }
     },
     "64f3185b554740969bdbfe61872d0513": {
      "model_module": "bqplot",
      "model_module_version": "^0.3.6",
      "model_name": "LinearScaleModel",
      "state": {
       "allow_padding": false,
       "max": 1,
       "min": 0,
       "stabilized": false
      }
     },
     "6528f55ec62d44cc8fb0a4bba0f2ab7a": {
      "model_module": "@jupyter-widgets/controls",
      "model_module_version": "1.2.0",
      "model_name": "VBoxModel",
      "state": {
       "children": [
        "IPY_MODEL_97da337071784883b62091fcde2d2a6a"
       ],
       "layout": "IPY_MODEL_42c8d99e5e4744b19ebf96b8e1dcf8ee"
      }
     },
     "656b637b186b45f4b7f6953d18be1370": {
      "model_module": "@jupyter-widgets/base",
      "model_module_version": "1.0.0",
      "model_name": "LayoutModel",
      "state": {}
     },
     "65d68c003ad64f1a889e15351ccdf22a": {
      "model_module": "@jupyter-widgets/controls",
      "model_module_version": "1.2.0",
      "model_name": "HBoxModel",
      "state": {
       "children": [
        "IPY_MODEL_21bb47a838394ba289eca92efeb25364"
       ],
       "layout": "IPY_MODEL_e6f87fa8b7d245e2bf57a9fcc04570d8"
      }
     },
     "669df4b3a1504a5e8da982550040185d": {
      "model_module": "bqplot",
      "model_module_version": "^0.3.6",
      "model_name": "LinearScaleModel",
      "state": {
       "allow_padding": false,
       "max": 1,
       "min": 0,
       "stabilized": false
      }
     },
     "66a5e2782c704f55beca407a734c543a": {
      "model_module": "bqplot",
      "model_module_version": "^0.3.6",
      "model_name": "LinearScaleModel",
      "state": {
       "allow_padding": false,
       "max": 1,
       "min": 0,
       "stabilized": false
      }
     },
     "66f6f5b758cd4c558530f2bd2a2a05dd": {
      "model_module": "bqplot",
      "model_module_version": "^0.3.6",
      "model_name": "BarsModel",
      "state": {
       "color": {
        "type": null,
        "values": null
       },
       "colors": [
        "skyblue"
       ],
       "display_legend": false,
       "interactions": {
        "click": "select",
        "hover": "tooltip",
        "legend_hover": "highlight_axes"
       },
       "labels": [
        "Number of USB Connections"
       ],
       "scales": {
        "x": "IPY_MODEL_250ade01ed1e4999a4a14fe0755f7f72",
        "y": "IPY_MODEL_e455265fe2444d24a12e9e981a985d43"
       },
       "selected": [
        1
       ],
       "selected_style": {
        "fill": "red"
       },
       "tooltip": "IPY_MODEL_15703943a84449768a1914c8ec57746e",
       "x": {
        "type": "date",
        "values": [
         "1970-01-01T07:00:00.000000",
         "1970-01-01T08:00:00.000000",
         "1970-01-01T09:00:00.000000",
         "1970-01-01T10:00:00.000000",
         "1970-01-01T11:00:00.000000",
         "1970-01-01T12:00:00.000000",
         "1970-01-01T13:00:00.000000",
         "1970-01-01T14:00:00.000000",
         "1970-01-01T15:00:00.000000",
         "1970-01-01T16:00:00.000000",
         "1970-01-01T19:00:00.000000",
         "1970-01-01T20:00:00.000000"
        ]
       },
       "y": {
        "type": "float",
        "values": [
         1,
         22,
         18,
         14,
         17,
         9,
         19,
         26,
         27,
         7,
         1,
         2
        ]
       }
      }
     },
     "675c061c77bf4d6db7f3a67abed644aa": {
      "model_module": "@jupyter-widgets/base",
      "model_module_version": "1.0.0",
      "model_name": "LayoutModel",
      "state": {}
     },
     "677439f11a8048ebad80fc5f19dd7190": {
      "model_module": "bqplot",
      "model_module_version": "^0.3.6",
      "model_name": "LinearScaleModel",
      "state": {
       "allow_padding": false,
       "max": 1,
       "min": 0,
       "stabilized": false
      }
     },
     "67acdbf927e64a7b9ae42ccf0d8743cf": {
      "model_module": "bqplot",
      "model_module_version": "^0.3.6",
      "model_name": "AxisModel",
      "state": {
       "label": "Connect Activity",
       "scale": "IPY_MODEL_c5d6aef04caf4870abf6c2e10531ea39",
       "side": "bottom",
       "tick_values": {
        "type": null,
        "values": null
       }
      }
     },
     "681f500ae8f14cdc9504a9dc1150d314": {
      "model_module": "@jupyter-widgets/base",
      "model_module_version": "1.0.0",
      "model_name": "LayoutModel",
      "state": {}
     },
     "68365d6f35b54ab997aeb0da14a57974": {
      "model_module": "@jupyter-widgets/base",
      "model_module_version": "1.0.0",
      "model_name": "LayoutModel",
      "state": {}
     },
     "686330a0567845d0a6807cea7ebacab0": {
      "model_module": "bqplot",
      "model_module_version": "^0.3.6",
      "model_name": "LinearScaleModel",
      "state": {
       "allow_padding": false,
       "max": 1,
       "min": 0,
       "stabilized": false
      }
     },
     "6883e4983f914ed6ba3525fee8e84342": {
      "model_module": "bqplot",
      "model_module_version": "^0.3.6",
      "model_name": "BarsModel",
      "state": {
       "color": {
        "type": null,
        "values": null
       },
       "colors": [
        "skyblue"
       ],
       "display_legend": false,
       "interactions": {
        "click": "select",
        "hover": "tooltip",
        "legend_hover": "highlight_axes"
       },
       "labels": [
        "Number of USB Connections"
       ],
       "scales": {
        "x": "IPY_MODEL_26b9a5c10fed49a385b79aaa0fc3282a",
        "y": "IPY_MODEL_25d2cf8ddd594096b8bbea46148ddc9f"
       },
       "selected": [],
       "selected_style": {
        "fill": "red"
       },
       "tooltip": "IPY_MODEL_b7059e70e87c4404ac3624cfb3a46d81",
       "x": {
        "type": "date",
        "values": [
         "1970-01-01T07:00:00.000000",
         "1970-01-01T08:00:00.000000",
         "1970-01-01T09:00:00.000000",
         "1970-01-01T10:00:00.000000",
         "1970-01-01T11:00:00.000000",
         "1970-01-01T12:00:00.000000",
         "1970-01-01T13:00:00.000000",
         "1970-01-01T14:00:00.000000",
         "1970-01-01T15:00:00.000000",
         "1970-01-01T16:00:00.000000",
         "1970-01-01T19:00:00.000000",
         "1970-01-01T20:00:00.000000"
        ]
       },
       "y": {
        "type": "float",
        "values": [
         0.001,
         0.022,
         0.018,
         0.014,
         0.017,
         0.009,
         0.019,
         0.026,
         0.027,
         0.007,
         0.001,
         0.002
        ]
       }
      }
     },
     "68d28efd786d4518b5d3443e9fd891bb": {
      "model_module": "bqplot",
      "model_module_version": "^0.3.6",
      "model_name": "LinearScaleModel",
      "state": {
       "allow_padding": false,
       "max": 1,
       "min": 0,
       "stabilized": false
      }
     },
     "68eb53bfbaa74d4695347ba35dbf0659": {
      "model_module": "bqplot",
      "model_module_version": "^0.3.6",
      "model_name": "AxisModel",
      "state": {
       "label": "Number of USB Connections",
       "orientation": "vertical",
       "scale": "IPY_MODEL_1a13a74babb740638c327c3dbd3d65f8",
       "side": "left",
       "tick_format": "0.2f",
       "tick_values": {
        "type": null,
        "values": null
       }
      }
     },
     "691fd8bec6fb4b01a0ca7d3b2f84d814": {
      "model_module": "bqplot",
      "model_module_version": "^0.3.6",
      "model_name": "LinearScaleModel",
      "state": {
       "allow_padding": false,
       "max": 1,
       "min": 0,
       "stabilized": false
      }
     },
     "69280e53c2664545a62d2e556cbc81a8": {
      "model_module": "bqplot",
      "model_module_version": "^0.3.6",
      "model_name": "AxisModel",
      "state": {
       "label": "Number of USB Connections",
       "orientation": "vertical",
       "scale": "IPY_MODEL_69b446cb367f4e48a98c441fd4acf222",
       "side": "left",
       "tick_format": "f",
       "tick_values": {
        "type": null,
        "values": null
       }
      }
     },
     "692827a8e8194d0ea0b4bfca26efcac3": {
      "model_module": "bqplot",
      "model_module_version": "^0.3.6",
      "model_name": "PanZoomModel",
      "state": {
       "scales": {
        "x": [
         "IPY_MODEL_4c56351efb7a4109a9d4a7113999ba64"
        ],
        "y": [
         "IPY_MODEL_814ae6d39bb143b4bd380e68b6594cab"
        ]
       }
      }
     },
     "698a44deda8c428dad2657965890e088": {
      "model_module": "@jupyter-widgets/controls",
      "model_module_version": "1.2.0",
      "model_name": "VBoxModel",
      "state": {
       "children": [
        "IPY_MODEL_cd9584d0a5954afb841e73fd21404d0f"
       ],
       "layout": "IPY_MODEL_8bf80cad052f41a8bf30aca9d1fdc9c8"
      }
     },
     "698d9b18d9cf425eb56bff784fc2bf9b": {
      "model_module": "bqplot",
      "model_module_version": "^0.3.6",
      "model_name": "FigureModel",
      "state": {
       "_dom_classes": [],
       "animation_duration": 5000,
       "axes": [
        "IPY_MODEL_4791b424764e4b05b7c6b8222eb76cf8",
        "IPY_MODEL_4fed8c54e25a407cb8870963f52132b1"
       ],
       "background_style": {
        "fill": "aliceblue"
       },
       "layout": "IPY_MODEL_e66adf27db7a4619b093ea97ec24db5c",
       "marks": [
        "IPY_MODEL_a15edab4a2ef41928c184ed87d646925"
       ],
       "max_aspect_ratio": 6,
       "scale_x": "IPY_MODEL_3d5f72834ef24f9898c3de00e26702be",
       "scale_y": "IPY_MODEL_36b6f421774e4b54af87e8908e0fa3a2",
       "title": "USB Connections Per Employee"
      }
     },
     "69b446cb367f4e48a98c441fd4acf222": {
      "model_module": "bqplot",
      "model_module_version": "^0.3.6",
      "model_name": "LinearScaleModel",
      "state": {
       "stabilized": false
      }
     },
     "6a03b1526a27427ea94d73a6fadf8027": {
      "model_module": "bqplot",
      "model_module_version": "^0.3.6",
      "model_name": "OrdinalScaleModel",
      "state": {
       "domain": []
      }
     },
     "6a10ab1e7e6a4e38a9ae60a6a7d9d242": {
      "model_module": "bqplot",
      "model_module_version": "^0.3.6",
      "model_name": "AxisModel",
      "state": {
       "label": "Number of USB Connections",
       "orientation": "vertical",
       "scale": "IPY_MODEL_3d39c94beec946a18eefd1c94bd320e4",
       "side": "left",
       "tick_format": "f",
       "tick_values": {
        "type": null,
        "values": null
       }
      }
     },
     "6a4c90d1b0d54af2bea438311b8dfa4b": {
      "model_module": "bqplot",
      "model_module_version": "^0.3.6",
      "model_name": "LinearScaleModel",
      "state": {
       "stabilized": false
      }
     },
     "6aa3181fbd984d72aae9961f807f7c98": {
      "model_module": "@jupyter-widgets/base",
      "model_module_version": "1.0.0",
      "model_name": "LayoutModel",
      "state": {}
     },
     "6abaf0858a594a26885ec95647762069": {
      "model_module": "@jupyter-widgets/base",
      "model_module_version": "1.0.0",
      "model_name": "LayoutModel",
      "state": {}
     },
     "6adee4b0d56f40cfb72573df719ba621": {
      "model_module": "bqplot",
      "model_module_version": "^0.3.6",
      "model_name": "PanZoomModel",
      "state": {
       "scales": {
        "x": [
         "IPY_MODEL_11c5457a80634a21a4ea3601019885b7"
        ],
        "y": [
         "IPY_MODEL_b9ef3f28071945e3904f67d7547685f1"
        ]
       }
      }
     },
     "6af692ef034f4ac999dab519b64f1b32": {
      "model_module": "@jupyter-widgets/base",
      "model_module_version": "1.0.0",
      "model_name": "LayoutModel",
      "state": {}
     },
     "6b005c66ae414cc98a68a00bdeb73a1d": {
      "model_module": "bqplot",
      "model_module_version": "^0.3.6",
      "model_name": "AxisModel",
      "state": {
       "label": "Directory name",
       "scale": "IPY_MODEL_89376407eb3d45369b5ac3d6c54bc652",
       "side": "bottom",
       "tick_values": {
        "type": null,
        "values": null
       }
      }
     },
     "6b126332a0c941d0a9729ec52fd85021": {
      "model_module": "bqplot",
      "model_module_version": "^0.3.6",
      "model_name": "TooltipModel",
      "state": {
       "fields": [
        "x",
        "y"
       ],
       "formats": [
        "",
        "0.1f"
       ],
       "labels": [
        "Computer ID",
        "Activity"
       ],
       "layout": "IPY_MODEL_d6f632375dab4cdaa8dfe2bcc7f7a786"
      }
     },
     "6b835a2da0744083995be6ccc3d2ce43": {
      "model_module": "@jupyter-widgets/controls",
      "model_module_version": "1.2.0",
      "model_name": "VBoxModel",
      "state": {
       "children": [
        "IPY_MODEL_d79fb158eb1547eca985ffeee3c781d9"
       ],
       "layout": "IPY_MODEL_05937611ad9243d39249c5b4638e7318"
      }
     },
     "6beab8683d4e4cc2808ec6eb1d98eaab": {
      "model_module": "bqplot",
      "model_module_version": "^0.3.6",
      "model_name": "AxisModel",
      "state": {
       "label": "Connect Activity",
       "scale": "IPY_MODEL_0100685be9044a1e879b2406b3f8426f",
       "side": "bottom",
       "tick_values": {
        "type": null,
        "values": null
       }
      }
     },
     "6ca8921c809f4d8bb84d47e89d6cf6f6": {
      "model_module": "bqplot",
      "model_module_version": "^0.3.6",
      "model_name": "LinearScaleModel",
      "state": {
       "allow_padding": false,
       "max": 1,
       "min": 0,
       "stabilized": false
      }
     },
     "6cd1f1aea4964fa99d7d0f61e41972e5": {
      "model_module": "@jupyter-widgets/base",
      "model_module_version": "1.0.0",
      "model_name": "LayoutModel",
      "state": {}
     },
     "6d01f7439b724396abe8ae22a1a0b0be": {
      "model_module": "@jupyter-widgets/base",
      "model_module_version": "1.0.0",
      "model_name": "LayoutModel",
      "state": {}
     },
     "6d4fc5cefa4a47ab9b7d9e21679270bb": {
      "model_module": "bqplot",
      "model_module_version": "^0.3.6",
      "model_name": "LinearScaleModel",
      "state": {
       "stabilized": false
      }
     },
     "6d7305bdc79448c5a41390d0bdcd85ae": {
      "model_module": "@jupyter-widgets/base",
      "model_module_version": "1.0.0",
      "model_name": "LayoutModel",
      "state": {}
     },
     "6ddb7a11d59442849d5619d61c18fe6f": {
      "model_module": "@jupyter-widgets/controls",
      "model_module_version": "1.2.0",
      "model_name": "DropdownModel",
      "state": {
       "_options_labels": [
        "AAC0610",
        "AAP1919"
       ],
       "description": "Select Employee Id",
       "index": 0,
       "layout": "IPY_MODEL_9ae2e923a43b416b8823dde20e2c51ac",
       "style": "IPY_MODEL_c4775242bcf54476a86fb79965d86953"
      }
     },
     "6e35cd21670c4410b0bcfa0c0edf4d14": {
      "model_module": "bqplot",
      "model_module_version": "^0.3.6",
      "model_name": "AxisModel",
      "state": {
       "label": "Number of USB Connections",
       "orientation": "vertical",
       "scale": "IPY_MODEL_92c9eb3da5f945dba850a3a4ddef341a",
       "side": "left",
       "tick_format": "f",
       "tick_values": {
        "type": null,
        "values": null
       }
      }
     },
     "6e4da99445ee4177959f43230cda2b8a": {
      "model_module": "bqplot",
      "model_module_version": "^0.3.6",
      "model_name": "AxisModel",
      "state": {
       "label": "Number of USB Connections",
       "orientation": "vertical",
       "scale": "IPY_MODEL_25d2cf8ddd594096b8bbea46148ddc9f",
       "side": "left",
       "tick_format": "f",
       "tick_values": {
        "type": null,
        "values": null
       }
      }
     },
     "6e956019a9d5493ea5a88bb05c1a6057": {
      "model_module": "bqplot",
      "model_module_version": "^0.3.6",
      "model_name": "AxisModel",
      "state": {
       "label": "Hours of the Day",
       "scale": "IPY_MODEL_b8897bc045174e5d99e267daa3d8623a",
       "side": "bottom",
       "tick_values": {
        "type": null,
        "values": null
       }
      }
     },
     "6f40e1a8d3ac4a918dd08281c6efacb0": {
      "model_module": "@jupyter-widgets/controls",
      "model_module_version": "1.2.0",
      "model_name": "HBoxModel",
      "state": {
       "children": [
        "IPY_MODEL_a5fbd8546fa445a59ecba017fcf0920d"
       ],
       "layout": "IPY_MODEL_8e3c6ba2cd7548d3a4b4c8580dc76999"
      }
     },
     "6f6b8b74fbb34018b369cafa24c7c49f": {
      "model_module": "@jupyter-widgets/controls",
      "model_module_version": "1.2.0",
      "model_name": "VBoxModel",
      "state": {
       "children": [
        "IPY_MODEL_79a5963ab7144660909240904cd33cc5",
        "IPY_MODEL_e13f30795b05482fae21ce6753023fb7"
       ],
       "layout": "IPY_MODEL_fd7041dcf2cb476993fde75a512e216e"
      }
     },
     "6fabae05ef454ae980d0286e1bb8c9ce": {
      "model_module": "bqplot",
      "model_module_version": "^0.3.6",
      "model_name": "FigureModel",
      "state": {
       "_dom_classes": [],
       "animation_duration": 5000,
       "axes": [
        "IPY_MODEL_3855b1461e2a47158ce8c610478450f0",
        "IPY_MODEL_dc1ea845d59f48ab95c671419fb15991"
       ],
       "background_style": {
        "fill": "aliceblue"
       },
       "layout": "IPY_MODEL_8ac656bdd6b34040a0e26ccd49ed02cd",
       "marks": [
        "IPY_MODEL_4b31345d439348cfb9920fe8d17a5e34"
       ],
       "max_aspect_ratio": 6,
       "scale_x": "IPY_MODEL_677439f11a8048ebad80fc5f19dd7190",
       "scale_y": "IPY_MODEL_64f3185b554740969bdbfe61872d0513",
       "title": "USB Connections"
      }
     },
     "6fbe4e6580da44a4897830e16bdc9cd8": {
      "model_module": "bqplot",
      "model_module_version": "^0.3.6",
      "model_name": "TooltipModel",
      "state": {
       "fields": [
        "x",
        "y"
       ],
       "formats": [
        "",
        "0.2f"
       ],
       "labels": [
        "Date",
        "Number of USB Connections"
       ],
       "layout": "IPY_MODEL_352671acb8474b8fbb06cd8bb28f4b5d"
      }
     },
     "6fdeb5c864404a91a5ca2a7d4ae5df71": {
      "model_module": "bqplot",
      "model_module_version": "^0.3.6",
      "model_name": "AxisModel",
      "state": {
       "label": "Connect Activity",
       "scale": "IPY_MODEL_7c623f0dc53d454ab1f4e35ce8091346",
       "side": "bottom",
       "tick_values": {
        "type": null,
        "values": null
       }
      }
     },
     "700e43ce39514ec48153b765ea575365": {
      "model_module": "@jupyter-widgets/base",
      "model_module_version": "1.0.0",
      "model_name": "LayoutModel",
      "state": {}
     },
     "701c79731c864aa183fd56e9cf262186": {
      "model_module": "bqplot",
      "model_module_version": "^0.3.6",
      "model_name": "AxisModel",
      "state": {
       "label": "Number of Emails",
       "orientation": "vertical",
       "scale": "IPY_MODEL_f3e2dd1edfb6412dadbb17743f548779",
       "side": "left",
       "tick_format": "0.2f",
       "tick_values": {
        "type": null,
        "values": null
       }
      }
     },
     "702db2298dc3442e9d80addc15b3662b": {
      "model_module": "bqplot",
      "model_module_version": "^0.3.6",
      "model_name": "LinearScaleModel",
      "state": {
       "stabilized": false
      }
     },
     "702e7e1f4e4943cf9b03be060552417a": {
      "model_module": "bqplot",
      "model_module_version": "^0.3.6",
      "model_name": "AxisModel",
      "state": {
       "label": "Computer ID",
       "scale": "IPY_MODEL_79e48fd9bd3944e6a5d25bb0afdcf289",
       "side": "bottom",
       "tick_values": {
        "type": null,
        "values": null
       }
      }
     },
     "70382a2245244122b1abc3d8dc6ec508": {
      "model_module": "@jupyter-widgets/base",
      "model_module_version": "1.0.0",
      "model_name": "LayoutModel",
      "state": {}
     },
     "703a77b68818477eafb43c393e0def9e": {
      "model_module": "bqplot",
      "model_module_version": "^0.3.6",
      "model_name": "LinearScaleModel",
      "state": {
       "allow_padding": false,
       "max": 1,
       "min": 0,
       "stabilized": false
      }
     },
     "70655e86f26242a5959077ddd81bf8b8": {
      "model_module": "bqplot",
      "model_module_version": "^0.3.6",
      "model_name": "PanZoomModel",
      "state": {
       "scales": {
        "x": [
         "IPY_MODEL_39c75904164141519b314328e1a206fa"
        ],
        "y": [
         "IPY_MODEL_90410074946345708b3ec903c1bbd704"
        ]
       }
      }
     },
     "7070db9713e64a2a8ee76a4e10621d24": {
      "model_module": "bqplot",
      "model_module_version": "^0.3.6",
      "model_name": "LinearScaleModel",
      "state": {
       "stabilized": false
      }
     },
     "70a22c849f884ba7b97d0af3c39736d0": {
      "model_module": "bqplot",
      "model_module_version": "^0.3.6",
      "model_name": "AxisModel",
      "state": {
       "label": "Number of Emails",
       "orientation": "vertical",
       "scale": "IPY_MODEL_49a15b81aab0485ab6b0fdf5fec51eeb",
       "side": "left",
       "tick_format": "0.2f",
       "tick_values": {
        "type": null,
        "values": null
       }
      }
     },
     "710b2c003f834043ac500a5261ddcc4d": {
      "model_module": "bqplot",
      "model_module_version": "^0.3.6",
      "model_name": "FigureModel",
      "state": {
       "_dom_classes": [],
       "animation_duration": 5000,
       "axes": [
        "IPY_MODEL_d5986079f0df40f3b99af2d18ccb9a34",
        "IPY_MODEL_dfbf7cd81b6a4992a18147f0d28a4029"
       ],
       "background_style": {
        "fill": "aliceblue"
       },
       "layout": "IPY_MODEL_360a2d7a357046b58bad9a48c3a6e8c9",
       "legend_style": {
        "fill": "white"
       },
       "marks": [
        "IPY_MODEL_f38adc06d4f843d7bec864ccc3f00408"
       ],
       "max_aspect_ratio": 6,
       "scale_x": "IPY_MODEL_68d28efd786d4518b5d3443e9fd891bb",
       "scale_y": "IPY_MODEL_c5a046b22e05407f815fd168024b8560",
       "title": "Proportion of Directory Access"
      }
     },
     "714be27381dc4151b0d3bf1c54098fff": {
      "model_module": "bqplot",
      "model_module_version": "^0.3.6",
      "model_name": "FigureModel",
      "state": {
       "_dom_classes": [],
       "animation_duration": 5000,
       "axes": [
        "IPY_MODEL_225f5f27b75746f8aff65de49640e35c",
        "IPY_MODEL_2befeb1770394a98a334144f61ad8b6e"
       ],
       "background_style": {
        "fill": "aliceblue"
       },
       "layout": "IPY_MODEL_8ac656bdd6b34040a0e26ccd49ed02cd",
       "marks": [
        "IPY_MODEL_390ac640b16044ad890243b1f17d7df6"
       ],
       "max_aspect_ratio": 6,
       "scale_x": "IPY_MODEL_90bcbb8723fb4155a49ff12486aa0d83",
       "scale_y": "IPY_MODEL_e3a7c2ee918c4f62807953258d0a56fd",
       "title": "USB Connections"
      }
     },
     "715436ca8e2a47179433bec9786e4deb": {
      "model_module": "bqplot",
      "model_module_version": "^0.3.6",
      "model_name": "PanZoomModel",
      "state": {
       "scales": {
        "x": [
         "IPY_MODEL_1a84905139224f57988a674365988097"
        ],
        "y": [
         "IPY_MODEL_69b446cb367f4e48a98c441fd4acf222"
        ]
       }
      }
     },
     "71928640e3074c459912e74ad9f23670": {
      "model_module": "@jupyter-widgets/base",
      "model_module_version": "1.0.0",
      "model_name": "LayoutModel",
      "state": {}
     },
     "71af3f9d97384a61bd0e8401b2c9ad98": {
      "model_module": "bqplot",
      "model_module_version": "^0.3.6",
      "model_name": "FigureModel",
      "state": {
       "_dom_classes": [],
       "animation_duration": 5000,
       "axes": [
        "IPY_MODEL_1f6d44cb594b4e83ba1ef78b63150648",
        "IPY_MODEL_6e4da99445ee4177959f43230cda2b8a"
       ],
       "background_style": {
        "fill": "aliceblue"
       },
       "layout": "IPY_MODEL_e66adf27db7a4619b093ea97ec24db5c",
       "marks": [
        "IPY_MODEL_6883e4983f914ed6ba3525fee8e84342"
       ],
       "max_aspect_ratio": 6,
       "scale_x": "IPY_MODEL_07ee80b734764d72b96bda8394bb28ef",
       "scale_y": "IPY_MODEL_7becbe78257e4865a2793c714dfad852",
       "title": "USB Connections Per Employee"
      }
     },
     "71b69fd74b004cd7ab210326129a009b": {
      "model_module": "bqplot",
      "model_module_version": "^0.3.6",
      "model_name": "BarsModel",
      "state": {
       "color": {
        "type": null,
        "values": null
       },
       "colors": [
        "skyblue"
       ],
       "display_legend": false,
       "interactions": {
        "click": "select",
        "hover": "tooltip",
        "legend_hover": "highlight_axes"
       },
       "labels": [
        "Number of USB Connections"
       ],
       "scales": {
        "x": "IPY_MODEL_09377787f6ce4efa9fc32288a0f6b3f0",
        "y": "IPY_MODEL_848be809345b44408f0301393fa8103d"
       },
       "selected": [],
       "selected_style": {
        "fill": "red"
       },
       "tooltip": "IPY_MODEL_9debe8b1113943f3b09669500a99979f",
       "x": {
        "type": "date",
        "values": [
         "1970-01-01T07:00:00.000000",
         "1970-01-01T08:00:00.000000",
         "1970-01-01T09:00:00.000000",
         "1970-01-01T10:00:00.000000",
         "1970-01-01T11:00:00.000000",
         "1970-01-01T12:00:00.000000",
         "1970-01-01T13:00:00.000000",
         "1970-01-01T14:00:00.000000",
         "1970-01-01T15:00:00.000000",
         "1970-01-01T16:00:00.000000",
         "1970-01-01T19:00:00.000000",
         "1970-01-01T20:00:00.000000"
        ]
       },
       "y": {
        "type": "float",
        "values": [
         1,
         22,
         18,
         14,
         17,
         9,
         19,
         26,
         27,
         7,
         1,
         2
        ]
       }
      }
     },
     "71d7c195c89e45f79e54f6c63bc3f1fd": {
      "model_module": "bqplot",
      "model_module_version": "^0.3.6",
      "model_name": "LinearScaleModel",
      "state": {
       "allow_padding": false,
       "max": 1,
       "min": 0,
       "stabilized": false
      }
     },
     "71d8a7690ecb4b8ea7d6cb869436cdae": {
      "model_module": "@jupyter-widgets/controls",
      "model_module_version": "1.2.0",
      "model_name": "VBoxModel",
      "state": {
       "children": [
        "IPY_MODEL_d75fec9b16674f5ca8763d66001c621f"
       ],
       "layout": "IPY_MODEL_1436b5a54d5f45fb90bbf4991d6f87d9"
      }
     },
     "71eb37218e1a41dda3a2d78c2a736e4d": {
      "model_module": "bqplot",
      "model_module_version": "^0.3.6",
      "model_name": "TooltipModel",
      "state": {
       "fields": [
        "x",
        "y"
       ],
       "formats": [
        "",
        "0.2f"
       ],
       "labels": [
        "Date",
        "Number of USB Connections"
       ],
       "layout": "IPY_MODEL_5c7cc7f4cff54328b979b19c1def4fcd"
      }
     },
     "7212bd7beadd4abeb15d24733023d46a": {
      "model_module": "bqplot",
      "model_module_version": "^0.3.6",
      "model_name": "AxisModel",
      "state": {
       "label": "Number of Emails",
       "orientation": "vertical",
       "scale": "IPY_MODEL_41f81b2aab174a258aaa30a960ea3d23",
       "side": "left",
       "tick_format": "0.2f",
       "tick_values": {
        "type": null,
        "values": null
       }
      }
     },
     "727f9422f6384db2a265d50e12edd982": {
      "model_module": "bqplot",
      "model_module_version": "^0.3.6",
      "model_name": "AxisModel",
      "state": {
       "label": "Hours of the Day",
       "scale": "IPY_MODEL_3bb80561b0bc4bd2b809c568e82f0067",
       "side": "bottom",
       "tick_values": {
        "type": null,
        "values": null
       }
      }
     },
     "72935bafc5ee4986a115eb49823a807e": {
      "model_module": "bqplot",
      "model_module_version": "^0.3.6",
      "model_name": "BarsModel",
      "state": {
       "color": {
        "type": null,
        "values": null
       },
       "colors": [
        "skyblue"
       ],
       "display_legend": false,
       "interactions": {
        "click": "select",
        "hover": "tooltip",
        "legend_hover": "highlight_axes"
       },
       "labels": [
        "Number of USB Connections"
       ],
       "scales": {
        "x": "IPY_MODEL_50dc180adc054bac8bb98fc9443d82e2",
        "y": "IPY_MODEL_005606af612848159c61881ae89fa3da"
       },
       "selected": [],
       "selected_style": {
        "fill": "red"
       },
       "tooltip": "IPY_MODEL_75de0fe0d7fa45628122a0747e8dad22",
       "x": {
        "type": "date",
        "values": [
         "1970-01-01T07:00:00.000000",
         "1970-01-01T08:00:00.000000",
         "1970-01-01T09:00:00.000000",
         "1970-01-01T10:00:00.000000",
         "1970-01-01T11:00:00.000000",
         "1970-01-01T12:00:00.000000",
         "1970-01-01T13:00:00.000000",
         "1970-01-01T14:00:00.000000",
         "1970-01-01T15:00:00.000000",
         "1970-01-01T16:00:00.000000",
         "1970-01-01T19:00:00.000000",
         "1970-01-01T20:00:00.000000"
        ]
       },
       "y": {
        "type": "float",
        "values": [
         1,
         22,
         18,
         14,
         17,
         9,
         19,
         26,
         27,
         7,
         1,
         2
        ]
       }
      }
     },
     "733aae42e5df43d39bbbb2b5b01408f7": {
      "model_module": "@jupyter-widgets/base",
      "model_module_version": "1.0.0",
      "model_name": "LayoutModel",
      "state": {}
     },
     "7368870f7b3a4fd990d01e88e81d30d2": {
      "model_module": "bqplot",
      "model_module_version": "^0.3.6",
      "model_name": "FigureModel",
      "state": {
       "_dom_classes": [],
       "animation_duration": 5000,
       "axes": [
        "IPY_MODEL_d50cc4a3c6f546f2b26771fe9b962c4b",
        "IPY_MODEL_8c2ef701edd04ea68af4ae96451f79ee"
       ],
       "background_style": {
        "fill": "aliceblue"
       },
       "layout": "IPY_MODEL_e66adf27db7a4619b093ea97ec24db5c",
       "marks": [
        "IPY_MODEL_d251798efd6440e9b5e367687e3871b5"
       ],
       "max_aspect_ratio": 6,
       "scale_x": "IPY_MODEL_450dc14c86df435087e4c34a2538565c",
       "scale_y": "IPY_MODEL_e5389307c3f541949cb2d008ce13a45c",
       "title": "USB Connections"
      }
     },
     "7380410863d248b7930f1845c6c5cdfa": {
      "model_module": "@jupyter-widgets/base",
      "model_module_version": "1.0.0",
      "model_name": "LayoutModel",
      "state": {}
     },
     "73c64c276d764e95ba3330e2608533f2": {
      "model_module": "@jupyter-widgets/base",
      "model_module_version": "1.0.0",
      "model_name": "LayoutModel",
      "state": {}
     },
     "7421dace968d4b29aca8cf1430480cb8": {
      "model_module": "bqplot",
      "model_module_version": "^0.3.6",
      "model_name": "LinearScaleModel",
      "state": {
       "allow_padding": false,
       "max": 1,
       "min": 0,
       "stabilized": false
      }
     },
     "742febbca9ba48fbabe52cfef6ecbf17": {
      "model_module": "bqplot",
      "model_module_version": "^0.3.6",
      "model_name": "PanZoomModel",
      "state": {
       "scales": {
        "x": [
         "IPY_MODEL_2773d153388e405d8946c235fd170db2"
        ],
        "y": [
         "IPY_MODEL_501780ca2abf4895801366bbf70e5fbf"
        ]
       }
      }
     },
     "743bbc38510b4c40aacf7d598e015b0b": {
      "model_module": "bqplot",
      "model_module_version": "^0.3.6",
      "model_name": "LinearScaleModel",
      "state": {
       "allow_padding": false,
       "max": 1,
       "min": 0,
       "stabilized": false
      }
     },
     "744a2df587bf4dc289eb2cbe80069332": {
      "model_module": "bqplot",
      "model_module_version": "^0.3.6",
      "model_name": "FigureModel",
      "state": {
       "_dom_classes": [],
       "animation_duration": 5000,
       "axes": [
        "IPY_MODEL_fff198a7a8664c558a82e3e8ae640491",
        "IPY_MODEL_3b406505f6de4f85ba1a2dafd0887e64"
       ],
       "background_style": {
        "fill": "aliceblue"
       },
       "layout": "IPY_MODEL_e66adf27db7a4619b093ea97ec24db5c",
       "legend_style": {
        "fill": "white"
       },
       "marks": [
        "IPY_MODEL_217d20bdc0b34ef488d7321245e8c7e5"
       ],
       "max_aspect_ratio": 6,
       "scale_x": "IPY_MODEL_18254529a6af4bd0a61ed22907f33402",
       "scale_y": "IPY_MODEL_691fd8bec6fb4b01a0ca7d3b2f84d814",
       "title": "Proportion of Connect & Disconnet Activity"
      }
     },
     "749d7a601cd54b129ea69157045688a1": {
      "model_module": "bqplot",
      "model_module_version": "^0.3.6",
      "model_name": "LinearScaleModel",
      "state": {
       "stabilized": false
      }
     },
     "7507943b8807485f9ae169aa68940435": {
      "model_module": "bqplot",
      "model_module_version": "^0.3.6",
      "model_name": "BarsModel",
      "state": {
       "color": {
        "type": null,
        "values": null
       },
       "colors": [
        "skyblue"
       ],
       "display_legend": false,
       "interactions": {
        "click": "select",
        "hover": "tooltip",
        "legend_hover": "highlight_axes"
       },
       "labels": [
        "Number of USB Connections"
       ],
       "scales": {
        "x": "IPY_MODEL_1a84905139224f57988a674365988097",
        "y": "IPY_MODEL_69b446cb367f4e48a98c441fd4acf222"
       },
       "selected": [],
       "selected_style": {
        "fill": "red"
       },
       "tooltip": "IPY_MODEL_c3d47af9208c42b8946cfb7e327f78b2",
       "x": {
        "type": "date",
        "values": [
         "1970-01-01T07:00:00.000000",
         "1970-01-01T08:00:00.000000",
         "1970-01-01T09:00:00.000000",
         "1970-01-01T10:00:00.000000",
         "1970-01-01T11:00:00.000000",
         "1970-01-01T12:00:00.000000",
         "1970-01-01T13:00:00.000000",
         "1970-01-01T14:00:00.000000",
         "1970-01-01T15:00:00.000000",
         "1970-01-01T16:00:00.000000",
         "1970-01-01T19:00:00.000000",
         "1970-01-01T20:00:00.000000"
        ]
       },
       "y": {
        "type": "float",
        "values": [
         1,
         22,
         18,
         14,
         17,
         9,
         19,
         26,
         27,
         7,
         1,
         2
        ]
       }
      }
     },
     "75151830c4c0470198995e67ada64578": {
      "model_module": "bqplot",
      "model_module_version": "^0.3.6",
      "model_name": "TooltipModel",
      "state": {
       "fields": [
        "x",
        "y"
       ],
       "formats": [
        "",
        "0.2f"
       ],
       "labels": [
        "Date",
        "Email Size"
       ],
       "layout": "IPY_MODEL_7cc0e69eb51942e68645015b1591d6d4"
      }
     },
     "75221a16049644aab184f12e1e9e9ce0": {
      "model_module": "bqplot",
      "model_module_version": "^0.3.6",
      "model_name": "AxisModel",
      "state": {
       "label": "Hours of the Day",
       "scale": "IPY_MODEL_f4d10603389f44afac167d75cf365921",
       "side": "bottom",
       "tick_values": {
        "type": null,
        "values": null
       }
      }
     },
     "755dc80a2a0b4cc28b22bcb238a930b0": {
      "model_module": "bqplot",
      "model_module_version": "^0.3.6",
      "model_name": "TooltipModel",
      "state": {
       "fields": [
        "x",
        "y"
       ],
       "formats": [
        "",
        "0.2f"
       ],
       "labels": [
        "Activity",
        "Count"
       ],
       "layout": "IPY_MODEL_55b988e88bfa439ab3ac51afaa7609a8"
      }
     },
     "75bf9d8b80554efd90ca097548e61e2c": {
      "model_module": "bqplot",
      "model_module_version": "^0.3.6",
      "model_name": "TooltipModel",
      "state": {
       "fields": [
        "x",
        "y"
       ],
       "formats": [
        "",
        "f"
       ],
       "labels": [
        "Date",
        "Number of USB Connections"
       ],
       "layout": "IPY_MODEL_52b3ea5d2ff24bf3bf0c4fef8d8ce0d2"
      }
     },
     "75d04bee16fe4f8fa2b75bcad572e6c7": {
      "model_module": "@jupyter-widgets/base",
      "model_module_version": "1.0.0",
      "model_name": "LayoutModel",
      "state": {}
     },
     "75de0fe0d7fa45628122a0747e8dad22": {
      "model_module": "bqplot",
      "model_module_version": "^0.3.6",
      "model_name": "TooltipModel",
      "state": {
       "fields": [
        "x",
        "y"
       ],
       "formats": [
        "",
        "f"
       ],
       "labels": [
        "Date",
        "Number of USB Connections"
       ],
       "layout": "IPY_MODEL_bbef0ef7621848b0a0c0703fe440bbf7"
      }
     },
     "7607e30f6e6b4e3e9f2f472b68997ec4": {
      "model_module": "@jupyter-widgets/base",
      "model_module_version": "1.0.0",
      "model_name": "LayoutModel",
      "state": {}
     },
     "76513ff2516f48ab97a3d59f3fb416ef": {
      "model_module": "@jupyter-widgets/base",
      "model_module_version": "1.0.0",
      "model_name": "LayoutModel",
      "state": {}
     },
     "76554b63389c44ff95f54b17d234ded8": {
      "model_module": "bqplot",
      "model_module_version": "^0.3.6",
      "model_name": "PanZoomModel",
      "state": {
       "scales": {
        "x": [
         "IPY_MODEL_3a0f31cbead449518d47414ef36c7728"
        ],
        "y": [
         "IPY_MODEL_3d39c94beec946a18eefd1c94bd320e4"
        ]
       }
      }
     },
     "76581f8343654699ae3214d8d20ce571": {
      "model_module": "bqplot",
      "model_module_version": "^0.3.6",
      "model_name": "AxisModel",
      "state": {
       "label": "Number of USB Connections",
       "orientation": "vertical",
       "scale": "IPY_MODEL_7070db9713e64a2a8ee76a4e10621d24",
       "side": "left",
       "tick_format": "0.2f",
       "tick_values": {
        "type": null,
        "values": null
       }
      }
     },
     "7675ebcce094474da1b5c2cad6b931f4": {
      "model_module": "bqplot",
      "model_module_version": "^0.3.6",
      "model_name": "FigureModel",
      "state": {
       "_dom_classes": [],
       "animation_duration": 5000,
       "axes": [
        "IPY_MODEL_107e036b46c34d4791040317d84a5b8b",
        "IPY_MODEL_6a10ab1e7e6a4e38a9ae60a6a7d9d242"
       ],
       "background_style": {
        "fill": "aliceblue"
       },
       "layout": "IPY_MODEL_e66adf27db7a4619b093ea97ec24db5c",
       "marks": [
        "IPY_MODEL_a0cb4bea195644ac94af5b26832110d1"
       ],
       "max_aspect_ratio": 6,
       "scale_x": "IPY_MODEL_f8614d0eeda9463a8b96000ed28ef358",
       "scale_y": "IPY_MODEL_f7cca4043ad940c4a55897ab029edb9b",
       "title": "USB Connections Per Employee"
      }
     },
     "76a6e6f2739846f295c60f782a58a7d1": {
      "model_module": "bqplot",
      "model_module_version": "^0.3.6",
      "model_name": "LinearScaleModel",
      "state": {
       "allow_padding": false,
       "max": 1,
       "min": 0,
       "stabilized": false
      }
     },
     "76a9b455a7f94d7bb2084a282a68c912": {
      "model_module": "bqplot",
      "model_module_version": "^0.3.6",
      "model_name": "PanZoomModel",
      "state": {
       "scales": {
        "x": [
         "IPY_MODEL_09377787f6ce4efa9fc32288a0f6b3f0"
        ],
        "y": [
         "IPY_MODEL_848be809345b44408f0301393fa8103d"
        ]
       }
      }
     },
     "76c067b94c064ca0a5a5f98627a375ec": {
      "model_module": "bqplot",
      "model_module_version": "^0.3.6",
      "model_name": "AxisModel",
      "state": {
       "label": "Count (log)",
       "orientation": "vertical",
       "scale": "IPY_MODEL_b98c1d0ddb9042a2a2d2496011ae7e3a",
       "side": "left",
       "tick_format": "0.2f",
       "tick_values": {
        "type": null,
        "values": null
       }
      }
     },
     "76cfa54d6ab34491b9811c65ae43d2c7": {
      "model_module": "@jupyter-widgets/controls",
      "model_module_version": "1.2.0",
      "model_name": "VBoxModel",
      "state": {
       "children": [
        "IPY_MODEL_00b1eeaf17774028a47594ce3cd81852",
        "IPY_MODEL_dc3fb60c6f2049308d14e3fa0327e411"
       ],
       "layout": "IPY_MODEL_1ab1570205434ce196b945a209339d77"
      }
     },
     "76e88b6c312344488fcd443360380365": {
      "model_module": "@jupyter-widgets/controls",
      "model_module_version": "1.2.0",
      "model_name": "VBoxModel",
      "state": {
       "children": [
        "IPY_MODEL_6fabae05ef454ae980d0286e1bb8c9ce"
       ],
       "layout": "IPY_MODEL_e9e46f4296c34a4f9675348bc877dcdf"
      }
     },
     "7734f0de31af46b2b6bcaec721e8c994": {
      "model_module": "bqplot",
      "model_module_version": "^0.3.6",
      "model_name": "FigureModel",
      "state": {
       "_dom_classes": [],
       "animation_duration": 5000,
       "axes": [
        "IPY_MODEL_c46573073eaa4f49addba737c78fb00d",
        "IPY_MODEL_7e7c77adb7b445a9bf04d148ac572027"
       ],
       "background_style": {
        "fill": "aliceblue"
       },
       "layout": "IPY_MODEL_e66adf27db7a4619b093ea97ec24db5c",
       "marks": [
        "IPY_MODEL_c17408c814994b81a3b4cd40f528376e"
       ],
       "max_aspect_ratio": 6,
       "scale_x": "IPY_MODEL_aedee428dae74964bbc7b0d8da91d0cd",
       "scale_y": "IPY_MODEL_ec5daa9f96db4d95ae0e00079548db0d",
       "title": "USB Connections Per Employee"
      }
     },
     "776e26f28e894034a76b027f2d5ce110": {
      "model_module": "@jupyter-widgets/base",
      "model_module_version": "1.0.0",
      "model_name": "LayoutModel",
      "state": {}
     },
     "7815b27a43884b09abfb7ad9083fb558": {
      "model_module": "@jupyter-widgets/controls",
      "model_module_version": "1.2.0",
      "model_name": "VBoxModel",
      "state": {
       "children": [
        "IPY_MODEL_2b651046d172467b97a125c1c2356c36"
       ],
       "layout": "IPY_MODEL_b364b1f0230d40dd8026bfb06cd5f5f9"
      }
     },
     "7837b677ba2044efb233b0c142bf0bbf": {
      "model_module": "bqplot",
      "model_module_version": "^0.3.6",
      "model_name": "LinearScaleModel",
      "state": {
       "stabilized": false
      }
     },
     "793597b3316a4318b9fb432d54d95560": {
      "model_module": "bqplot",
      "model_module_version": "^0.3.6",
      "model_name": "BarsModel",
      "state": {
       "color": {
        "type": null,
        "values": null
       },
       "colors": [
        "blue"
       ],
       "interactions": {
        "click": "select",
        "hover": "tooltip",
        "legend_hover": "highlight_axes"
       },
       "labels": [
        "Connect Activity"
       ],
       "scales": {
        "x": "IPY_MODEL_f715fa39027b4ddd9bffe4ae5019c470",
        "y": "IPY_MODEL_f105b4936d8b4a738ee95b2d44c14cb3"
       },
       "selected": [],
       "selected_style": {
        "fill": "red"
       },
       "tooltip": "IPY_MODEL_0a5d2e5a1c3a496887756aeda9704f05",
       "x": {
        "type": "object",
        "values": [
         "Connect",
         "Disconnect"
        ]
       },
       "y": {
        "type": "float",
        "values": [
         357.017,
         354.629
        ]
       }
      }
     },
     "79714d8c47264fccad2f55e109537b1d": {
      "model_module": "bqplot",
      "model_module_version": "^0.3.6",
      "model_name": "FigureModel",
      "state": {
       "_dom_classes": [],
       "animation_duration": 5000,
       "axes": [
        "IPY_MODEL_7c1e27d21db34bceb9d231df0bdc98f4",
        "IPY_MODEL_63171e82845e44b4b9d3769c6d693935"
       ],
       "background_style": {
        "fill": "aliceblue"
       },
       "layout": "IPY_MODEL_e66adf27db7a4619b093ea97ec24db5c",
       "marks": [
        "IPY_MODEL_5f97d8ec67fa40fda98e8e1f5348cbed"
       ],
       "max_aspect_ratio": 6,
       "scale_x": "IPY_MODEL_a2963307ffdc4d6fb11716bc800a2a5a",
       "scale_y": "IPY_MODEL_87f89e0e67354c0088cd29b2cffd7b2e",
       "title": "USB Connections"
      }
     },
     "797b5dd432604907b7dd77e462db0835": {
      "model_module": "bqplot",
      "model_module_version": "^0.3.6",
      "model_name": "DateScaleModel",
      "state": {}
     },
     "7987a81724e44edf8618617fe26f7767": {
      "model_module": "bqplot",
      "model_module_version": "^0.3.6",
      "model_name": "BarsModel",
      "state": {
       "color": {
        "type": null,
        "values": null
       },
       "colors": [
        "blue"
       ],
       "display_legend": false,
       "interactions": {
        "click": "select",
        "hover": "tooltip",
        "legend_hover": "highlight_axes"
       },
       "labels": [
        "Number of USB Connections"
       ],
       "scales": {
        "x": "IPY_MODEL_5247fb324cdd4191bc73da500b407463",
        "y": "IPY_MODEL_ddb72cfbf0bd40bca93d09ec425b0f94"
       },
       "selected_style": {
        "fill": "red"
       },
       "tooltip": "IPY_MODEL_beab5422d24147bda0877d26b12079c8",
       "x": {
        "type": "date",
        "values": [
         "1900-01-01T14:00:00.000000",
         "1900-01-01T09:00:00.000000",
         "1900-01-01T13:00:00.000000",
         "1900-01-01T15:00:00.000000",
         "1900-01-01T10:00:00.000000",
         "1900-01-01T08:00:00.000000",
         "1900-01-01T12:00:00.000000",
         "1900-01-01T11:00:00.000000",
         "1900-01-01T16:00:00.000000",
         "1900-01-01T17:00:00.000000",
         "1900-01-01T07:00:00.000000",
         "1900-01-01T18:00:00.000000",
         "1900-01-01T19:00:00.000000",
         "1900-01-01T22:00:00.000000",
         "1900-01-01T23:00:00.000000",
         "1900-01-01T06:00:00.000000",
         "1900-01-01T21:00:00.000000",
         "1900-01-01T20:00:00.000000",
         "1900-01-01T00:00:00.000000",
         "1900-01-01T01:00:00.000000",
         "1900-01-01T04:00:00.000000",
         "1900-01-01T05:00:00.000000",
         "1900-01-01T03:00:00.000000",
         "1900-01-01T02:00:00.000000"
        ]
       },
       "y": {
        "type": "float",
        "values": [
         41.339,
         40.332,
         37.987,
         37.554,
         35.012,
         34.87,
         32.312,
         31.498,
         26.909,
         15.277,
         10.393,
         5.236,
         1.377,
         0.915,
         0.913,
         0.837,
         0.799,
         0.637,
         0.616,
         0.491,
         0.462,
         0.442,
         0.412,
         0.397
        ]
       }
      }
     },
     "798d6093556f474099880b2b54c2e9b3": {
      "model_module": "bqplot",
      "model_module_version": "^0.3.6",
      "model_name": "LinearScaleModel",
      "state": {
       "allow_padding": false,
       "max": 1,
       "min": 0,
       "stabilized": false
      }
     },
     "79a5963ab7144660909240904cd33cc5": {
      "model_module": "@jupyter-widgets/controls",
      "model_module_version": "1.2.0",
      "model_name": "HBoxModel",
      "state": {
       "children": [
        "IPY_MODEL_d158a0a421d346bf96dac58ac21c7fd4"
       ],
       "layout": "IPY_MODEL_c6e6fb2736c84ac18bf247532837472d"
      }
     },
     "79acb39caa0c4483ae3536292bbf7ebf": {
      "model_module": "@jupyter-widgets/base",
      "model_module_version": "1.0.0",
      "model_name": "LayoutModel",
      "state": {}
     },
     "79e48fd9bd3944e6a5d25bb0afdcf289": {
      "model_module": "bqplot",
      "model_module_version": "^0.3.6",
      "model_name": "OrdinalScaleModel",
      "state": {
       "domain": []
      }
     },
     "7a7bc17f110742798959d321a1c26070": {
      "model_module": "bqplot",
      "model_module_version": "^0.3.6",
      "model_name": "LinearScaleModel",
      "state": {
       "allow_padding": false,
       "max": 1,
       "min": 0,
       "stabilized": false
      }
     },
     "7abde8c741f74bec86976a7eab81f948": {
      "model_module": "bqplot",
      "model_module_version": "^0.3.6",
      "model_name": "TooltipModel",
      "state": {
       "fields": [
        "x",
        "y"
       ],
       "formats": [
        "",
        "0.1f"
       ],
       "labels": [
        "Computer ID",
        "Activity"
       ],
       "layout": "IPY_MODEL_a4d914a8e2d8477baf0a5c6415145583"
      }
     },
     "7b10270c169d473eb897f345359c0553": {
      "model_module": "@jupyter-widgets/base",
      "model_module_version": "1.0.0",
      "model_name": "LayoutModel",
      "state": {}
     },
     "7b26a2664f264e00aba05b0dc478727a": {
      "model_module": "@jupyter-widgets/base",
      "model_module_version": "1.0.0",
      "model_name": "LayoutModel",
      "state": {}
     },
     "7b513752617f432fb169ec174e53315a": {
      "model_module": "@jupyter-widgets/base",
      "model_module_version": "1.0.0",
      "model_name": "LayoutModel",
      "state": {}
     },
     "7becbe78257e4865a2793c714dfad852": {
      "model_module": "bqplot",
      "model_module_version": "^0.3.6",
      "model_name": "LinearScaleModel",
      "state": {
       "allow_padding": false,
       "max": 1,
       "min": 0,
       "stabilized": false
      }
     },
     "7c1b886736f449908c1aa70d4253410e": {
      "model_module": "bqplot",
      "model_module_version": "^0.3.6",
      "model_name": "TooltipModel",
      "state": {
       "fields": [
        "x",
        "y"
       ],
       "formats": [
        "",
        "f"
       ],
       "labels": [
        "Date",
        "Number of USB Connections"
       ],
       "layout": "IPY_MODEL_be5a8ce38685484a933419ba922e3f46"
      }
     },
     "7c1e27d21db34bceb9d231df0bdc98f4": {
      "model_module": "bqplot",
      "model_module_version": "^0.3.6",
      "model_name": "AxisModel",
      "state": {
       "label": "Hours of the Day",
       "scale": "IPY_MODEL_580d7da53eb94d548cd124bb7a68e2e4",
       "side": "bottom",
       "tick_values": {
        "type": null,
        "values": null
       }
      }
     },
     "7c2fefe4c0cb467d8942870f0ad0faff": {
      "model_module": "bqplot",
      "model_module_version": "^0.3.6",
      "model_name": "LinearScaleModel",
      "state": {
       "stabilized": false
      }
     },
     "7c42f90e150f4bab958d1065aaa305e8": {
      "model_module": "@jupyter-widgets/controls",
      "model_module_version": "1.2.0",
      "model_name": "VBoxModel",
      "state": {
       "children": [
        "IPY_MODEL_dc6bb00fb25740bb869a02e0674cb9cd"
       ],
       "layout": "IPY_MODEL_9bfba49138594c40abeef6f863de0591"
      }
     },
     "7c623f0dc53d454ab1f4e35ce8091346": {
      "model_module": "bqplot",
      "model_module_version": "^0.3.6",
      "model_name": "OrdinalScaleModel",
      "state": {
       "domain": []
      }
     },
     "7cc0e69eb51942e68645015b1591d6d4": {
      "model_module": "@jupyter-widgets/base",
      "model_module_version": "1.0.0",
      "model_name": "LayoutModel",
      "state": {}
     },
     "7cfc45901a014736a6b53e628b56ccd8": {
      "model_module": "bqplot",
      "model_module_version": "^0.3.6",
      "model_name": "TooltipModel",
      "state": {
       "fields": [
        "x",
        "y"
       ],
       "formats": [
        "",
        "0.2f"
       ],
       "labels": [
        "Date",
        "Email Size"
       ],
       "layout": "IPY_MODEL_6d7305bdc79448c5a41390d0bdcd85ae"
      }
     },
     "7da20e621c5848668d72a39c6a0a0b70": {
      "model_module": "bqplot",
      "model_module_version": "^0.3.6",
      "model_name": "TooltipModel",
      "state": {
       "fields": [
        "x",
        "y"
       ],
       "formats": [
        "",
        "0.2f"
       ],
       "labels": [
        "Date",
        "Number of USB Connections"
       ],
       "layout": "IPY_MODEL_93009ecae85342deb33d3204d72b8dc8"
      }
     },
     "7e65c5d54fc64786ba69d32bafe31178": {
      "model_module": "bqplot",
      "model_module_version": "^0.3.6",
      "model_name": "TooltipModel",
      "state": {
       "fields": [
        "x",
        "y"
       ],
       "formats": [
        "",
        "0.2f"
       ],
       "labels": [
        "Date",
        "Number of USB Connections"
       ],
       "layout": "IPY_MODEL_6363d4779df44d39857f7261044b307d"
      }
     },
     "7e7c77adb7b445a9bf04d148ac572027": {
      "model_module": "bqplot",
      "model_module_version": "^0.3.6",
      "model_name": "AxisModel",
      "state": {
       "label": "Number of USB Connections",
       "orientation": "vertical",
       "scale": "IPY_MODEL_90410074946345708b3ec903c1bbd704",
       "side": "left",
       "tick_format": "f",
       "tick_values": {
        "type": null,
        "values": null
       }
      }
     },
     "7e9141d726ed470e9c85fd0b9dc1a3ac": {
      "model_module": "@jupyter-widgets/base",
      "model_module_version": "1.0.0",
      "model_name": "LayoutModel",
      "state": {
       "height": "700px",
       "width": "100%"
      }
     },
     "7ec6250b9c0847b3a5be855fb1dd7827": {
      "model_module": "bqplot",
      "model_module_version": "^0.3.6",
      "model_name": "TooltipModel",
      "state": {
       "fields": [
        "x",
        "y"
       ],
       "formats": [
        "",
        "0.2f"
       ],
       "labels": [
        "Date",
        "Number of USB Connections"
       ],
       "layout": "IPY_MODEL_9cb854b8ccca417182de7f11097f522d"
      }
     },
     "7f84f263812f4f60825bb5f6aa16d4c2": {
      "model_module": "bqplot",
      "model_module_version": "^0.3.6",
      "model_name": "LinearScaleModel",
      "state": {
       "allow_padding": false,
       "max": 1,
       "min": 0,
       "stabilized": false
      }
     },
     "7fa4e569ea954fddaeb20d763e6f79fa": {
      "model_module": "bqplot",
      "model_module_version": "^0.3.6",
      "model_name": "LinearScaleModel",
      "state": {
       "stabilized": false
      }
     },
     "7fb8e24cb9214cf89d671e77f8bedad7": {
      "model_module": "bqplot",
      "model_module_version": "^0.3.6",
      "model_name": "OrdinalScaleModel",
      "state": {
       "domain": []
      }
     },
     "7fd742ff957547278f45d8e1064999e5": {
      "model_module": "bqplot",
      "model_module_version": "^0.3.6",
      "model_name": "TooltipModel",
      "state": {
       "fields": [
        "x",
        "y"
       ],
       "formats": [
        "",
        "0.2f"
       ],
       "labels": [
        "Date",
        "Number of USB Connections"
       ],
       "layout": "IPY_MODEL_f425a04277d042f6a0197884f105968f"
      }
     },
     "7fdbc23e455144e3b6cbecaf0a0f3793": {
      "model_module": "bqplot",
      "model_module_version": "^0.3.6",
      "model_name": "AxisModel",
      "state": {
       "label": "Number of USB Connections",
       "orientation": "vertical",
       "scale": "IPY_MODEL_ddb72cfbf0bd40bca93d09ec425b0f94",
       "side": "left",
       "tick_format": "0.2f",
       "tick_values": {
        "type": null,
        "values": null
       }
      }
     },
     "8094968796374a54b42ccb3976c13552": {
      "model_module": "bqplot",
      "model_module_version": "^0.3.6",
      "model_name": "LinearScaleModel",
      "state": {
       "stabilized": false
      }
     },
     "814ae6d39bb143b4bd380e68b6594cab": {
      "model_module": "bqplot",
      "model_module_version": "^0.3.6",
      "model_name": "LinearScaleModel",
      "state": {
       "stabilized": false
      }
     },
     "81bd2740be3446c19726c6503bb4d27c": {
      "model_module": "bqplot",
      "model_module_version": "^0.3.6",
      "model_name": "AxisModel",
      "state": {
       "label": "Hours of the Day",
       "scale": "IPY_MODEL_1a84905139224f57988a674365988097",
       "side": "bottom",
       "tick_values": {
        "type": null,
        "values": null
       }
      }
     },
     "81e9319faf0743b1a508746eb7d569ba": {
      "model_module": "bqplot",
      "model_module_version": "^0.3.6",
      "model_name": "LinearScaleModel",
      "state": {
       "stabilized": false
      }
     },
     "821549aef6e24d68b65bdad3f19b5da1": {
      "model_module": "bqplot",
      "model_module_version": "^0.3.6",
      "model_name": "LinearScaleModel",
      "state": {
       "allow_padding": false,
       "max": 1,
       "min": 0,
       "stabilized": false
      }
     },
     "830d999a7c76422ea241648b5e86b099": {
      "model_module": "bqplot",
      "model_module_version": "^0.3.6",
      "model_name": "FigureModel",
      "state": {
       "_dom_classes": [],
       "animation_duration": 5000,
       "axes": [
        "IPY_MODEL_f6e0f3fd3a5f4b28ac9953daff2aaba2",
        "IPY_MODEL_cf2c5e4a3e224a8f8c52545235249674"
       ],
       "background_style": {
        "fill": "aliceblue"
       },
       "layout": "IPY_MODEL_e66adf27db7a4619b093ea97ec24db5c",
       "marks": [
        "IPY_MODEL_ad15ca1a788b49c598c51fd9adf24f32"
       ],
       "max_aspect_ratio": 6,
       "scale_x": "IPY_MODEL_545dc35b1e1a4f82876c60e913e47df1",
       "scale_y": "IPY_MODEL_1668b2998c484cb484937d3eedc488a2",
       "title": "USB Connections"
      }
     },
     "83104feda20c486c899dc6efc44b0dce": {
      "model_module": "bqplot",
      "model_module_version": "^0.3.6",
      "model_name": "LinearScaleModel",
      "state": {
       "stabilized": false
      }
     },
     "837e951c49ce4e14990865a57a2b0fcc": {
      "model_module": "bqplot",
      "model_module_version": "^0.3.6",
      "model_name": "AxisModel",
      "state": {
       "label": "Number of Emails",
       "orientation": "vertical",
       "scale": "IPY_MODEL_948c4158ea744032a30b22a27cd3a555",
       "side": "left",
       "tick_format": "0.2f",
       "tick_values": {
        "type": null,
        "values": null
       }
      }
     },
     "840b4340551349eb88b1bcafce21b771": {
      "model_module": "@jupyter-widgets/base",
      "model_module_version": "1.0.0",
      "model_name": "LayoutModel",
      "state": {}
     },
     "8418f51b7f1941ab95c2beed630e5d6b": {
      "model_module": "bqplot",
      "model_module_version": "^0.3.6",
      "model_name": "LinearScaleModel",
      "state": {
       "allow_padding": false,
       "max": 1,
       "min": 0,
       "stabilized": false
      }
     },
     "842ce6f1ee9d450eb600f8cc742ac492": {
      "model_module": "bqplot",
      "model_module_version": "^0.3.6",
      "model_name": "TooltipModel",
      "state": {
       "fields": [
        "x",
        "y"
       ],
       "formats": [
        "",
        "f"
       ],
       "labels": [
        "Date",
        "Number of USB Connections"
       ],
       "layout": "IPY_MODEL_776e26f28e894034a76b027f2d5ce110"
      }
     },
     "846fedc623bd40798ccdc61b2cece1d4": {
      "model_module": "bqplot",
      "model_module_version": "^0.3.6",
      "model_name": "BarsModel",
      "state": {
       "color": {
        "type": null,
        "values": null
       },
       "colors": [
        "limegreen"
       ],
       "display_legend": false,
       "interactions": {
        "click": "select",
        "hover": "tooltip",
        "legend_hover": "highlight_axes"
       },
       "labels": [
        "Number of USB Connections"
       ],
       "scales": {
        "x": "IPY_MODEL_c997d5e61a584fad9f5a91a53ba1ab02",
        "y": "IPY_MODEL_64df505db7ba43f5961c18fa29767514"
       },
       "selected": [],
       "selected_style": {
        "fill": "red"
       },
       "tooltip": "IPY_MODEL_842ce6f1ee9d450eb600f8cc742ac492",
       "x": {
        "type": "date",
        "values": [
         "1970-01-01T00:00:00.000000",
         "1970-01-01T01:00:00.000000",
         "1970-01-01T02:00:00.000000",
         "1970-01-01T03:00:00.000000",
         "1970-01-01T04:00:00.000000",
         "1970-01-01T05:00:00.000000",
         "1970-01-01T06:00:00.000000",
         "1970-01-01T07:00:00.000000",
         "1970-01-01T08:00:00.000000",
         "1970-01-01T09:00:00.000000",
         "1970-01-01T10:00:00.000000",
         "1970-01-01T11:00:00.000000",
         "1970-01-01T12:00:00.000000",
         "1970-01-01T13:00:00.000000",
         "1970-01-01T14:00:00.000000",
         "1970-01-01T15:00:00.000000",
         "1970-01-01T16:00:00.000000",
         "1970-01-01T17:00:00.000000",
         "1970-01-01T18:00:00.000000",
         "1970-01-01T19:00:00.000000",
         "1970-01-01T20:00:00.000000",
         "1970-01-01T21:00:00.000000",
         "1970-01-01T22:00:00.000000",
         "1970-01-01T23:00:00.000000"
        ]
       },
       "y": {
        "type": "float",
        "values": [
         0.616,
         0.491,
         0.397,
         0.412,
         0.462,
         0.442,
         0.837,
         10.393,
         34.87,
         40.332,
         35.012,
         31.498,
         32.312,
         37.987,
         41.339,
         37.554,
         26.909,
         15.277,
         5.236,
         1.377,
         0.637,
         0.799,
         0.915,
         0.913
        ]
       }
      }
     },
     "84765b5d6eae40289a2c3f541ce2f7ed": {
      "model_module": "bqplot",
      "model_module_version": "^0.3.6",
      "model_name": "PanZoomModel",
      "state": {
       "scales": {
        "x": [
         "IPY_MODEL_f7d850f77a6c4687bbd6ff24c7c77770"
        ],
        "y": [
         "IPY_MODEL_b98c1d0ddb9042a2a2d2496011ae7e3a"
        ]
       }
      }
     },
     "847a58b5de7f46768130e3b95786581c": {
      "model_module": "@jupyter-widgets/controls",
      "model_module_version": "1.2.0",
      "model_name": "VBoxModel",
      "state": {
       "children": [
        "IPY_MODEL_dbb214ab83734eaeb4cc692267fba1cb"
       ],
       "layout": "IPY_MODEL_d9077b12bdb142e0b9a2ec25cb26eea3"
      }
     },
     "848be809345b44408f0301393fa8103d": {
      "model_module": "bqplot",
      "model_module_version": "^0.3.6",
      "model_name": "LinearScaleModel",
      "state": {
       "stabilized": false
      }
     },
     "848f0ea4a68f41ada0e1297f6ac44823": {
      "model_module": "bqplot",
      "model_module_version": "^0.3.6",
      "model_name": "LinearScaleModel",
      "state": {
       "allow_padding": false,
       "max": 1,
       "min": 0,
       "stabilized": false
      }
     },
     "84f2e42290f646be9f2c898e0d834711": {
      "model_module": "bqplot",
      "model_module_version": "^0.3.6",
      "model_name": "AxisModel",
      "state": {
       "label": "Email attachment size (GB)",
       "orientation": "vertical",
       "scale": "IPY_MODEL_853b5c8ae30e49029f4c7134d632abc2",
       "side": "left",
       "tick_format": "0.2f",
       "tick_values": {
        "type": null,
        "values": null
       }
      }
     },
     "852fb9231be34d99be4cad45830681c8": {
      "model_module": "@jupyter-widgets/base",
      "model_module_version": "1.0.0",
      "model_name": "LayoutModel",
      "state": {}
     },
     "853b5c8ae30e49029f4c7134d632abc2": {
      "model_module": "bqplot",
      "model_module_version": "^0.3.6",
      "model_name": "LinearScaleModel",
      "state": {
       "stabilized": false
      }
     },
     "856520ecfa3c40c99929218127a915ec": {
      "model_module": "bqplot",
      "model_module_version": "^0.3.6",
      "model_name": "TooltipModel",
      "state": {
       "fields": [
        "x",
        "y"
       ],
       "formats": [
        "",
        "0.2f"
       ],
       "labels": [
        "Date",
        "Number of USB Connections"
       ],
       "layout": "IPY_MODEL_138e4e0671794f6188a715fe66370ecd"
      }
     },
     "85c34d335fb8447cbf526106788ab5b2": {
      "model_module": "bqplot",
      "model_module_version": "^0.3.6",
      "model_name": "TooltipModel",
      "state": {
       "fields": [
        "x",
        "y"
       ],
       "formats": [
        "",
        "0.2f"
       ],
       "labels": [
        "Computer ID",
        "Activity"
       ],
       "layout": "IPY_MODEL_c5bdbc0ad97f43c19dea387202c9a315"
      }
     },
     "85f9a26cdb544eec84a54b4069b8f623": {
      "model_module": "bqplot",
      "model_module_version": "^0.3.6",
      "model_name": "AxisModel",
      "state": {
       "label": "Number of USB Connections",
       "orientation": "vertical",
       "scale": "IPY_MODEL_7fa4e569ea954fddaeb20d763e6f79fa",
       "side": "left",
       "tick_format": "f",
       "tick_values": {
        "type": null,
        "values": null
       }
      }
     },
     "86124c376e2b43d7b29fa14aea800acf": {
      "model_module": "bqplot",
      "model_module_version": "^0.3.6",
      "model_name": "AxisModel",
      "state": {
       "label": "Count",
       "orientation": "vertical",
       "scale": "IPY_MODEL_5ed78a7e4d4b40549f250b81769db13c",
       "side": "left",
       "tick_format": "0.2f",
       "tick_values": {
        "type": null,
        "values": null
       }
      }
     },
     "862c03ae125b4696b50b3a2c78b4bb6d": {
      "model_module": "bqplot",
      "model_module_version": "^0.3.6",
      "model_name": "OrdinalScaleModel",
      "state": {
       "domain": []
      }
     },
     "862da930c7ba4de083c28dcfa73789d6": {
      "model_module": "bqplot",
      "model_module_version": "^0.3.6",
      "model_name": "LinearScaleModel",
      "state": {
       "allow_padding": false,
       "max": 1,
       "min": 0,
       "stabilized": false
      }
     },
     "864de7ed8c644adeb306ce307f06dd67": {
      "model_module": "bqplot",
      "model_module_version": "^0.3.6",
      "model_name": "OrdinalScaleModel",
      "state": {
       "domain": []
      }
     },
     "866adf3dc2ec446bbfb75ebcfd59da54": {
      "model_module": "bqplot",
      "model_module_version": "^0.3.6",
      "model_name": "PanZoomModel",
      "state": {
       "scales": {
        "x": [
         "IPY_MODEL_580d7da53eb94d548cd124bb7a68e2e4"
        ],
        "y": [
         "IPY_MODEL_154a5bf32811485982110dbfa79a6a4b"
        ]
       }
      }
     },
     "8670f355785342e38c6a7f931ed816a8": {
      "model_module": "bqplot",
      "model_module_version": "^0.3.6",
      "model_name": "LinearScaleModel",
      "state": {
       "stabilized": false
      }
     },
     "86a8659e5a7a43f683dd0bcc25aa0a00": {
      "model_module": "bqplot",
      "model_module_version": "^0.3.6",
      "model_name": "PanZoomModel",
      "state": {
       "scales": {
        "x": [
         "IPY_MODEL_c8b0ac8a96064eb194eacf708f83ab4d"
        ],
        "y": [
         "IPY_MODEL_477cb91d7f614830af8754650875a62d"
        ]
       }
      }
     },
     "8740140586c94dc3ab640cfa4cb8ff68": {
      "model_module": "bqplot",
      "model_module_version": "^0.3.6",
      "model_name": "LinearScaleModel",
      "state": {
       "stabilized": false
      }
     },
     "8764ff9778d642bba244cb70c8f92340": {
      "model_module": "@jupyter-widgets/base",
      "model_module_version": "1.0.0",
      "model_name": "LayoutModel",
      "state": {}
     },
     "87f89e0e67354c0088cd29b2cffd7b2e": {
      "model_module": "bqplot",
      "model_module_version": "^0.3.6",
      "model_name": "LinearScaleModel",
      "state": {
       "allow_padding": false,
       "max": 1,
       "min": 0,
       "stabilized": false
      }
     },
     "87fd50c3cf8a43dda525abdb3e709f3d": {
      "model_module": "bqplot",
      "model_module_version": "^0.3.6",
      "model_name": "FigureModel",
      "state": {
       "_dom_classes": [],
       "animation_duration": 5000,
       "axes": [
        "IPY_MODEL_b5e6453d07fd402b885e810ae21aa6d9",
        "IPY_MODEL_7fdbc23e455144e3b6cbecaf0a0f3793"
       ],
       "background_style": {
        "fill": "aliceblue"
       },
       "layout": "IPY_MODEL_8ac656bdd6b34040a0e26ccd49ed02cd",
       "marks": [
        "IPY_MODEL_7987a81724e44edf8618617fe26f7767"
       ],
       "max_aspect_ratio": 6,
       "scale_x": "IPY_MODEL_a829195d07844b2bae294143ef81ce1b",
       "scale_y": "IPY_MODEL_da01c37878e04ee8a0b31cb9e55aef6a",
       "title": "USB Connections"
      }
     },
     "8830c3c8a6cc4871b30f88bbd899321b": {
      "model_module": "bqplot",
      "model_module_version": "^0.3.6",
      "model_name": "BarsModel",
      "state": {
       "color": {
        "type": null,
        "values": null
       },
       "colors": [
        "blue"
       ],
       "interactions": {
        "click": "select",
        "hover": "tooltip",
        "legend_hover": "highlight_axes"
       },
       "labels": [
        "Connect Activity"
       ],
       "scales": {
        "x": "IPY_MODEL_5d3c7e0971a24278a72284f9068234c8",
        "y": "IPY_MODEL_5ed78a7e4d4b40549f250b81769db13c"
       },
       "selected": [
        1
       ],
       "selected_style": {
        "fill": "red"
       },
       "tooltip": "IPY_MODEL_26d7e63c6f9b45e98846cc1c9e931daf",
       "x": {
        "type": "object",
        "values": [
         "Connect",
         "Disconnect"
        ]
       },
       "y": {
        "type": "float",
        "values": [
         357.017,
         354.629
        ]
       }
      }
     },
     "884cb4c4adf94300869dc9455569caf2": {
      "model_module": "@jupyter-widgets/controls",
      "model_module_version": "1.2.0",
      "model_name": "DescriptionStyleModel",
      "state": {
       "description_width": ""
      }
     },
     "8866dba9530349729bd7ed72a20c39cf": {
      "model_module": "@jupyter-widgets/base",
      "model_module_version": "1.0.0",
      "model_name": "LayoutModel",
      "state": {
       "min_width": "125px"
      }
     },
     "889ffa4d18b34a9ca096348e521a5529": {
      "model_module": "@jupyter-widgets/controls",
      "model_module_version": "1.2.0",
      "model_name": "VBoxModel",
      "state": {
       "children": [
        "IPY_MODEL_542c1f5716024148835f2d1cd3f93b08"
       ],
       "layout": "IPY_MODEL_ac0426e1c16b4d3aa176e696b9d364c2"
      }
     },
     "88a5d55f071547fb915549b09af0e1a5": {
      "model_module": "bqplot",
      "model_module_version": "^0.3.6",
      "model_name": "AxisModel",
      "state": {
       "label": "Count",
       "orientation": "vertical",
       "scale": "IPY_MODEL_cfeafceb063449e69fa4af0e3bae5043",
       "side": "left",
       "tick_format": "0.2f",
       "tick_values": {
        "type": null,
        "values": null
       }
      }
     },
     "88af813af4eb475fa5aaf4cf643ccc6e": {
      "model_module": "bqplot",
      "model_module_version": "^0.3.6",
      "model_name": "LinearScaleModel",
      "state": {
       "allow_padding": false,
       "max": 1,
       "min": 0,
       "stabilized": false
      }
     },
     "88ca9e05ebe849eb843b15ffc3df39de": {
      "model_module": "bqplot",
      "model_module_version": "^0.3.6",
      "model_name": "AxisModel",
      "state": {
       "label": "Number of USB Connections",
       "orientation": "vertical",
       "scale": "IPY_MODEL_d81cf6b17c19469ca28bdfaecaf33c70",
       "side": "left",
       "tick_format": "f",
       "tick_values": {
        "type": null,
        "values": null
       }
      }
     },
     "88f95449451d446c8bacc4e770d10cd5": {
      "model_module": "@jupyter-widgets/controls",
      "model_module_version": "1.2.0",
      "model_name": "VBoxModel",
      "state": {
       "children": [
        "IPY_MODEL_de766243e43641fa9f88c0a680ecbef4"
       ],
       "layout": "IPY_MODEL_79acb39caa0c4483ae3536292bbf7ebf"
      }
     },
     "8903452deb644c46b8e023cda1e6225d": {
      "model_module": "@jupyter-widgets/base",
      "model_module_version": "1.0.0",
      "model_name": "LayoutModel",
      "state": {}
     },
     "89376407eb3d45369b5ac3d6c54bc652": {
      "model_module": "bqplot",
      "model_module_version": "^0.3.6",
      "model_name": "OrdinalScaleModel",
      "state": {
       "domain": []
      }
     },
     "8940865fed874aa3a46b604c44534fff": {
      "model_module": "@jupyter-widgets/controls",
      "model_module_version": "1.2.0",
      "model_name": "HBoxModel",
      "state": {
       "children": [
        "IPY_MODEL_5748d8b6ac324e99b3606acae3728234"
       ],
       "layout": "IPY_MODEL_7b513752617f432fb169ec174e53315a"
      }
     },
     "89461327b0d14804bf93f4d652084db7": {
      "model_module": "bqplot",
      "model_module_version": "^0.3.6",
      "model_name": "BarsModel",
      "state": {
       "color": {
        "type": null,
        "values": null
       },
       "colors": [
        "dodgerblue"
       ],
       "display_legend": false,
       "interactions": {
        "click": "select",
        "hover": "tooltip",
        "legend_hover": "highlight_axes"
       },
       "labels": [
        "Directory name"
       ],
       "padding": 0.2,
       "scales": {
        "x": "IPY_MODEL_04d132cce5b54d508b8200f7d1387033",
        "y": "IPY_MODEL_83104feda20c486c899dc6efc44b0dce"
       },
       "selected": [
        0
       ],
       "selected_style": {
        "fill": "red"
       },
       "tooltip": "IPY_MODEL_a5cd3cea26d5467191dce5c51fe08f14",
       "x": {
        "type": "object",
        "values": [
         "R:\\189XJ29",
         "R:\\CTC0859",
         "R:\\37Ntzz0",
         "R:\\CKP3600",
         "R:\\61mrHg0",
         "R:\\ACM2278",
         "R:\\782bxm8",
         "R:\\52G6677",
         "R:\\XAB0936",
         "R:\\29P96D6"
        ]
       },
       "y": {
        "type": "float",
        "values": [
         21,
         21,
         20,
         20,
         20,
         9,
         9,
         9,
         2,
         2
        ]
       }
      }
     },
     "8a036b33038449b98ec83c3faf8479fa": {
      "model_module": "@jupyter-widgets/controls",
      "model_module_version": "1.2.0",
      "model_name": "VBoxModel",
      "state": {
       "children": [
        "IPY_MODEL_0d62c161b2bb48eb96eb4e361dbb613e"
       ],
       "layout": "IPY_MODEL_e0632e536afd4eb5b5ece9ede8e2cf19"
      }
     },
     "8a3364698a2744f0b59485dbf9148ad1": {
      "model_module": "bqplot",
      "model_module_version": "^0.3.6",
      "model_name": "LinearScaleModel",
      "state": {
       "stabilized": false
      }
     },
     "8a638378e37143dca6b31c549cdf26ed": {
      "model_module": "bqplot",
      "model_module_version": "^0.3.6",
      "model_name": "AxisModel",
      "state": {
       "label": "Directory name",
       "scale": "IPY_MODEL_a2c4cd8d148c41018f066df6f3b641e7",
       "side": "bottom",
       "tick_values": {
        "type": null,
        "values": null
       }
      }
     },
     "8ac656bdd6b34040a0e26ccd49ed02cd": {
      "model_module": "@jupyter-widgets/base",
      "model_module_version": "1.0.0",
      "model_name": "LayoutModel",
      "state": {
       "height": "600px",
       "width": "100%"
      }
     },
     "8b2540f25e7347d9bb69f2dd9219e909": {
      "model_module": "bqplot",
      "model_module_version": "^0.3.6",
      "model_name": "LinearScaleModel",
      "state": {
       "allow_padding": false,
       "max": 1,
       "min": 0,
       "stabilized": false
      }
     },
     "8bb9553e9d234720b3d176ea3e9fa326": {
      "model_module": "bqplot",
      "model_module_version": "^0.3.6",
      "model_name": "LinearScaleModel",
      "state": {
       "allow_padding": false,
       "max": 1,
       "min": 0,
       "stabilized": false
      }
     },
     "8bf80cad052f41a8bf30aca9d1fdc9c8": {
      "model_module": "@jupyter-widgets/base",
      "model_module_version": "1.0.0",
      "model_name": "LayoutModel",
      "state": {}
     },
     "8c15b8bf822a4fe8a17d39a33012b12e": {
      "model_module": "@jupyter-widgets/controls",
      "model_module_version": "1.2.0",
      "model_name": "VBoxModel",
      "state": {
       "children": [
        "IPY_MODEL_d9c1dd23f4164152bd9da0c4764c0cc2"
       ],
       "layout": "IPY_MODEL_46906ab12df0472d878634286b244743"
      }
     },
     "8c2ef701edd04ea68af4ae96451f79ee": {
      "model_module": "bqplot",
      "model_module_version": "^0.3.6",
      "model_name": "AxisModel",
      "state": {
       "label": "Number of USB Connections",
       "orientation": "vertical",
       "scale": "IPY_MODEL_43f0bc1db0124d13b8cc4040070eecaf",
       "side": "left",
       "tick_format": "0.2f",
       "tick_values": {
        "type": null,
        "values": null
       }
      }
     },
     "8c800eb5ed034b7bbd9e440acd0de074": {
      "model_module": "bqplot",
      "model_module_version": "^0.3.6",
      "model_name": "AxisModel",
      "state": {
       "label": "Hours of the Day",
       "scale": "IPY_MODEL_797b5dd432604907b7dd77e462db0835",
       "side": "bottom",
       "tick_values": {
        "type": null,
        "values": null
       }
      }
     },
     "8cd8e0879e3c4d06b8a6432e8d3b06a8": {
      "model_module": "bqplot",
      "model_module_version": "^0.3.6",
      "model_name": "FigureModel",
      "state": {
       "_dom_classes": [],
       "animation_duration": 5000,
       "axes": [
        "IPY_MODEL_8c800eb5ed034b7bbd9e440acd0de074",
        "IPY_MODEL_002ba560545d481aa6aca175a0e8b4c3"
       ],
       "background_style": {
        "fill": "aliceblue"
       },
       "layout": "IPY_MODEL_8ac656bdd6b34040a0e26ccd49ed02cd",
       "marks": [
        "IPY_MODEL_a6d81d1a2100406dbc9afa85354271f3"
       ],
       "max_aspect_ratio": 6,
       "scale_x": "IPY_MODEL_b5208b5c04a2472c916e635e191bf678",
       "scale_y": "IPY_MODEL_25120dff506547d28faf5c4f058b8e31",
       "title": "USB Connections"
      }
     },
     "8cec34db1b694e359a4c001cd5d584e4": {
      "model_module": "bqplot",
      "model_module_version": "^0.3.6",
      "model_name": "LinearScaleModel",
      "state": {
       "allow_padding": false,
       "max": 1,
       "min": 0,
       "stabilized": false
      }
     },
     "8d0bcea7ae84493cbdfb10d4428dcc6a": {
      "model_module": "bqplot",
      "model_module_version": "^0.3.6",
      "model_name": "FigureModel",
      "state": {
       "_dom_classes": [],
       "animation_duration": 3000,
       "axes": [
        "IPY_MODEL_f55fb0f549194435a913bd4338c14f5c",
        "IPY_MODEL_88ca9e05ebe849eb843b15ffc3df39de"
       ],
       "background_style": {
        "fill": "aliceblue"
       },
       "layout": "IPY_MODEL_e66adf27db7a4619b093ea97ec24db5c",
       "marks": [
        "IPY_MODEL_6245d3e22cc14ec6b294fde33fe338e8"
       ],
       "max_aspect_ratio": 6,
       "scale_x": "IPY_MODEL_98bb6c3ea0ff413ba0c1220c19edfb1d",
       "scale_y": "IPY_MODEL_2b91627315e04c02a1f123008cf2451d",
       "title": "USB Connections Per Employee"
      }
     },
     "8d4b8d8199ed421fbbcb8e21d708bb79": {
      "model_module": "bqplot",
      "model_module_version": "^0.3.6",
      "model_name": "AxisModel",
      "state": {
       "label": "Number of USB Connections",
       "orientation": "vertical",
       "scale": "IPY_MODEL_5f9c8eb3a0c34155bd0a6cea36305380",
       "side": "left",
       "tick_format": "f",
       "tick_values": {
        "type": null,
        "values": null
       }
      }
     },
     "8d8753d3352b47d1be01a4968e88e724": {
      "model_module": "bqplot",
      "model_module_version": "^0.3.6",
      "model_name": "AxisModel",
      "state": {
       "label": "Hours of the Day",
       "scale": "IPY_MODEL_f0ee23b5e38643aa82be40da0831d46c",
       "side": "bottom",
       "tick_values": {
        "type": null,
        "values": null
       }
      }
     },
     "8dd5836d745b4f8b93c6614f6bef6228": {
      "model_module": "@jupyter-widgets/base",
      "model_module_version": "1.0.0",
      "model_name": "LayoutModel",
      "state": {}
     },
     "8dec237781fc49bd85a70931c92a7ab1": {
      "model_module": "bqplot",
      "model_module_version": "^0.3.6",
      "model_name": "AxisModel",
      "state": {
       "label": "Count",
       "orientation": "vertical",
       "scale": "IPY_MODEL_b0524be62ef24b26b28836ed159f44c4",
       "side": "left",
       "tick_format": "0.1f",
       "tick_values": {
        "type": null,
        "values": null
       }
      }
     },
     "8e18c85e2a4d48c6b137b3c334baa696": {
      "model_module": "bqplot",
      "model_module_version": "^0.3.6",
      "model_name": "LinearScaleModel",
      "state": {
       "allow_padding": false,
       "max": 1,
       "min": 0,
       "stabilized": false
      }
     },
     "8e3c6ba2cd7548d3a4b4c8580dc76999": {
      "model_module": "@jupyter-widgets/base",
      "model_module_version": "1.0.0",
      "model_name": "LayoutModel",
      "state": {}
     },
     "8e59269ea9564ed8af7c181a59f9dcd0": {
      "model_module": "bqplot",
      "model_module_version": "^0.3.6",
      "model_name": "AxisModel",
      "state": {
       "label": "x",
       "scale": "IPY_MODEL_8094968796374a54b42ccb3976c13552",
       "side": "bottom",
       "tick_values": {
        "type": null,
        "values": null
       }
      }
     },
     "8ec3391ca29a4577bfaed7e0170afedf": {
      "model_module": "bqplot",
      "model_module_version": "^0.3.6",
      "model_name": "LinearScaleModel",
      "state": {
       "stabilized": false
      }
     },
     "8ecd5b3d0f534f7e85e460d2606f768d": {
      "model_module": "bqplot",
      "model_module_version": "^0.3.6",
      "model_name": "AxisModel",
      "state": {
       "label": "Connect Activity",
       "scale": "IPY_MODEL_ddb48cd41a6d44a89ba40bf5ed403bc2",
       "side": "bottom",
       "tick_values": {
        "type": null,
        "values": null
       }
      }
     },
     "8ef2ecd6bbf34a3ea329b211529a373a": {
      "model_module": "bqplot",
      "model_module_version": "^0.3.6",
      "model_name": "FigureModel",
      "state": {
       "_dom_classes": [],
       "animation_duration": 5000,
       "axes": [
        "IPY_MODEL_ca9791ea9c1f469d848dc28aa9945e53",
        "IPY_MODEL_ffb7f72f852a4ce6a28bbb7152e00dae"
       ],
       "background_style": {
        "fill": "aliceblue"
       },
       "layout": "IPY_MODEL_e66adf27db7a4619b093ea97ec24db5c",
       "marks": [
        "IPY_MODEL_3a15aa8949884feeb850d81903a276a5"
       ],
       "max_aspect_ratio": 6,
       "scale_x": "IPY_MODEL_8b2540f25e7347d9bb69f2dd9219e909",
       "scale_y": "IPY_MODEL_15bb08a477a54278a4546a544dd7d407",
       "title": "USB Connections"
      }
     },
     "8f07dc67cc404b4191a7d0b78e72f1de": {
      "model_module": "@jupyter-widgets/base",
      "model_module_version": "1.0.0",
      "model_name": "LayoutModel",
      "state": {}
     },
     "8f50fce283f34085bbc470feb672fc63": {
      "model_module": "bqplot",
      "model_module_version": "^0.3.6",
      "model_name": "TooltipModel",
      "state": {
       "fields": [
        "x",
        "y"
       ],
       "formats": [
        "",
        "0.2f"
       ],
       "labels": [
        "Date",
        "Number of USB Connections"
       ],
       "layout": "IPY_MODEL_8f07dc67cc404b4191a7d0b78e72f1de"
      }
     },
     "8f5a71e8966f4f4b963ce6b80f6043d3": {
      "model_module": "@jupyter-widgets/base",
      "model_module_version": "1.0.0",
      "model_name": "LayoutModel",
      "state": {}
     },
     "8f732de35aac440483974eeea731c2c8": {
      "model_module": "bqplot",
      "model_module_version": "^0.3.6",
      "model_name": "LinearScaleModel",
      "state": {
       "allow_padding": false,
       "max": 1,
       "min": 0,
       "stabilized": false
      }
     },
     "8f73de196ab24026bcff128cc41ac614": {
      "model_module": "bqplot",
      "model_module_version": "^0.3.6",
      "model_name": "BarsModel",
      "state": {
       "color": {
        "type": null,
        "values": null
       },
       "colors": [
        "hotpink",
        "orange"
       ],
       "interactions": {
        "click": "select",
        "hover": "tooltip",
        "legend_hover": "highlight_axes"
       },
       "labels": [
        "Connect",
        "Disconnect"
       ],
       "padding": 0.1,
       "scales": {
        "x": "IPY_MODEL_e3569d56d9774513a26e1d8125a64bb0",
        "y": "IPY_MODEL_e80b87a538fc41fdb66d5fb4231036d0"
       },
       "selected": [],
       "selected_style": {
        "fill": "red"
       },
       "tooltip": "IPY_MODEL_85c34d335fb8447cbf526106788ab5b2",
       "type": "grouped",
       "x": {
        "type": "object",
        "values": [
         "PC-3471",
         "PC-1105",
         "PC-0937",
         "PC-3154",
         "PC-2158",
         "PC-7117",
         "PC-2659",
         "PC-2057",
         "PC-5849",
         "PC-7046"
        ]
       },
       "y": {
        "type": "float",
        "values": [
         [
          2.048,
          2.036,
          2.029,
          2.009,
          2,
          1.991,
          1.978,
          1.963,
          1.959,
          1.949
         ],
         [
          2.042,
          2.026,
          2.014,
          1.998,
          1.987,
          1.983,
          1.965,
          1.949,
          1.947,
          1.935
         ]
        ]
       }
      }
     },
     "8f806eb1cc92463ba3d8ae5ec7e5e035": {
      "model_module": "bqplot",
      "model_module_version": "^0.3.6",
      "model_name": "PanZoomModel",
      "state": {
       "scales": {
        "x": [
         "IPY_MODEL_7c623f0dc53d454ab1f4e35ce8091346"
        ],
        "y": [
         "IPY_MODEL_4d19c256eee04d9fbc34845806851f98"
        ]
       }
      }
     },
     "8f8bc95560574940a9ff8a36e129371e": {
      "model_module": "bqplot",
      "model_module_version": "^0.3.6",
      "model_name": "LinearScaleModel",
      "state": {
       "allow_padding": false,
       "max": 1,
       "min": 0,
       "stabilized": false
      }
     },
     "8faede25cd8a4ac0bb521b2f2337a859": {
      "model_module": "bqplot",
      "model_module_version": "^0.3.6",
      "model_name": "LinearScaleModel",
      "state": {
       "stabilized": false
      }
     },
     "8fc285d4d35d4d4a88556696bb7149bf": {
      "model_module": "bqplot",
      "model_module_version": "^0.3.6",
      "model_name": "LinearScaleModel",
      "state": {
       "allow_padding": false,
       "max": 1,
       "min": 0,
       "stabilized": false
      }
     },
     "8fef569166da4b279cc6c7088c64d9a5": {
      "model_module": "@jupyter-widgets/base",
      "model_module_version": "1.0.0",
      "model_name": "LayoutModel",
      "state": {}
     },
     "90410074946345708b3ec903c1bbd704": {
      "model_module": "bqplot",
      "model_module_version": "^0.3.6",
      "model_name": "LinearScaleModel",
      "state": {
       "stabilized": false
      }
     },
     "9066c9cba504407aac1db22b79ed70c2": {
      "model_module": "bqplot",
      "model_module_version": "^0.3.6",
      "model_name": "LinearScaleModel",
      "state": {
       "allow_padding": false,
       "max": 1,
       "min": 0,
       "stabilized": false
      }
     },
     "90a3b7ad01c54d18b0fd516ab387ea98": {
      "model_module": "@jupyter-widgets/controls",
      "model_module_version": "1.2.0",
      "model_name": "VBoxModel",
      "state": {
       "children": [
        "IPY_MODEL_71af3f9d97384a61bd0e8401b2c9ad98"
       ],
       "layout": "IPY_MODEL_ac4a5300e8504c54a33738cdcabec7be"
      }
     },
     "90bcbb8723fb4155a49ff12486aa0d83": {
      "model_module": "bqplot",
      "model_module_version": "^0.3.6",
      "model_name": "LinearScaleModel",
      "state": {
       "allow_padding": false,
       "max": 1,
       "min": 0,
       "stabilized": false
      }
     },
     "917ad373f56045bfaf6430fa5ec083ff": {
      "model_module": "bqplot",
      "model_module_version": "^0.3.6",
      "model_name": "DateScaleModel",
      "state": {}
     },
     "91a2aca1397849c48ca9e52cd49ed5d9": {
      "model_module": "@jupyter-widgets/base",
      "model_module_version": "1.0.0",
      "model_name": "LayoutModel",
      "state": {
       "min_width": "125px"
      }
     },
     "91a44a34f4404a1687db72e099ab76e9": {
      "model_module": "@jupyter-widgets/base",
      "model_module_version": "1.0.0",
      "model_name": "LayoutModel",
      "state": {}
     },
     "91b5fbdad30345c6a7d3eca60f277155": {
      "model_module": "bqplot",
      "model_module_version": "^0.3.6",
      "model_name": "AxisModel",
      "state": {
       "label": "Count",
       "orientation": "vertical",
       "scale": "IPY_MODEL_c29fcbcd9e8b4250b57a922e5e9d07ef",
       "side": "left",
       "tick_format": "0.2f",
       "tick_values": {
        "type": null,
        "values": null
       }
      }
     },
     "921369c3fc554230b4c4b064ecf1b791": {
      "model_module": "@jupyter-widgets/base",
      "model_module_version": "1.0.0",
      "model_name": "LayoutModel",
      "state": {}
     },
     "9237b598a3e94908ab53a64ec5550768": {
      "model_module": "bqplot",
      "model_module_version": "^0.3.6",
      "model_name": "PanZoomModel",
      "state": {
       "scales": {
        "x": [
         "IPY_MODEL_4ccd1b0be31e41c3b9876920d0b4b305"
        ],
        "y": [
         "IPY_MODEL_6a4c90d1b0d54af2bea438311b8dfa4b"
        ]
       }
      }
     },
     "92c9eb3da5f945dba850a3a4ddef341a": {
      "model_module": "bqplot",
      "model_module_version": "^0.3.6",
      "model_name": "LinearScaleModel",
      "state": {
       "stabilized": false
      }
     },
     "93009ecae85342deb33d3204d72b8dc8": {
      "model_module": "@jupyter-widgets/base",
      "model_module_version": "1.0.0",
      "model_name": "LayoutModel",
      "state": {}
     },
     "934b33affab3470a9f3b1dccb879c924": {
      "model_module": "@jupyter-widgets/controls",
      "model_module_version": "1.2.0",
      "model_name": "DescriptionStyleModel",
      "state": {
       "description_width": ""
      }
     },
     "9395417624a44e2c91a5b283e4e75e60": {
      "model_module": "bqplot",
      "model_module_version": "^0.3.6",
      "model_name": "LinearScaleModel",
      "state": {
       "allow_padding": false,
       "max": 1,
       "min": 0,
       "stabilized": false
      }
     },
     "9467ec6c8ff14fdbad942e21fd63cf64": {
      "model_module": "bqplot",
      "model_module_version": "^0.3.6",
      "model_name": "AxisModel",
      "state": {
       "label": "Count (log)",
       "orientation": "vertical",
       "scale": "IPY_MODEL_83104feda20c486c899dc6efc44b0dce",
       "side": "left",
       "tick_format": "0.2f",
       "tick_values": {
        "type": null,
        "values": null
       }
      }
     },
     "948c4158ea744032a30b22a27cd3a555": {
      "model_module": "bqplot",
      "model_module_version": "^0.3.6",
      "model_name": "LinearScaleModel",
      "state": {
       "stabilized": false
      }
     },
     "94baa30e9d1844ec83d263cc73b89e80": {
      "model_module": "bqplot",
      "model_module_version": "^0.3.6",
      "model_name": "AxisModel",
      "state": {
       "label": "Hours of the Day",
       "scale": "IPY_MODEL_c5464d666817455b9cdfa22ac74bff10",
       "side": "bottom",
       "tick_values": {
        "type": null,
        "values": null
       }
      }
     },
     "94c9adf1e7694d78bb4c669459d9996a": {
      "model_module": "bqplot",
      "model_module_version": "^0.3.6",
      "model_name": "PanZoomModel",
      "state": {
       "scales": {
        "x": [
         "IPY_MODEL_a156a76c787d47f0af7a094b5a866898"
        ],
        "y": [
         "IPY_MODEL_7fa4e569ea954fddaeb20d763e6f79fa"
        ]
       }
      }
     },
     "9576e5b414f34cfe88389fb0638927ec": {
      "model_module": "@jupyter-widgets/base",
      "model_module_version": "1.0.0",
      "model_name": "LayoutModel",
      "state": {}
     },
     "95dee9229a524de2b936aec8ed0a2c92": {
      "model_module": "@jupyter-widgets/base",
      "model_module_version": "1.0.0",
      "model_name": "LayoutModel",
      "state": {}
     },
     "9640286e2e6f49acae207eb5756a98d1": {
      "model_module": "bqplot",
      "model_module_version": "^0.3.6",
      "model_name": "LinearScaleModel",
      "state": {
       "allow_padding": false,
       "max": 1,
       "min": 0,
       "stabilized": false
      }
     },
     "96e93f69979f465088f2386be4f423de": {
      "model_module": "bqplot",
      "model_module_version": "^0.3.6",
      "model_name": "TooltipModel",
      "state": {
       "fields": [
        "x",
        "y"
       ],
       "formats": [
        "",
        "0.2f"
       ],
       "labels": [
        "Date",
        "Email Size"
       ],
       "layout": "IPY_MODEL_551246796713471596aca30eba2ee636"
      }
     },
     "97591258a4194db894130012e928e92f": {
      "model_module": "@jupyter-widgets/base",
      "model_module_version": "1.0.0",
      "model_name": "LayoutModel",
      "state": {}
     },
     "978a6a322b8c49cc905032c37f1193b4": {
      "model_module": "bqplot",
      "model_module_version": "^0.3.6",
      "model_name": "LinearScaleModel",
      "state": {
       "allow_padding": false,
       "max": 1,
       "min": 0,
       "stabilized": false
      }
     },
     "97b5c85616c4425fa431f003082017cf": {
      "model_module": "bqplot",
      "model_module_version": "^0.3.6",
      "model_name": "AxisModel",
      "state": {
       "label": "Number of USB Connections",
       "orientation": "vertical",
       "scale": "IPY_MODEL_2df894e740894ba2a28046c8f4dac439",
       "side": "left",
       "tick_format": "f",
       "tick_values": {
        "type": null,
        "values": null
       }
      }
     },
     "97da337071784883b62091fcde2d2a6a": {
      "model_module": "bqplot",
      "model_module_version": "^0.3.6",
      "model_name": "FigureModel",
      "state": {
       "_dom_classes": [],
       "animation_duration": 5000,
       "axes": [
        "IPY_MODEL_fb85d9c6dc1f43889b86ad5c9db7c5e1",
        "IPY_MODEL_dba35bcd84ca4467abfe2c6f51751ee4"
       ],
       "background_style": {
        "fill": "aliceblue"
       },
       "layout": "IPY_MODEL_8ac656bdd6b34040a0e26ccd49ed02cd",
       "marks": [
        "IPY_MODEL_4901a7670f0946cb9bf486c7da015c7c"
       ],
       "max_aspect_ratio": 6,
       "scale_x": "IPY_MODEL_c659958ced01482c8649b0dff82936ac",
       "scale_y": "IPY_MODEL_58905d80fe4b4ddca86e7d6e063b16a5",
       "title": "Number of Emails sent Daily"
      }
     },
     "97ece0646203481d9deed8ffb05235dd": {
      "model_module": "bqplot",
      "model_module_version": "^0.3.6",
      "model_name": "BarsModel",
      "state": {
       "color": {
        "type": null,
        "values": null
       },
       "colors": [
        "green"
       ],
       "display_legend": false,
       "interactions": {
        "click": "select",
        "hover": "tooltip",
        "legend_hover": "highlight_axes"
       },
       "labels": [
        "Number of USB Connections"
       ],
       "scales": {
        "x": "IPY_MODEL_4b53aa0e49184e26bb7e4c4f2120b8ea",
        "y": "IPY_MODEL_21fcfe4211dd45d090880f7f365ac830"
       },
       "selected": [],
       "selected_style": {
        "fill": "red"
       },
       "tooltip": "IPY_MODEL_f90c7c1735234225a3b4960de9c5b8a8",
       "x": {
        "type": "date",
        "values": [
         "1900-01-01T14:00:00.000000",
         "1900-01-01T09:00:00.000000",
         "1900-01-01T13:00:00.000000",
         "1900-01-01T15:00:00.000000",
         "1900-01-01T10:00:00.000000",
         "1900-01-01T08:00:00.000000",
         "1900-01-01T12:00:00.000000",
         "1900-01-01T11:00:00.000000",
         "1900-01-01T16:00:00.000000",
         "1900-01-01T17:00:00.000000",
         "1900-01-01T07:00:00.000000",
         "1900-01-01T18:00:00.000000",
         "1900-01-01T19:00:00.000000",
         "1900-01-01T22:00:00.000000",
         "1900-01-01T23:00:00.000000",
         "1900-01-01T06:00:00.000000",
         "1900-01-01T21:00:00.000000",
         "1900-01-01T20:00:00.000000",
         "1900-01-01T00:00:00.000000",
         "1900-01-01T01:00:00.000000",
         "1900-01-01T04:00:00.000000",
         "1900-01-01T05:00:00.000000",
         "1900-01-01T03:00:00.000000",
         "1900-01-01T02:00:00.000000"
        ]
       },
       "y": {
        "type": "float",
        "values": [
         41.339,
         40.332,
         37.987,
         37.554,
         35.012,
         34.87,
         32.312,
         31.498,
         26.909,
         15.277,
         10.393,
         5.236,
         1.377,
         0.915,
         0.913,
         0.837,
         0.799,
         0.637,
         0.616,
         0.491,
         0.462,
         0.442,
         0.412,
         0.397
        ]
       }
      }
     },
     "97fab3caae4546b9a83962a58cb60aac": {
      "model_module": "bqplot",
      "model_module_version": "^0.3.6",
      "model_name": "FigureModel",
      "state": {
       "_dom_classes": [],
       "animation_duration": 5000,
       "axes": [
        "IPY_MODEL_b5a8725dd1a4461eb6848c868a86fb79",
        "IPY_MODEL_57d7d2957e7d44db97e7f441affdabbf"
       ],
       "background_style": {
        "fill": "aliceblue"
       },
       "layout": "IPY_MODEL_e66adf27db7a4619b093ea97ec24db5c",
       "legend_style": {
        "fill": "white"
       },
       "marks": [
        "IPY_MODEL_645f01363aac4e958234d0abd304de97"
       ],
       "max_aspect_ratio": 6,
       "scale_x": "IPY_MODEL_3dd81ad022cd4cf791c1e9e7a1e822b6",
       "scale_y": "IPY_MODEL_280df48aaa754a9aa309ca9eff89d711",
       "title": "Proportion of Directory Access"
      }
     },
     "9819d6e76a604c2b8831baf55e64f936": {
      "model_module": "bqplot",
      "model_module_version": "^0.3.6",
      "model_name": "LinearScaleModel",
      "state": {
       "allow_padding": false,
       "max": 1,
       "min": 0,
       "stabilized": false
      }
     },
     "98383247ce4a4ecfbd7f3ec334c5d2bd": {
      "model_module": "bqplot",
      "model_module_version": "^0.3.6",
      "model_name": "DateScaleModel",
      "state": {}
     },
     "98bb6c3ea0ff413ba0c1220c19edfb1d": {
      "model_module": "bqplot",
      "model_module_version": "^0.3.6",
      "model_name": "LinearScaleModel",
      "state": {
       "allow_padding": false,
       "max": 1,
       "min": 0,
       "stabilized": false
      }
     },
     "991736855a944d54a33a35872ba1b0c0": {
      "model_module": "bqplot",
      "model_module_version": "^0.3.6",
      "model_name": "LinearScaleModel",
      "state": {
       "allow_padding": false,
       "max": 1,
       "min": 0,
       "stabilized": false
      }
     },
     "991d19acab3148d09041aa991b4f8c9a": {
      "model_module": "bqplot",
      "model_module_version": "^0.3.6",
      "model_name": "PanZoomModel",
      "state": {
       "scales": {
        "x": [
         "IPY_MODEL_a2c4cd8d148c41018f066df6f3b641e7"
        ],
        "y": [
         "IPY_MODEL_9e601269bc1a49fb8fef061cf851876f"
        ]
       }
      }
     },
     "992e5451a41d4ade8af1e767a9515b2b": {
      "model_module": "bqplot",
      "model_module_version": "^0.3.6",
      "model_name": "BarsModel",
      "state": {
       "color": {
        "type": null,
        "values": null
       },
       "colors": [
        "skyblue"
       ],
       "display_legend": false,
       "interactions": {
        "click": "select",
        "hover": "tooltip",
        "legend_hover": "highlight_axes"
       },
       "labels": [
        "Number of USB Connections"
       ],
       "scales": {
        "x": "IPY_MODEL_0bca2cf2fc0249598ea793eb115c4520",
        "y": "IPY_MODEL_e0c4ce1f25964b93aef638d5f32783c5"
       },
       "selected": [],
       "selected_style": {
        "fill": "red"
       },
       "tooltip": "IPY_MODEL_ba156e5ebff64bb38727047a2d81413a",
       "x": {
        "type": "date",
        "values": [
         "1970-01-01T14:00:00.000000",
         "1970-01-01T09:00:00.000000",
         "1970-01-01T13:00:00.000000",
         "1970-01-01T15:00:00.000000",
         "1970-01-01T10:00:00.000000",
         "1970-01-01T08:00:00.000000",
         "1970-01-01T12:00:00.000000",
         "1970-01-01T11:00:00.000000",
         "1970-01-01T16:00:00.000000",
         "1970-01-01T17:00:00.000000",
         "1970-01-01T07:00:00.000000",
         "1970-01-01T18:00:00.000000",
         "1970-01-01T19:00:00.000000",
         "1970-01-01T22:00:00.000000",
         "1970-01-01T23:00:00.000000",
         "1970-01-01T06:00:00.000000",
         "1970-01-01T21:00:00.000000",
         "1970-01-01T20:00:00.000000",
         "1970-01-01T00:00:00.000000",
         "1970-01-01T01:00:00.000000",
         "1970-01-01T04:00:00.000000",
         "1970-01-01T05:00:00.000000",
         "1970-01-01T03:00:00.000000",
         "1970-01-01T02:00:00.000000"
        ]
       },
       "y": {
        "type": "float",
        "values": [
         41.339,
         40.332,
         37.987,
         37.554,
         35.012,
         34.87,
         32.312,
         31.498,
         26.909,
         15.277,
         10.393,
         5.236,
         1.377,
         0.915,
         0.913,
         0.837,
         0.799,
         0.637,
         0.616,
         0.491,
         0.462,
         0.442,
         0.412,
         0.397
        ]
       }
      }
     },
     "9998d519681d42f2ad288aa7b3cb9715": {
      "model_module": "bqplot",
      "model_module_version": "^0.3.6",
      "model_name": "PanZoomModel",
      "state": {
       "scales": {
        "x": [
         "IPY_MODEL_d54f4b7cb844420cb6bcf4ef2c461f12"
        ],
        "y": [
         "IPY_MODEL_8670f355785342e38c6a7f931ed816a8"
        ]
       }
      }
     },
     "999c8f08b3054c959baceaf4a03b5326": {
      "model_module": "bqplot",
      "model_module_version": "^0.3.6",
      "model_name": "PanZoomModel",
      "state": {
       "scales": {
        "x": [
         "IPY_MODEL_0bca2cf2fc0249598ea793eb115c4520"
        ],
        "y": [
         "IPY_MODEL_e0c4ce1f25964b93aef638d5f32783c5"
        ]
       }
      }
     },
     "99b1004b28b44b1aafc93575c9fc604b": {
      "model_module": "bqplot",
      "model_module_version": "^0.3.6",
      "model_name": "PanZoomModel",
      "state": {
       "scales": {
        "x": [
         "IPY_MODEL_89376407eb3d45369b5ac3d6c54bc652"
        ],
        "y": [
         "IPY_MODEL_b70413a5d41f4187bc9b344484c1c526"
        ]
       }
      }
     },
     "99ddefa937bc48b3a6633f5256c71db6": {
      "model_module": "bqplot",
      "model_module_version": "^0.3.6",
      "model_name": "TooltipModel",
      "state": {
       "fields": [
        "x",
        "y"
       ],
       "formats": [
        "",
        "f"
       ],
       "labels": [
        "Date",
        "Number of USB Connections"
       ],
       "layout": "IPY_MODEL_4da81c6d5afd4a1a8572bf5cdc62b72e"
      }
     },
     "99e142abed6641bd8e8ff60dcf83175a": {
      "model_module": "bqplot",
      "model_module_version": "^0.3.6",
      "model_name": "BarsModel",
      "state": {
       "color": {
        "type": null,
        "values": null
       },
       "colors": [
        "limegreen"
       ],
       "display_legend": false,
       "interactions": {
        "click": "select",
        "hover": "tooltip",
        "legend_hover": "highlight_axes"
       },
       "labels": [
        "Connect Activity"
       ],
       "padding": 0.2,
       "scales": {
        "x": "IPY_MODEL_247a780cdfdb41509b8caa687bd97feb",
        "y": "IPY_MODEL_ad63e5fea3ca4bf9bdf537aac5a53170"
       },
       "selected": [],
       "selected_style": {
        "fill": "red"
       },
       "tooltip": "IPY_MODEL_755dc80a2a0b4cc28b22bcb238a930b0",
       "x": {
        "type": "object",
        "values": [
         "Connect",
         "Disconnect"
        ]
       },
       "y": {
        "type": "float",
        "values": [
         357.017,
         354.629
        ]
       }
      }
     },
     "9a334b6c02fa4e9896f87b792c1cd2f5": {
      "model_module": "bqplot",
      "model_module_version": "^0.3.6",
      "model_name": "LinearScaleModel",
      "state": {
       "allow_padding": false,
       "max": 1,
       "min": 0,
       "stabilized": false
      }
     },
     "9a382dec5e3c48bcb8c91f5f5e245e88": {
      "model_module": "bqplot",
      "model_module_version": "^0.3.6",
      "model_name": "FigureModel",
      "state": {
       "_dom_classes": [],
       "animation_duration": 5000,
       "axes": [
        "IPY_MODEL_c823910aa6904c688f5f7a83098a231f",
        "IPY_MODEL_86124c376e2b43d7b29fa14aea800acf"
       ],
       "background_style": {
        "fill": "aliceblue"
       },
       "layout": "IPY_MODEL_b911fbd85f9a4a77af90ee01dd13096f",
       "marks": [
        "IPY_MODEL_8830c3c8a6cc4871b30f88bbd899321b"
       ],
       "max_aspect_ratio": 6,
       "scale_x": "IPY_MODEL_848f0ea4a68f41ada0e1297f6ac44823",
       "scale_y": "IPY_MODEL_9ac1cde58cd54f3abb3acae4c12eaf69",
       "title": "Proportion of Connect Activity"
      }
     },
     "9a44b265fc8949c88b6f9bdcbba07de4": {
      "model_module": "bqplot",
      "model_module_version": "^0.3.6",
      "model_name": "LinearScaleModel",
      "state": {
       "allow_padding": false,
       "max": 1,
       "min": 0,
       "stabilized": false
      }
     },
     "9a5b0dfadcf749a5842b45bceef16463": {
      "model_module": "bqplot",
      "model_module_version": "^0.3.6",
      "model_name": "LinearScaleModel",
      "state": {
       "allow_padding": false,
       "max": 1,
       "min": 0,
       "stabilized": false
      }
     },
     "9a7941ba9d2e4f78902b8157406872cc": {
      "model_module": "bqplot",
      "model_module_version": "^0.3.6",
      "model_name": "LinearScaleModel",
      "state": {
       "allow_padding": false,
       "max": 1,
       "min": 0,
       "stabilized": false
      }
     },
     "9a8ca2a72c1b489e997978eab992ac45": {
      "model_module": "@jupyter-widgets/base",
      "model_module_version": "1.0.0",
      "model_name": "LayoutModel",
      "state": {}
     },
     "9a93d78203364010ae47284b8d89cfdc": {
      "model_module": "bqplot",
      "model_module_version": "^0.3.6",
      "model_name": "AxisModel",
      "state": {
       "label": "Directory name",
       "scale": "IPY_MODEL_04d132cce5b54d508b8200f7d1387033",
       "side": "bottom",
       "tick_values": {
        "type": null,
        "values": null
       }
      }
     },
     "9ac00430dddf4e528c8d74db328588e3": {
      "model_module": "@jupyter-widgets/base",
      "model_module_version": "1.0.0",
      "model_name": "LayoutModel",
      "state": {}
     },
     "9ac1cde58cd54f3abb3acae4c12eaf69": {
      "model_module": "bqplot",
      "model_module_version": "^0.3.6",
      "model_name": "LinearScaleModel",
      "state": {
       "allow_padding": false,
       "max": 1,
       "min": 0,
       "stabilized": false
      }
     },
     "9ae2e923a43b416b8823dde20e2c51ac": {
      "model_module": "@jupyter-widgets/base",
      "model_module_version": "1.0.0",
      "model_name": "LayoutModel",
      "state": {}
     },
     "9afea0b2eb274a6ebd05d4c129bf6591": {
      "model_module": "bqplot",
      "model_module_version": "^0.3.6",
      "model_name": "BarsModel",
      "state": {
       "color": {
        "type": null,
        "values": null
       },
       "colors": [
        "blue"
       ],
       "interactions": {
        "click": "select",
        "hover": "tooltip",
        "legend_hover": "highlight_axes"
       },
       "labels": [
        "Connect Activity"
       ],
       "scales": {
        "x": "IPY_MODEL_7c623f0dc53d454ab1f4e35ce8091346",
        "y": "IPY_MODEL_4d19c256eee04d9fbc34845806851f98"
       },
       "selected": [],
       "selected_style": {
        "fill": "red"
       },
       "tooltip": "IPY_MODEL_dd0969d7d100485d802bfe2a9dc37aeb",
       "x": {
        "type": "object",
        "values": [
         "Connect",
         "Disconnect"
        ]
       },
       "y": {
        "type": "float",
        "values": [
         357.017,
         354.629
        ]
       }
      }
     },
     "9b65f96cbbfb47839bac4c91a62a5464": {
      "model_module": "bqplot",
      "model_module_version": "^0.3.6",
      "model_name": "AxisModel",
      "state": {
       "label": "Number of USB Connections",
       "orientation": "vertical",
       "scale": "IPY_MODEL_64df505db7ba43f5961c18fa29767514",
       "side": "left",
       "tick_format": "f",
       "tick_values": {
        "type": null,
        "values": null
       }
      }
     },
     "9b6c652a36fa46779528bd2c57d3a9ad": {
      "model_module": "@jupyter-widgets/controls",
      "model_module_version": "1.2.0",
      "model_name": "DropdownModel",
      "state": {
       "_options_labels": [
        "AAC0610",
        "AAP1919"
       ],
       "description": "Select Employee ID",
       "index": 0,
       "layout": "IPY_MODEL_0fd86f1fe9c743aaaae1300b41f69e08",
       "style": "IPY_MODEL_b66f80897ce94a2c8bb6f5acbbd65b37"
      }
     },
     "9b6d9c22c6dc47708354e0074ec5c021": {
      "model_module": "bqplot",
      "model_module_version": "^0.3.6",
      "model_name": "LinearScaleModel",
      "state": {
       "allow_padding": false,
       "max": 1,
       "min": 0,
       "stabilized": false
      }
     },
     "9bfba49138594c40abeef6f863de0591": {
      "model_module": "@jupyter-widgets/base",
      "model_module_version": "1.0.0",
      "model_name": "LayoutModel",
      "state": {}
     },
     "9c9255ff66c24fe6ad75ec26f378cb5a": {
      "model_module": "@jupyter-widgets/base",
      "model_module_version": "1.0.0",
      "model_name": "LayoutModel",
      "state": {}
     },
     "9c9dbd814a3141dfbf914aa373fc8baf": {
      "model_module": "bqplot",
      "model_module_version": "^0.3.6",
      "model_name": "LinearScaleModel",
      "state": {
       "allow_padding": false,
       "max": 1,
       "min": 0,
       "stabilized": false
      }
     },
     "9cb854b8ccca417182de7f11097f522d": {
      "model_module": "@jupyter-widgets/base",
      "model_module_version": "1.0.0",
      "model_name": "LayoutModel",
      "state": {}
     },
     "9d13176d77254346ab3f67ef5be71197": {
      "model_module": "bqplot",
      "model_module_version": "^0.3.6",
      "model_name": "LinearScaleModel",
      "state": {
       "allow_padding": false,
       "max": 1,
       "min": 0,
       "stabilized": false
      }
     },
     "9d41d7e7598d476ca9564ce2cf23373d": {
      "model_module": "bqplot",
      "model_module_version": "^0.3.6",
      "model_name": "OrdinalScaleModel",
      "state": {
       "domain": []
      }
     },
     "9d472e0f91d846ea9988fefd264f12a1": {
      "model_module": "@jupyter-widgets/base",
      "model_module_version": "1.0.0",
      "model_name": "LayoutModel",
      "state": {}
     },
     "9d579bf327394872b7ddea224a615438": {
      "model_module": "@jupyter-widgets/controls",
      "model_module_version": "1.2.0",
      "model_name": "VBoxModel",
      "state": {
       "children": [
        "IPY_MODEL_216b20cb501343a8b8719b0f72709b5f"
       ],
       "layout": "IPY_MODEL_8903452deb644c46b8e023cda1e6225d"
      }
     },
     "9d86b96bf9cf4ea9b44d683b85c98d5b": {
      "model_module": "bqplot",
      "model_module_version": "^0.3.6",
      "model_name": "LinearScaleModel",
      "state": {
       "allow_padding": false,
       "max": 1,
       "min": 0,
       "stabilized": false
      }
     },
     "9d9f42d2ad224fd89ebc81a01c4b0ba6": {
      "model_module": "bqplot",
      "model_module_version": "^0.3.6",
      "model_name": "TooltipModel",
      "state": {
       "fields": [
        "x",
        "y"
       ],
       "formats": [
        "",
        "f"
       ],
       "labels": [
        "Directory",
        "Count"
       ],
       "layout": "IPY_MODEL_618cb69a145b42eb8ea8a9fe1ddb5fa6"
      }
     },
     "9dd422d8345b427f82333e58a87e970a": {
      "model_module": "bqplot",
      "model_module_version": "^0.3.6",
      "model_name": "TooltipModel",
      "state": {
       "fields": [
        "x",
        "y"
       ],
       "formats": [
        "",
        "0.2f"
       ],
       "labels": [
        "Activity",
        "Count"
       ],
       "layout": "IPY_MODEL_37094ff21fec4450b60d924d5453d339"
      }
     },
     "9debe8b1113943f3b09669500a99979f": {
      "model_module": "bqplot",
      "model_module_version": "^0.3.6",
      "model_name": "TooltipModel",
      "state": {
       "fields": [
        "x",
        "y"
       ],
       "formats": [
        "",
        "f"
       ],
       "labels": [
        "Date",
        "Number of USB Connections"
       ],
       "layout": "IPY_MODEL_c66a13a5675f4053bf758ef6bd6323a3"
      }
     },
     "9df699cf3f3b42c0ae9c2802585ed2af": {
      "model_module": "bqplot",
      "model_module_version": "^0.3.6",
      "model_name": "AxisModel",
      "state": {
       "label": "Number of USB Connections",
       "orientation": "vertical",
       "scale": "IPY_MODEL_81e9319faf0743b1a508746eb7d569ba",
       "side": "left",
       "tick_format": "0.2f",
       "tick_values": {
        "type": null,
        "values": null
       }
      }
     },
     "9e322141d2544e63bebde8d6f1640ba9": {
      "model_module": "bqplot",
      "model_module_version": "^0.3.6",
      "model_name": "OrdinalScaleModel",
      "state": {
       "domain": []
      }
     },
     "9e4f1460f89e4cc397173593e9c377c0": {
      "model_module": "@jupyter-widgets/controls",
      "model_module_version": "1.2.0",
      "model_name": "DescriptionStyleModel",
      "state": {
       "description_width": ""
      }
     },
     "9e601269bc1a49fb8fef061cf851876f": {
      "model_module": "bqplot",
      "model_module_version": "^0.3.6",
      "model_name": "LinearScaleModel",
      "state": {
       "stabilized": false
      }
     },
     "9e892b51c4f24475a51524b1384bb57a": {
      "model_module": "bqplot",
      "model_module_version": "^0.3.6",
      "model_name": "PanZoomModel",
      "state": {
       "scales": {
        "x": [
         "IPY_MODEL_0da0cbfaaafe4b4fbb285a56c2ece3e2"
        ],
        "y": [
         "IPY_MODEL_55eefbf54f9d4eaba3990200e03ca8f2"
        ]
       }
      }
     },
     "9e928bf969634f35810e4b10ae7ad079": {
      "model_module": "@jupyter-widgets/base",
      "model_module_version": "1.0.0",
      "model_name": "LayoutModel",
      "state": {}
     },
     "9ec18425578f48cbbfe40a9f049f0d69": {
      "model_module": "bqplot",
      "model_module_version": "^0.3.6",
      "model_name": "LinearScaleModel",
      "state": {
       "allow_padding": false,
       "max": 1,
       "min": 0,
       "stabilized": false
      }
     },
     "9edc1f5c881249fdab855caae80d26c9": {
      "model_module": "bqplot",
      "model_module_version": "^0.3.6",
      "model_name": "AxisModel",
      "state": {
       "label": "Count",
       "orientation": "vertical",
       "scale": "IPY_MODEL_9e601269bc1a49fb8fef061cf851876f",
       "side": "left",
       "tick_format": "0.2f",
       "tick_values": {
        "type": null,
        "values": null
       }
      }
     },
     "9eeb4a1708a54501a331b728eedbd98f": {
      "model_module": "bqplot",
      "model_module_version": "^0.3.6",
      "model_name": "FigureModel",
      "state": {
       "_dom_classes": [],
       "animation_duration": 5000,
       "axes": [
        "IPY_MODEL_b692c83f46534f45a565be2378634f21",
        "IPY_MODEL_837e951c49ce4e14990865a57a2b0fcc"
       ],
       "background_style": {
        "fill": "aliceblue"
       },
       "layout": "IPY_MODEL_8ac656bdd6b34040a0e26ccd49ed02cd",
       "marks": [
        "IPY_MODEL_b92f4ec6d1294b8ebe7860168fa7d2ca"
       ],
       "max_aspect_ratio": 6,
       "scale_x": "IPY_MODEL_4bd9f03a0ff2451da8c3c0eb4a11c9ca",
       "scale_y": "IPY_MODEL_821549aef6e24d68b65bdad3f19b5da1",
       "title": "Number of Emails sent Daily"
      }
     },
     "9ef5a882643545f4ad0af651b1aa8346": {
      "model_module": "bqplot",
      "model_module_version": "^0.3.6",
      "model_name": "LinearScaleModel",
      "state": {
       "allow_padding": false,
       "max": 1,
       "min": 0,
       "stabilized": false
      }
     },
     "9ef7f348473840a79e4c8731ae504fc4": {
      "model_module": "bqplot",
      "model_module_version": "^0.3.6",
      "model_name": "LinearScaleModel",
      "state": {
       "allow_padding": false,
       "max": 1,
       "min": 0,
       "stabilized": false
      }
     },
     "9f76373f03ce44c89b09d59ed4d45c5a": {
      "model_module": "bqplot",
      "model_module_version": "^0.3.6",
      "model_name": "AxisModel",
      "state": {
       "label": "Email attachment size (GB)",
       "orientation": "vertical",
       "scale": "IPY_MODEL_1ce0e6f304714618a2209dd0f6488057",
       "side": "left",
       "tick_format": "0.2f",
       "tick_values": {
        "type": null,
        "values": null
       }
      }
     },
     "9febc4febded476b9ecca7315c3f5eb9": {
      "model_module": "@jupyter-widgets/base",
      "model_module_version": "1.0.0",
      "model_name": "LayoutModel",
      "state": {}
     },
     "a02ebcee03ba484aa1ec2a61014865f2": {
      "model_module": "bqplot",
      "model_module_version": "^0.3.6",
      "model_name": "FigureModel",
      "state": {
       "_dom_classes": [],
       "animation_duration": 1000,
       "axes": [
        "IPY_MODEL_a5e92e85220b4ea1a74725a3da32e5cd",
        "IPY_MODEL_9f76373f03ce44c89b09d59ed4d45c5a"
       ],
       "layout": "IPY_MODEL_8866dba9530349729bd7ed72a20c39cf",
       "marks": [
        "IPY_MODEL_1b0ba47ed46a4fe8b08c056999b62053"
       ],
       "max_aspect_ratio": 6,
       "scale_x": "IPY_MODEL_56600a88ca8a46aa97de62db0f985c72",
       "scale_y": "IPY_MODEL_4e9eeb3f410d4cf0b6bd89c48d971cf8",
       "title": "Email attachment size"
      }
     },
     "a0b206c5b99f46849f1de1efb05c1725": {
      "model_module": "bqplot",
      "model_module_version": "^0.3.6",
      "model_name": "PanZoomModel",
      "state": {
       "scales": {
        "x": [
         "IPY_MODEL_43c75dca21ea49eca3be7f6b9159cb57"
        ],
        "y": [
         "IPY_MODEL_27fce31c8cb3451bb78a699e73218277"
        ]
       }
      }
     },
     "a0cb4bea195644ac94af5b26832110d1": {
      "model_module": "bqplot",
      "model_module_version": "^0.3.6",
      "model_name": "BarsModel",
      "state": {
       "color": {
        "type": null,
        "values": null
       },
       "colors": [
        "skyblue"
       ],
       "display_legend": false,
       "interactions": {
        "click": "select",
        "hover": "tooltip",
        "legend_hover": "highlight_axes"
       },
       "labels": [
        "Number of USB Connections"
       ],
       "scales": {
        "x": "IPY_MODEL_3a0f31cbead449518d47414ef36c7728",
        "y": "IPY_MODEL_3d39c94beec946a18eefd1c94bd320e4"
       },
       "selected": [],
       "selected_style": {
        "fill": "red"
       },
       "tooltip": "IPY_MODEL_48d03597cdd94419aafd7c7a8b9a51e5",
       "x": {
        "type": "date",
        "values": [
         "1970-01-01T07:00:00.000000",
         "1970-01-01T08:00:00.000000",
         "1970-01-01T09:00:00.000000",
         "1970-01-01T10:00:00.000000",
         "1970-01-01T11:00:00.000000",
         "1970-01-01T12:00:00.000000",
         "1970-01-01T13:00:00.000000",
         "1970-01-01T14:00:00.000000",
         "1970-01-01T15:00:00.000000",
         "1970-01-01T16:00:00.000000",
         "1970-01-01T19:00:00.000000",
         "1970-01-01T20:00:00.000000"
        ]
       },
       "y": {
        "type": "float",
        "values": [
         37,
         167,
         169,
         167,
         157,
         151,
         174,
         154,
         187,
         82
        ]
       }
      }
     },
     "a0d19ec1cf1f4e75abb401ef048e8695": {
      "model_module": "bqplot",
      "model_module_version": "^0.3.6",
      "model_name": "BarsModel",
      "state": {
       "color": {
        "type": null,
        "values": null
       },
       "colors": [
        "skyblue"
       ],
       "display_legend": false,
       "interactions": {
        "click": "select",
        "hover": "tooltip",
        "legend_hover": "highlight_axes"
       },
       "labels": [
        "Number of USB Connections"
       ],
       "scales": {
        "x": "IPY_MODEL_0187591133d2404ea5ac51abc70e1a77",
        "y": "IPY_MODEL_2df894e740894ba2a28046c8f4dac439"
       },
       "selected": [],
       "selected_style": {
        "fill": "red"
       },
       "tooltip": "IPY_MODEL_75bf9d8b80554efd90ca097548e61e2c",
       "x": {
        "type": "date",
        "values": [
         "1970-01-01T07:00:00.000000",
         "1970-01-01T08:00:00.000000",
         "1970-01-01T09:00:00.000000",
         "1970-01-01T10:00:00.000000",
         "1970-01-01T11:00:00.000000",
         "1970-01-01T12:00:00.000000",
         "1970-01-01T13:00:00.000000",
         "1970-01-01T14:00:00.000000",
         "1970-01-01T15:00:00.000000",
         "1970-01-01T16:00:00.000000"
        ]
       },
       "y": {
        "type": "float",
        "values": [
         37,
         167,
         169,
         167,
         157,
         151,
         174,
         154,
         187,
         82
        ]
       }
      }
     },
     "a0e9873e490d4790a7eb569906963270": {
      "model_module": "bqplot",
      "model_module_version": "^0.3.6",
      "model_name": "PanZoomModel",
      "state": {
       "scales": {
        "x": [
         "IPY_MODEL_79e48fd9bd3944e6a5d25bb0afdcf289"
        ],
        "y": [
         "IPY_MODEL_b0524be62ef24b26b28836ed159f44c4"
        ]
       }
      }
     },
     "a11169a2305c40ada9235a1b111901a1": {
      "model_module": "@jupyter-widgets/base",
      "model_module_version": "1.0.0",
      "model_name": "LayoutModel",
      "state": {}
     },
     "a143281b775c4bf2ae4612ae386963a9": {
      "model_module": "@jupyter-widgets/base",
      "model_module_version": "1.0.0",
      "model_name": "LayoutModel",
      "state": {}
     },
     "a156a76c787d47f0af7a094b5a866898": {
      "model_module": "bqplot",
      "model_module_version": "^0.3.6",
      "model_name": "DateScaleModel",
      "state": {}
     },
     "a15edab4a2ef41928c184ed87d646925": {
      "model_module": "bqplot",
      "model_module_version": "^0.3.6",
      "model_name": "BarsModel",
      "state": {
       "color": {
        "type": null,
        "values": null
       },
       "colors": [
        "skyblue"
       ],
       "display_legend": false,
       "interactions": {
        "click": "select",
        "hover": "tooltip",
        "legend_hover": "highlight_axes"
       },
       "labels": [
        "Number of USB Connections"
       ],
       "scales": {
        "x": "IPY_MODEL_04433ad1b7e44218a8db49f0e5c45b78",
        "y": "IPY_MODEL_4d83e0c2fa934b41a9f6bf017ad809cc"
       },
       "selected": [],
       "selected_style": {
        "fill": "red"
       },
       "tooltip": "IPY_MODEL_d996a8e30eda448384a946d8ceb20541",
       "x": {
        "type": "date",
        "values": [
         "1970-01-01T07:00:00.000000",
         "1970-01-01T08:00:00.000000",
         "1970-01-01T09:00:00.000000",
         "1970-01-01T10:00:00.000000",
         "1970-01-01T11:00:00.000000",
         "1970-01-01T12:00:00.000000",
         "1970-01-01T13:00:00.000000",
         "1970-01-01T14:00:00.000000",
         "1970-01-01T15:00:00.000000",
         "1970-01-01T16:00:00.000000",
         "1970-01-01T19:00:00.000000",
         "1970-01-01T20:00:00.000000"
        ]
       },
       "y": {
        "type": "float",
        "values": [
         37,
         167,
         169,
         167,
         157,
         151,
         174,
         154,
         187,
         82
        ]
       }
      }
     },
     "a1800f7004db4e1eade9d90dca07d00e": {
      "model_module": "@jupyter-widgets/base",
      "model_module_version": "1.0.0",
      "model_name": "LayoutModel",
      "state": {}
     },
     "a225d636a4b941368b83e82a081f45c2": {
      "model_module": "bqplot",
      "model_module_version": "^0.3.6",
      "model_name": "BarsModel",
      "state": {
       "color": {
        "type": null,
        "values": null
       },
       "colors": [
        "skyblue"
       ],
       "display_legend": false,
       "interactions": {
        "click": "select",
        "hover": "tooltip",
        "legend_hover": "highlight_axes"
       },
       "labels": [
        "Number of USB Connections"
       ],
       "scales": {
        "x": "IPY_MODEL_f4d10603389f44afac167d75cf365921",
        "y": "IPY_MODEL_c9b5471903fc4632a23a9393619ee0db"
       },
       "selected_style": {
        "fill": "red"
       },
       "tooltip": "IPY_MODEL_7ec6250b9c0847b3a5be855fb1dd7827",
       "x": {
        "type": "date",
        "values": [
         "1900-01-01T14:00:00.000000",
         "1900-01-01T09:00:00.000000",
         "1900-01-01T13:00:00.000000",
         "1900-01-01T15:00:00.000000",
         "1900-01-01T10:00:00.000000",
         "1900-01-01T08:00:00.000000",
         "1900-01-01T12:00:00.000000",
         "1900-01-01T11:00:00.000000",
         "1900-01-01T16:00:00.000000",
         "1900-01-01T17:00:00.000000",
         "1900-01-01T07:00:00.000000",
         "1900-01-01T18:00:00.000000",
         "1900-01-01T19:00:00.000000",
         "1900-01-01T22:00:00.000000",
         "1900-01-01T23:00:00.000000",
         "1900-01-01T06:00:00.000000",
         "1900-01-01T21:00:00.000000",
         "1900-01-01T20:00:00.000000",
         "1900-01-01T00:00:00.000000",
         "1900-01-01T01:00:00.000000",
         "1900-01-01T04:00:00.000000",
         "1900-01-01T05:00:00.000000",
         "1900-01-01T03:00:00.000000",
         "1900-01-01T02:00:00.000000"
        ]
       },
       "y": {
        "type": "float",
        "values": [
         41.339,
         40.332,
         37.987,
         37.554,
         35.012,
         34.87,
         32.312,
         31.498,
         26.909,
         15.277,
         10.393,
         5.236,
         1.377,
         0.915,
         0.913,
         0.837,
         0.799,
         0.637,
         0.616,
         0.491,
         0.462,
         0.442,
         0.412,
         0.397
        ]
       }
      }
     },
     "a22bf6c524204c2b8d5355cd323c1e06": {
      "model_module": "@jupyter-widgets/base",
      "model_module_version": "1.0.0",
      "model_name": "LayoutModel",
      "state": {}
     },
     "a2963307ffdc4d6fb11716bc800a2a5a": {
      "model_module": "bqplot",
      "model_module_version": "^0.3.6",
      "model_name": "LinearScaleModel",
      "state": {
       "allow_padding": false,
       "max": 1,
       "min": 0,
       "stabilized": false
      }
     },
     "a2ac7020276548549e22b23ef98f1caf": {
      "model_module": "bqplot",
      "model_module_version": "^0.3.6",
      "model_name": "AxisModel",
      "state": {
       "label": "Count",
       "orientation": "vertical",
       "scale": "IPY_MODEL_4d19c256eee04d9fbc34845806851f98",
       "side": "left",
       "tick_format": "0.2f",
       "tick_values": {
        "type": null,
        "values": null
       }
      }
     },
     "a2c4cd8d148c41018f066df6f3b641e7": {
      "model_module": "bqplot",
      "model_module_version": "^0.3.6",
      "model_name": "OrdinalScaleModel",
      "state": {
       "domain": []
      }
     },
     "a33b9d57394449c78dbcda992149acc0": {
      "model_module": "@jupyter-widgets/base",
      "model_module_version": "1.0.0",
      "model_name": "LayoutModel",
      "state": {}
     },
     "a425430572324abf94e69e75bf313f33": {
      "model_module": "bqplot",
      "model_module_version": "^0.3.6",
      "model_name": "AxisModel",
      "state": {
       "label": "Number of USB Connections",
       "orientation": "vertical",
       "scale": "IPY_MODEL_848be809345b44408f0301393fa8103d",
       "side": "left",
       "tick_format": "f",
       "tick_values": {
        "type": null,
        "values": null
       }
      }
     },
     "a4917bd2618e46b39070c3ac3fd5b189": {
      "model_module": "bqplot",
      "model_module_version": "^0.3.6",
      "model_name": "LinearScaleModel",
      "state": {
       "allow_padding": false,
       "max": 1,
       "min": 0,
       "stabilized": false
      }
     },
     "a4d914a8e2d8477baf0a5c6415145583": {
      "model_module": "@jupyter-widgets/base",
      "model_module_version": "1.0.0",
      "model_name": "LayoutModel",
      "state": {}
     },
     "a4e4d0288b304adc95f569b4d6a3a74f": {
      "model_module": "bqplot",
      "model_module_version": "^0.3.6",
      "model_name": "TooltipModel",
      "state": {
       "fields": [
        "x",
        "y"
       ],
       "formats": [
        "",
        "0.2f"
       ],
       "labels": [
        "Date",
        "Number of USB Connections"
       ],
       "layout": "IPY_MODEL_a78360abe2714d41bda293a41dba913b"
      }
     },
     "a564fb0c232f4e8486be6ad663d7fbf6": {
      "model_module": "bqplot",
      "model_module_version": "^0.3.6",
      "model_name": "PanZoomModel",
      "state": {
       "scales": {
        "x": [
         "IPY_MODEL_db11f36081734830b95eaf184ddca64b"
        ],
        "y": [
         "IPY_MODEL_7c2fefe4c0cb467d8942870f0ad0faff"
        ]
       }
      }
     },
     "a59e0d5556594a6090fdd312d08a757f": {
      "model_module": "bqplot",
      "model_module_version": "^0.3.6",
      "model_name": "AxisModel",
      "state": {
       "label": "Count",
       "orientation": "vertical",
       "scale": "IPY_MODEL_2dd24df9262f4891a1adb91a6decb6e8",
       "side": "left",
       "tick_format": "0.2f",
       "tick_values": {
        "type": null,
        "values": null
       }
      }
     },
     "a5cd3cea26d5467191dce5c51fe08f14": {
      "model_module": "bqplot",
      "model_module_version": "^0.3.6",
      "model_name": "TooltipModel",
      "state": {
       "fields": [
        "x",
        "y"
       ],
       "formats": [
        "",
        "0.2f"
       ],
       "labels": [
        "Directory",
        "Count"
       ],
       "layout": "IPY_MODEL_efa91d22d70448488b71e2c78f5b80bc"
      }
     },
     "a5e92e85220b4ea1a74725a3da32e5cd": {
      "model_module": "bqplot",
      "model_module_version": "^0.3.6",
      "model_name": "AxisModel",
      "state": {
       "label": "x",
       "scale": "IPY_MODEL_b2d34b248a4e492abdedea8587190082",
       "side": "bottom",
       "tick_values": {
        "type": null,
        "values": null
       }
      }
     },
     "a5f4175094c24cdcb98111e15ca692c7": {
      "model_module": "bqplot",
      "model_module_version": "^0.3.6",
      "model_name": "BarsModel",
      "state": {
       "color": {
        "type": null,
        "values": null
       },
       "colors": [
        "limegreen"
       ],
       "display_legend": false,
       "interactions": {
        "click": "select",
        "hover": "tooltip",
        "legend_hover": "highlight_axes"
       },
       "labels": [
        "Number of USB Connections"
       ],
       "scales": {
        "x": "IPY_MODEL_4ccd1b0be31e41c3b9876920d0b4b305",
        "y": "IPY_MODEL_6a4c90d1b0d54af2bea438311b8dfa4b"
       },
       "selected": [],
       "selected_style": {
        "fill": "red"
       },
       "tooltip": "IPY_MODEL_7e65c5d54fc64786ba69d32bafe31178",
       "x": {
        "type": "date",
        "values": [
         "1900-01-01T14:00:00.000000",
         "1900-01-01T09:00:00.000000",
         "1900-01-01T13:00:00.000000",
         "1900-01-01T15:00:00.000000",
         "1900-01-01T10:00:00.000000",
         "1900-01-01T08:00:00.000000",
         "1900-01-01T12:00:00.000000",
         "1900-01-01T11:00:00.000000",
         "1900-01-01T16:00:00.000000",
         "1900-01-01T17:00:00.000000",
         "1900-01-01T07:00:00.000000",
         "1900-01-01T18:00:00.000000",
         "1900-01-01T19:00:00.000000",
         "1900-01-01T22:00:00.000000",
         "1900-01-01T23:00:00.000000",
         "1900-01-01T06:00:00.000000",
         "1900-01-01T21:00:00.000000",
         "1900-01-01T20:00:00.000000",
         "1900-01-01T00:00:00.000000",
         "1900-01-01T01:00:00.000000",
         "1900-01-01T04:00:00.000000",
         "1900-01-01T05:00:00.000000",
         "1900-01-01T03:00:00.000000",
         "1900-01-01T02:00:00.000000"
        ]
       },
       "y": {
        "type": "float",
        "values": [
         41.339,
         40.332,
         37.987,
         37.554,
         35.012,
         34.87,
         32.312,
         31.498,
         26.909,
         15.277,
         10.393,
         5.236,
         1.377,
         0.915,
         0.913,
         0.837,
         0.799,
         0.637,
         0.616,
         0.491,
         0.462,
         0.442,
         0.412,
         0.397
        ]
       }
      }
     },
     "a5fbd8546fa445a59ecba017fcf0920d": {
      "model_module": "@jupyter-widgets/controls",
      "model_module_version": "1.2.0",
      "model_name": "DropdownModel",
      "state": {
       "_options_labels": [
        "AAC0610",
        "AAP1919"
       ],
       "description": "Select Employee Id",
       "index": 0,
       "layout": "IPY_MODEL_aac0462c45b546f4a52b2d4d80d8288b",
       "style": "IPY_MODEL_cbf60dd40a964e07bbbf77d658375640"
      }
     },
     "a6d81d1a2100406dbc9afa85354271f3": {
      "model_module": "bqplot",
      "model_module_version": "^0.3.6",
      "model_name": "BarsModel",
      "state": {
       "color": {
        "type": null,
        "values": null
       },
       "colors": [
        "green"
       ],
       "display_legend": false,
       "interactions": {
        "click": "select",
        "hover": "tooltip",
        "legend_hover": "highlight_axes"
       },
       "labels": [
        "Number of USB Connections"
       ],
       "scales": {
        "x": "IPY_MODEL_797b5dd432604907b7dd77e462db0835",
        "y": "IPY_MODEL_41531c491e6345e5bf97266e31b187c3"
       },
       "selected": [
        1
       ],
       "selected_style": {
        "fill": "red"
       },
       "tooltip": "IPY_MODEL_856520ecfa3c40c99929218127a915ec",
       "x": {
        "type": "date",
        "values": [
         "1900-01-01T14:00:00.000000",
         "1900-01-01T09:00:00.000000",
         "1900-01-01T13:00:00.000000",
         "1900-01-01T15:00:00.000000",
         "1900-01-01T10:00:00.000000",
         "1900-01-01T08:00:00.000000",
         "1900-01-01T12:00:00.000000",
         "1900-01-01T11:00:00.000000",
         "1900-01-01T16:00:00.000000",
         "1900-01-01T17:00:00.000000",
         "1900-01-01T07:00:00.000000",
         "1900-01-01T18:00:00.000000",
         "1900-01-01T19:00:00.000000",
         "1900-01-01T22:00:00.000000",
         "1900-01-01T23:00:00.000000",
         "1900-01-01T06:00:00.000000",
         "1900-01-01T21:00:00.000000",
         "1900-01-01T20:00:00.000000",
         "1900-01-01T00:00:00.000000",
         "1900-01-01T01:00:00.000000",
         "1900-01-01T04:00:00.000000",
         "1900-01-01T05:00:00.000000",
         "1900-01-01T03:00:00.000000",
         "1900-01-01T02:00:00.000000"
        ]
       },
       "y": {
        "type": "float",
        "values": [
         41.339,
         40.332,
         37.987,
         37.554,
         35.012,
         34.87,
         32.312,
         31.498,
         26.909,
         15.277,
         10.393,
         5.236,
         1.377,
         0.915,
         0.913,
         0.837,
         0.799,
         0.637,
         0.616,
         0.491,
         0.462,
         0.442,
         0.412,
         0.397
        ]
       }
      }
     },
     "a73464db9a8b47fc81c848e065319b1e": {
      "model_module": "bqplot",
      "model_module_version": "^0.3.6",
      "model_name": "LinearScaleModel",
      "state": {
       "stabilized": false
      }
     },
     "a78360abe2714d41bda293a41dba913b": {
      "model_module": "@jupyter-widgets/base",
      "model_module_version": "1.0.0",
      "model_name": "LayoutModel",
      "state": {}
     },
     "a7d8a9dca18f4181a5d56ea19000f078": {
      "model_module": "bqplot",
      "model_module_version": "^0.3.6",
      "model_name": "FigureModel",
      "state": {
       "_dom_classes": [],
       "animation_duration": 5000,
       "axes": [
        "IPY_MODEL_6fdeb5c864404a91a5ca2a7d4ae5df71",
        "IPY_MODEL_a2ac7020276548549e22b23ef98f1caf"
       ],
       "background_style": {
        "fill": "aliceblue"
       },
       "layout": "IPY_MODEL_091228b2c529480c89f2cf2352b642e1",
       "marks": [
        "IPY_MODEL_9afea0b2eb274a6ebd05d4c129bf6591"
       ],
       "max_aspect_ratio": 6,
       "scale_x": "IPY_MODEL_9ef7f348473840a79e4c8731ae504fc4",
       "scale_y": "IPY_MODEL_6ca8921c809f4d8bb84d47e89d6cf6f6",
       "title": "Proportion of Connect Activity"
      }
     },
     "a7dcdcaae7b149dbbaf369c523ddcd8c": {
      "model_module": "bqplot",
      "model_module_version": "^0.3.6",
      "model_name": "AxisModel",
      "state": {
       "label": "Number of USB Connections",
       "orientation": "vertical",
       "scale": "IPY_MODEL_3b8ecfe8050740e0b5f24b39ef58ef65",
       "side": "left",
       "tick_format": "f",
       "tick_values": {
        "type": null,
        "values": null
       }
      }
     },
     "a81d5ac9674546e8b5789651fd8074bf": {
      "model_module": "bqplot",
      "model_module_version": "^0.3.6",
      "model_name": "PanZoomModel",
      "state": {
       "scales": {
        "x": [
         "IPY_MODEL_d3fe598b12814fe18a289515c8c622b9"
        ],
        "y": [
         "IPY_MODEL_3b8ecfe8050740e0b5f24b39ef58ef65"
        ]
       }
      }
     },
     "a829195d07844b2bae294143ef81ce1b": {
      "model_module": "bqplot",
      "model_module_version": "^0.3.6",
      "model_name": "LinearScaleModel",
      "state": {
       "allow_padding": false,
       "max": 1,
       "min": 0,
       "stabilized": false
      }
     },
     "aa1fb03c68294fde91808a10065d1708": {
      "model_module": "bqplot",
      "model_module_version": "^0.3.6",
      "model_name": "PanZoomModel",
      "state": {
       "scales": {
        "x": [
         "IPY_MODEL_c5464d666817455b9cdfa22ac74bff10"
        ],
        "y": [
         "IPY_MODEL_749d7a601cd54b129ea69157045688a1"
        ]
       }
      }
     },
     "aa47fbd78baa4714815c244d5984224a": {
      "model_module": "bqplot",
      "model_module_version": "^0.3.6",
      "model_name": "PanZoomModel",
      "state": {
       "scales": {
        "x": [
         "IPY_MODEL_c5d6aef04caf4870abf6c2e10531ea39"
        ],
        "y": [
         "IPY_MODEL_04e5c9fab6134d36adabb912dc2d1d23"
        ]
       }
      }
     },
     "aa48392026124b9183d2d330ac4c5323": {
      "model_module": "@jupyter-widgets/controls",
      "model_module_version": "1.2.0",
      "model_name": "VBoxModel",
      "state": {
       "children": [
        "IPY_MODEL_b4347aa98d1747349faff64e282336af"
       ],
       "layout": "IPY_MODEL_852fb9231be34d99be4cad45830681c8"
      }
     },
     "aac0462c45b546f4a52b2d4d80d8288b": {
      "model_module": "@jupyter-widgets/base",
      "model_module_version": "1.0.0",
      "model_name": "LayoutModel",
      "state": {
       "width": "50%"
      }
     },
     "aaddfce7e2b94465bec1dd33afa318a4": {
      "model_module": "@jupyter-widgets/controls",
      "model_module_version": "1.2.0",
      "model_name": "VBoxModel",
      "state": {
       "children": [
        "IPY_MODEL_2399c8c884414f9fa2929b9d6c069c2e"
       ],
       "layout": "IPY_MODEL_e7d13cfe4c3b4e6187fa64f12d8c3832"
      }
     },
     "ac0426e1c16b4d3aa176e696b9d364c2": {
      "model_module": "@jupyter-widgets/base",
      "model_module_version": "1.0.0",
      "model_name": "LayoutModel",
      "state": {}
     },
     "ac4a5300e8504c54a33738cdcabec7be": {
      "model_module": "@jupyter-widgets/base",
      "model_module_version": "1.0.0",
      "model_name": "LayoutModel",
      "state": {}
     },
     "acdb80567a5f4143bcd08607a86fa3f6": {
      "model_module": "@jupyter-widgets/base",
      "model_module_version": "1.0.0",
      "model_name": "LayoutModel",
      "state": {}
     },
     "ad15ca1a788b49c598c51fd9adf24f32": {
      "model_module": "bqplot",
      "model_module_version": "^0.3.6",
      "model_name": "BarsModel",
      "state": {
       "color": {
        "type": null,
        "values": null
       },
       "colors": [
        "limegreen"
       ],
       "display_legend": false,
       "interactions": {
        "click": "select",
        "hover": "tooltip",
        "legend_hover": "highlight_axes"
       },
       "labels": [
        "Number of USB Connections"
       ],
       "scales": {
        "x": "IPY_MODEL_11c5457a80634a21a4ea3601019885b7",
        "y": "IPY_MODEL_b9ef3f28071945e3904f67d7547685f1"
       },
       "selected": [],
       "selected_style": {
        "fill": "red"
       },
       "tooltip": "IPY_MODEL_f81afa16467c4da2981033808e3f68f2",
       "x": {
        "type": "date",
        "values": [
         "1900-01-01T14:00:00.000000",
         "1900-01-01T09:00:00.000000",
         "1900-01-01T13:00:00.000000",
         "1900-01-01T15:00:00.000000",
         "1900-01-01T10:00:00.000000",
         "1900-01-01T08:00:00.000000",
         "1900-01-01T12:00:00.000000",
         "1900-01-01T11:00:00.000000",
         "1900-01-01T16:00:00.000000",
         "1900-01-01T17:00:00.000000",
         "1900-01-01T07:00:00.000000",
         "1900-01-01T18:00:00.000000",
         "1900-01-01T19:00:00.000000",
         "1900-01-01T22:00:00.000000",
         "1900-01-01T23:00:00.000000",
         "1900-01-01T06:00:00.000000",
         "1900-01-01T21:00:00.000000",
         "1900-01-01T20:00:00.000000",
         "1900-01-01T00:00:00.000000",
         "1900-01-01T01:00:00.000000",
         "1900-01-01T04:00:00.000000",
         "1900-01-01T05:00:00.000000",
         "1900-01-01T03:00:00.000000",
         "1900-01-01T02:00:00.000000"
        ]
       },
       "y": {
        "type": "float",
        "values": [
         41.339,
         40.332,
         37.987,
         37.554,
         35.012,
         34.87,
         32.312,
         31.498,
         26.909,
         15.277,
         10.393,
         5.236,
         1.377,
         0.915,
         0.913,
         0.837,
         0.799,
         0.637,
         0.616,
         0.491,
         0.462,
         0.442,
         0.412,
         0.397
        ]
       }
      }
     },
     "ad63e5fea3ca4bf9bdf537aac5a53170": {
      "model_module": "bqplot",
      "model_module_version": "^0.3.6",
      "model_name": "LinearScaleModel",
      "state": {
       "stabilized": false
      }
     },
     "adb51c403ae240ada16715749a939f02": {
      "model_module": "bqplot",
      "model_module_version": "^0.3.6",
      "model_name": "AxisModel",
      "state": {
       "label": "Number of USB Connections",
       "orientation": "vertical",
       "scale": "IPY_MODEL_477cb91d7f614830af8754650875a62d",
       "side": "left",
       "tick_format": "f",
       "tick_values": {
        "type": null,
        "values": null
       }
      }
     },
     "adf2b2121a8d4a23af9e13206e6efaa9": {
      "model_module": "bqplot",
      "model_module_version": "^0.3.6",
      "model_name": "PanZoomModel",
      "state": {
       "scales": {
        "x": [
         "IPY_MODEL_ddb48cd41a6d44a89ba40bf5ed403bc2"
        ],
        "y": [
         "IPY_MODEL_1ee0ebd7cccb417aa34457d18dd01334"
        ]
       }
      }
     },
     "ae3927f610134a038f3a2de28377c142": {
      "model_module": "bqplot",
      "model_module_version": "^0.3.6",
      "model_name": "DateScaleModel",
      "state": {}
     },
     "aedee428dae74964bbc7b0d8da91d0cd": {
      "model_module": "bqplot",
      "model_module_version": "^0.3.6",
      "model_name": "LinearScaleModel",
      "state": {
       "allow_padding": false,
       "max": 1,
       "min": 0,
       "stabilized": false
      }
     },
     "af45b7f3eeb549a395e6d834c42e8e71": {
      "model_module": "@jupyter-widgets/base",
      "model_module_version": "1.0.0",
      "model_name": "LayoutModel",
      "state": {}
     },
     "af67c51044414ee9b032ca1b479af912": {
      "model_module": "bqplot",
      "model_module_version": "^0.3.6",
      "model_name": "TooltipModel",
      "state": {
       "fields": [
        "x",
        "y"
       ],
       "formats": [
        "",
        "0.2f"
       ],
       "labels": [
        "Directory",
        "Count"
       ],
       "layout": "IPY_MODEL_236c30fb8cb4491d9f5652c818c41c03"
      }
     },
     "b0138131790d444db748ddc6953ec04d": {
      "model_module": "bqplot",
      "model_module_version": "^0.3.6",
      "model_name": "AxisModel",
      "state": {
       "label": "Hours of the Day",
       "scale": "IPY_MODEL_a156a76c787d47f0af7a094b5a866898",
       "side": "bottom",
       "tick_values": {
        "type": null,
        "values": null
       }
      }
     },
     "b02337564a7945328e64a9893f602a11": {
      "model_module": "bqplot",
      "model_module_version": "^0.3.6",
      "model_name": "AxisModel",
      "state": {
       "label": "Connect Activity",
       "scale": "IPY_MODEL_d54f4b7cb844420cb6bcf4ef2c461f12",
       "side": "bottom",
       "tick_values": {
        "type": null,
        "values": null
       }
      }
     },
     "b0524be62ef24b26b28836ed159f44c4": {
      "model_module": "bqplot",
      "model_module_version": "^0.3.6",
      "model_name": "LinearScaleModel",
      "state": {
       "stabilized": false
      }
     },
     "b07b7ad33b874b09baedf8a9c7647c31": {
      "model_module": "bqplot",
      "model_module_version": "^0.3.6",
      "model_name": "TooltipModel",
      "state": {
       "fields": [
        "x",
        "y"
       ],
       "formats": [
        "",
        "f"
       ],
       "labels": [
        "Date",
        "Number of USB Connections"
       ],
       "layout": "IPY_MODEL_20b334de725c401fbb23e1ca103356e0"
      }
     },
     "b07d413b8ab2423cbdf0d8790c951374": {
      "model_module": "bqplot",
      "model_module_version": "^0.3.6",
      "model_name": "LinearScaleModel",
      "state": {
       "allow_padding": false,
       "max": 1,
       "min": 0,
       "stabilized": false
      }
     },
     "b0b040c0163b429daeae352d263a84e4": {
      "model_module": "bqplot",
      "model_module_version": "^0.3.6",
      "model_name": "FigureModel",
      "state": {
       "_dom_classes": [],
       "animation_duration": 5000,
       "axes": [
        "IPY_MODEL_0e44b68a7f3c406289eb4d42a365f5cf",
        "IPY_MODEL_f963022ffe184934a75877a6b7730202"
       ],
       "background_style": {
        "fill": "aliceblue"
       },
       "layout": "IPY_MODEL_7e9141d726ed470e9c85fd0b9dc1a3ac",
       "marks": [
        "IPY_MODEL_c905ca8e742c4260814f8309b3391f6c"
       ],
       "max_aspect_ratio": 6,
       "scale_x": "IPY_MODEL_32db15c3c4f84b00b720ef1740add660",
       "scale_y": "IPY_MODEL_45ae4e73df5d410385f28abd831feeb3",
       "title": "Proportion of Connect Activity"
      }
     },
     "b0b0b6a3006642eca95c4ba65658def8": {
      "model_module": "bqplot",
      "model_module_version": "^0.3.6",
      "model_name": "FigureModel",
      "state": {
       "_dom_classes": [],
       "animation_duration": 3000,
       "axes": [
        "IPY_MODEL_114a679a92404524a5ba7d6d41dee90e",
        "IPY_MODEL_136a0006c6684425b0e2047af6ef4e3d"
       ],
       "background_style": {
        "fill": "aliceblue"
       },
       "layout": "IPY_MODEL_e66adf27db7a4619b093ea97ec24db5c",
       "marks": [
        "IPY_MODEL_66f6f5b758cd4c558530f2bd2a2a05dd"
       ],
       "max_aspect_ratio": 6,
       "scale_x": "IPY_MODEL_beddc17f7ece48cf97fcb034edf061f8",
       "scale_y": "IPY_MODEL_9395417624a44e2c91a5b283e4e75e60",
       "title": "USB Connections Per Employee"
      }
     },
     "b0d531b61bc540049f4beb9df9b5f689": {
      "model_module": "bqplot",
      "model_module_version": "^0.3.6",
      "model_name": "DateScaleModel",
      "state": {}
     },
     "b0d6be21b66e481bb8a40e3a37f332d3": {
      "model_module": "bqplot",
      "model_module_version": "^0.3.6",
      "model_name": "LinearScaleModel",
      "state": {
       "stabilized": false
      }
     },
     "b19f12bc29be4483aa48478679df7c1c": {
      "model_module": "bqplot",
      "model_module_version": "^0.3.6",
      "model_name": "LinearScaleModel",
      "state": {
       "allow_padding": false,
       "max": 1,
       "min": 0,
       "stabilized": false
      }
     },
     "b1f9317601784a628e6daf90812f7ab9": {
      "model_module": "bqplot",
      "model_module_version": "^0.3.6",
      "model_name": "FigureModel",
      "state": {
       "_dom_classes": [],
       "animation_duration": 5000,
       "axes": [
        "IPY_MODEL_8a638378e37143dca6b31c549cdf26ed",
        "IPY_MODEL_9edc1f5c881249fdab855caae80d26c9"
       ],
       "background_style": {
        "fill": "aliceblue"
       },
       "layout": "IPY_MODEL_8ac656bdd6b34040a0e26ccd49ed02cd",
       "legend_style": {
        "fill": "white"
       },
       "marks": [
        "IPY_MODEL_f9e04984a1554127a817a2e31144e911"
       ],
       "max_aspect_ratio": 6,
       "scale_x": "IPY_MODEL_56f78268c2e14e3e97ff9fc5fcc1ad75",
       "scale_y": "IPY_MODEL_b336cf1b0e8446429f9c4846b42767ca",
       "title": "Proportion of Directory Access"
      }
     },
     "b2306f73f8b94c798fc62696f2ec908f": {
      "model_module": "bqplot",
      "model_module_version": "^0.3.6",
      "model_name": "TooltipModel",
      "state": {
       "fields": [
        "x",
        "y"
       ],
       "formats": [
        "",
        "0.2f"
       ],
       "labels": [
        "Date",
        "Number of USB Connections"
       ],
       "layout": "IPY_MODEL_91a44a34f4404a1687db72e099ab76e9"
      }
     },
     "b2620f2a02d24d348579f8dd3722c3e2": {
      "model_module": "bqplot",
      "model_module_version": "^0.3.6",
      "model_name": "LinearScaleModel",
      "state": {
       "allow_padding": false,
       "max": 1,
       "min": 0,
       "stabilized": false
      }
     },
     "b264e43197054f1081eb12b99dddfb31": {
      "model_module": "bqplot",
      "model_module_version": "^0.3.6",
      "model_name": "BarsModel",
      "state": {
       "color": {
        "type": null,
        "values": null
       },
       "colors": [
        "blue"
       ],
       "interactions": {
        "click": "select",
        "hover": "tooltip",
        "legend_hover": "highlight_axes"
       },
       "labels": [
        "Email"
       ],
       "scales": {
        "x": "IPY_MODEL_04aebd96ac58450aad22cf0ab5a41914",
        "y": "IPY_MODEL_cf6613f35a2c48d9a57a2cb99670c6bb"
       },
       "selected": [],
       "selected_style": {
        "fill": "red"
       },
       "tooltip": "IPY_MODEL_7cfc45901a014736a6b53e628b56ccd8",
       "x": {
        "type": "date",
        "values": [
         "1900-01-01T14:00:00.000000",
         "1900-01-01T09:00:00.000000",
         "1900-01-01T13:00:00.000000",
         "1900-01-01T15:00:00.000000",
         "1900-01-01T10:00:00.000000",
         "1900-01-01T08:00:00.000000",
         "1900-01-01T12:00:00.000000",
         "1900-01-01T11:00:00.000000",
         "1900-01-01T16:00:00.000000",
         "1900-01-01T17:00:00.000000",
         "1900-01-01T07:00:00.000000",
         "1900-01-01T18:00:00.000000",
         "1900-01-01T19:00:00.000000",
         "1900-01-01T22:00:00.000000",
         "1900-01-01T23:00:00.000000",
         "1900-01-01T06:00:00.000000",
         "1900-01-01T21:00:00.000000",
         "1900-01-01T20:00:00.000000",
         "1900-01-01T00:00:00.000000",
         "1900-01-01T01:00:00.000000",
         "1900-01-01T04:00:00.000000",
         "1900-01-01T05:00:00.000000",
         "1900-01-01T03:00:00.000000",
         "1900-01-01T02:00:00.000000"
        ]
       },
       "y": {
        "type": "float",
        "values": [
         41.339,
         40.332,
         37.987,
         37.554,
         35.012,
         34.87,
         32.312,
         31.498,
         26.909,
         15.277,
         10.393,
         5.236,
         1.377,
         0.915,
         0.913,
         0.837,
         0.799,
         0.637,
         0.616,
         0.491,
         0.462,
         0.442,
         0.412,
         0.397
        ]
       }
      }
     },
     "b270e0527ec8482a8128e198d06993d7": {
      "model_module": "@jupyter-widgets/controls",
      "model_module_version": "1.2.0",
      "model_name": "VBoxModel",
      "state": {
       "children": [
        "IPY_MODEL_1770783bce104cadab281e81f275c595"
       ],
       "layout": "IPY_MODEL_fd4939179db749c98fc6c1027e97376e"
      }
     },
     "b2c6d7f173d7436db3e1a66b4dfc40a9": {
      "model_module": "bqplot",
      "model_module_version": "^0.3.6",
      "model_name": "FigureModel",
      "state": {
       "_dom_classes": [],
       "animation_duration": 5000,
       "axes": [
        "IPY_MODEL_0c65fd247ec34b3c8c69da7e1d24695c",
        "IPY_MODEL_02e957e335794af58ad98c0fe6ad7793"
       ],
       "background_style": {
        "fill": "aliceblue"
       },
       "layout": "IPY_MODEL_e66adf27db7a4619b093ea97ec24db5c",
       "legend_style": {
        "fill": "white"
       },
       "marks": [
        "IPY_MODEL_f652f422424b4870b8b0dc2f1eae4180"
       ],
       "max_aspect_ratio": 6,
       "scale_x": "IPY_MODEL_8fc285d4d35d4d4a88556696bb7149bf",
       "scale_y": "IPY_MODEL_deb45e57d62a4ac9b1d4e8fba9a24f7e",
       "title": "Proportion of Connect & Disconnet Activity"
      }
     },
     "b2d34b248a4e492abdedea8587190082": {
      "model_module": "bqplot",
      "model_module_version": "^0.3.6",
      "model_name": "LinearScaleModel",
      "state": {
       "stabilized": false
      }
     },
     "b3222322184a4c6ea7cf0f9f3ac8f32b": {
      "model_module": "bqplot",
      "model_module_version": "^0.3.6",
      "model_name": "AxisModel",
      "state": {
       "label": "Number of USB Connections",
       "orientation": "vertical",
       "scale": "IPY_MODEL_8ec3391ca29a4577bfaed7e0170afedf",
       "side": "left",
       "tick_format": "f",
       "tick_values": {
        "type": null,
        "values": null
       }
      }
     },
     "b336cf1b0e8446429f9c4846b42767ca": {
      "model_module": "bqplot",
      "model_module_version": "^0.3.6",
      "model_name": "LinearScaleModel",
      "state": {
       "allow_padding": false,
       "max": 1,
       "min": 0,
       "stabilized": false
      }
     },
     "b34aa23dd48649e39811df485c9ee3d7": {
      "model_module": "bqplot",
      "model_module_version": "^0.3.6",
      "model_name": "LinearScaleModel",
      "state": {
       "allow_padding": false,
       "max": 1,
       "min": 0,
       "stabilized": false
      }
     },
     "b35116e3b9c64dae84eb9778a3b744bf": {
      "model_module": "@jupyter-widgets/base",
      "model_module_version": "1.0.0",
      "model_name": "LayoutModel",
      "state": {}
     },
     "b364b1f0230d40dd8026bfb06cd5f5f9": {
      "model_module": "@jupyter-widgets/base",
      "model_module_version": "1.0.0",
      "model_name": "LayoutModel",
      "state": {}
     },
     "b3b61788fc6049fda8e69e72b773f519": {
      "model_module": "@jupyter-widgets/base",
      "model_module_version": "1.0.0",
      "model_name": "LayoutModel",
      "state": {}
     },
     "b3bcfd923cb54598b38c3205e634fd75": {
      "model_module": "@jupyter-widgets/base",
      "model_module_version": "1.0.0",
      "model_name": "LayoutModel",
      "state": {}
     },
     "b42b335a84e0487596753be80f38b047": {
      "model_module": "bqplot",
      "model_module_version": "^0.3.6",
      "model_name": "AxisModel",
      "state": {
       "label": "Connect Activity",
       "scale": "IPY_MODEL_104a1c67d7724c0d8550dce9c8bbfe8e",
       "side": "bottom",
       "tick_values": {
        "type": null,
        "values": null
       }
      }
     },
     "b4347aa98d1747349faff64e282336af": {
      "model_module": "bqplot",
      "model_module_version": "^0.3.6",
      "model_name": "FigureModel",
      "state": {
       "_dom_classes": [],
       "animation_duration": 5000,
       "axes": [
        "IPY_MODEL_75221a16049644aab184f12e1e9e9ce0",
        "IPY_MODEL_bf0ee26b83f249e29d1c17fd603f35bc"
       ],
       "background_style": {
        "fill": "aliceblue"
       },
       "layout": "IPY_MODEL_8ac656bdd6b34040a0e26ccd49ed02cd",
       "marks": [
        "IPY_MODEL_a225d636a4b941368b83e82a081f45c2"
       ],
       "max_aspect_ratio": 6,
       "scale_x": "IPY_MODEL_743bbc38510b4c40aacf7d598e015b0b",
       "scale_y": "IPY_MODEL_b19f12bc29be4483aa48478679df7c1c",
       "title": "USB Connections Per Employee"
      }
     },
     "b47e1288affd45b4b3c11ba4e499d86f": {
      "model_module": "@jupyter-widgets/base",
      "model_module_version": "1.0.0",
      "model_name": "LayoutModel",
      "state": {
       "width": "100%"
      }
     },
     "b4ef3dc7363e44cd909a0ab3e33a0e94": {
      "model_module": "bqplot",
      "model_module_version": "^0.3.6",
      "model_name": "AxisModel",
      "state": {
       "label": "Days of the Year",
       "scale": "IPY_MODEL_2957c57c31824d8abaa030258e67a4b0",
       "side": "bottom",
       "tick_values": {
        "type": null,
        "values": null
       }
      }
     },
     "b5208b5c04a2472c916e635e191bf678": {
      "model_module": "bqplot",
      "model_module_version": "^0.3.6",
      "model_name": "LinearScaleModel",
      "state": {
       "allow_padding": false,
       "max": 1,
       "min": 0,
       "stabilized": false
      }
     },
     "b5a8725dd1a4461eb6848c868a86fb79": {
      "model_module": "bqplot",
      "model_module_version": "^0.3.6",
      "model_name": "AxisModel",
      "state": {
       "label": "Directory name",
       "scale": "IPY_MODEL_6a03b1526a27427ea94d73a6fadf8027",
       "side": "bottom",
       "tick_values": {
        "type": null,
        "values": null
       }
      }
     },
     "b5ad385edc8548fb8daa64c9af5b4e44": {
      "model_module": "bqplot",
      "model_module_version": "^0.3.6",
      "model_name": "AxisModel",
      "state": {
       "label": "Days of the Year",
       "scale": "IPY_MODEL_04aebd96ac58450aad22cf0ab5a41914",
       "side": "bottom",
       "tick_values": {
        "type": null,
        "values": null
       }
      }
     },
     "b5e6453d07fd402b885e810ae21aa6d9": {
      "model_module": "bqplot",
      "model_module_version": "^0.3.6",
      "model_name": "AxisModel",
      "state": {
       "label": "Hours of the Day",
       "scale": "IPY_MODEL_5247fb324cdd4191bc73da500b407463",
       "side": "bottom",
       "tick_values": {
        "type": null,
        "values": null
       }
      }
     },
     "b66f80897ce94a2c8bb6f5acbbd65b37": {
      "model_module": "@jupyter-widgets/controls",
      "model_module_version": "1.2.0",
      "model_name": "DescriptionStyleModel",
      "state": {
       "description_width": "initial"
      }
     },
     "b692c83f46534f45a565be2378634f21": {
      "model_module": "bqplot",
      "model_module_version": "^0.3.6",
      "model_name": "AxisModel",
      "state": {
       "label": "Days of the Year",
       "scale": "IPY_MODEL_e356561f5ddd4fa382f2854b15cdc2a9",
       "side": "bottom",
       "tick_values": {
        "type": null,
        "values": null
       }
      }
     },
     "b6c35ff7b4934dd6a01f37e0518c5146": {
      "model_module": "bqplot",
      "model_module_version": "^0.3.6",
      "model_name": "LinearScaleModel",
      "state": {
       "allow_padding": false,
       "max": 1,
       "min": 0,
       "stabilized": false
      }
     },
     "b6c96ab0cb764216a5f09a288b454e52": {
      "model_module": "@jupyter-widgets/controls",
      "model_module_version": "1.2.0",
      "model_name": "VBoxModel",
      "state": {
       "children": [
        "IPY_MODEL_9eeb4a1708a54501a331b728eedbd98f"
       ],
       "layout": "IPY_MODEL_a143281b775c4bf2ae4612ae386963a9"
      }
     },
     "b70413a5d41f4187bc9b344484c1c526": {
      "model_module": "bqplot",
      "model_module_version": "^0.3.6",
      "model_name": "LinearScaleModel",
      "state": {
       "stabilized": false
      }
     },
     "b7059e70e87c4404ac3624cfb3a46d81": {
      "model_module": "bqplot",
      "model_module_version": "^0.3.6",
      "model_name": "TooltipModel",
      "state": {
       "fields": [
        "x",
        "y"
       ],
       "formats": [
        "",
        "f"
       ],
       "labels": [
        "Date",
        "Number of USB Connections"
       ],
       "layout": "IPY_MODEL_921369c3fc554230b4c4b064ecf1b791"
      }
     },
     "b71313ac79e347c4a57c640b0a551add": {
      "model_module": "bqplot",
      "model_module_version": "^0.3.6",
      "model_name": "FigureModel",
      "state": {
       "_dom_classes": [],
       "animation_duration": 5000,
       "axes": [
        "IPY_MODEL_67acdbf927e64a7b9ae42ccf0d8743cf",
        "IPY_MODEL_e4bf54e9276a4f1f87e6060d7de13e2e"
       ],
       "background_style": {
        "fill": "aliceblue"
       },
       "layout": "IPY_MODEL_b911fbd85f9a4a77af90ee01dd13096f",
       "marks": [
        "IPY_MODEL_d9090882c8864ebfa3c330617f9c7daf"
       ],
       "max_aspect_ratio": 6,
       "scale_x": "IPY_MODEL_331dcd1c249b45b58babc9728aa02f4c",
       "scale_y": "IPY_MODEL_f967b8cab7184ef1bf91b46436ba2843",
       "title": "Proportion of Connect Activity"
      }
     },
     "b742096e83284f5ca1f3d1f723d3fd02": {
      "model_module": "bqplot",
      "model_module_version": "^0.3.6",
      "model_name": "AxisModel",
      "state": {
       "label": "Count",
       "orientation": "vertical",
       "scale": "IPY_MODEL_de3e723f316c4653b9759d67b9c439dd",
       "side": "left",
       "tick_format": "0.2f",
       "tick_values": {
        "type": null,
        "values": null
       }
      }
     },
     "b77b18c3c9bc4881ac3bb88498cb9ba0": {
      "model_module": "bqplot",
      "model_module_version": "^0.3.6",
      "model_name": "LinearScaleModel",
      "state": {
       "allow_padding": false,
       "max": 1,
       "min": 0,
       "stabilized": false
      }
     },
     "b79f856e1cbe40e68640b7f800310eca": {
      "model_module": "bqplot",
      "model_module_version": "^0.3.6",
      "model_name": "PanZoomModel",
      "state": {
       "scales": {
        "x": [
         "IPY_MODEL_c94b06b88316486e918eab85c62ba546"
        ],
        "y": [
         "IPY_MODEL_7837b677ba2044efb233b0c142bf0bbf"
        ]
       }
      }
     },
     "b7ad85e675194304a912e81fa4fa81fb": {
      "model_module": "bqplot",
      "model_module_version": "^0.3.6",
      "model_name": "BarsModel",
      "state": {
       "color": {
        "type": null,
        "values": null
       },
       "colors": [
        "blue"
       ],
       "display_legend": false,
       "interactions": {
        "click": "select",
        "hover": "tooltip",
        "legend_hover": "highlight_axes"
       },
       "labels": [
        "Directory name"
       ],
       "padding": 0.2,
       "scales": {
        "x": "IPY_MODEL_32e1b2d819ee4a868721f65928a80e19",
        "y": "IPY_MODEL_5a21a44a5e024caa9e21d5dc5232bc16"
       },
       "selected": [],
       "selected_style": {
        "fill": "red"
       },
       "tooltip": "IPY_MODEL_3a77226e029c47b38dcca5a6a2de7833",
       "x": {
        "type": "object",
        "values": [
         "R:\\189XJ29",
         "R:\\CTC0859",
         "R:\\37Ntzz0",
         "R:\\CKP3600",
         "R:\\61mrHg0",
         "R:\\ACM2278",
         "R:\\782bxm8",
         "R:\\52G6677",
         "R:\\XAB0936",
         "R:\\29P96D6"
        ]
       },
       "y": {
        "type": "float",
        "values": [
         21,
         21,
         20,
         20,
         20,
         9,
         9,
         9,
         2,
         2
        ]
       }
      }
     },
     "b7affab0a4524adfaab088ecb7b07f61": {
      "model_module": "bqplot",
      "model_module_version": "^0.3.6",
      "model_name": "FigureModel",
      "state": {
       "_dom_classes": [],
       "animation_duration": 5000,
       "axes": [
        "IPY_MODEL_6beab8683d4e4cc2808ec6eb1d98eaab",
        "IPY_MODEL_4abb4050cedf4d32a0cc2bff7cce7178"
       ],
       "background_style": {
        "fill": "aliceblue"
       },
       "layout": "IPY_MODEL_8ac656bdd6b34040a0e26ccd49ed02cd",
       "legend_style": {
        "fill": "white"
       },
       "marks": [
        "IPY_MODEL_c442b90180714d2abe43ff0ea057188b"
       ],
       "max_aspect_ratio": 6,
       "scale_x": "IPY_MODEL_b07d413b8ab2423cbdf0d8790c951374",
       "scale_y": "IPY_MODEL_221768a830a7410e91763757acd9467c",
       "title": "Proportion of Connect Activity"
      }
     },
     "b7b7ba48aac7435c88419ba5c0d2587c": {
      "model_module": "bqplot",
      "model_module_version": "^0.3.6",
      "model_name": "TooltipModel",
      "state": {
       "fields": [
        "x",
        "y"
       ],
       "formats": [
        "",
        "f"
       ],
       "labels": [
        "Date",
        "Number of USB Connections"
       ],
       "layout": "IPY_MODEL_af45b7f3eeb549a395e6d834c42e8e71"
      }
     },
     "b7d0f63061d34d608f946cc6f71ed1e8": {
      "model_module": "bqplot",
      "model_module_version": "^0.3.6",
      "model_name": "TooltipModel",
      "state": {
       "fields": [
        "x",
        "y"
       ],
       "formats": [
        "",
        "f"
       ],
       "labels": [
        "Date",
        "Number of USB Connections"
       ],
       "layout": "IPY_MODEL_8fef569166da4b279cc6c7088c64d9a5"
      }
     },
     "b81bac385e3e4c7e8d2394c06f1cf318": {
      "model_module": "@jupyter-widgets/base",
      "model_module_version": "1.0.0",
      "model_name": "LayoutModel",
      "state": {}
     },
     "b8529114201b40efae7109d6c7e973e9": {
      "model_module": "@jupyter-widgets/controls",
      "model_module_version": "1.2.0",
      "model_name": "VBoxModel",
      "state": {
       "children": [
        "IPY_MODEL_cf051668f1234a52ae498c47f5638b4c"
       ],
       "layout": "IPY_MODEL_50436e3849bd415bae5fcff977bac954"
      }
     },
     "b8897bc045174e5d99e267daa3d8623a": {
      "model_module": "bqplot",
      "model_module_version": "^0.3.6",
      "model_name": "DateScaleModel",
      "state": {}
     },
     "b90c379f66954184bc5bbcc5d6dc9063": {
      "model_module": "@jupyter-widgets/controls",
      "model_module_version": "1.2.0",
      "model_name": "VBoxModel",
      "state": {
       "children": [
        "IPY_MODEL_e39837139d3147b5bb4b193cade9b522"
       ],
       "layout": "IPY_MODEL_a33b9d57394449c78dbcda992149acc0"
      }
     },
     "b911fbd85f9a4a77af90ee01dd13096f": {
      "model_module": "@jupyter-widgets/base",
      "model_module_version": "1.0.0",
      "model_name": "LayoutModel",
      "state": {
       "width": "100%"
      }
     },
     "b92f4ec6d1294b8ebe7860168fa7d2ca": {
      "model_module": "bqplot",
      "model_module_version": "^0.3.6",
      "model_name": "BarsModel",
      "state": {
       "color": {
        "type": null,
        "values": null
       },
       "colors": [
        "blue"
       ],
       "interactions": {
        "click": "select",
        "hover": "tooltip",
        "legend_hover": "highlight_axes"
       },
       "labels": [
        "Email"
       ],
       "scales": {
        "x": "IPY_MODEL_e356561f5ddd4fa382f2854b15cdc2a9",
        "y": "IPY_MODEL_948c4158ea744032a30b22a27cd3a555"
       },
       "selected": [],
       "selected_style": {
        "fill": "red"
       },
       "tooltip": "IPY_MODEL_631a3514a106403ab3ba58220db3f8eb",
       "x": {
        "type": "float",
        "values": [
         14,
         9,
         13,
         15,
         10,
         8,
         12,
         11,
         16,
         17,
         7,
         18,
         19,
         22,
         23,
         6,
         21,
         20,
         0,
         1,
         4,
         5,
         3,
         2
        ]
       },
       "y": {
        "type": "float",
        "values": [
         41.339,
         40.332,
         37.987,
         37.554,
         35.012,
         34.87,
         32.312,
         31.498,
         26.909,
         15.277,
         10.393,
         5.236,
         1.377,
         0.915,
         0.913,
         0.837,
         0.799,
         0.637,
         0.616,
         0.491,
         0.462,
         0.442,
         0.412,
         0.397
        ]
       }
      }
     },
     "b95ce6f7f9fc4d4c92a3cdb7adff3bc4": {
      "model_module": "bqplot",
      "model_module_version": "^0.3.6",
      "model_name": "BarsModel",
      "state": {
       "color": {
        "type": null,
        "values": null
       },
       "colors": [
        "blue"
       ],
       "display_legend": false,
       "interactions": {
        "click": "select",
        "hover": "tooltip",
        "legend_hover": "highlight_axes"
       },
       "labels": [
        "Connect Activity"
       ],
       "padding": 0.2,
       "scales": {
        "x": "IPY_MODEL_d54f4b7cb844420cb6bcf4ef2c461f12",
        "y": "IPY_MODEL_8670f355785342e38c6a7f931ed816a8"
       },
       "selected": [],
       "selected_style": {
        "fill": "red"
       },
       "tooltip": "IPY_MODEL_c39c9b9942624ed8b031ec09b5fe7c9e",
       "x": {
        "type": "object",
        "values": [
         "Connect",
         "Disconnect"
        ]
       },
       "y": {
        "type": "float",
        "values": [
         357.017,
         354.629
        ]
       }
      }
     },
     "b98c1d0ddb9042a2a2d2496011ae7e3a": {
      "model_module": "bqplot",
      "model_module_version": "^0.3.6",
      "model_name": "LinearScaleModel",
      "state": {
       "stabilized": false
      }
     },
     "b9aefee89e25401e88a4f7822eb551ce": {
      "model_module": "bqplot",
      "model_module_version": "^0.3.6",
      "model_name": "LinearScaleModel",
      "state": {
       "allow_padding": false,
       "max": 1,
       "min": 0,
       "stabilized": false
      }
     },
     "b9ef3f28071945e3904f67d7547685f1": {
      "model_module": "bqplot",
      "model_module_version": "^0.3.6",
      "model_name": "LinearScaleModel",
      "state": {
       "stabilized": false
      }
     },
     "ba156e5ebff64bb38727047a2d81413a": {
      "model_module": "bqplot",
      "model_module_version": "^0.3.6",
      "model_name": "TooltipModel",
      "state": {
       "fields": [
        "x",
        "y"
       ],
       "formats": [
        "",
        "0.2f"
       ],
       "labels": [
        "Date",
        "Number of USB Connections"
       ],
       "layout": "IPY_MODEL_c55fd4cdde094bc69c315f8f8fed1dc1"
      }
     },
     "ba1f76986d754736af37c1e011d3faa8": {
      "model_module": "@jupyter-widgets/base",
      "model_module_version": "1.0.0",
      "model_name": "LayoutModel",
      "state": {}
     },
     "ba21ccd2c38644b38eed4f2198eeef85": {
      "model_module": "@jupyter-widgets/base",
      "model_module_version": "1.0.0",
      "model_name": "LayoutModel",
      "state": {}
     },
     "ba419fe2b0234944a6d42cac5059ab5d": {
      "model_module": "@jupyter-widgets/base",
      "model_module_version": "1.0.0",
      "model_name": "LayoutModel",
      "state": {}
     },
     "baa4030cdcae46ce952e416b2e0eef8c": {
      "model_module": "bqplot",
      "model_module_version": "^0.3.6",
      "model_name": "FigureModel",
      "state": {
       "_dom_classes": [],
       "animation_duration": 5000,
       "axes": [
        "IPY_MODEL_2f5e9fe0c61946dea82a01b1b17f21ad",
        "IPY_MODEL_35cc86c7a366429dbd8c32f20160b911"
       ],
       "background_style": {
        "fill": "aliceblue"
       },
       "layout": "IPY_MODEL_e66adf27db7a4619b093ea97ec24db5c",
       "marks": [
        "IPY_MODEL_e7bf5eb0e6cb46b5a2d983eb4a03b17e"
       ],
       "max_aspect_ratio": 6,
       "scale_x": "IPY_MODEL_76a6e6f2739846f295c60f782a58a7d1",
       "scale_y": "IPY_MODEL_2a8e382e07494226b6b1ff6f6c4fa0d3",
       "title": "USB Connections Per Employee"
      }
     },
     "baac7659687b4b0ca49d87501e09861c": {
      "model_module": "@jupyter-widgets/base",
      "model_module_version": "1.0.0",
      "model_name": "LayoutModel",
      "state": {}
     },
     "bb03275b2c624e3193d26b6c5475cc60": {
      "model_module": "@jupyter-widgets/base",
      "model_module_version": "1.0.0",
      "model_name": "LayoutModel",
      "state": {}
     },
     "bb19f55befe042cfa7486567b591e90c": {
      "model_module": "bqplot",
      "model_module_version": "^0.3.6",
      "model_name": "TooltipModel",
      "state": {
       "fields": [
        "x",
        "y"
       ],
       "formats": [
        "",
        "0.2f"
       ],
       "labels": [
        "Directory",
        "Count"
       ],
       "layout": "IPY_MODEL_e349a968c5e54d018668277963bba7d0"
      }
     },
     "bb296ee39dd345d5837aff9b275a2a5c": {
      "model_module": "bqplot",
      "model_module_version": "^0.3.6",
      "model_name": "LinearScaleModel",
      "state": {
       "allow_padding": false,
       "max": 1,
       "min": 0,
       "stabilized": false
      }
     },
     "bb898af7f3c04a2897b5cd620fe7c514": {
      "model_module": "bqplot",
      "model_module_version": "^0.3.6",
      "model_name": "LinearScaleModel",
      "state": {
       "allow_padding": false,
       "max": 1,
       "min": 0,
       "stabilized": false
      }
     },
     "bbade615d84d43d0ba11b1ba2b92cf0c": {
      "model_module": "bqplot",
      "model_module_version": "^0.3.6",
      "model_name": "BarsModel",
      "state": {
       "color": {
        "type": null,
        "values": null
       },
       "colors": [
        "skyblue"
       ],
       "display_legend": false,
       "interactions": {
        "click": "select",
        "hover": "tooltip",
        "legend_hover": "highlight_axes"
       },
       "labels": [
        "Number of USB Connections"
       ],
       "scales": {
        "x": "IPY_MODEL_a156a76c787d47f0af7a094b5a866898",
        "y": "IPY_MODEL_7fa4e569ea954fddaeb20d763e6f79fa"
       },
       "selected": [],
       "selected_style": {
        "fill": "red"
       },
       "tooltip": "IPY_MODEL_b07b7ad33b874b09baedf8a9c7647c31",
       "x": {
        "type": "date",
        "values": [
         "1970-01-01T07:00:00.000000",
         "1970-01-01T08:00:00.000000",
         "1970-01-01T09:00:00.000000",
         "1970-01-01T10:00:00.000000",
         "1970-01-01T11:00:00.000000",
         "1970-01-01T12:00:00.000000",
         "1970-01-01T13:00:00.000000",
         "1970-01-01T14:00:00.000000",
         "1970-01-01T15:00:00.000000",
         "1970-01-01T16:00:00.000000",
         "1970-01-01T19:00:00.000000",
         "1970-01-01T20:00:00.000000"
        ]
       },
       "y": {
        "type": "float",
        "values": [
         1,
         22,
         18,
         14,
         17,
         9,
         19,
         26,
         27,
         7,
         1,
         2
        ]
       }
      }
     },
     "bbb89da0f4f940f78e8c968f64fc8e3c": {
      "model_module": "bqplot",
      "model_module_version": "^0.3.6",
      "model_name": "FigureModel",
      "state": {
       "_dom_classes": [],
       "animation_duration": 5000,
       "axes": [
        "IPY_MODEL_b5ad385edc8548fb8daa64c9af5b4e44",
        "IPY_MODEL_c5c0f345358240178563c5999785c9d8"
       ],
       "background_style": {
        "fill": "aliceblue"
       },
       "layout": "IPY_MODEL_8ac656bdd6b34040a0e26ccd49ed02cd",
       "marks": [
        "IPY_MODEL_b264e43197054f1081eb12b99dddfb31"
       ],
       "max_aspect_ratio": 6,
       "scale_x": "IPY_MODEL_8bb9553e9d234720b3d176ea3e9fa326",
       "scale_y": "IPY_MODEL_08f0247c77db4f06b69cdffd12594243",
       "title": "Number of Emails sent Daily"
      }
     },
     "bbef0ef7621848b0a0c0703fe440bbf7": {
      "model_module": "@jupyter-widgets/base",
      "model_module_version": "1.0.0",
      "model_name": "LayoutModel",
      "state": {}
     },
     "bc0b49861e6b40e688ea173dc58b4a90": {
      "model_module": "bqplot",
      "model_module_version": "^0.3.6",
      "model_name": "AxisModel",
      "state": {
       "label": "Count (log)",
       "orientation": "vertical",
       "scale": "IPY_MODEL_5a21a44a5e024caa9e21d5dc5232bc16",
       "side": "left",
       "tick_format": "0.2f",
       "tick_values": {
        "type": null,
        "values": null
       }
      }
     },
     "bc471bd8177e4a30a5c5e82ec8b61c16": {
      "model_module": "@jupyter-widgets/controls",
      "model_module_version": "1.2.0",
      "model_name": "VBoxModel",
      "state": {
       "children": [
        "IPY_MODEL_b2c6d7f173d7436db3e1a66b4dfc40a9"
       ],
       "layout": "IPY_MODEL_6af692ef034f4ac999dab519b64f1b32"
      }
     },
     "bcf7309ff16f49ed977141582d2f922b": {
      "model_module": "@jupyter-widgets/base",
      "model_module_version": "1.0.0",
      "model_name": "LayoutModel",
      "state": {}
     },
     "bd2bb964ca534b6b8dc1102da2279a50": {
      "model_module": "bqplot",
      "model_module_version": "^0.3.6",
      "model_name": "AxisModel",
      "state": {
       "label": "Hours of the Day",
       "scale": "IPY_MODEL_dd25f85677fa4263a7c93e15f85116d3",
       "side": "bottom",
       "tick_values": {
        "type": null,
        "values": null
       }
      }
     },
     "bd65df911cdb481d861791a4058ebda8": {
      "model_module": "bqplot",
      "model_module_version": "^0.3.6",
      "model_name": "TooltipModel",
      "state": {
       "fields": [
        "index",
        "name"
       ],
       "formats": [
        "",
        "0.2f"
       ],
       "labels": [
        "User ID",
        "Email Size"
       ],
       "layout": "IPY_MODEL_624aeed7ea5b49329cf53e40b481bb41"
      }
     },
     "bd95dfbf95894d8fb158cd3c1bb976a5": {
      "model_module": "bqplot",
      "model_module_version": "^0.3.6",
      "model_name": "LinearScaleModel",
      "state": {
       "allow_padding": false,
       "max": 1,
       "min": 0,
       "stabilized": false
      }
     },
     "be3db84830de439693142af589658813": {
      "model_module": "bqplot",
      "model_module_version": "^0.3.6",
      "model_name": "FigureModel",
      "state": {
       "_dom_classes": [],
       "animation_duration": 5000,
       "axes": [
        "IPY_MODEL_5757430cb7e84cd29334fcd0e0db11a5",
        "IPY_MODEL_19277ec8550447c9926f65f49bd67cca"
       ],
       "background_style": {
        "fill": "aliceblue"
       },
       "layout": "IPY_MODEL_8ac656bdd6b34040a0e26ccd49ed02cd",
       "marks": [
        "IPY_MODEL_97ece0646203481d9deed8ffb05235dd"
       ],
       "max_aspect_ratio": 6,
       "scale_x": "IPY_MODEL_5f1b366897c44dd8bed559eada658db3",
       "scale_y": "IPY_MODEL_71d7c195c89e45f79e54f6c63bc3f1fd",
       "title": "USB Connections"
      }
     },
     "be5a8ce38685484a933419ba922e3f46": {
      "model_module": "@jupyter-widgets/base",
      "model_module_version": "1.0.0",
      "model_name": "LayoutModel",
      "state": {}
     },
     "beab5422d24147bda0877d26b12079c8": {
      "model_module": "bqplot",
      "model_module_version": "^0.3.6",
      "model_name": "TooltipModel",
      "state": {
       "fields": [
        "x",
        "y"
       ],
       "formats": [
        "",
        "0.2f"
       ],
       "labels": [
        "Date",
        "Number of USB Connections"
       ],
       "layout": "IPY_MODEL_4b91325fadf949919ec0873ea06d3c06"
      }
     },
     "beda17de40a347bf9a9b60c246c07d5f": {
      "model_module": "bqplot",
      "model_module_version": "^0.3.6",
      "model_name": "PanZoomModel",
      "state": {
       "scales": {
        "x": [
         "IPY_MODEL_797b5dd432604907b7dd77e462db0835"
        ],
        "y": [
         "IPY_MODEL_41531c491e6345e5bf97266e31b187c3"
        ]
       }
      }
     },
     "beddc17f7ece48cf97fcb034edf061f8": {
      "model_module": "bqplot",
      "model_module_version": "^0.3.6",
      "model_name": "LinearScaleModel",
      "state": {
       "allow_padding": false,
       "max": 1,
       "min": 0,
       "stabilized": false
      }
     },
     "bef0b35b46004c1d916dbc7534e1ab95": {
      "model_module": "@jupyter-widgets/base",
      "model_module_version": "1.0.0",
      "model_name": "LayoutModel",
      "state": {}
     },
     "bf0ee26b83f249e29d1c17fd603f35bc": {
      "model_module": "bqplot",
      "model_module_version": "^0.3.6",
      "model_name": "AxisModel",
      "state": {
       "label": "Number of USB Connections",
       "orientation": "vertical",
       "scale": "IPY_MODEL_c9b5471903fc4632a23a9393619ee0db",
       "side": "left",
       "tick_format": "0.2f",
       "tick_values": {
        "type": null,
        "values": null
       }
      }
     },
     "bf29750f823046d29569d080f24a0128": {
      "model_module": "@jupyter-widgets/base",
      "model_module_version": "1.0.0",
      "model_name": "LayoutModel",
      "state": {}
     },
     "bf2ab28a84514bccbfc0792734336f6a": {
      "model_module": "bqplot",
      "model_module_version": "^0.3.6",
      "model_name": "LinearScaleModel",
      "state": {
       "allow_padding": false,
       "max": 1,
       "min": 0,
       "stabilized": false
      }
     },
     "bf53882c10d54609bc302edfc1707075": {
      "model_module": "@jupyter-widgets/controls",
      "model_module_version": "1.2.0",
      "model_name": "DescriptionStyleModel",
      "state": {
       "description_width": ""
      }
     },
     "bfa83be5f28842bbb75afe9ee77af8f0": {
      "model_module": "@jupyter-widgets/controls",
      "model_module_version": "1.2.0",
      "model_name": "VBoxModel",
      "state": {
       "children": [
        "IPY_MODEL_744a2df587bf4dc289eb2cbe80069332"
       ],
       "layout": "IPY_MODEL_39e801ed0bc74fc5b16b01e3462d5461"
      }
     },
     "bfc657263aaa44bba2743f852d7a86b2": {
      "model_module": "bqplot",
      "model_module_version": "^0.3.6",
      "model_name": "LinearScaleModel",
      "state": {
       "stabilized": false
      }
     },
     "c042de7995784ca19ec5c2bbdb70faad": {
      "model_module": "bqplot",
      "model_module_version": "^0.3.6",
      "model_name": "PanZoomModel",
      "state": {
       "scales": {
        "x": [
         "IPY_MODEL_3dcc54040cb44a88a3ebcfa24f284b3f"
        ],
        "y": [
         "IPY_MODEL_5f6ed11f6af34541aa4d68c88938e459"
        ]
       }
      }
     },
     "c09b78dc4104491d9aaa4238ea95e30d": {
      "model_module": "@jupyter-widgets/base",
      "model_module_version": "1.0.0",
      "model_name": "LayoutModel",
      "state": {}
     },
     "c0fae34e14ae4a0a803b1c7258d499c7": {
      "model_module": "bqplot",
      "model_module_version": "^0.3.6",
      "model_name": "DateScaleModel",
      "state": {}
     },
     "c102c9d555dc4cb8b118512021d4caac": {
      "model_module": "bqplot",
      "model_module_version": "^0.3.6",
      "model_name": "FigureModel",
      "state": {
       "_dom_classes": [],
       "animation_duration": 5000,
       "axes": [
        "IPY_MODEL_e534fbb506d64b04bc802158cf28e226",
        "IPY_MODEL_7212bd7beadd4abeb15d24733023d46a"
       ],
       "background_style": {
        "fill": "aliceblue"
       },
       "layout": "IPY_MODEL_b911fbd85f9a4a77af90ee01dd13096f",
       "marks": [
        "IPY_MODEL_42de93c0f84a4c30b7aa2f8fcd7e45a3"
       ],
       "max_aspect_ratio": 6,
       "scale_x": "IPY_MODEL_7f84f263812f4f60825bb5f6aa16d4c2",
       "scale_y": "IPY_MODEL_991736855a944d54a33a35872ba1b0c0",
       "title": "Number of Emails sent Daily"
      }
     },
     "c11bf54426864f8dafde0f6393848e79": {
      "model_module": "bqplot",
      "model_module_version": "^0.3.6",
      "model_name": "FigureModel",
      "state": {
       "_dom_classes": [],
       "animation_duration": 5000,
       "axes": [
        "IPY_MODEL_e41a603ce1d54a64bee503c554c01ee3",
        "IPY_MODEL_e6f0fdcc104e46eaae8cfcba63e08236"
       ],
       "background_style": {
        "fill": "aliceblue"
       },
       "layout": "IPY_MODEL_8ac656bdd6b34040a0e26ccd49ed02cd",
       "marks": [
        "IPY_MODEL_5e38b1720f9c41c3899fd3317ec6aeea"
       ],
       "max_aspect_ratio": 6,
       "scale_x": "IPY_MODEL_231d81610c0145eb83c64cde323b3c4a",
       "scale_y": "IPY_MODEL_52c7eb21b22a4a9aa693ccea890082ae",
       "title": "USB Connections"
      }
     },
     "c1476b746de74095bc54797575e121a4": {
      "model_module": "@jupyter-widgets/base",
      "model_module_version": "1.0.0",
      "model_name": "LayoutModel",
      "state": {
       "width": "10%"
      }
     },
     "c16728a90768432687bcdfdde3bd57cb": {
      "model_module": "bqplot",
      "model_module_version": "^0.3.6",
      "model_name": "AxisModel",
      "state": {
       "label": "Hours of the Day",
       "scale": "IPY_MODEL_0187591133d2404ea5ac51abc70e1a77",
       "side": "bottom",
       "tick_values": {
        "type": null,
        "values": null
       }
      }
     },
     "c17408c814994b81a3b4cd40f528376e": {
      "model_module": "bqplot",
      "model_module_version": "^0.3.6",
      "model_name": "BarsModel",
      "state": {
       "color": {
        "type": null,
        "values": null
       },
       "colors": [
        "skyblue"
       ],
       "display_legend": false,
       "interactions": {
        "click": "select",
        "hover": "tooltip",
        "legend_hover": "highlight_axes"
       },
       "labels": [
        "Number of USB Connections"
       ],
       "scales": {
        "x": "IPY_MODEL_39c75904164141519b314328e1a206fa",
        "y": "IPY_MODEL_90410074946345708b3ec903c1bbd704"
       },
       "selected": [],
       "selected_style": {
        "fill": "red"
       },
       "tooltip": "IPY_MODEL_b7b7ba48aac7435c88419ba5c0d2587c",
       "x": {
        "type": "date",
        "values": [
         "1970-01-01T07:00:00.000000",
         "1970-01-01T08:00:00.000000",
         "1970-01-01T09:00:00.000000",
         "1970-01-01T10:00:00.000000",
         "1970-01-01T11:00:00.000000",
         "1970-01-01T12:00:00.000000",
         "1970-01-01T13:00:00.000000",
         "1970-01-01T14:00:00.000000",
         "1970-01-01T15:00:00.000000",
         "1970-01-01T16:00:00.000000",
         "1970-01-01T19:00:00.000000",
         "1970-01-01T20:00:00.000000"
        ]
       },
       "y": {
        "type": "float",
        "values": [
         37,
         167,
         169,
         167,
         157,
         151,
         174,
         154,
         187,
         82
        ]
       }
      }
     },
     "c18c6f77e59b4a45b4713c4447b711f6": {
      "model_module": "@jupyter-widgets/base",
      "model_module_version": "1.0.0",
      "model_name": "LayoutModel",
      "state": {}
     },
     "c24b0a7b84f14d6997aca2d47b6ad4c9": {
      "model_module": "bqplot",
      "model_module_version": "^0.3.6",
      "model_name": "FigureModel",
      "state": {
       "_dom_classes": [],
       "animation_duration": 5000,
       "axes": [
        "IPY_MODEL_3c9de066a918490eae6313fecbd556f4",
        "IPY_MODEL_76c067b94c064ca0a5a5f98627a375ec"
       ],
       "background_style": {
        "fill": "aliceblue"
       },
       "layout": "IPY_MODEL_8ac656bdd6b34040a0e26ccd49ed02cd",
       "legend_style": {
        "fill": "white"
       },
       "marks": [
        "IPY_MODEL_4da5fd801417407da69256a01e3543f6"
       ],
       "max_aspect_ratio": 6,
       "scale_x": "IPY_MODEL_2e46de359e004d1fa09f014bb0318d2a",
       "scale_y": "IPY_MODEL_b2620f2a02d24d348579f8dd3722c3e2",
       "title": "Proportion of Directory Access"
      }
     },
     "c29fcbcd9e8b4250b57a922e5e9d07ef": {
      "model_module": "bqplot",
      "model_module_version": "^0.3.6",
      "model_name": "LinearScaleModel",
      "state": {
       "stabilized": false
      }
     },
     "c2e78581b60b4084bd8d271d9b28d5cb": {
      "model_module": "bqplot",
      "model_module_version": "^0.3.6",
      "model_name": "TooltipModel",
      "state": {
       "fields": [
        "x",
        "y"
       ],
       "formats": [
        "",
        "0.2f"
       ],
       "labels": [
        "Activity",
        "Count"
       ],
       "layout": "IPY_MODEL_b35116e3b9c64dae84eb9778a3b744bf"
      }
     },
     "c30c5817428540c1b3465ee0a75c0513": {
      "model_module": "bqplot",
      "model_module_version": "^0.3.6",
      "model_name": "LinearScaleModel",
      "state": {
       "stabilized": false
      }
     },
     "c33f4e63fe5b4ebc8e019309bcf208e5": {
      "model_module": "@jupyter-widgets/base",
      "model_module_version": "1.0.0",
      "model_name": "LayoutModel",
      "state": {}
     },
     "c348ded896834e74beceea059b5246db": {
      "model_module": "bqplot",
      "model_module_version": "^0.3.6",
      "model_name": "AxisModel",
      "state": {
       "label": "Connect Activity",
       "scale": "IPY_MODEL_9d41d7e7598d476ca9564ce2cf23373d",
       "side": "bottom",
       "tick_values": {
        "type": null,
        "values": null
       }
      }
     },
     "c39c9b9942624ed8b031ec09b5fe7c9e": {
      "model_module": "bqplot",
      "model_module_version": "^0.3.6",
      "model_name": "TooltipModel",
      "state": {
       "fields": [
        "x",
        "y"
       ],
       "formats": [
        "",
        "0.2f"
       ],
       "labels": [
        "Activity",
        "Count"
       ],
       "layout": "IPY_MODEL_70382a2245244122b1abc3d8dc6ec508"
      }
     },
     "c3be93b8598a47ba9039b2ae311812a7": {
      "model_module": "bqplot",
      "model_module_version": "^0.3.6",
      "model_name": "PanZoomModel",
      "state": {
       "scales": {
        "x": [
         "IPY_MODEL_32e1b2d819ee4a868721f65928a80e19"
        ],
        "y": [
         "IPY_MODEL_5a21a44a5e024caa9e21d5dc5232bc16"
        ]
       }
      }
     },
     "c3d47af9208c42b8946cfb7e327f78b2": {
      "model_module": "bqplot",
      "model_module_version": "^0.3.6",
      "model_name": "TooltipModel",
      "state": {
       "fields": [
        "x",
        "y"
       ],
       "formats": [
        "",
        "f"
       ],
       "labels": [
        "Date",
        "Number of USB Connections"
       ],
       "layout": "IPY_MODEL_23ca0a310a964d6d94c71401e5cd428b"
      }
     },
     "c3d7fa7f3b2e4836a7a46e38f4dfd872": {
      "model_module": "bqplot",
      "model_module_version": "^0.3.6",
      "model_name": "TooltipModel",
      "state": {
       "fields": [
        "x",
        "y"
       ],
       "formats": [
        "",
        "f"
       ],
       "labels": [
        "Date",
        "Number of USB Connections"
       ],
       "layout": "IPY_MODEL_5d2b1646f9a64dd89c2e30bda6e1f2f8"
      }
     },
     "c4090b13d7124ae18aa53850a2f8276a": {
      "model_module": "bqplot",
      "model_module_version": "^0.3.6",
      "model_name": "AxisModel",
      "state": {
       "label": "Number of USB Connections",
       "orientation": "vertical",
       "scale": "IPY_MODEL_223ce942b7fb45feb76da464437e3821",
       "side": "left",
       "tick_format": "0.2f",
       "tick_values": {
        "type": null,
        "values": null
       }
      }
     },
     "c41b564c8a18438a9138e39a354b55f0": {
      "model_module": "bqplot",
      "model_module_version": "^0.3.6",
      "model_name": "LinearScaleModel",
      "state": {
       "allow_padding": false,
       "max": 1,
       "min": 0,
       "stabilized": false
      }
     },
     "c442b90180714d2abe43ff0ea057188b": {
      "model_module": "bqplot",
      "model_module_version": "^0.3.6",
      "model_name": "BarsModel",
      "state": {
       "color": {
        "type": null,
        "values": null
       },
       "colors": [
        "blue"
       ],
       "display_legend": false,
       "interactions": {
        "click": "select",
        "hover": "tooltip",
        "legend_hover": "highlight_axes"
       },
       "labels": [
        "Connect Activity"
       ],
       "padding": 0.2,
       "scales": {
        "x": "IPY_MODEL_0100685be9044a1e879b2406b3f8426f",
        "y": "IPY_MODEL_8a3364698a2744f0b59485dbf9148ad1"
       },
       "selected": [],
       "selected_style": {
        "fill": "red"
       },
       "tooltip": "IPY_MODEL_0b861222c7a5489f9b1dda86592febde",
       "x": {
        "type": "object",
        "values": [
         "R:\\",
         "nan",
         "R:\\13jd423",
         "R:\\49FP5C2",
         "R:\\51n6647",
         "R:\\CJM0273",
         "R:\\JDM1042",
         "R:\\84xF4F2",
         "R:\\AKB2312",
         "R:\\787PQ59"
        ]
       },
       "y": {
        "type": "float",
        "values": [
         5.877783399693508,
         5.871072172586023,
         0.7158866675294346,
         0.7158866675294346,
         0.7158866675294346,
         0.7158866675294346,
         0.7095125346462096,
         0.7095125346462096,
         0.7055697005585024,
         0.6961426895397437
        ]
       }
      }
     },
     "c46573073eaa4f49addba737c78fb00d": {
      "model_module": "bqplot",
      "model_module_version": "^0.3.6",
      "model_name": "AxisModel",
      "state": {
       "label": "Hours of the Day",
       "scale": "IPY_MODEL_39c75904164141519b314328e1a206fa",
       "side": "bottom",
       "tick_values": {
        "type": null,
        "values": null
       }
      }
     },
     "c4775242bcf54476a86fb79965d86953": {
      "model_module": "@jupyter-widgets/controls",
      "model_module_version": "1.2.0",
      "model_name": "DescriptionStyleModel",
      "state": {
       "description_width": ""
      }
     },
     "c4af2090170940188dea3be9a2d7fdce": {
      "model_module": "bqplot",
      "model_module_version": "^0.3.6",
      "model_name": "AxisModel",
      "state": {
       "label": "Hours of the Day",
       "scale": "IPY_MODEL_f37163a0f54d4208947f2f26b57eaeb3",
       "side": "bottom",
       "tick_values": {
        "type": null,
        "values": null
       }
      }
     },
     "c4cd77b9736c4536aa5fefadc50b5f8d": {
      "model_module": "@jupyter-widgets/base",
      "model_module_version": "1.0.0",
      "model_name": "LayoutModel",
      "state": {
       "height": "500px",
       "width": "100%"
      }
     },
     "c4de64e1066d4a31a0c63a85132063b8": {
      "model_module": "bqplot",
      "model_module_version": "^0.3.6",
      "model_name": "LinearScaleModel",
      "state": {
       "allow_padding": false,
       "max": 1,
       "min": 0,
       "stabilized": false
      }
     },
     "c4e557c2301046978bc37465388132c8": {
      "model_module": "bqplot",
      "model_module_version": "^0.3.6",
      "model_name": "PanZoomModel",
      "state": {
       "scales": {
        "x": [
         "IPY_MODEL_5247fb324cdd4191bc73da500b407463"
        ],
        "y": [
         "IPY_MODEL_ddb72cfbf0bd40bca93d09ec425b0f94"
        ]
       }
      }
     },
     "c4f2557232184058a5dd18214928eee9": {
      "model_module": "@jupyter-widgets/controls",
      "model_module_version": "1.2.0",
      "model_name": "VBoxModel",
      "state": {
       "children": [
        "IPY_MODEL_04152406d8dc4a1daadc0ebc079f366d"
       ],
       "layout": "IPY_MODEL_f73cc2420b604c28bcc1ce88de26fb35"
      }
     },
     "c5464d666817455b9cdfa22ac74bff10": {
      "model_module": "bqplot",
      "model_module_version": "^0.3.6",
      "model_name": "DateScaleModel",
      "state": {}
     },
     "c55fd4cdde094bc69c315f8f8fed1dc1": {
      "model_module": "@jupyter-widgets/base",
      "model_module_version": "1.0.0",
      "model_name": "LayoutModel",
      "state": {}
     },
     "c5a046b22e05407f815fd168024b8560": {
      "model_module": "bqplot",
      "model_module_version": "^0.3.6",
      "model_name": "LinearScaleModel",
      "state": {
       "allow_padding": false,
       "max": 1,
       "min": 0,
       "stabilized": false
      }
     },
     "c5bdbc0ad97f43c19dea387202c9a315": {
      "model_module": "@jupyter-widgets/base",
      "model_module_version": "1.0.0",
      "model_name": "LayoutModel",
      "state": {}
     },
     "c5bdbd765ae24b11830136a1f46fe384": {
      "model_module": "bqplot",
      "model_module_version": "^0.3.6",
      "model_name": "LinearScaleModel",
      "state": {
       "allow_padding": false,
       "max": 1,
       "min": 0,
       "stabilized": false
      }
     },
     "c5c0f345358240178563c5999785c9d8": {
      "model_module": "bqplot",
      "model_module_version": "^0.3.6",
      "model_name": "AxisModel",
      "state": {
       "label": "Number of Emails",
       "orientation": "vertical",
       "scale": "IPY_MODEL_cf6613f35a2c48d9a57a2cb99670c6bb",
       "side": "left",
       "tick_format": "0.2f",
       "tick_values": {
        "type": null,
        "values": null
       }
      }
     },
     "c5cbde177b884b42bf1293b598def166": {
      "model_module": "bqplot",
      "model_module_version": "^0.3.6",
      "model_name": "BarsModel",
      "state": {
       "color": {
        "type": null,
        "values": null
       },
       "colors": [
        "blue"
       ],
       "interactions": {
        "click": "select",
        "hover": "tooltip",
        "legend_hover": "highlight_axes"
       },
       "labels": [
        "Connect Activity"
       ],
       "scales": {
        "x": "IPY_MODEL_c94b06b88316486e918eab85c62ba546",
        "y": "IPY_MODEL_7837b677ba2044efb233b0c142bf0bbf"
       },
       "selected": [],
       "selected_style": {
        "fill": "red"
       },
       "tooltip": "IPY_MODEL_c2e78581b60b4084bd8d271d9b28d5cb",
       "x": {
        "type": "object",
        "values": [
         "Connect",
         "Disconnect"
        ]
       },
       "y": {
        "type": "float",
        "values": [
         357.017,
         354.629
        ]
       }
      }
     },
     "c5d2ad36811349e0badf399509946439": {
      "model_module": "@jupyter-widgets/controls",
      "model_module_version": "1.2.0",
      "model_name": "VBoxModel",
      "state": {
       "children": [
        "IPY_MODEL_6f40e1a8d3ac4a918dd08281c6efacb0",
        "IPY_MODEL_efe9924f489c4a39b3ddb4228b890123"
       ],
       "layout": "IPY_MODEL_2f6c63d934cf47eebb6124b47b747f1b"
      }
     },
     "c5d6aef04caf4870abf6c2e10531ea39": {
      "model_module": "bqplot",
      "model_module_version": "^0.3.6",
      "model_name": "OrdinalScaleModel",
      "state": {
       "domain": []
      }
     },
     "c5ee7a71379d45d1a7715740e8b16876": {
      "model_module": "@jupyter-widgets/controls",
      "model_module_version": "1.2.0",
      "model_name": "VBoxModel",
      "state": {
       "children": [
        "IPY_MODEL_65d68c003ad64f1a889e15351ccdf22a",
        "IPY_MODEL_b0b0b6a3006642eca95c4ba65658def8"
       ],
       "layout": "IPY_MODEL_1fce3d8b40ea4c868555824e853ad8fd"
      }
     },
     "c5fa507f8dfc442b9f5b7bb0c549dc79": {
      "model_module": "bqplot",
      "model_module_version": "^0.3.6",
      "model_name": "PanZoomModel",
      "state": {
       "scales": {
        "x": [
         "IPY_MODEL_862c03ae125b4696b50b3a2c78b4bb6d"
        ],
        "y": [
         "IPY_MODEL_a73464db9a8b47fc81c848e065319b1e"
        ]
       }
      }
     },
     "c659958ced01482c8649b0dff82936ac": {
      "model_module": "bqplot",
      "model_module_version": "^0.3.6",
      "model_name": "LinearScaleModel",
      "state": {
       "allow_padding": false,
       "max": 1,
       "min": 0,
       "stabilized": false
      }
     },
     "c66a13a5675f4053bf758ef6bd6323a3": {
      "model_module": "@jupyter-widgets/base",
      "model_module_version": "1.0.0",
      "model_name": "LayoutModel",
      "state": {}
     },
     "c6739268a7de445ba57ef7e445d65971": {
      "model_module": "bqplot",
      "model_module_version": "^0.3.6",
      "model_name": "BarsModel",
      "state": {
       "color": {
        "type": null,
        "values": null
       },
       "colors": [
        "limegreen"
       ],
       "display_legend": false,
       "interactions": {
        "click": "select",
        "hover": "tooltip",
        "legend_hover": "highlight_axes"
       },
       "labels": [
        "Number of USB Connections"
       ],
       "scales": {
        "x": "IPY_MODEL_c5464d666817455b9cdfa22ac74bff10",
        "y": "IPY_MODEL_749d7a601cd54b129ea69157045688a1"
       },
       "selected": [],
       "selected_style": {
        "fill": "red"
       },
       "tooltip": "IPY_MODEL_d6fa2f86193b4793a8d4cdf69087488a",
       "x": {
        "type": "date",
        "values": [
         "1900-01-01T14:00:00.000000",
         "1900-01-01T09:00:00.000000",
         "1900-01-01T13:00:00.000000",
         "1900-01-01T15:00:00.000000",
         "1900-01-01T10:00:00.000000",
         "1900-01-01T08:00:00.000000",
         "1900-01-01T12:00:00.000000",
         "1900-01-01T11:00:00.000000",
         "1900-01-01T16:00:00.000000",
         "1900-01-01T17:00:00.000000",
         "1900-01-01T07:00:00.000000",
         "1900-01-01T18:00:00.000000",
         "1900-01-01T19:00:00.000000",
         "1900-01-01T22:00:00.000000",
         "1900-01-01T23:00:00.000000",
         "1900-01-01T06:00:00.000000",
         "1900-01-01T21:00:00.000000",
         "1900-01-01T20:00:00.000000",
         "1900-01-01T00:00:00.000000",
         "1900-01-01T01:00:00.000000",
         "1900-01-01T04:00:00.000000",
         "1900-01-01T05:00:00.000000",
         "1900-01-01T03:00:00.000000",
         "1900-01-01T02:00:00.000000"
        ]
       },
       "y": {
        "type": "float",
        "values": [
         41.339,
         40.332,
         37.987,
         37.554,
         35.012,
         34.87,
         32.312,
         31.498,
         26.909,
         15.277,
         10.393,
         5.236,
         1.377,
         0.915,
         0.913,
         0.837,
         0.799,
         0.637,
         0.616,
         0.491,
         0.462,
         0.442,
         0.412,
         0.397
        ]
       }
      }
     },
     "c68b54bfb794482692e81eb2d6be3190": {
      "model_module": "bqplot",
      "model_module_version": "^0.3.6",
      "model_name": "DateScaleModel",
      "state": {}
     },
     "c68d1ad637ba4f06a3608d83b11d456b": {
      "model_module": "bqplot",
      "model_module_version": "^0.3.6",
      "model_name": "FigureModel",
      "state": {
       "_dom_classes": [],
       "animation_duration": 5000,
       "axes": [
        "IPY_MODEL_c348ded896834e74beceea059b5246db",
        "IPY_MODEL_91b5fbdad30345c6a7d3eca60f277155"
       ],
       "background_style": {
        "fill": "aliceblue"
       },
       "layout": "IPY_MODEL_8ac656bdd6b34040a0e26ccd49ed02cd",
       "legend_style": {
        "fill": "white"
       },
       "marks": [
        "IPY_MODEL_29ac90f7c308429c8188946bdbdbf501"
       ],
       "max_aspect_ratio": 6,
       "scale_x": "IPY_MODEL_28e9ef6e3ee4429d9d5372d65082853b",
       "scale_y": "IPY_MODEL_2a5dfc198a8e4680a1d40e3edeea5253",
       "title": "Proportion of Connect Activity"
      }
     },
     "c6e6fb2736c84ac18bf247532837472d": {
      "model_module": "@jupyter-widgets/base",
      "model_module_version": "1.0.0",
      "model_name": "LayoutModel",
      "state": {}
     },
     "c71cb06bb9ef475b926c10678ecda848": {
      "model_module": "@jupyter-widgets/controls",
      "model_module_version": "1.2.0",
      "model_name": "VBoxModel",
      "state": {
       "children": [
        "IPY_MODEL_710b2c003f834043ac500a5261ddcc4d"
       ],
       "layout": "IPY_MODEL_63ddf5722fe6402584ccbc9be8ebc9d3"
      }
     },
     "c823910aa6904c688f5f7a83098a231f": {
      "model_module": "bqplot",
      "model_module_version": "^0.3.6",
      "model_name": "AxisModel",
      "state": {
       "label": "Connect Activity",
       "scale": "IPY_MODEL_5d3c7e0971a24278a72284f9068234c8",
       "side": "bottom",
       "tick_values": {
        "type": null,
        "values": null
       }
      }
     },
     "c83ca5e8230e43e1b9429e2754af292b": {
      "model_module": "bqplot",
      "model_module_version": "^0.3.6",
      "model_name": "AxisModel",
      "state": {
       "label": "Hours of the Day",
       "scale": "IPY_MODEL_09377787f6ce4efa9fc32288a0f6b3f0",
       "side": "bottom",
       "tick_values": {
        "type": null,
        "values": null
       }
      }
     },
     "c84560dc91784cb1be0ee152fe92bd69": {
      "model_module": "bqplot",
      "model_module_version": "^0.3.6",
      "model_name": "LinearScaleModel",
      "state": {
       "allow_padding": false,
       "max": 1,
       "min": 0,
       "stabilized": false
      }
     },
     "c8b0ac8a96064eb194eacf708f83ab4d": {
      "model_module": "bqplot",
      "model_module_version": "^0.3.6",
      "model_name": "DateScaleModel",
      "state": {}
     },
     "c905ca8e742c4260814f8309b3391f6c": {
      "model_module": "bqplot",
      "model_module_version": "^0.3.6",
      "model_name": "BarsModel",
      "state": {
       "color": {
        "type": null,
        "values": null
       },
       "colors": [
        "blue"
       ],
       "interactions": {
        "click": "select",
        "hover": "tooltip",
        "legend_hover": "highlight_axes"
       },
       "labels": [
        "Connect Activity"
       ],
       "scales": {
        "x": "IPY_MODEL_7fb8e24cb9214cf89d671e77f8bedad7",
        "y": "IPY_MODEL_39a8b8d8021443fe9b8c391d9c5d84a6"
       },
       "selected": [],
       "selected_style": {
        "fill": "red"
       },
       "tooltip": "IPY_MODEL_295c29aba7824568a2e6c3d5fa762ab3",
       "x": {
        "type": "object",
        "values": [
         "Connect",
         "Disconnect"
        ]
       },
       "y": {
        "type": "float",
        "values": [
         357.017,
         354.629
        ]
       }
      }
     },
     "c94b06b88316486e918eab85c62ba546": {
      "model_module": "bqplot",
      "model_module_version": "^0.3.6",
      "model_name": "OrdinalScaleModel",
      "state": {
       "domain": []
      }
     },
     "c96ff9b5b54b4c23bc6d850f6a117fe2": {
      "model_module": "bqplot",
      "model_module_version": "^0.3.6",
      "model_name": "TooltipModel",
      "state": {
       "fields": [
        "x",
        "y"
       ],
       "formats": [
        "",
        "0.2f"
       ],
       "labels": [
        "Directory",
        "Count"
       ],
       "layout": "IPY_MODEL_8dd5836d745b4f8b93c6614f6bef6228"
      }
     },
     "c997d5e61a584fad9f5a91a53ba1ab02": {
      "model_module": "bqplot",
      "model_module_version": "^0.3.6",
      "model_name": "DateScaleModel",
      "state": {}
     },
     "c9b5471903fc4632a23a9393619ee0db": {
      "model_module": "bqplot",
      "model_module_version": "^0.3.6",
      "model_name": "LinearScaleModel",
      "state": {
       "stabilized": false
      }
     },
     "c9f7d8b0e2e040bba03ce821226fc668": {
      "model_module": "bqplot",
      "model_module_version": "^0.3.6",
      "model_name": "FigureModel",
      "state": {
       "_dom_classes": [],
       "animation_duration": 5000,
       "axes": [
        "IPY_MODEL_36860da769494c849248a626166a1c04",
        "IPY_MODEL_dea37800fcae421c827de9ae7b3a31c3"
       ],
       "background_style": {
        "fill": "aliceblue"
       },
       "layout": "IPY_MODEL_360a2d7a357046b58bad9a48c3a6e8c9",
       "legend_style": {
        "fill": "white"
       },
       "marks": [
        "IPY_MODEL_99e142abed6641bd8e8ff60dcf83175a"
       ],
       "max_aspect_ratio": 6,
       "scale_x": "IPY_MODEL_b34aa23dd48649e39811df485c9ee3d7",
       "scale_y": "IPY_MODEL_bf2ab28a84514bccbfc0792734336f6a",
       "title": "Proportion of Connect Activity"
      }
     },
     "ca9791ea9c1f469d848dc28aa9945e53": {
      "model_module": "bqplot",
      "model_module_version": "^0.3.6",
      "model_name": "AxisModel",
      "state": {
       "label": "Hours of the Day",
       "scale": "IPY_MODEL_44d640bf0dcf4e47bda550b29e5b464d",
       "side": "bottom",
       "tick_values": {
        "type": null,
        "values": null
       }
      }
     },
     "caed08b7eb0d487294ea77ae92c5c5de": {
      "model_module": "bqplot",
      "model_module_version": "^0.3.6",
      "model_name": "FigureModel",
      "state": {
       "_dom_classes": [],
       "animation_duration": 5000,
       "axes": [
        "IPY_MODEL_d60d47eb97864ea7a7c04255fe40171c",
        "IPY_MODEL_077fe4f8f7164ffc9f8beafb0fde8765"
       ],
       "background_style": {
        "fill": "aliceblue"
       },
       "layout": "IPY_MODEL_8ac656bdd6b34040a0e26ccd49ed02cd",
       "marks": [
        "IPY_MODEL_64cf8c8406c246e18e8b141ab4779efc"
       ],
       "max_aspect_ratio": 6,
       "scale_x": "IPY_MODEL_ede6637e7a7c4bd3a6ea952a783b8c36",
       "scale_y": "IPY_MODEL_03c4e26db6fc4554bf50ae452122d47b",
       "title": "USB Connections"
      }
     },
     "caf3a7c16fa0408aafb7b0c15a28e599": {
      "model_module": "bqplot",
      "model_module_version": "^0.3.6",
      "model_name": "PanZoomModel",
      "state": {
       "scales": {
        "x": [
         "IPY_MODEL_104a1c67d7724c0d8550dce9c8bbfe8e"
        ],
        "y": [
         "IPY_MODEL_cfeafceb063449e69fa4af0e3bae5043"
        ]
       }
      }
     },
     "cb91b4ed8893485eb389c8b0898e2b73": {
      "model_module": "bqplot",
      "model_module_version": "^0.3.6",
      "model_name": "LinearScaleModel",
      "state": {
       "allow_padding": false,
       "max": 1,
       "min": 0,
       "stabilized": false
      }
     },
     "cbf13f14f390400daf7c7dbecb70ecd3": {
      "model_module": "bqplot",
      "model_module_version": "^0.3.6",
      "model_name": "LinearScaleModel",
      "state": {
       "allow_padding": false,
       "max": 1,
       "min": 0,
       "stabilized": false
      }
     },
     "cbf46b95f3c34043820ed457c8efe1bd": {
      "model_module": "bqplot",
      "model_module_version": "^0.3.6",
      "model_name": "LinearScaleModel",
      "state": {
       "allow_padding": false,
       "max": 1,
       "min": 0,
       "stabilized": false
      }
     },
     "cbf60dd40a964e07bbbf77d658375640": {
      "model_module": "@jupyter-widgets/controls",
      "model_module_version": "1.2.0",
      "model_name": "DescriptionStyleModel",
      "state": {
       "description_width": ""
      }
     },
     "cc8fb2eccc964c859ada58120b14f39d": {
      "model_module": "bqplot",
      "model_module_version": "^0.3.6",
      "model_name": "AxisModel",
      "state": {
       "label": "Number of USB Connections",
       "orientation": "vertical",
       "scale": "IPY_MODEL_c30c5817428540c1b3465ee0a75c0513",
       "side": "left",
       "tick_format": "0.2f",
       "tick_values": {
        "type": null,
        "values": null
       }
      }
     },
     "cd9584d0a5954afb841e73fd21404d0f": {
      "model_module": "bqplot",
      "model_module_version": "^0.3.6",
      "model_name": "FigureModel",
      "state": {
       "_dom_classes": [],
       "animation_duration": 5000,
       "axes": [
        "IPY_MODEL_702e7e1f4e4943cf9b03be060552417a",
        "IPY_MODEL_8dec237781fc49bd85a70931c92a7ab1"
       ],
       "background_style": {
        "fill": "aliceblue"
       },
       "layout": "IPY_MODEL_e66adf27db7a4619b093ea97ec24db5c",
       "legend_style": {
        "fill": "white"
       },
       "marks": [
        "IPY_MODEL_39e93bf5269741f294596a6411fe7831"
       ],
       "max_aspect_ratio": 6,
       "scale_x": "IPY_MODEL_88af813af4eb475fa5aaf4cf643ccc6e",
       "scale_y": "IPY_MODEL_a4917bd2618e46b39070c3ac3fd5b189",
       "title": "Proportion of Connect & Disconnet Activity"
      }
     },
     "cd96ef96bf3c4af9850de111f794c78f": {
      "model_module": "bqplot",
      "model_module_version": "^0.3.6",
      "model_name": "TooltipModel",
      "state": {
       "fields": [
        "x",
        "y"
       ],
       "formats": [
        "",
        "0.2f"
       ],
       "labels": [
        "Date",
        "Number of USB Connections"
       ],
       "layout": "IPY_MODEL_1aca030c5f084001bdc0f48caaf9c81e"
      }
     },
     "cdd38cbb294d4e4ebb54f0ca7faf828c": {
      "model_module": "bqplot",
      "model_module_version": "^0.3.6",
      "model_name": "FigureModel",
      "state": {
       "_dom_classes": [],
       "animation_duration": 5000,
       "axes": [
        "IPY_MODEL_6b005c66ae414cc98a68a00bdeb73a1d",
        "IPY_MODEL_49e4a0b4512d410e9ca671453d2762b2"
       ],
       "background_style": {
        "fill": "aliceblue"
       },
       "layout": "IPY_MODEL_8ac656bdd6b34040a0e26ccd49ed02cd",
       "legend_style": {
        "fill": "white"
       },
       "marks": [
        "IPY_MODEL_d10dc7ab11fd410690365385d3aff035"
       ],
       "max_aspect_ratio": 6,
       "scale_x": "IPY_MODEL_58dd86fc25174a6a8219afd84e3133a5",
       "scale_y": "IPY_MODEL_3f0f6c7539c14799bd59ec7d638ef02b",
       "title": "Proportion of Directory Access"
      }
     },
     "cde45d3abd39454fb7a2da90415ba773": {
      "model_module": "bqplot",
      "model_module_version": "^0.3.6",
      "model_name": "FigureModel",
      "state": {
       "_dom_classes": [],
       "animation_duration": 5000,
       "axes": [
        "IPY_MODEL_4cbc9d8be072400f9d3c000d34829ab7",
        "IPY_MODEL_348ed840046040c8a01ec3797e7e7372"
       ],
       "background_style": {
        "fill": "aliceblue"
       },
       "layout": "IPY_MODEL_8ac656bdd6b34040a0e26ccd49ed02cd",
       "marks": [
        "IPY_MODEL_a5f4175094c24cdcb98111e15ca692c7"
       ],
       "max_aspect_ratio": 6,
       "scale_x": "IPY_MODEL_e5d661f99ad242c89993c5d579e21ce3",
       "scale_y": "IPY_MODEL_51c54f4896084baa862d340208d240af",
       "title": "USB Connections"
      }
     },
     "cf051668f1234a52ae498c47f5638b4c": {
      "model_module": "bqplot",
      "model_module_version": "^0.3.6",
      "model_name": "FigureModel",
      "state": {
       "_dom_classes": [],
       "animation_duration": 5000,
       "axes": [
        "IPY_MODEL_43807161b7b44412a0877754d047571e",
        "IPY_MODEL_4e3e6515ef80414185ed4eeb22fc4a31"
       ],
       "background_style": {
        "fill": "aliceblue"
       },
       "layout": "IPY_MODEL_8ac656bdd6b34040a0e26ccd49ed02cd",
       "legend_style": {
        "fill": "white"
       },
       "marks": [
        "IPY_MODEL_d92d964b38cc4484971cf358a59ae6ad"
       ],
       "max_aspect_ratio": 6,
       "scale_x": "IPY_MODEL_f3a696c918174898a6478a7925995c0b",
       "scale_y": "IPY_MODEL_7a7bc17f110742798959d321a1c26070",
       "title": "Proportion of Connect Activity"
      }
     },
     "cf2c5e4a3e224a8f8c52545235249674": {
      "model_module": "bqplot",
      "model_module_version": "^0.3.6",
      "model_name": "AxisModel",
      "state": {
       "label": "Number of USB Connections",
       "orientation": "vertical",
       "scale": "IPY_MODEL_b9ef3f28071945e3904f67d7547685f1",
       "side": "left",
       "tick_format": "f",
       "tick_values": {
        "type": null,
        "values": null
       }
      }
     },
     "cf6613f35a2c48d9a57a2cb99670c6bb": {
      "model_module": "bqplot",
      "model_module_version": "^0.3.6",
      "model_name": "LinearScaleModel",
      "state": {
       "stabilized": false
      }
     },
     "cfbbcc6f0f3342fbaf37791a1a3d0198": {
      "model_module": "@jupyter-widgets/controls",
      "model_module_version": "1.2.0",
      "model_name": "VBoxModel",
      "state": {
       "children": [
        "IPY_MODEL_c24b0a7b84f14d6997aca2d47b6ad4c9"
       ],
       "layout": "IPY_MODEL_bcf7309ff16f49ed977141582d2f922b"
      }
     },
     "cfc7e0171a974185841ab007a805149f": {
      "model_module": "@jupyter-widgets/base",
      "model_module_version": "1.0.0",
      "model_name": "LayoutModel",
      "state": {}
     },
     "cfeafceb063449e69fa4af0e3bae5043": {
      "model_module": "bqplot",
      "model_module_version": "^0.3.6",
      "model_name": "LinearScaleModel",
      "state": {
       "stabilized": false
      }
     },
     "d01d2714cb8b4a04b3a02429601bc2f8": {
      "model_module": "@jupyter-widgets/controls",
      "model_module_version": "1.2.0",
      "model_name": "VBoxModel",
      "state": {
       "children": [
        "IPY_MODEL_bbb89da0f4f940f78e8c968f64fc8e3c"
       ],
       "layout": "IPY_MODEL_71928640e3074c459912e74ad9f23670"
      }
     },
     "d0d8308e65d844eabc60c065df915b61": {
      "model_module": "@jupyter-widgets/base",
      "model_module_version": "1.0.0",
      "model_name": "LayoutModel",
      "state": {}
     },
     "d10dc7ab11fd410690365385d3aff035": {
      "model_module": "bqplot",
      "model_module_version": "^0.3.6",
      "model_name": "BarsModel",
      "state": {
       "color": {
        "type": null,
        "values": null
       },
       "colors": [
        "blue"
       ],
       "display_legend": false,
       "interactions": {
        "click": "select",
        "hover": "tooltip",
        "legend_hover": "highlight_axes"
       },
       "labels": [
        "Directory name"
       ],
       "padding": 0.2,
       "scales": {
        "x": "IPY_MODEL_89376407eb3d45369b5ac3d6c54bc652",
        "y": "IPY_MODEL_b70413a5d41f4187bc9b344484c1c526"
       },
       "selected": [],
       "selected_style": {
        "fill": "red"
       },
       "tooltip": "IPY_MODEL_c96ff9b5b54b4c23bc6d850f6a117fe2",
       "x": {
        "type": "object",
        "values": [
         "R:\\",
         "nan",
         "R:\\13jd423",
         "R:\\49FP5C2",
         "R:\\51n6647",
         "R:\\CJM0273",
         "R:\\JDM1042",
         "R:\\84xF4F2",
         "R:\\AKB2312",
         "R:\\787PQ59"
        ]
       },
       "y": {
        "type": "float",
        "values": [
         12.785538678675644,
         12.77882745156816,
         7.6236419465115715,
         7.6236419465115715,
         7.6236419465115715,
         7.6236419465115715,
         7.617267813628347,
         7.617267813628347,
         7.613324979540639,
         7.603897968521881
        ]
       }
      }
     },
     "d135640da7694c0bad5f336aca48e297": {
      "model_module": "@jupyter-widgets/controls",
      "model_module_version": "1.2.0",
      "model_name": "HBoxModel",
      "state": {
       "children": [
        "IPY_MODEL_46d7bd3de51e47e19caeba599c13edff"
       ],
       "layout": "IPY_MODEL_fa902cb434084032a2838be220c9ffe5"
      }
     },
     "d158a0a421d346bf96dac58ac21c7fd4": {
      "model_module": "@jupyter-widgets/controls",
      "model_module_version": "1.2.0",
      "model_name": "DropdownModel",
      "state": {
       "_options_labels": [
        "AAC0610",
        "AAP1919"
       ],
       "index": 1,
       "layout": "IPY_MODEL_56a8f980cd0745df9f609798dae0cf23",
       "style": "IPY_MODEL_f99f29ba9de44ae5a8a123bc72fab7cd"
      }
     },
     "d1709a055ec443f0b74bbc37a11ee9e8": {
      "model_module": "@jupyter-widgets/base",
      "model_module_version": "1.0.0",
      "model_name": "LayoutModel",
      "state": {}
     },
     "d18e4b0a6f5c4c598ae06b541281eebf": {
      "model_module": "bqplot",
      "model_module_version": "^0.3.6",
      "model_name": "FigureModel",
      "state": {
       "_dom_classes": [],
       "animation_duration": 5000,
       "axes": [
        "IPY_MODEL_c16728a90768432687bcdfdde3bd57cb",
        "IPY_MODEL_97b5c85616c4425fa431f003082017cf"
       ],
       "background_style": {
        "fill": "aliceblue"
       },
       "layout": "IPY_MODEL_e66adf27db7a4619b093ea97ec24db5c",
       "marks": [
        "IPY_MODEL_a0d19ec1cf1f4e75abb401ef048e8695"
       ],
       "max_aspect_ratio": 6,
       "scale_x": "IPY_MODEL_9d13176d77254346ab3f67ef5be71197",
       "scale_y": "IPY_MODEL_51115e4088b64a5cba93462babdd1e39",
       "title": "USB Connections Per Employee"
      }
     },
     "d1b15f3d30f94acea4a8c6bd3bfbba3a": {
      "model_module": "bqplot",
      "model_module_version": "^0.3.6",
      "model_name": "BarsModel",
      "state": {
       "color": {
        "type": null,
        "values": null
       },
       "colors": [
        "springgreen"
       ],
       "display_legend": false,
       "interactions": {
        "click": "select",
        "hover": "tooltip",
        "legend_hover": "highlight_axes"
       },
       "labels": [
        "Connect Activity"
       ],
       "padding": 0.2,
       "scales": {
        "x": "IPY_MODEL_ddb48cd41a6d44a89ba40bf5ed403bc2",
        "y": "IPY_MODEL_1ee0ebd7cccb417aa34457d18dd01334"
       },
       "selected": [],
       "selected_style": {
        "fill": "red"
       },
       "tooltip": "IPY_MODEL_42f33060149d4e84a1470933a0bbbdc2",
       "x": {
        "type": "object",
        "values": [
         "Connect",
         "Disconnect"
        ]
       },
       "y": {
        "type": "float",
        "values": [
         357.017,
         354.629
        ]
       }
      }
     },
     "d20d782845d04bda9644946f010f59c0": {
      "model_module": "@jupyter-widgets/controls",
      "model_module_version": "1.2.0",
      "model_name": "VBoxModel",
      "state": {
       "children": [
        "IPY_MODEL_97fab3caae4546b9a83962a58cb60aac"
       ],
       "layout": "IPY_MODEL_95dee9229a524de2b936aec8ed0a2c92"
      }
     },
     "d20e3de2f26544ffb075cb450c6bf79a": {
      "model_module": "@jupyter-widgets/controls",
      "model_module_version": "1.2.0",
      "model_name": "VBoxModel",
      "state": {
       "children": [
        "IPY_MODEL_cde45d3abd39454fb7a2da90415ba773"
       ],
       "layout": "IPY_MODEL_f2b5e40056b54d8e99bb376a313291d4"
      }
     },
     "d251798efd6440e9b5e367687e3871b5": {
      "model_module": "bqplot",
      "model_module_version": "^0.3.6",
      "model_name": "BarsModel",
      "state": {
       "color": {
        "type": null,
        "values": null
       },
       "colors": [
        "limegreen"
       ],
       "display_legend": false,
       "interactions": {
        "click": "select",
        "hover": "tooltip",
        "legend_hover": "highlight_axes"
       },
       "labels": [
        "Number of USB Connections"
       ],
       "scales": {
        "x": "IPY_MODEL_98383247ce4a4ecfbd7f3ec334c5d2bd",
        "y": "IPY_MODEL_43f0bc1db0124d13b8cc4040070eecaf"
       },
       "selected": [],
       "selected_style": {
        "fill": "red"
       },
       "tooltip": "IPY_MODEL_3844cf3515864e99ab1f6aade46540ef",
       "x": {
        "type": "date",
        "values": [
         "1900-01-01T14:00:00.000000",
         "1900-01-01T09:00:00.000000",
         "1900-01-01T13:00:00.000000",
         "1900-01-01T15:00:00.000000",
         "1900-01-01T10:00:00.000000",
         "1900-01-01T08:00:00.000000",
         "1900-01-01T12:00:00.000000",
         "1900-01-01T11:00:00.000000",
         "1900-01-01T16:00:00.000000",
         "1900-01-01T17:00:00.000000",
         "1900-01-01T07:00:00.000000",
         "1900-01-01T18:00:00.000000",
         "1900-01-01T19:00:00.000000",
         "1900-01-01T22:00:00.000000",
         "1900-01-01T23:00:00.000000",
         "1900-01-01T06:00:00.000000",
         "1900-01-01T21:00:00.000000",
         "1900-01-01T20:00:00.000000",
         "1900-01-01T00:00:00.000000",
         "1900-01-01T01:00:00.000000",
         "1900-01-01T04:00:00.000000",
         "1900-01-01T05:00:00.000000",
         "1900-01-01T03:00:00.000000",
         "1900-01-01T02:00:00.000000"
        ]
       },
       "y": {
        "type": "float",
        "values": [
         41.339,
         40.332,
         37.987,
         37.554,
         35.012,
         34.87,
         32.312,
         31.498,
         26.909,
         15.277,
         10.393,
         5.236,
         1.377,
         0.915,
         0.913,
         0.837,
         0.799,
         0.637,
         0.616,
         0.491,
         0.462,
         0.442,
         0.412,
         0.397
        ]
       }
      }
     },
     "d27294438cbf46d6b06882772fdff224": {
      "model_module": "@jupyter-widgets/controls",
      "model_module_version": "1.2.0",
      "model_name": "HBoxModel",
      "state": {
       "children": [
        "IPY_MODEL_6ddb7a11d59442849d5619d61c18fe6f"
       ],
       "layout": "IPY_MODEL_7380410863d248b7930f1845c6c5cdfa"
      }
     },
     "d28bee6b8f324e15918005eeadc4ad62": {
      "model_module": "bqplot",
      "model_module_version": "^0.3.6",
      "model_name": "AxisModel",
      "state": {
       "label": "Count",
       "orientation": "vertical",
       "scale": "IPY_MODEL_0576a851dcbc4aee92cb218e1570c82d",
       "side": "left",
       "tick_format": "0.2f",
       "tick_values": {
        "type": null,
        "values": null
       }
      }
     },
     "d34acd5e67d646ec9b0c05d50b6e946d": {
      "model_module": "@jupyter-widgets/base",
      "model_module_version": "1.0.0",
      "model_name": "LayoutModel",
      "state": {}
     },
     "d3694aba8fb347dfa13297ee027004a6": {
      "model_module": "@jupyter-widgets/base",
      "model_module_version": "1.0.0",
      "model_name": "LayoutModel",
      "state": {}
     },
     "d3e191227aff43d3977af9611a85a7ff": {
      "model_module": "bqplot",
      "model_module_version": "^0.3.6",
      "model_name": "AxisModel",
      "state": {
       "label": "Count",
       "orientation": "vertical",
       "scale": "IPY_MODEL_7837b677ba2044efb233b0c142bf0bbf",
       "side": "left",
       "tick_format": "0.2f",
       "tick_values": {
        "type": null,
        "values": null
       }
      }
     },
     "d3fe598b12814fe18a289515c8c622b9": {
      "model_module": "bqplot",
      "model_module_version": "^0.3.6",
      "model_name": "DateScaleModel",
      "state": {}
     },
     "d40eda46a475417a9876d3a487ec8b21": {
      "model_module": "bqplot",
      "model_module_version": "^0.3.6",
      "model_name": "AxisModel",
      "state": {
       "label": "Connect Activity",
       "scale": "IPY_MODEL_288f307f1c2e4e71882a428331027ecd",
       "side": "bottom",
       "tick_values": {
        "type": null,
        "values": null
       }
      }
     },
     "d4652a4018d6437291bc5e7d694b1589": {
      "model_module": "bqplot",
      "model_module_version": "^0.3.6",
      "model_name": "FigureModel",
      "state": {
       "_dom_classes": [],
       "animation_duration": 5000,
       "axes": [
        "IPY_MODEL_3295ff80fe2a4f24ab11bce64909725b",
        "IPY_MODEL_b3222322184a4c6ea7cf0f9f3ac8f32b"
       ],
       "background_style": {
        "fill": "aliceblue"
       },
       "layout": "IPY_MODEL_e66adf27db7a4619b093ea97ec24db5c",
       "marks": [
        "IPY_MODEL_2062e8e9b3014b93815455915e75d369"
       ],
       "max_aspect_ratio": 6,
       "scale_x": "IPY_MODEL_f08afe55ba1f4837abbab245403e4db1",
       "scale_y": "IPY_MODEL_e2b4f640f57a4caea35997aa72ec464d",
       "title": "USB Connections Per Employee"
      }
     },
     "d47e3159b1af466080dd25e09420b487": {
      "model_module": "@jupyter-widgets/base",
      "model_module_version": "1.0.0",
      "model_name": "LayoutModel",
      "state": {}
     },
     "d49d927060544385bd3c2b54944ca863": {
      "model_module": "bqplot",
      "model_module_version": "^0.3.6",
      "model_name": "FigureModel",
      "state": {
       "_dom_classes": [],
       "animation_duration": 1000,
       "axes": [
        "IPY_MODEL_727f9422f6384db2a265d50e12edd982",
        "IPY_MODEL_fb68b2c8552041ada7f1b97950582eff"
       ],
       "background_style": {
        "fill": "aliceblue"
       },
       "layout": "IPY_MODEL_e66adf27db7a4619b093ea97ec24db5c",
       "marks": [
        "IPY_MODEL_2975eb30feef43e78fd1338f30606dc0"
       ],
       "max_aspect_ratio": 6,
       "scale_x": "IPY_MODEL_5a47acab5b4d4b5c94abe0391438640b",
       "scale_y": "IPY_MODEL_04283494408d4c30bd5deb2fa58427cb",
       "title": "USB Connections Per Employee"
      }
     },
     "d504e7cf7e184a76ba7116d6886cbce2": {
      "model_module": "@jupyter-widgets/base",
      "model_module_version": "1.0.0",
      "model_name": "LayoutModel",
      "state": {}
     },
     "d50cc4a3c6f546f2b26771fe9b962c4b": {
      "model_module": "bqplot",
      "model_module_version": "^0.3.6",
      "model_name": "AxisModel",
      "state": {
       "label": "Hours of the Day",
       "scale": "IPY_MODEL_98383247ce4a4ecfbd7f3ec334c5d2bd",
       "side": "bottom",
       "tick_values": {
        "type": null,
        "values": null
       }
      }
     },
     "d54f4b7cb844420cb6bcf4ef2c461f12": {
      "model_module": "bqplot",
      "model_module_version": "^0.3.6",
      "model_name": "OrdinalScaleModel",
      "state": {
       "domain": []
      }
     },
     "d57739caba474ecd976e0821e8cdad3f": {
      "model_module": "bqplot",
      "model_module_version": "^0.3.6",
      "model_name": "LinearScaleModel",
      "state": {
       "allow_padding": false,
       "max": 1,
       "min": 0,
       "stabilized": false
      }
     },
     "d5869969039d4489957dac1ee841c3ee": {
      "model_module": "bqplot",
      "model_module_version": "^0.3.6",
      "model_name": "LinearScaleModel",
      "state": {
       "allow_padding": false,
       "max": 1,
       "min": 0,
       "stabilized": false
      }
     },
     "d5986079f0df40f3b99af2d18ccb9a34": {
      "model_module": "bqplot",
      "model_module_version": "^0.3.6",
      "model_name": "AxisModel",
      "state": {
       "label": "Directory name",
       "scale": "IPY_MODEL_864de7ed8c644adeb306ce307f06dd67",
       "side": "bottom",
       "tick_values": {
        "type": null,
        "values": null
       }
      }
     },
     "d5b81410213a4316bd46ae69cf519f65": {
      "model_module": "bqplot",
      "model_module_version": "^0.3.6",
      "model_name": "FigureModel",
      "state": {
       "_dom_classes": [],
       "animation_duration": 5000,
       "axes": [
        "IPY_MODEL_b42b335a84e0487596753be80f38b047",
        "IPY_MODEL_88a5d55f071547fb915549b09af0e1a5"
       ],
       "background_style": {
        "fill": "aliceblue"
       },
       "layout": "IPY_MODEL_b911fbd85f9a4a77af90ee01dd13096f",
       "marks": [
        "IPY_MODEL_51a6c7be6e5d497e9bb167543ab3f76e"
       ],
       "max_aspect_ratio": 6,
       "scale_x": "IPY_MODEL_406950ebdc54471ca87372ad116885ca",
       "scale_y": "IPY_MODEL_010d7a9067aa4f44aacd6b621b95e4f3",
       "title": "Proportion of Connect Activity"
      }
     },
     "d60d47eb97864ea7a7c04255fe40171c": {
      "model_module": "bqplot",
      "model_module_version": "^0.3.6",
      "model_name": "AxisModel",
      "state": {
       "label": "Days of the Year",
       "scale": "IPY_MODEL_1b3de43866ad4b31bb6eed919e4e5b4e",
       "side": "bottom",
       "tick_values": {
        "type": null,
        "values": null
       }
      }
     },
     "d6f632375dab4cdaa8dfe2bcc7f7a786": {
      "model_module": "@jupyter-widgets/base",
      "model_module_version": "1.0.0",
      "model_name": "LayoutModel",
      "state": {}
     },
     "d6fa2f86193b4793a8d4cdf69087488a": {
      "model_module": "bqplot",
      "model_module_version": "^0.3.6",
      "model_name": "TooltipModel",
      "state": {
       "fields": [
        "x",
        "y"
       ],
       "formats": [
        "",
        "f"
       ],
       "labels": [
        "Date",
        "Number of USB Connections"
       ],
       "layout": "IPY_MODEL_73c64c276d764e95ba3330e2608533f2"
      }
     },
     "d75fec9b16674f5ca8763d66001c621f": {
      "model_module": "bqplot",
      "model_module_version": "^0.3.6",
      "model_name": "FigureModel",
      "state": {
       "_dom_classes": [],
       "animation_duration": 5000,
       "axes": [
        "IPY_MODEL_da663ae2812e44e6b6247cd17658815e",
        "IPY_MODEL_8d4b8d8199ed421fbbcb8e21d708bb79"
       ],
       "background_style": {
        "fill": "aliceblue"
       },
       "layout": "IPY_MODEL_e66adf27db7a4619b093ea97ec24db5c",
       "marks": [
        "IPY_MODEL_34193d17ad7c4e70aa2f6ec41c285c08"
       ],
       "max_aspect_ratio": 6,
       "scale_x": "IPY_MODEL_d5869969039d4489957dac1ee841c3ee",
       "scale_y": "IPY_MODEL_8e18c85e2a4d48c6b137b3c334baa696",
       "title": "USB Connections Per Employee"
      }
     },
     "d796bfc6dc894dbdbd44a020fa517882": {
      "model_module": "bqplot",
      "model_module_version": "^0.3.6",
      "model_name": "AxisModel",
      "state": {
       "label": "Hours of the Day",
       "scale": "IPY_MODEL_e819157094a84e728e8f4a55a0dba82a",
       "side": "bottom",
       "tick_values": {
        "type": null,
        "values": null
       }
      }
     },
     "d79fb158eb1547eca985ffeee3c781d9": {
      "model_module": "bqplot",
      "model_module_version": "^0.3.6",
      "model_name": "FigureModel",
      "state": {
       "_dom_classes": [],
       "animation_duration": 5000,
       "axes": [
        "IPY_MODEL_002730dbeefd4e7da8ee1aeb38c9b83b",
        "IPY_MODEL_a7dcdcaae7b149dbbaf369c523ddcd8c"
       ],
       "background_style": {
        "fill": "aliceblue"
       },
       "layout": "IPY_MODEL_e66adf27db7a4619b093ea97ec24db5c",
       "marks": [
        "IPY_MODEL_f07c9df65eaa43e79e3aa97347e37e50"
       ],
       "max_aspect_ratio": 6,
       "scale_x": "IPY_MODEL_703a77b68818477eafb43c393e0def9e",
       "scale_y": "IPY_MODEL_7421dace968d4b29aca8cf1430480cb8",
       "title": "USB Connections"
      }
     },
     "d7af5f70a72740b68191a35634f8620b": {
      "model_module": "bqplot",
      "model_module_version": "^0.3.6",
      "model_name": "PanZoomModel",
      "state": {
       "scales": {
        "x": [
         "IPY_MODEL_c68b54bfb794482692e81eb2d6be3190"
        ],
        "y": [
         "IPY_MODEL_5f9c8eb3a0c34155bd0a6cea36305380"
        ]
       }
      }
     },
     "d810df1eedf947eeabd979f09458637a": {
      "model_module": "@jupyter-widgets/controls",
      "model_module_version": "1.2.0",
      "model_name": "VBoxModel",
      "state": {
       "children": [
        "IPY_MODEL_60733eb14e85491198e5c41375d81972"
       ],
       "layout": "IPY_MODEL_f5e167985d2b4dac8011b2cff7c66570"
      }
     },
     "d81cf6b17c19469ca28bdfaecaf33c70": {
      "model_module": "bqplot",
      "model_module_version": "^0.3.6",
      "model_name": "LinearScaleModel",
      "state": {
       "stabilized": false
      }
     },
     "d9077b12bdb142e0b9a2ec25cb26eea3": {
      "model_module": "@jupyter-widgets/base",
      "model_module_version": "1.0.0",
      "model_name": "LayoutModel",
      "state": {}
     },
     "d9090882c8864ebfa3c330617f9c7daf": {
      "model_module": "bqplot",
      "model_module_version": "^0.3.6",
      "model_name": "BarsModel",
      "state": {
       "color": {
        "type": null,
        "values": null
       },
       "colors": [
        "blue"
       ],
       "interactions": {
        "click": "select",
        "hover": "tooltip",
        "legend_hover": "highlight_axes"
       },
       "labels": [
        "Connect Activity"
       ],
       "scales": {
        "x": "IPY_MODEL_c5d6aef04caf4870abf6c2e10531ea39",
        "y": "IPY_MODEL_04e5c9fab6134d36adabb912dc2d1d23"
       },
       "selected": [],
       "selected_style": {
        "fill": "red"
       },
       "tooltip": "IPY_MODEL_9dd422d8345b427f82333e58a87e970a",
       "x": {
        "type": "object",
        "values": [
         "Connect",
         "Disconnect"
        ]
       },
       "y": {
        "type": "float",
        "values": [
         357.017,
         354.629
        ]
       }
      }
     },
     "d92d964b38cc4484971cf358a59ae6ad": {
      "model_module": "bqplot",
      "model_module_version": "^0.3.6",
      "model_name": "BarsModel",
      "state": {
       "color": {
        "type": null,
        "values": null
       },
       "colors": [
        "blue"
       ],
       "display_legend": false,
       "interactions": {
        "click": "select",
        "hover": "tooltip",
        "legend_hover": "highlight_axes"
       },
       "labels": [
        "Connect Activity"
       ],
       "padding": 0.2,
       "scales": {
        "x": "IPY_MODEL_db11f36081734830b95eaf184ddca64b",
        "y": "IPY_MODEL_7c2fefe4c0cb467d8942870f0ad0faff"
       },
       "selected": [],
       "selected_style": {
        "fill": "red"
       },
       "tooltip": "IPY_MODEL_62883a75a62c4fb2919ec239ca5ce9fb",
       "x": {
        "type": "object",
        "values": [
         "R:\\",
         "nan",
         "R:\\13jd423",
         "R:\\49FP5C2",
         "R:\\51n6647",
         "R:\\CJM0273",
         "R:\\JDM1042",
         "R:\\84xF4F2",
         "R:\\AKB2312",
         "R:\\787PQ59"
        ]
       },
       "y": {
        "type": "float",
        "values": [
         357.017,
         354.629,
         2.046,
         2.046,
         2.046,
         2.046,
         2.033,
         2.033,
         2.025,
         2.006
        ]
       }
      }
     },
     "d971c519d8634fe2a250f994d0771c8b": {
      "model_module": "bqplot",
      "model_module_version": "^0.3.6",
      "model_name": "AxisModel",
      "state": {
       "label": "Count",
       "orientation": "vertical",
       "scale": "IPY_MODEL_e80b87a538fc41fdb66d5fb4231036d0",
       "side": "left",
       "tick_format": "0.2f",
       "tick_values": {
        "type": null,
        "values": null
       }
      }
     },
     "d996a8e30eda448384a946d8ceb20541": {
      "model_module": "bqplot",
      "model_module_version": "^0.3.6",
      "model_name": "TooltipModel",
      "state": {
       "fields": [
        "x",
        "y"
       ],
       "formats": [
        "",
        "f"
       ],
       "labels": [
        "Date",
        "Number of USB Connections"
       ],
       "layout": "IPY_MODEL_2753dd5cef06499aa93302a76c2ae4fd"
      }
     },
     "d9c1dd23f4164152bd9da0c4764c0cc2": {
      "model_module": "bqplot",
      "model_module_version": "^0.3.6",
      "model_name": "FigureModel",
      "state": {
       "_dom_classes": [],
       "animation_duration": 5000,
       "axes": [
        "IPY_MODEL_44063409fc9047c1a5af4ff3448ddeaf",
        "IPY_MODEL_bc0b49861e6b40e688ea173dc58b4a90"
       ],
       "background_style": {
        "fill": "aliceblue"
       },
       "layout": "IPY_MODEL_8ac656bdd6b34040a0e26ccd49ed02cd",
       "legend_style": {
        "fill": "white"
       },
       "marks": [
        "IPY_MODEL_b7ad85e675194304a912e81fa4fa81fb"
       ],
       "max_aspect_ratio": 6,
       "scale_x": "IPY_MODEL_000dedc932c54efca8b648ceec7e205c",
       "scale_y": "IPY_MODEL_cbf13f14f390400daf7c7dbecb70ecd3",
       "title": "Proportion of Directory Access"
      }
     },
     "da01c37878e04ee8a0b31cb9e55aef6a": {
      "model_module": "bqplot",
      "model_module_version": "^0.3.6",
      "model_name": "LinearScaleModel",
      "state": {
       "allow_padding": false,
       "max": 1,
       "min": 0,
       "stabilized": false
      }
     },
     "da5fa4743d5b497fb79ce003a22c5369": {
      "model_module": "bqplot",
      "model_module_version": "^0.3.6",
      "model_name": "LinearScaleModel",
      "state": {
       "stabilized": false
      }
     },
     "da663ae2812e44e6b6247cd17658815e": {
      "model_module": "bqplot",
      "model_module_version": "^0.3.6",
      "model_name": "AxisModel",
      "state": {
       "label": "Hours of the Day",
       "scale": "IPY_MODEL_c68b54bfb794482692e81eb2d6be3190",
       "side": "bottom",
       "tick_values": {
        "type": null,
        "values": null
       }
      }
     },
     "da8e3f6d86804f109a93b020c8a8b148": {
      "model_module": "bqplot",
      "model_module_version": "^0.3.6",
      "model_name": "PanZoomModel",
      "state": {
       "scales": {
        "x": [
         "IPY_MODEL_f4d10603389f44afac167d75cf365921"
        ],
        "y": [
         "IPY_MODEL_c9b5471903fc4632a23a9393619ee0db"
        ]
       }
      }
     },
     "dab2c22a4c1b4333bd2757730c6105a9": {
      "model_module": "bqplot",
      "model_module_version": "^0.3.6",
      "model_name": "TooltipModel",
      "state": {
       "fields": [
        "x",
        "y"
       ],
       "formats": [
        "",
        "f"
       ],
       "labels": [
        "Date",
        "Number of USB Connections"
       ],
       "layout": "IPY_MODEL_c09b78dc4104491d9aaa4238ea95e30d"
      }
     },
     "db11f36081734830b95eaf184ddca64b": {
      "model_module": "bqplot",
      "model_module_version": "^0.3.6",
      "model_name": "OrdinalScaleModel",
      "state": {
       "domain": []
      }
     },
     "db2e267797334091ac03bfaf01964d9b": {
      "model_module": "bqplot",
      "model_module_version": "^0.3.6",
      "model_name": "AxisModel",
      "state": {
       "label": "Count",
       "orientation": "vertical",
       "scale": "IPY_MODEL_8670f355785342e38c6a7f931ed816a8",
       "side": "left",
       "tick_format": "0.2f",
       "tick_values": {
        "type": null,
        "values": null
       }
      }
     },
     "dba35bcd84ca4467abfe2c6f51751ee4": {
      "model_module": "bqplot",
      "model_module_version": "^0.3.6",
      "model_name": "AxisModel",
      "state": {
       "label": "Number of Emails",
       "orientation": "vertical",
       "scale": "IPY_MODEL_702db2298dc3442e9d80addc15b3662b",
       "side": "left",
       "tick_format": "0.2f",
       "tick_values": {
        "type": null,
        "values": null
       }
      }
     },
     "dbb214ab83734eaeb4cc692267fba1cb": {
      "model_module": "bqplot",
      "model_module_version": "^0.3.6",
      "model_name": "FigureModel",
      "state": {
       "_dom_classes": [],
       "animation_duration": 5000,
       "axes": [
        "IPY_MODEL_94baa30e9d1844ec83d263cc73b89e80",
        "IPY_MODEL_114593508a674fc793131b60e45e7777"
       ],
       "background_style": {
        "fill": "aliceblue"
       },
       "layout": "IPY_MODEL_e66adf27db7a4619b093ea97ec24db5c",
       "marks": [
        "IPY_MODEL_c6739268a7de445ba57ef7e445d65971"
       ],
       "max_aspect_ratio": 6,
       "scale_x": "IPY_MODEL_978a6a322b8c49cc905032c37f1193b4",
       "scale_y": "IPY_MODEL_f91127bde3a24fb5830fbc1b1454ff19",
       "title": "USB Connections"
      }
     },
     "dc1cb2d34d324948b4689e92af2a7851": {
      "model_module": "bqplot",
      "model_module_version": "^0.3.6",
      "model_name": "AxisModel",
      "state": {
       "label": "Hours of the Day",
       "scale": "IPY_MODEL_0da0cbfaaafe4b4fbb285a56c2ece3e2",
       "side": "bottom",
       "tick_values": {
        "type": null,
        "values": null
       }
      }
     },
     "dc1ea845d59f48ab95c671419fb15991": {
      "model_module": "bqplot",
      "model_module_version": "^0.3.6",
      "model_name": "AxisModel",
      "state": {
       "label": "Number of USB Connections",
       "orientation": "vertical",
       "scale": "IPY_MODEL_ebd80c75301a40e0bfa9752bcb27dd21",
       "side": "left",
       "tick_format": "0.2f",
       "tick_values": {
        "type": null,
        "values": null
       }
      }
     },
     "dc3fb60c6f2049308d14e3fa0327e411": {
      "model_module": "bqplot",
      "model_module_version": "^0.3.6",
      "model_name": "FigureModel",
      "state": {
       "_dom_classes": [],
       "animation_duration": 3000,
       "axes": [
        "IPY_MODEL_bd2bb964ca534b6b8dc1102da2279a50",
        "IPY_MODEL_df493fdf93e741deafd74a8e4cb7d32d"
       ],
       "background_style": {
        "fill": "aliceblue"
       },
       "layout": "IPY_MODEL_e66adf27db7a4619b093ea97ec24db5c",
       "marks": [
        "IPY_MODEL_3d8f4918a43d49cab7c0c5df49f1855c"
       ],
       "max_aspect_ratio": 6,
       "scale_x": "IPY_MODEL_c5bdbd765ae24b11830136a1f46fe384",
       "scale_y": "IPY_MODEL_ef01187176b1495b8fd6c7d86f8e9016",
       "title": "USB Connections Per Employee"
      }
     },
     "dc4b65b39e254d978302cb396fa0fecb": {
      "model_module": "bqplot",
      "model_module_version": "^0.3.6",
      "model_name": "PanZoomModel",
      "state": {
       "scales": {
        "x": [
         "IPY_MODEL_c997d5e61a584fad9f5a91a53ba1ab02"
        ],
        "y": [
         "IPY_MODEL_64df505db7ba43f5961c18fa29767514"
        ]
       }
      }
     },
     "dc6bb00fb25740bb869a02e0674cb9cd": {
      "model_module": "bqplot",
      "model_module_version": "^0.3.6",
      "model_name": "FigureModel",
      "state": {
       "_dom_classes": [],
       "animation_duration": 5000,
       "axes": [
        "IPY_MODEL_17e526d58b1340a9b85cce3845d4e5d2",
        "IPY_MODEL_d3e191227aff43d3977af9611a85a7ff"
       ],
       "background_style": {
        "fill": "aliceblue"
       },
       "layout": "IPY_MODEL_b911fbd85f9a4a77af90ee01dd13096f",
       "marks": [
        "IPY_MODEL_c5cbde177b884b42bf1293b598def166"
       ],
       "max_aspect_ratio": 6,
       "scale_x": "IPY_MODEL_9819d6e76a604c2b8831baf55e64f936",
       "scale_y": "IPY_MODEL_3a753e91e3ef451f97c99378a17762d2",
       "title": "Proportion of Connect Activity"
      }
     },
     "dc71968bf67e4716aecc7d38f66d9f26": {
      "model_module": "bqplot",
      "model_module_version": "^0.3.6",
      "model_name": "AxisModel",
      "state": {
       "label": "Computer ID",
       "scale": "IPY_MODEL_e3569d56d9774513a26e1d8125a64bb0",
       "side": "bottom",
       "tick_values": {
        "type": null,
        "values": null
       }
      }
     },
     "dd0969d7d100485d802bfe2a9dc37aeb": {
      "model_module": "bqplot",
      "model_module_version": "^0.3.6",
      "model_name": "TooltipModel",
      "state": {
       "fields": [
        "x",
        "y"
       ],
       "formats": [
        "",
        "0.2f"
       ],
       "labels": [
        "Activity",
        "Count"
       ],
       "layout": "IPY_MODEL_8764ff9778d642bba244cb70c8f92340"
      }
     },
     "dd25f85677fa4263a7c93e15f85116d3": {
      "model_module": "bqplot",
      "model_module_version": "^0.3.6",
      "model_name": "DateScaleModel",
      "state": {}
     },
     "dd8e1cce9fed446b8217804a9a888614": {
      "model_module": "bqplot",
      "model_module_version": "^0.3.6",
      "model_name": "AxisModel",
      "state": {
       "label": "Number of USB Connections",
       "orientation": "vertical",
       "scale": "IPY_MODEL_da5fa4743d5b497fb79ce003a22c5369",
       "side": "left",
       "tick_format": "0.2f",
       "tick_values": {
        "type": null,
        "values": null
       }
      }
     },
     "ddb48cd41a6d44a89ba40bf5ed403bc2": {
      "model_module": "bqplot",
      "model_module_version": "^0.3.6",
      "model_name": "OrdinalScaleModel",
      "state": {
       "domain": []
      }
     },
     "ddb72cfbf0bd40bca93d09ec425b0f94": {
      "model_module": "bqplot",
      "model_module_version": "^0.3.6",
      "model_name": "LinearScaleModel",
      "state": {
       "stabilized": false
      }
     },
     "de3e723f316c4653b9759d67b9c439dd": {
      "model_module": "bqplot",
      "model_module_version": "^0.3.6",
      "model_name": "LinearScaleModel",
      "state": {
       "stabilized": false
      }
     },
     "de5f056c5c4f40f999faf3e1466d2a04": {
      "model_module": "bqplot",
      "model_module_version": "^0.3.6",
      "model_name": "BarsModel",
      "state": {
       "color": {
        "type": null,
        "values": null
       },
       "colors": [
        "blue"
       ],
       "interactions": {
        "click": "select",
        "hover": "tooltip",
        "legend_hover": "highlight_axes"
       },
       "labels": [
        "Email"
       ],
       "scales": {
        "x": "IPY_MODEL_611a4c267deb43e6a1dcb2ea2ae0be64",
        "y": "IPY_MODEL_f3e2dd1edfb6412dadbb17743f548779"
       },
       "selected": [],
       "selected_style": {
        "fill": "red"
       },
       "tooltip": "IPY_MODEL_75151830c4c0470198995e67ada64578",
       "x": {
        "type": "float",
        "values": [
         14,
         9,
         13,
         15,
         10,
         8,
         12,
         11,
         16,
         17,
         7,
         18,
         19,
         22,
         23,
         6,
         21,
         20,
         0,
         1,
         4,
         5,
         3,
         2
        ]
       },
       "y": {
        "type": "float",
        "values": [
         41339,
         40332,
         37987,
         37554,
         35012,
         34870,
         32312,
         31498,
         26909,
         15277,
         10393,
         5236,
         1377,
         915,
         913,
         837,
         799,
         637,
         616,
         491,
         462,
         442,
         412,
         397
        ]
       }
      }
     },
     "de607b3d46804c5cb947073fd2a9cb55": {
      "model_module": "@jupyter-widgets/controls",
      "model_module_version": "1.2.0",
      "model_name": "VBoxModel",
      "state": {
       "children": [
        "IPY_MODEL_d18e4b0a6f5c4c598ae06b541281eebf"
       ],
       "layout": "IPY_MODEL_d1709a055ec443f0b74bbc37a11ee9e8"
      }
     },
     "de766243e43641fa9f88c0a680ecbef4": {
      "model_module": "bqplot",
      "model_module_version": "^0.3.6",
      "model_name": "FigureModel",
      "state": {
       "_dom_classes": [],
       "animation_duration": 5000,
       "axes": [
        "IPY_MODEL_dc71968bf67e4716aecc7d38f66d9f26",
        "IPY_MODEL_d971c519d8634fe2a250f994d0771c8b"
       ],
       "background_style": {
        "fill": "aliceblue"
       },
       "layout": "IPY_MODEL_8ac656bdd6b34040a0e26ccd49ed02cd",
       "legend_style": {
        "fill": "white"
       },
       "marks": [
        "IPY_MODEL_8f73de196ab24026bcff128cc41ac614"
       ],
       "max_aspect_ratio": 6,
       "scale_x": "IPY_MODEL_5459d73da7374fdbb31c7294ae965ae0",
       "scale_y": "IPY_MODEL_22925e337b8c465b9537538b5f32fa24",
       "title": "Proportion of Connect & Disconnet Activity"
      }
     },
     "dea37800fcae421c827de9ae7b3a31c3": {
      "model_module": "bqplot",
      "model_module_version": "^0.3.6",
      "model_name": "AxisModel",
      "state": {
       "label": "Count",
       "orientation": "vertical",
       "scale": "IPY_MODEL_ad63e5fea3ca4bf9bdf537aac5a53170",
       "side": "left",
       "tick_format": "0.2f",
       "tick_values": {
        "type": null,
        "values": null
       }
      }
     },
     "deb45e57d62a4ac9b1d4e8fba9a24f7e": {
      "model_module": "bqplot",
      "model_module_version": "^0.3.6",
      "model_name": "LinearScaleModel",
      "state": {
       "allow_padding": false,
       "max": 1,
       "min": 0,
       "stabilized": false
      }
     },
     "df2a439fdf6049dca95adf73c6ef6600": {
      "model_module": "bqplot",
      "model_module_version": "^0.3.6",
      "model_name": "PanZoomModel",
      "state": {
       "scales": {
        "x": [
         "IPY_MODEL_3fa59d4c478141c0abb24e36f8018f97"
        ],
        "y": [
         "IPY_MODEL_da5fa4743d5b497fb79ce003a22c5369"
        ]
       }
      }
     },
     "df493fdf93e741deafd74a8e4cb7d32d": {
      "model_module": "bqplot",
      "model_module_version": "^0.3.6",
      "model_name": "AxisModel",
      "state": {
       "label": "Number of USB Connections",
       "orientation": "vertical",
       "scale": "IPY_MODEL_8faede25cd8a4ac0bb521b2f2337a859",
       "side": "left",
       "tick_format": "f",
       "tick_values": {
        "type": null,
        "values": null
       }
      }
     },
     "dfbf7cd81b6a4992a18147f0d28a4029": {
      "model_module": "bqplot",
      "model_module_version": "^0.3.6",
      "model_name": "AxisModel",
      "state": {
       "label": "Count (log)",
       "orientation": "vertical",
       "scale": "IPY_MODEL_3833761029e748b18e276ab68545354f",
       "side": "left",
       "tick_format": "0.2f",
       "tick_values": {
        "type": null,
        "values": null
       }
      }
     },
     "e0632e536afd4eb5b5ece9ede8e2cf19": {
      "model_module": "@jupyter-widgets/base",
      "model_module_version": "1.0.0",
      "model_name": "LayoutModel",
      "state": {}
     },
     "e0c4ce1f25964b93aef638d5f32783c5": {
      "model_module": "bqplot",
      "model_module_version": "^0.3.6",
      "model_name": "LinearScaleModel",
      "state": {
       "stabilized": false
      }
     },
     "e13f30795b05482fae21ce6753023fb7": {
      "model_module": "bqplot",
      "model_module_version": "^0.3.6",
      "model_name": "FigureModel",
      "state": {
       "_dom_classes": [],
       "animation_duration": 3000,
       "axes": [
        "IPY_MODEL_eeaac8f8466e4ed48831e943b5ce86bc",
        "IPY_MODEL_f9159830e0854df69037719541c98669"
       ],
       "background_style": {
        "fill": "aliceblue"
       },
       "layout": "IPY_MODEL_e66adf27db7a4619b093ea97ec24db5c",
       "marks": [
        "IPY_MODEL_161ef8b4149c49b3b689ff087fb08ac8"
       ],
       "max_aspect_ratio": 6,
       "scale_x": "IPY_MODEL_4bbff2ca48494ab6879e9061d4c14862",
       "scale_y": "IPY_MODEL_e29bf214688343578be4fb18dae28aa5",
       "title": "USB Connections Per Employee"
      }
     },
     "e14c5c486dfb4237a67037050701be8d": {
      "model_module": "bqplot",
      "model_module_version": "^0.3.6",
      "model_name": "LinearScaleModel",
      "state": {
       "allow_padding": false,
       "max": 1,
       "min": 0,
       "stabilized": false
      }
     },
     "e15159df24ee4545bf758056e220422a": {
      "model_module": "bqplot",
      "model_module_version": "^0.3.6",
      "model_name": "LinearScaleModel",
      "state": {
       "stabilized": false
      }
     },
     "e22cf5a13cf042ecb02bc5ac180f9e49": {
      "model_module": "bqplot",
      "model_module_version": "^0.3.6",
      "model_name": "PanZoomModel",
      "state": {
       "scales": {
        "x": [
         "IPY_MODEL_c0fae34e14ae4a0a803b1c7258d499c7"
        ],
        "y": [
         "IPY_MODEL_ebd80c75301a40e0bfa9752bcb27dd21"
        ]
       }
      }
     },
     "e273fe3e5fa94b3d9ce34e7b7b30b257": {
      "model_module": "@jupyter-widgets/controls",
      "model_module_version": "1.2.0",
      "model_name": "VBoxModel",
      "state": {
       "children": [
        "IPY_MODEL_79714d8c47264fccad2f55e109537b1d"
       ],
       "layout": "IPY_MODEL_97591258a4194db894130012e928e92f"
      }
     },
     "e27c203b61be41a699657b49af8bb22e": {
      "model_module": "@jupyter-widgets/controls",
      "model_module_version": "1.2.0",
      "model_name": "VBoxModel",
      "state": {
       "children": [
        "IPY_MODEL_c11bf54426864f8dafde0f6393848e79"
       ],
       "layout": "IPY_MODEL_38be9354665e42f292282514a31a5f8c"
      }
     },
     "e29bf214688343578be4fb18dae28aa5": {
      "model_module": "bqplot",
      "model_module_version": "^0.3.6",
      "model_name": "LinearScaleModel",
      "state": {
       "allow_padding": false,
       "max": 1,
       "min": 0,
       "stabilized": false
      }
     },
     "e2b4f640f57a4caea35997aa72ec464d": {
      "model_module": "bqplot",
      "model_module_version": "^0.3.6",
      "model_name": "LinearScaleModel",
      "state": {
       "allow_padding": false,
       "max": 1,
       "min": 0,
       "stabilized": false
      }
     },
     "e2c6ab0d99c0409c9a5afa71b54d97ab": {
      "model_module": "@jupyter-widgets/controls",
      "model_module_version": "1.2.0",
      "model_name": "VBoxModel",
      "state": {
       "children": [
        "IPY_MODEL_d5b81410213a4316bd46ae69cf519f65"
       ],
       "layout": "IPY_MODEL_baac7659687b4b0ca49d87501e09861c"
      }
     },
     "e349a968c5e54d018668277963bba7d0": {
      "model_module": "@jupyter-widgets/base",
      "model_module_version": "1.0.0",
      "model_name": "LayoutModel",
      "state": {}
     },
     "e34d566451ad40d3805119a7037ca8d2": {
      "model_module": "bqplot",
      "model_module_version": "^0.3.6",
      "model_name": "PanZoomModel",
      "state": {
       "scales": {
        "x": [
         "IPY_MODEL_44d640bf0dcf4e47bda550b29e5b464d"
        ],
        "y": [
         "IPY_MODEL_6d4fc5cefa4a47ab9b7d9e21679270bb"
        ]
       }
      }
     },
     "e356561f5ddd4fa382f2854b15cdc2a9": {
      "model_module": "bqplot",
      "model_module_version": "^0.3.6",
      "model_name": "OrdinalScaleModel",
      "state": {
       "domain": []
      }
     },
     "e3569d56d9774513a26e1d8125a64bb0": {
      "model_module": "bqplot",
      "model_module_version": "^0.3.6",
      "model_name": "OrdinalScaleModel",
      "state": {
       "domain": []
      }
     },
     "e39837139d3147b5bb4b193cade9b522": {
      "model_module": "bqplot",
      "model_module_version": "^0.3.6",
      "model_name": "FigureModel",
      "state": {
       "_dom_classes": [],
       "animation_duration": 5000,
       "axes": [
        "IPY_MODEL_f17dc59f8496469b9bc1910dcbad86f6",
        "IPY_MODEL_c4090b13d7124ae18aa53850a2f8276a"
       ],
       "background_style": {
        "fill": "aliceblue"
       },
       "layout": "IPY_MODEL_8ac656bdd6b34040a0e26ccd49ed02cd",
       "marks": [
        "IPY_MODEL_49169597156d4c17983ddd5d1d9c134b"
       ],
       "max_aspect_ratio": 6,
       "scale_x": "IPY_MODEL_19f386385a444bbc9415e3c095b73986",
       "scale_y": "IPY_MODEL_1df0f0b3c52243c4b15cbdc32f737e58",
       "title": "USB Connections"
      }
     },
     "e3a7c2ee918c4f62807953258d0a56fd": {
      "model_module": "bqplot",
      "model_module_version": "^0.3.6",
      "model_name": "LinearScaleModel",
      "state": {
       "allow_padding": false,
       "max": 1,
       "min": 0,
       "stabilized": false
      }
     },
     "e41264c4ad364891bfe13a605ac2bfcf": {
      "model_module": "bqplot",
      "model_module_version": "^0.3.6",
      "model_name": "PanZoomModel",
      "state": {
       "scales": {
        "x": [
         "IPY_MODEL_f715fa39027b4ddd9bffe4ae5019c470"
        ],
        "y": [
         "IPY_MODEL_f105b4936d8b4a738ee95b2d44c14cb3"
        ]
       }
      }
     },
     "e41a603ce1d54a64bee503c554c01ee3": {
      "model_module": "bqplot",
      "model_module_version": "^0.3.6",
      "model_name": "AxisModel",
      "state": {
       "label": "Hours of the Day",
       "scale": "IPY_MODEL_43c75dca21ea49eca3be7f6b9159cb57",
       "side": "bottom",
       "tick_values": {
        "type": null,
        "values": null
       }
      }
     },
     "e425fe3838814167b56c94b441b02123": {
      "model_module": "bqplot",
      "model_module_version": "^0.3.6",
      "model_name": "PanZoomModel",
      "state": {
       "scales": {
        "x": [
         "IPY_MODEL_7fb8e24cb9214cf89d671e77f8bedad7"
        ],
        "y": [
         "IPY_MODEL_39a8b8d8021443fe9b8c391d9c5d84a6"
        ]
       }
      }
     },
     "e43ac99e8f9c45a9839c65888dac513e": {
      "model_module": "bqplot",
      "model_module_version": "^0.3.6",
      "model_name": "PanZoomModel",
      "state": {
       "scales": {
        "x": [
         "IPY_MODEL_494a0266f04543799457f1b3fa10c83f"
        ],
        "y": [
         "IPY_MODEL_702db2298dc3442e9d80addc15b3662b"
        ]
       }
      }
     },
     "e455265fe2444d24a12e9e981a985d43": {
      "model_module": "bqplot",
      "model_module_version": "^0.3.6",
      "model_name": "LinearScaleModel",
      "state": {
       "stabilized": false
      }
     },
     "e4bf54e9276a4f1f87e6060d7de13e2e": {
      "model_module": "bqplot",
      "model_module_version": "^0.3.6",
      "model_name": "AxisModel",
      "state": {
       "label": "Count",
       "orientation": "vertical",
       "scale": "IPY_MODEL_04e5c9fab6134d36adabb912dc2d1d23",
       "side": "left",
       "tick_format": "0.2f",
       "tick_values": {
        "type": null,
        "values": null
       }
      }
     },
     "e504b562393a4008ba4a7f3557faae7f": {
      "model_module": "bqplot",
      "model_module_version": "^0.3.6",
      "model_name": "LinearScaleModel",
      "state": {
       "allow_padding": false,
       "max": 1,
       "min": 0,
       "stabilized": false
      }
     },
     "e520295a8acf421095b2235980a41d52": {
      "model_module": "bqplot",
      "model_module_version": "^0.3.6",
      "model_name": "PanZoomModel",
      "state": {
       "scales": {
        "x": [
         "IPY_MODEL_043f16a859404c108e2e6989fd8ddbd7"
        ],
        "y": [
         "IPY_MODEL_e15159df24ee4545bf758056e220422a"
        ]
       }
      }
     },
     "e5208043a4a544e6a06217f08dd1f452": {
      "model_module": "@jupyter-widgets/base",
      "model_module_version": "1.0.0",
      "model_name": "LayoutModel",
      "state": {}
     },
     "e5234441f81a41849c0a4b22ad60748f": {
      "model_module": "@jupyter-widgets/controls",
      "model_module_version": "1.2.0",
      "model_name": "VBoxModel",
      "state": {
       "children": [
        "IPY_MODEL_b0b040c0163b429daeae352d263a84e4"
       ],
       "layout": "IPY_MODEL_bb03275b2c624e3193d26b6c5475cc60"
      }
     },
     "e534fbb506d64b04bc802158cf28e226": {
      "model_module": "bqplot",
      "model_module_version": "^0.3.6",
      "model_name": "AxisModel",
      "state": {
       "label": "Days of the Year",
       "scale": "IPY_MODEL_f16e427d39de48a9aa87b63682e0c708",
       "side": "bottom",
       "tick_values": {
        "type": null,
        "values": null
       }
      }
     },
     "e5389307c3f541949cb2d008ce13a45c": {
      "model_module": "bqplot",
      "model_module_version": "^0.3.6",
      "model_name": "LinearScaleModel",
      "state": {
       "allow_padding": false,
       "max": 1,
       "min": 0,
       "stabilized": false
      }
     },
     "e55d07fdefa84f6d85b2d6520f685fdb": {
      "model_module": "bqplot",
      "model_module_version": "^0.3.6",
      "model_name": "PanZoomModel",
      "state": {
       "scales": {
        "x": [
         "IPY_MODEL_0100685be9044a1e879b2406b3f8426f"
        ],
        "y": [
         "IPY_MODEL_8a3364698a2744f0b59485dbf9148ad1"
        ]
       }
      }
     },
     "e5d661f99ad242c89993c5d579e21ce3": {
      "model_module": "bqplot",
      "model_module_version": "^0.3.6",
      "model_name": "LinearScaleModel",
      "state": {
       "allow_padding": false,
       "max": 1,
       "min": 0,
       "stabilized": false
      }
     },
     "e66adf27db7a4619b093ea97ec24db5c": {
      "model_module": "@jupyter-widgets/base",
      "model_module_version": "1.0.0",
      "model_name": "LayoutModel",
      "state": {
       "height": "600px",
       "width": "100%"
      }
     },
     "e69122c7901f42d1ae5745e218d0abc0": {
      "model_module": "bqplot",
      "model_module_version": "^0.3.6",
      "model_name": "OrdinalScaleModel",
      "state": {
       "domain": []
      }
     },
     "e6b0210b1a0c4cbdbd774e7452ae99e2": {
      "model_module": "bqplot",
      "model_module_version": "^0.3.6",
      "model_name": "PanZoomModel",
      "state": {
       "scales": {
        "x": [
         "IPY_MODEL_ae3927f610134a038f3a2de28377c142"
        ],
        "y": [
         "IPY_MODEL_8ec3391ca29a4577bfaed7e0170afedf"
        ]
       }
      }
     },
     "e6f0fdcc104e46eaae8cfcba63e08236": {
      "model_module": "bqplot",
      "model_module_version": "^0.3.6",
      "model_name": "AxisModel",
      "state": {
       "label": "Number of USB Connections",
       "orientation": "vertical",
       "scale": "IPY_MODEL_27fce31c8cb3451bb78a699e73218277",
       "side": "left",
       "tick_format": "0.2f",
       "tick_values": {
        "type": null,
        "values": null
       }
      }
     },
     "e6f87fa8b7d245e2bf57a9fcc04570d8": {
      "model_module": "@jupyter-widgets/base",
      "model_module_version": "1.0.0",
      "model_name": "LayoutModel",
      "state": {}
     },
     "e71be6c4ac284faf991a53993d79a0e2": {
      "model_module": "@jupyter-widgets/base",
      "model_module_version": "1.0.0",
      "model_name": "LayoutModel",
      "state": {}
     },
     "e71f4df7a10b48fd964d9b4003926721": {
      "model_module": "@jupyter-widgets/base",
      "model_module_version": "1.0.0",
      "model_name": "LayoutModel",
      "state": {}
     },
     "e755cfddf60e430d9aa5c28aed1c5d76": {
      "model_module": "@jupyter-widgets/base",
      "model_module_version": "1.0.0",
      "model_name": "LayoutModel",
      "state": {}
     },
     "e7bf5eb0e6cb46b5a2d983eb4a03b17e": {
      "model_module": "bqplot",
      "model_module_version": "^0.3.6",
      "model_name": "BarsModel",
      "state": {
       "color": {
        "type": null,
        "values": null
       },
       "colors": [
        "skyblue"
       ],
       "display_legend": false,
       "interactions": {
        "click": "select",
        "hover": "tooltip",
        "legend_hover": "highlight_axes"
       },
       "labels": [
        "Number of USB Connections"
       ],
       "scales": {
        "x": "IPY_MODEL_043f16a859404c108e2e6989fd8ddbd7",
        "y": "IPY_MODEL_e15159df24ee4545bf758056e220422a"
       },
       "selected": [],
       "selected_style": {
        "fill": "red"
       },
       "tooltip": "IPY_MODEL_71eb37218e1a41dda3a2d78c2a736e4d",
       "x": {
        "type": "date",
        "values": [
         "1970-01-01T14:00:00.000000",
         "1970-01-01T09:00:00.000000",
         "1970-01-01T13:00:00.000000",
         "1970-01-01T15:00:00.000000",
         "1970-01-01T10:00:00.000000",
         "1970-01-01T08:00:00.000000",
         "1970-01-01T12:00:00.000000",
         "1970-01-01T11:00:00.000000",
         "1970-01-01T16:00:00.000000",
         "1970-01-01T17:00:00.000000",
         "1970-01-01T07:00:00.000000",
         "1970-01-01T18:00:00.000000",
         "1970-01-01T19:00:00.000000",
         "1970-01-01T22:00:00.000000",
         "1970-01-01T23:00:00.000000",
         "1970-01-01T06:00:00.000000",
         "1970-01-01T21:00:00.000000",
         "1970-01-01T20:00:00.000000",
         "1970-01-01T00:00:00.000000",
         "1970-01-01T01:00:00.000000",
         "1970-01-01T04:00:00.000000",
         "1970-01-01T05:00:00.000000",
         "1970-01-01T03:00:00.000000",
         "1970-01-01T02:00:00.000000"
        ]
       },
       "y": {
        "type": "float",
        "values": [
         41.339,
         40.332,
         37.987,
         37.554,
         35.012,
         34.87,
         32.312,
         31.498,
         26.909,
         15.277,
         10.393,
         5.236,
         1.377,
         0.915,
         0.913,
         0.837,
         0.799,
         0.637,
         0.616,
         0.491,
         0.462,
         0.442,
         0.412,
         0.397
        ]
       }
      }
     },
     "e7d13cfe4c3b4e6187fa64f12d8c3832": {
      "model_module": "@jupyter-widgets/base",
      "model_module_version": "1.0.0",
      "model_name": "LayoutModel",
      "state": {}
     },
     "e7dcee1da3f44dfca4dec76afd51534f": {
      "model_module": "@jupyter-widgets/controls",
      "model_module_version": "1.2.0",
      "model_name": "VBoxModel",
      "state": {
       "children": [
        "IPY_MODEL_714be27381dc4151b0d3bf1c54098fff"
       ],
       "layout": "IPY_MODEL_b81bac385e3e4c7e8d2394c06f1cf318"
      }
     },
     "e7e9326ecf7f4a5890d18782e840cbd9": {
      "model_module": "bqplot",
      "model_module_version": "^0.3.6",
      "model_name": "BarsModel",
      "state": {
       "color": {
        "type": null,
        "values": null
       },
       "colors": [
        "blue"
       ],
       "interactions": {
        "click": "select",
        "hover": "tooltip",
        "legend_hover": "highlight_axes"
       },
       "labels": [
        "Email"
       ],
       "scales": {
        "x": "IPY_MODEL_2957c57c31824d8abaa030258e67a4b0",
        "y": "IPY_MODEL_49a15b81aab0485ab6b0fdf5fec51eeb"
       },
       "selected": [],
       "selected_style": {
        "fill": "red"
       },
       "tooltip": "IPY_MODEL_0a2af27ba3574d2d850ab9852ed14aab",
       "x": {
        "type": "float",
        "values": [
         14,
         9,
         13,
         15,
         10,
         8,
         12,
         11,
         16,
         17,
         7,
         18,
         19,
         22,
         23,
         6,
         21,
         20,
         0,
         1,
         4,
         5,
         3,
         2
        ]
       },
       "y": {
        "type": "float",
        "values": [
         41339,
         40332,
         37987,
         37554,
         35012,
         34870,
         32312,
         31498,
         26909,
         15277,
         10393,
         5236,
         1377,
         915,
         913,
         837,
         799,
         637,
         616,
         491,
         462,
         442,
         412,
         397
        ]
       }
      }
     },
     "e80b87a538fc41fdb66d5fb4231036d0": {
      "model_module": "bqplot",
      "model_module_version": "^0.3.6",
      "model_name": "LinearScaleModel",
      "state": {
       "stabilized": false
      }
     },
     "e819157094a84e728e8f4a55a0dba82a": {
      "model_module": "bqplot",
      "model_module_version": "^0.3.6",
      "model_name": "DateScaleModel",
      "state": {}
     },
     "e8211a3958384e9492b417b46392aa36": {
      "model_module": "@jupyter-widgets/base",
      "model_module_version": "1.0.0",
      "model_name": "LayoutModel",
      "state": {}
     },
     "e8d3a2dd1d124f0e9dd512905fac2497": {
      "model_module": "bqplot",
      "model_module_version": "^0.3.6",
      "model_name": "BarsModel",
      "state": {
       "color": {
        "type": null,
        "values": null
       },
       "colors": [
        "limegreen"
       ],
       "display_legend": false,
       "interactions": {
        "click": "select",
        "hover": "tooltip",
        "legend_hover": "highlight_axes"
       },
       "labels": [
        "Number of USB Connections"
       ],
       "scales": {
        "x": "IPY_MODEL_f37163a0f54d4208947f2f26b57eaeb3",
        "y": "IPY_MODEL_1a13a74babb740638c327c3dbd3d65f8"
       },
       "selected": [],
       "selected_style": {
        "fill": "red"
       },
       "tooltip": "IPY_MODEL_5256a88beb284fec96ef88c05f180aae",
       "x": {
        "type": "date",
        "values": [
         "1900-01-01T14:00:00.000000",
         "1900-01-01T09:00:00.000000",
         "1900-01-01T13:00:00.000000",
         "1900-01-01T15:00:00.000000",
         "1900-01-01T10:00:00.000000",
         "1900-01-01T08:00:00.000000",
         "1900-01-01T12:00:00.000000",
         "1900-01-01T11:00:00.000000",
         "1900-01-01T16:00:00.000000",
         "1900-01-01T17:00:00.000000",
         "1900-01-01T07:00:00.000000",
         "1900-01-01T18:00:00.000000",
         "1900-01-01T19:00:00.000000",
         "1900-01-01T22:00:00.000000",
         "1900-01-01T23:00:00.000000",
         "1900-01-01T06:00:00.000000",
         "1900-01-01T21:00:00.000000",
         "1900-01-01T20:00:00.000000",
         "1900-01-01T00:00:00.000000",
         "1900-01-01T01:00:00.000000",
         "1900-01-01T04:00:00.000000",
         "1900-01-01T05:00:00.000000",
         "1900-01-01T03:00:00.000000",
         "1900-01-01T02:00:00.000000"
        ]
       },
       "y": {
        "type": "float",
        "values": [
         41.339,
         40.332,
         37.987,
         37.554,
         35.012,
         34.87,
         32.312,
         31.498,
         26.909,
         15.277,
         10.393,
         5.236,
         1.377,
         0.915,
         0.913,
         0.837,
         0.799,
         0.637,
         0.616,
         0.491,
         0.462,
         0.442,
         0.412,
         0.397
        ]
       }
      }
     },
     "e969023cb8b047889f7d42cf7fe6feb5": {
      "model_module": "bqplot",
      "model_module_version": "^0.3.6",
      "model_name": "AxisModel",
      "state": {
       "label": "Directory name",
       "scale": "IPY_MODEL_2773d153388e405d8946c235fd170db2",
       "side": "bottom",
       "tick_values": {
        "type": null,
        "values": null
       }
      }
     },
     "e9e46f4296c34a4f9675348bc877dcdf": {
      "model_module": "@jupyter-widgets/base",
      "model_module_version": "1.0.0",
      "model_name": "LayoutModel",
      "state": {}
     },
     "ea46b5dd6f204bc381989573fda2fc26": {
      "model_module": "bqplot",
      "model_module_version": "^0.3.6",
      "model_name": "PanZoomModel",
      "state": {
       "scales": {
        "x": [
         "IPY_MODEL_26b9a5c10fed49a385b79aaa0fc3282a"
        ],
        "y": [
         "IPY_MODEL_25d2cf8ddd594096b8bbea46148ddc9f"
        ]
       }
      }
     },
     "eaaa3b2612084e078f3133abc7749645": {
      "model_module": "bqplot",
      "model_module_version": "^0.3.6",
      "model_name": "OrdinalScaleModel",
      "state": {
       "domain": []
      }
     },
     "eb4bc451544a471eab328fd011455c63": {
      "model_module": "bqplot",
      "model_module_version": "^0.3.6",
      "model_name": "OrdinalScaleModel",
      "state": {
       "domain": []
      }
     },
     "eb875df580a14e51b77ff16e2847ee54": {
      "model_module": "bqplot",
      "model_module_version": "^0.3.6",
      "model_name": "BarsModel",
      "state": {
       "color": {
        "type": null,
        "values": null
       },
       "colors": [
        "limegreen"
       ],
       "display_legend": false,
       "interactions": {
        "click": "select",
        "hover": "tooltip",
        "legend_hover": "highlight_axes"
       },
       "labels": [
        "Number of USB Connections"
       ],
       "scales": {
        "x": "IPY_MODEL_0da0cbfaaafe4b4fbb285a56c2ece3e2",
        "y": "IPY_MODEL_55eefbf54f9d4eaba3990200e03ca8f2"
       },
       "selected": [],
       "selected_style": {
        "fill": "red"
       },
       "tooltip": "IPY_MODEL_4415957e1420448dab47a3e1af280ddf",
       "x": {
        "type": "date",
        "values": [
         "1900-01-01T14:00:00.000000",
         "1900-01-01T09:00:00.000000",
         "1900-01-01T13:00:00.000000",
         "1900-01-01T15:00:00.000000",
         "1900-01-01T10:00:00.000000",
         "1900-01-01T08:00:00.000000",
         "1900-01-01T12:00:00.000000",
         "1900-01-01T11:00:00.000000",
         "1900-01-01T16:00:00.000000",
         "1900-01-01T17:00:00.000000",
         "1900-01-01T07:00:00.000000",
         "1900-01-01T18:00:00.000000",
         "1900-01-01T19:00:00.000000",
         "1900-01-01T22:00:00.000000",
         "1900-01-01T23:00:00.000000",
         "1900-01-01T06:00:00.000000",
         "1900-01-01T21:00:00.000000",
         "1900-01-01T20:00:00.000000",
         "1900-01-01T00:00:00.000000",
         "1900-01-01T01:00:00.000000",
         "1900-01-01T04:00:00.000000",
         "1900-01-01T05:00:00.000000",
         "1900-01-01T03:00:00.000000",
         "1900-01-01T02:00:00.000000"
        ]
       },
       "y": {
        "type": "float",
        "values": [
         41.339,
         40.332,
         37.987,
         37.554,
         35.012,
         34.87,
         32.312,
         31.498,
         26.909,
         15.277,
         10.393,
         5.236,
         1.377,
         0.915,
         0.913,
         0.837,
         0.799,
         0.637,
         0.616,
         0.491,
         0.462,
         0.442,
         0.412,
         0.397
        ]
       }
      }
     },
     "ebd80c75301a40e0bfa9752bcb27dd21": {
      "model_module": "bqplot",
      "model_module_version": "^0.3.6",
      "model_name": "LinearScaleModel",
      "state": {
       "stabilized": false
      }
     },
     "ec5daa9f96db4d95ae0e00079548db0d": {
      "model_module": "bqplot",
      "model_module_version": "^0.3.6",
      "model_name": "LinearScaleModel",
      "state": {
       "allow_padding": false,
       "max": 1,
       "min": 0,
       "stabilized": false
      }
     },
     "ec7c2ed786d545a882bd47226de2409e": {
      "model_module": "@jupyter-widgets/base",
      "model_module_version": "1.0.0",
      "model_name": "LayoutModel",
      "state": {}
     },
     "ede6637e7a7c4bd3a6ea952a783b8c36": {
      "model_module": "bqplot",
      "model_module_version": "^0.3.6",
      "model_name": "LinearScaleModel",
      "state": {
       "allow_padding": false,
       "max": 1,
       "min": 0,
       "stabilized": false
      }
     },
     "ee4017c2b3b9459499dc475ec5425d3a": {
      "model_module": "bqplot",
      "model_module_version": "^0.3.6",
      "model_name": "PanZoomModel",
      "state": {
       "scales": {
        "x": [
         "IPY_MODEL_f37163a0f54d4208947f2f26b57eaeb3"
        ],
        "y": [
         "IPY_MODEL_1a13a74babb740638c327c3dbd3d65f8"
        ]
       }
      }
     },
     "ee56f1bc99ba47928dc73fe9343127c5": {
      "model_module": "bqplot",
      "model_module_version": "^0.3.6",
      "model_name": "LinearScaleModel",
      "state": {
       "allow_padding": false,
       "max": 1,
       "min": 0,
       "stabilized": false
      }
     },
     "ee5ca7e6b6514e7996d033aa83656455": {
      "model_module": "bqplot",
      "model_module_version": "^0.3.6",
      "model_name": "LinearScaleModel",
      "state": {
       "allow_padding": false,
       "max": 1,
       "min": 0,
       "stabilized": false
      }
     },
     "eeaac8f8466e4ed48831e943b5ce86bc": {
      "model_module": "bqplot",
      "model_module_version": "^0.3.6",
      "model_name": "AxisModel",
      "state": {
       "label": "Hours of the Day",
       "scale": "IPY_MODEL_b0d531b61bc540049f4beb9df9b5f689",
       "side": "bottom",
       "tick_values": {
        "type": null,
        "values": null
       }
      }
     },
     "eecbb34dc6214950bba80baf3c08e3d7": {
      "model_module": "@jupyter-widgets/controls",
      "model_module_version": "1.2.0",
      "model_name": "HBoxModel",
      "state": {
       "children": [
        "IPY_MODEL_2b618078971f4e13995cd9084a91d79e"
       ],
       "layout": "IPY_MODEL_9576e5b414f34cfe88389fb0638927ec"
      }
     },
     "ef01187176b1495b8fd6c7d86f8e9016": {
      "model_module": "bqplot",
      "model_module_version": "^0.3.6",
      "model_name": "LinearScaleModel",
      "state": {
       "allow_padding": false,
       "max": 1,
       "min": 0,
       "stabilized": false
      }
     },
     "ef61b4ede2ea4d368ad52f17a5bc726e": {
      "model_module": "bqplot",
      "model_module_version": "^0.3.6",
      "model_name": "FigureModel",
      "state": {
       "_dom_classes": [],
       "animation_duration": 5000,
       "axes": [
        "IPY_MODEL_2516ea8fa88841198703abd0f7c01783",
        "IPY_MODEL_b742096e83284f5ca1f3d1f723d3fd02"
       ],
       "background_style": {
        "fill": "aliceblue"
       },
       "layout": "IPY_MODEL_c4cd77b9736c4536aa5fefadc50b5f8d",
       "marks": [
        "IPY_MODEL_fdf49cf59d5b470b89b6244e49d3d7e5"
       ],
       "max_aspect_ratio": 6,
       "scale_x": "IPY_MODEL_bb898af7f3c04a2897b5cd620fe7c514",
       "scale_y": "IPY_MODEL_9c9dbd814a3141dfbf914aa373fc8baf",
       "title": "Proportion of Connect Activity"
      }
     },
     "ef796dfd96f24f76ad0738c72a430eff": {
      "model_module": "@jupyter-widgets/base",
      "model_module_version": "1.0.0",
      "model_name": "LayoutModel",
      "state": {}
     },
     "efa91d22d70448488b71e2c78f5b80bc": {
      "model_module": "@jupyter-widgets/base",
      "model_module_version": "1.0.0",
      "model_name": "LayoutModel",
      "state": {}
     },
     "efba976503d7474abf023b9596e3f655": {
      "model_module": "@jupyter-widgets/base",
      "model_module_version": "1.0.0",
      "model_name": "LayoutModel",
      "state": {}
     },
     "efe9924f489c4a39b3ddb4228b890123": {
      "model_module": "bqplot",
      "model_module_version": "^0.3.6",
      "model_name": "FigureModel",
      "state": {
       "_dom_classes": [],
       "animation_duration": 3000,
       "axes": [
        "IPY_MODEL_c83ca5e8230e43e1b9429e2754af292b",
        "IPY_MODEL_a425430572324abf94e69e75bf313f33"
       ],
       "background_style": {
        "fill": "aliceblue"
       },
       "layout": "IPY_MODEL_e66adf27db7a4619b093ea97ec24db5c",
       "marks": [
        "IPY_MODEL_71b69fd74b004cd7ab210326129a009b"
       ],
       "max_aspect_ratio": 6,
       "scale_x": "IPY_MODEL_9a5b0dfadcf749a5842b45bceef16463",
       "scale_y": "IPY_MODEL_e14c5c486dfb4237a67037050701be8d",
       "title": "USB Connections Per Employee"
      }
     },
     "f005bc2b2c5642ecb013e2b30ced9bd4": {
      "model_module": "@jupyter-widgets/base",
      "model_module_version": "1.0.0",
      "model_name": "LayoutModel",
      "state": {}
     },
     "f07c9df65eaa43e79e3aa97347e37e50": {
      "model_module": "bqplot",
      "model_module_version": "^0.3.6",
      "model_name": "BarsModel",
      "state": {
       "color": {
        "type": null,
        "values": null
       },
       "colors": [
        "limegreen"
       ],
       "display_legend": false,
       "interactions": {
        "click": "select",
        "hover": "tooltip",
        "legend_hover": "highlight_axes"
       },
       "labels": [
        "Number of USB Connections"
       ],
       "scales": {
        "x": "IPY_MODEL_d3fe598b12814fe18a289515c8c622b9",
        "y": "IPY_MODEL_3b8ecfe8050740e0b5f24b39ef58ef65"
       },
       "selected": [],
       "selected_style": {
        "fill": "red"
       },
       "tooltip": "IPY_MODEL_99ddefa937bc48b3a6633f5256c71db6",
       "x": {
        "type": "date",
        "values": [
         "1970-01-01T14:00:00.000000",
         "1970-01-01T09:00:00.000000",
         "1970-01-01T13:00:00.000000",
         "1970-01-01T15:00:00.000000",
         "1970-01-01T10:00:00.000000",
         "1970-01-01T08:00:00.000000",
         "1970-01-01T12:00:00.000000",
         "1970-01-01T11:00:00.000000",
         "1970-01-01T16:00:00.000000",
         "1970-01-01T17:00:00.000000",
         "1970-01-01T07:00:00.000000",
         "1970-01-01T18:00:00.000000",
         "1970-01-01T19:00:00.000000",
         "1970-01-01T22:00:00.000000",
         "1970-01-01T23:00:00.000000",
         "1970-01-01T06:00:00.000000",
         "1970-01-01T21:00:00.000000",
         "1970-01-01T20:00:00.000000",
         "1970-01-01T00:00:00.000000",
         "1970-01-01T01:00:00.000000",
         "1970-01-01T04:00:00.000000",
         "1970-01-01T05:00:00.000000",
         "1970-01-01T03:00:00.000000",
         "1970-01-01T02:00:00.000000"
        ]
       },
       "y": {
        "type": "float",
        "values": [
         41.339,
         40.332,
         37.987,
         37.554,
         35.012,
         34.87,
         32.312,
         31.498,
         26.909,
         15.277,
         10.393,
         5.236,
         1.377,
         0.915,
         0.913,
         0.837,
         0.799,
         0.637,
         0.616,
         0.491,
         0.462,
         0.442,
         0.412,
         0.397
        ]
       }
      }
     },
     "f08afe55ba1f4837abbab245403e4db1": {
      "model_module": "bqplot",
      "model_module_version": "^0.3.6",
      "model_name": "LinearScaleModel",
      "state": {
       "allow_padding": false,
       "max": 1,
       "min": 0,
       "stabilized": false
      }
     },
     "f0ee23b5e38643aa82be40da0831d46c": {
      "model_module": "bqplot",
      "model_module_version": "^0.3.6",
      "model_name": "DateScaleModel",
      "state": {}
     },
     "f105b4936d8b4a738ee95b2d44c14cb3": {
      "model_module": "bqplot",
      "model_module_version": "^0.3.6",
      "model_name": "LinearScaleModel",
      "state": {
       "stabilized": false
      }
     },
     "f16e427d39de48a9aa87b63682e0c708": {
      "model_module": "bqplot",
      "model_module_version": "^0.3.6",
      "model_name": "LinearScaleModel",
      "state": {
       "stabilized": false
      }
     },
     "f17dc59f8496469b9bc1910dcbad86f6": {
      "model_module": "bqplot",
      "model_module_version": "^0.3.6",
      "model_name": "AxisModel",
      "state": {
       "label": "Hours of the Day",
       "scale": "IPY_MODEL_23a875cf8b524bfcb1fcc9072d26252c",
       "side": "bottom",
       "tick_values": {
        "type": null,
        "values": null
       }
      }
     },
     "f1a8ef36f4c6458bb9803d700a29725e": {
      "model_module": "bqplot",
      "model_module_version": "^0.3.6",
      "model_name": "LinearScaleModel",
      "state": {
       "allow_padding": false,
       "max": 1,
       "min": 0,
       "stabilized": false
      }
     },
     "f1abb6c9759b4ab1869866a8c96639da": {
      "model_module": "bqplot",
      "model_module_version": "^0.3.6",
      "model_name": "PanZoomModel",
      "state": {
       "scales": {
        "x": [
         "IPY_MODEL_e356561f5ddd4fa382f2854b15cdc2a9"
        ],
        "y": [
         "IPY_MODEL_948c4158ea744032a30b22a27cd3a555"
        ]
       }
      }
     },
     "f1c12157af644bf380ad719903cb264a": {
      "model_module": "bqplot",
      "model_module_version": "^0.3.6",
      "model_name": "AxisModel",
      "state": {
       "label": "Hours of the Day",
       "scale": "IPY_MODEL_917ad373f56045bfaf6430fa5ec083ff",
       "side": "bottom",
       "tick_values": {
        "type": null,
        "values": null
       }
      }
     },
     "f1dd8c2797f14bd3a674aef0d49e4528": {
      "model_module": "@jupyter-widgets/base",
      "model_module_version": "1.0.0",
      "model_name": "LayoutModel",
      "state": {}
     },
     "f1e1f1a4fbbd4e8db615e11dfd669566": {
      "model_module": "bqplot",
      "model_module_version": "^0.3.6",
      "model_name": "BarsModel",
      "state": {
       "color": {
        "type": null,
        "values": null
       },
       "colors": [
        "blue"
       ],
       "display_legend": false,
       "interactions": {
        "click": "select",
        "hover": "tooltip",
        "legend_hover": "highlight_axes"
       },
       "labels": [
        "Number of USB Connections"
       ],
       "scales": {
        "x": "IPY_MODEL_4c56351efb7a4109a9d4a7113999ba64",
        "y": "IPY_MODEL_814ae6d39bb143b4bd380e68b6594cab"
       },
       "selected": [],
       "selected_style": {
        "fill": "red"
       },
       "tooltip": "IPY_MODEL_7da20e621c5848668d72a39c6a0a0b70",
       "x": {
        "type": "timedelta64[ns]",
        "values": [
         50400000000000,
         32400000000000,
         46800000000000,
         54000000000000,
         36000000000000,
         28800000000000,
         43200000000000,
         39600000000000,
         57600000000000,
         61200000000000,
         25200000000000,
         64800000000000,
         68400000000000,
         79200000000000,
         82800000000000,
         21600000000000,
         75600000000000,
         72000000000000,
         0,
         3600000000000,
         14400000000000,
         18000000000000,
         10800000000000,
         7200000000000
        ]
       },
       "y": {
        "type": "float",
        "values": [
         41.339,
         40.332,
         37.987,
         37.554,
         35.012,
         34.87,
         32.312,
         31.498,
         26.909,
         15.277,
         10.393,
         5.236,
         1.377,
         0.915,
         0.913,
         0.837,
         0.799,
         0.637,
         0.616,
         0.491,
         0.462,
         0.442,
         0.412,
         0.397
        ]
       }
      }
     },
     "f2181fc63f514066989f25fddf96e2e6": {
      "model_module": "bqplot",
      "model_module_version": "^0.3.6",
      "model_name": "PanZoomModel",
      "state": {
       "scales": {
        "x": [
         "IPY_MODEL_fa76522f66df47aebba3a63d89125640"
        ],
        "y": [
         "IPY_MODEL_d81cf6b17c19469ca28bdfaecaf33c70"
        ]
       }
      }
     },
     "f21efef039d84bf3b3c27d294d95b78c": {
      "model_module": "bqplot",
      "model_module_version": "^0.3.6",
      "model_name": "PanZoomModel",
      "state": {
       "scales": {
        "x": [
         "IPY_MODEL_4b53aa0e49184e26bb7e4c4f2120b8ea"
        ],
        "y": [
         "IPY_MODEL_21fcfe4211dd45d090880f7f365ac830"
        ]
       }
      }
     },
     "f254ee33e614405eb2cb0744f5bd88c5": {
      "model_module": "bqplot",
      "model_module_version": "^0.3.6",
      "model_name": "BarsModel",
      "state": {
       "color": {
        "type": null,
        "values": null
       },
       "colors": [
        "skyblue"
       ],
       "display_legend": false,
       "interactions": {
        "click": "select",
        "hover": "tooltip",
        "legend_hover": "highlight_axes"
       },
       "labels": [
        "Number of USB Connections"
       ],
       "scales": {
        "x": "IPY_MODEL_b8897bc045174e5d99e267daa3d8623a",
        "y": "IPY_MODEL_92c9eb3da5f945dba850a3a4ddef341a"
       },
       "selected": [],
       "selected_style": {
        "fill": "red"
       },
       "tooltip": "IPY_MODEL_c3d7fa7f3b2e4836a7a46e38f4dfd872",
       "x": {
        "type": "date",
        "values": [
         "1970-01-01T07:00:00.000000",
         "1970-01-01T08:00:00.000000",
         "1970-01-01T09:00:00.000000",
         "1970-01-01T10:00:00.000000",
         "1970-01-01T11:00:00.000000",
         "1970-01-01T12:00:00.000000",
         "1970-01-01T13:00:00.000000",
         "1970-01-01T14:00:00.000000",
         "1970-01-01T15:00:00.000000",
         "1970-01-01T16:00:00.000000",
         "1970-01-01T19:00:00.000000",
         "1970-01-01T20:00:00.000000"
        ]
       },
       "y": {
        "type": "float",
        "values": [
         1,
         22,
         18,
         14,
         17,
         9,
         19,
         26,
         27,
         7,
         1,
         2
        ]
       }
      }
     },
     "f2b5e40056b54d8e99bb376a313291d4": {
      "model_module": "@jupyter-widgets/base",
      "model_module_version": "1.0.0",
      "model_name": "LayoutModel",
      "state": {}
     },
     "f37163a0f54d4208947f2f26b57eaeb3": {
      "model_module": "bqplot",
      "model_module_version": "^0.3.6",
      "model_name": "DateScaleModel",
      "state": {}
     },
     "f38adc06d4f843d7bec864ccc3f00408": {
      "model_module": "bqplot",
      "model_module_version": "^0.3.6",
      "model_name": "BarsModel",
      "state": {
       "color": {
        "type": null,
        "values": null
       },
       "colors": [
        "dodgerblue"
       ],
       "display_legend": false,
       "interactions": {
        "click": "select",
        "hover": "tooltip",
        "legend_hover": "highlight_axes"
       },
       "labels": [
        "Directory name"
       ],
       "padding": 0.2,
       "scales": {
        "x": "IPY_MODEL_864de7ed8c644adeb306ce307f06dd67",
        "y": "IPY_MODEL_3833761029e748b18e276ab68545354f"
       },
       "selected": [],
       "selected_style": {
        "fill": "red"
       },
       "tooltip": "IPY_MODEL_07720ee0cbbf4c49bf11d68e94441a3c",
       "x": {
        "type": "object",
        "values": [
         "R:\\189XJ29",
         "R:\\CTC0859",
         "R:\\61mrHg0",
         "R:\\CKP3600",
         "R:\\37Ntzz0",
         "R:\\ACM2278",
         "R:\\52G6677",
         "R:\\782bxm8",
         "R:\\29P96D6",
         "R:\\XAB0936"
        ]
       },
       "y": {
        "type": "float",
        "values": [
         21,
         21,
         20,
         20,
         20,
         9,
         9,
         9,
         2,
         2
        ]
       }
      }
     },
     "f3a696c918174898a6478a7925995c0b": {
      "model_module": "bqplot",
      "model_module_version": "^0.3.6",
      "model_name": "LinearScaleModel",
      "state": {
       "allow_padding": false,
       "max": 1,
       "min": 0,
       "stabilized": false
      }
     },
     "f3e2dd1edfb6412dadbb17743f548779": {
      "model_module": "bqplot",
      "model_module_version": "^0.3.6",
      "model_name": "LinearScaleModel",
      "state": {
       "stabilized": false
      }
     },
     "f425a04277d042f6a0197884f105968f": {
      "model_module": "@jupyter-widgets/base",
      "model_module_version": "1.0.0",
      "model_name": "LayoutModel",
      "state": {}
     },
     "f458a300284e4c7fa235a208493fd6bd": {
      "model_module": "@jupyter-widgets/base",
      "model_module_version": "1.0.0",
      "model_name": "LayoutModel",
      "state": {}
     },
     "f4a54835a7d346908fb054e24fa45023": {
      "model_module": "bqplot",
      "model_module_version": "^0.3.6",
      "model_name": "FigureModel",
      "state": {
       "_dom_classes": [],
       "animation_duration": 5000,
       "axes": [
        "IPY_MODEL_dc1cb2d34d324948b4689e92af2a7851",
        "IPY_MODEL_4268dafe1f824ad5b36dc05400dcc357"
       ],
       "background_style": {
        "fill": "aliceblue"
       },
       "layout": "IPY_MODEL_e66adf27db7a4619b093ea97ec24db5c",
       "marks": [
        "IPY_MODEL_eb875df580a14e51b77ff16e2847ee54"
       ],
       "max_aspect_ratio": 6,
       "scale_x": "IPY_MODEL_f1a8ef36f4c6458bb9803d700a29725e",
       "scale_y": "IPY_MODEL_3cc2a2a02a7244e0939905bc9a52a382",
       "title": "USB Connections"
      }
     },
     "f4bd06edef72439ab9261fc94f12f1de": {
      "model_module": "bqplot",
      "model_module_version": "^0.3.6",
      "model_name": "PanZoomModel",
      "state": {
       "scales": {
        "x": [
         "IPY_MODEL_1b3de43866ad4b31bb6eed919e4e5b4e"
        ],
        "y": [
         "IPY_MODEL_bfc657263aaa44bba2743f852d7a86b2"
        ]
       }
      }
     },
     "f4c698f637694542af955844d821cb37": {
      "model_module": "@jupyter-widgets/base",
      "model_module_version": "1.0.0",
      "model_name": "LayoutModel",
      "state": {}
     },
     "f4d10603389f44afac167d75cf365921": {
      "model_module": "bqplot",
      "model_module_version": "^0.3.6",
      "model_name": "DateScaleModel",
      "state": {}
     },
     "f54aa6029a7b42e2a21c0bff9cff2284": {
      "model_module": "@jupyter-widgets/controls",
      "model_module_version": "1.2.0",
      "model_name": "VBoxModel",
      "state": {
       "children": [
        "IPY_MODEL_c68d1ad637ba4f06a3608d83b11d456b"
       ],
       "layout": "IPY_MODEL_e71be6c4ac284faf991a53993d79a0e2"
      }
     },
     "f55fb0f549194435a913bd4338c14f5c": {
      "model_module": "bqplot",
      "model_module_version": "^0.3.6",
      "model_name": "AxisModel",
      "state": {
       "label": "Hours of the Day",
       "scale": "IPY_MODEL_fa76522f66df47aebba3a63d89125640",
       "side": "bottom",
       "tick_values": {
        "type": null,
        "values": null
       }
      }
     },
     "f5763fe0699743f8b48e7fa39152a6ad": {
      "model_module": "bqplot",
      "model_module_version": "^0.3.6",
      "model_name": "PanZoomModel",
      "state": {
       "scales": {
        "x": [
         "IPY_MODEL_04433ad1b7e44218a8db49f0e5c45b78"
        ],
        "y": [
         "IPY_MODEL_4d83e0c2fa934b41a9f6bf017ad809cc"
        ]
       }
      }
     },
     "f5a2fb0b0e9e4b9b95083c45909af794": {
      "model_module": "@jupyter-widgets/base",
      "model_module_version": "1.0.0",
      "model_name": "LayoutModel",
      "state": {}
     },
     "f5e167985d2b4dac8011b2cff7c66570": {
      "model_module": "@jupyter-widgets/base",
      "model_module_version": "1.0.0",
      "model_name": "LayoutModel",
      "state": {}
     },
     "f6173e3493ef4af492d6af472af0666e": {
      "model_module": "bqplot",
      "model_module_version": "^0.3.6",
      "model_name": "PanZoomModel",
      "state": {
       "scales": {
        "x": [
         "IPY_MODEL_288f307f1c2e4e71882a428331027ecd"
        ],
        "y": [
         "IPY_MODEL_2dd24df9262f4891a1adb91a6decb6e8"
        ]
       }
      }
     },
     "f652f422424b4870b8b0dc2f1eae4180": {
      "model_module": "bqplot",
      "model_module_version": "^0.3.6",
      "model_name": "BarsModel",
      "state": {
       "color": {
        "type": null,
        "values": null
       },
       "colors": [
        "hotpink",
        "orange"
       ],
       "interactions": {
        "click": "select",
        "hover": "tooltip",
        "legend_hover": "highlight_axes"
       },
       "labels": [
        "Connect",
        "Disconnect"
       ],
       "padding": 0.1,
       "scales": {
        "x": "IPY_MODEL_eb4bc451544a471eab328fd011455c63",
        "y": "IPY_MODEL_35808ea8e97a4e1fa7b70d91a126a61e"
       },
       "selected": [],
       "selected_style": {
        "fill": "red"
       },
       "tooltip": "IPY_MODEL_7abde8c741f74bec86976a7eab81f948",
       "type": "grouped",
       "x": {
        "type": "object",
        "values": [
         "PC-3471",
         "PC-1105",
         "PC-0937",
         "PC-3154",
         "PC-2158",
         "PC-7117",
         "PC-2659",
         "PC-2057",
         "PC-5849",
         "PC-7046"
        ]
       },
       "y": {
        "type": "float",
        "values": [
         [
          2.048,
          2.036,
          2.029,
          2.009,
          2,
          1.991,
          1.978,
          1.963,
          1.959,
          1.949
         ],
         [
          2.042,
          2.026,
          2.014,
          1.998,
          1.987,
          1.983,
          1.965,
          1.949,
          1.947,
          1.935
         ]
        ]
       }
      }
     },
     "f6e0f3fd3a5f4b28ac9953daff2aaba2": {
      "model_module": "bqplot",
      "model_module_version": "^0.3.6",
      "model_name": "AxisModel",
      "state": {
       "label": "Hours of the Day",
       "scale": "IPY_MODEL_11c5457a80634a21a4ea3601019885b7",
       "side": "bottom",
       "tick_values": {
        "type": null,
        "values": null
       }
      }
     },
     "f705c64e62744a03a6180b441d7e8cff": {
      "model_module": "@jupyter-widgets/base",
      "model_module_version": "1.0.0",
      "model_name": "LayoutModel",
      "state": {}
     },
     "f715fa39027b4ddd9bffe4ae5019c470": {
      "model_module": "bqplot",
      "model_module_version": "^0.3.6",
      "model_name": "OrdinalScaleModel",
      "state": {
       "domain": []
      }
     },
     "f73cc2420b604c28bcc1ce88de26fb35": {
      "model_module": "@jupyter-widgets/base",
      "model_module_version": "1.0.0",
      "model_name": "LayoutModel",
      "state": {}
     },
     "f7472a30bb294df8a2ecb1d1c04cc1ea": {
      "model_module": "bqplot",
      "model_module_version": "^0.3.6",
      "model_name": "FigureModel",
      "state": {
       "_dom_classes": [],
       "animation_duration": 5000,
       "axes": [
        "IPY_MODEL_44b142939c12409ba76e5886446f0447",
        "IPY_MODEL_3eef3bb3753144ab9e466b7eafeb7ba1"
       ],
       "background_style": {
        "fill": "aliceblue"
       },
       "layout": "IPY_MODEL_360a2d7a357046b58bad9a48c3a6e8c9",
       "legend_style": {
        "fill": "white"
       },
       "marks": [
        "IPY_MODEL_40adef24aaff4c208c59c833fa0ab211"
       ],
       "max_aspect_ratio": 6,
       "scale_x": "IPY_MODEL_686330a0567845d0a6807cea7ebacab0",
       "scale_y": "IPY_MODEL_9066c9cba504407aac1db22b79ed70c2",
       "title": "Proportion of Connect & Disconnet Activity"
      }
     },
     "f78dd85e98684bd2814705acd15dafc1": {
      "model_module": "@jupyter-widgets/controls",
      "model_module_version": "1.2.0",
      "model_name": "VBoxModel",
      "state": {
       "children": [
        "IPY_MODEL_caed08b7eb0d487294ea77ae92c5c5de"
       ],
       "layout": "IPY_MODEL_fa38f4ac3bf747bfbd1cf60cefb65de6"
      }
     },
     "f7cca4043ad940c4a55897ab029edb9b": {
      "model_module": "bqplot",
      "model_module_version": "^0.3.6",
      "model_name": "LinearScaleModel",
      "state": {
       "allow_padding": false,
       "max": 1,
       "min": 0,
       "stabilized": false
      }
     },
     "f7d850f77a6c4687bbd6ff24c7c77770": {
      "model_module": "bqplot",
      "model_module_version": "^0.3.6",
      "model_name": "OrdinalScaleModel",
      "state": {
       "domain": []
      }
     },
     "f81afa16467c4da2981033808e3f68f2": {
      "model_module": "bqplot",
      "model_module_version": "^0.3.6",
      "model_name": "TooltipModel",
      "state": {
       "fields": [
        "x",
        "y"
       ],
       "formats": [
        "",
        "f"
       ],
       "labels": [
        "Date",
        "Number of USB Connections"
       ],
       "layout": "IPY_MODEL_6402601d56f24ee9a6b4505b8c187dd4"
      }
     },
     "f82f17f8df5648bbbead7450f0ea7fc7": {
      "model_module": "@jupyter-widgets/base",
      "model_module_version": "1.0.0",
      "model_name": "LayoutModel",
      "state": {}
     },
     "f8614d0eeda9463a8b96000ed28ef358": {
      "model_module": "bqplot",
      "model_module_version": "^0.3.6",
      "model_name": "LinearScaleModel",
      "state": {
       "allow_padding": false,
       "max": 1,
       "min": 0,
       "stabilized": false
      }
     },
     "f90c7c1735234225a3b4960de9c5b8a8": {
      "model_module": "bqplot",
      "model_module_version": "^0.3.6",
      "model_name": "TooltipModel",
      "state": {
       "fields": [
        "x",
        "y"
       ],
       "formats": [
        "",
        "0.2f"
       ],
       "labels": [
        "Date",
        "Number of USB Connections"
       ],
       "layout": "IPY_MODEL_75d04bee16fe4f8fa2b75bcad572e6c7"
      }
     },
     "f91127bde3a24fb5830fbc1b1454ff19": {
      "model_module": "bqplot",
      "model_module_version": "^0.3.6",
      "model_name": "LinearScaleModel",
      "state": {
       "allow_padding": false,
       "max": 1,
       "min": 0,
       "stabilized": false
      }
     },
     "f9159830e0854df69037719541c98669": {
      "model_module": "bqplot",
      "model_module_version": "^0.3.6",
      "model_name": "AxisModel",
      "state": {
       "label": "Number of USB Connections",
       "orientation": "vertical",
       "scale": "IPY_MODEL_356e9a3741664a7d93c780e754f2916c",
       "side": "left",
       "tick_format": "f",
       "tick_values": {
        "type": null,
        "values": null
       }
      }
     },
     "f91dc93ef4f244b6bb536e13361ddaaf": {
      "model_module": "bqplot",
      "model_module_version": "^0.3.6",
      "model_name": "FigureModel",
      "state": {
       "_dom_classes": [],
       "animation_duration": 5000,
       "axes": [
        "IPY_MODEL_d796bfc6dc894dbdbd44a020fa517882",
        "IPY_MODEL_1c2ecbca5c404c5eab9b486a60fc6c0e"
       ],
       "background_style": {
        "fill": "aliceblue"
       },
       "layout": "IPY_MODEL_e66adf27db7a4619b093ea97ec24db5c",
       "marks": [
        "IPY_MODEL_54a90a8998464e769bd90743ef856398"
       ],
       "max_aspect_ratio": 6,
       "scale_x": "IPY_MODEL_cb91b4ed8893485eb389c8b0898e2b73",
       "scale_y": "IPY_MODEL_08d5a2b156764e8caff5881e0155dd3f",
       "title": "USB Connections Per Employee"
      }
     },
     "f94ba72cbf79457fb78009ae1f317d92": {
      "model_module": "bqplot",
      "model_module_version": "^0.3.6",
      "model_name": "FigureModel",
      "state": {
       "_dom_classes": [],
       "animation_duration": 5000,
       "axes": [
        "IPY_MODEL_b4ef3dc7363e44cd909a0ab3e33a0e94",
        "IPY_MODEL_70a22c849f884ba7b97d0af3c39736d0"
       ],
       "background_style": {
        "fill": "aliceblue"
       },
       "layout": "IPY_MODEL_8ac656bdd6b34040a0e26ccd49ed02cd",
       "marks": [
        "IPY_MODEL_e7e9326ecf7f4a5890d18782e840cbd9"
       ],
       "max_aspect_ratio": 6,
       "scale_x": "IPY_MODEL_9a7941ba9d2e4f78902b8157406872cc",
       "scale_y": "IPY_MODEL_3ba99c638df14c96be9bf6a721f3289e",
       "title": "Number of Emails sent Daily"
      }
     },
     "f963022ffe184934a75877a6b7730202": {
      "model_module": "bqplot",
      "model_module_version": "^0.3.6",
      "model_name": "AxisModel",
      "state": {
       "label": "Count",
       "orientation": "vertical",
       "scale": "IPY_MODEL_39a8b8d8021443fe9b8c391d9c5d84a6",
       "side": "left",
       "tick_format": "0.2f",
       "tick_values": {
        "type": null,
        "values": null
       }
      }
     },
     "f967b8cab7184ef1bf91b46436ba2843": {
      "model_module": "bqplot",
      "model_module_version": "^0.3.6",
      "model_name": "LinearScaleModel",
      "state": {
       "allow_padding": false,
       "max": 1,
       "min": 0,
       "stabilized": false
      }
     },
     "f99f29ba9de44ae5a8a123bc72fab7cd": {
      "model_module": "@jupyter-widgets/controls",
      "model_module_version": "1.2.0",
      "model_name": "DescriptionStyleModel",
      "state": {
       "description_width": ""
      }
     },
     "f9a697ec821d4f8098670075396bf627": {
      "model_module": "@jupyter-widgets/controls",
      "model_module_version": "1.2.0",
      "model_name": "VBoxModel",
      "state": {
       "children": [
        "IPY_MODEL_64255444ee5b4be180c81ffd4a7cdefb",
        "IPY_MODEL_8d0bcea7ae84493cbdfb10d4428dcc6a"
       ],
       "layout": "IPY_MODEL_fc56df2e07244082869c45b9da262efe"
      }
     },
     "f9e04984a1554127a817a2e31144e911": {
      "model_module": "bqplot",
      "model_module_version": "^0.3.6",
      "model_name": "BarsModel",
      "state": {
       "color": {
        "type": null,
        "values": null
       },
       "colors": [
        "blue"
       ],
       "display_legend": false,
       "interactions": {
        "click": "select",
        "hover": "tooltip",
        "legend_hover": "highlight_axes"
       },
       "labels": [
        "Directory name"
       ],
       "padding": 0.2,
       "scales": {
        "x": "IPY_MODEL_a2c4cd8d148c41018f066df6f3b641e7",
        "y": "IPY_MODEL_9e601269bc1a49fb8fef061cf851876f"
       },
       "selected": [],
       "selected_style": {
        "fill": "red"
       },
       "tooltip": "IPY_MODEL_4dee69bb1a4344e69621a8bdde432452",
       "x": {
        "type": "object",
        "values": [
         "R:\\",
         "nan",
         "R:\\13jd423",
         "R:\\49FP5C2",
         "R:\\51n6647",
         "R:\\CJM0273",
         "R:\\JDM1042",
         "R:\\84xF4F2",
         "R:\\AKB2312",
         "R:\\787PQ59"
        ]
       },
       "y": {
        "type": "float",
        "values": [
         5.877783399693508,
         5.871072172586023,
         0.7158866675294346,
         0.7158866675294346,
         0.7158866675294346,
         0.7158866675294346,
         0.7095125346462096,
         0.7095125346462096,
         0.7055697005585024,
         0.6961426895397437
        ]
       }
      }
     },
     "fa38f4ac3bf747bfbd1cf60cefb65de6": {
      "model_module": "@jupyter-widgets/base",
      "model_module_version": "1.0.0",
      "model_name": "LayoutModel",
      "state": {}
     },
     "fa76522f66df47aebba3a63d89125640": {
      "model_module": "bqplot",
      "model_module_version": "^0.3.6",
      "model_name": "DateScaleModel",
      "state": {}
     },
     "fa902cb434084032a2838be220c9ffe5": {
      "model_module": "@jupyter-widgets/base",
      "model_module_version": "1.0.0",
      "model_name": "LayoutModel",
      "state": {}
     },
     "fabfc3dd39f3466693054442a39ce739": {
      "model_module": "bqplot",
      "model_module_version": "^0.3.6",
      "model_name": "PanZoomModel",
      "state": {
       "scales": {
        "x": [
         "IPY_MODEL_04aebd96ac58450aad22cf0ab5a41914"
        ],
        "y": [
         "IPY_MODEL_cf6613f35a2c48d9a57a2cb99670c6bb"
        ]
       }
      }
     },
     "fadec291c26648669a0b0391900f46a9": {
      "model_module": "@jupyter-widgets/base",
      "model_module_version": "1.0.0",
      "model_name": "LayoutModel",
      "state": {}
     },
     "fb68b2c8552041ada7f1b97950582eff": {
      "model_module": "bqplot",
      "model_module_version": "^0.3.6",
      "model_name": "AxisModel",
      "state": {
       "label": "Number of USB Connections",
       "orientation": "vertical",
       "scale": "IPY_MODEL_1a6dd86045ca4633955d0f4881062535",
       "side": "left",
       "tick_format": "f",
       "tick_values": {
        "type": null,
        "values": null
       }
      }
     },
     "fb77ea318da246c5a820da3f14ab3686": {
      "model_module": "@jupyter-widgets/controls",
      "model_module_version": "1.2.0",
      "model_name": "VBoxModel",
      "state": {
       "children": [
        "IPY_MODEL_0dfbca617c054c75a176256987cee47c"
       ],
       "layout": "IPY_MODEL_d0d8308e65d844eabc60c065df915b61"
      }
     },
     "fb85d9c6dc1f43889b86ad5c9db7c5e1": {
      "model_module": "bqplot",
      "model_module_version": "^0.3.6",
      "model_name": "AxisModel",
      "state": {
       "label": "Days of the Year",
       "scale": "IPY_MODEL_494a0266f04543799457f1b3fa10c83f",
       "side": "bottom",
       "tick_values": {
        "type": null,
        "values": null
       }
      }
     },
     "fb95ffd778594f12b897985ccad4f243": {
      "model_module": "@jupyter-widgets/controls",
      "model_module_version": "1.2.0",
      "model_name": "DescriptionStyleModel",
      "state": {
       "description_width": ""
      }
     },
     "fbc4b685c9964aebbffde8a6195fffeb": {
      "model_module": "@jupyter-widgets/controls",
      "model_module_version": "1.2.0",
      "model_name": "HBoxModel",
      "state": {
       "children": [
        "IPY_MODEL_41865b09f55b4b878f178c8273fc023f"
       ],
       "layout": "IPY_MODEL_f4c698f637694542af955844d821cb37"
      }
     },
     "fbec46a9c9cb4e4bb96d227478302f5f": {
      "model_module": "bqplot",
      "model_module_version": "^0.3.6",
      "model_name": "PanZoomModel",
      "state": {
       "scales": {
        "x": [
         "IPY_MODEL_37015d09118a423a9a98ab8c4d7e5816"
        ],
        "y": [
         "IPY_MODEL_81e9319faf0743b1a508746eb7d569ba"
        ]
       }
      }
     },
     "fc1411d113184af9aaef9e43fe086e03": {
      "model_module": "@jupyter-widgets/controls",
      "model_module_version": "1.2.0",
      "model_name": "DescriptionStyleModel",
      "state": {
       "description_width": "initial"
      }
     },
     "fc56df2e07244082869c45b9da262efe": {
      "model_module": "@jupyter-widgets/base",
      "model_module_version": "1.0.0",
      "model_name": "LayoutModel",
      "state": {}
     },
     "fc9da729584c49feab7a78233bea80d5": {
      "model_module": "bqplot",
      "model_module_version": "^0.3.6",
      "model_name": "PanZoomModel",
      "state": {
       "scales": {
        "x": [
         "IPY_MODEL_50dc180adc054bac8bb98fc9443d82e2"
        ],
        "y": [
         "IPY_MODEL_005606af612848159c61881ae89fa3da"
        ]
       }
      }
     },
     "fcc2fb3d2953451c945c4f760c1c9b5b": {
      "model_module": "bqplot",
      "model_module_version": "^0.3.6",
      "model_name": "PanZoomModel",
      "state": {
       "scales": {
        "x": [
         "IPY_MODEL_23a875cf8b524bfcb1fcc9072d26252c"
        ],
        "y": [
         "IPY_MODEL_223ce942b7fb45feb76da464437e3821"
        ]
       }
      }
     },
     "fcfcd1434818441db29106b3bb962985": {
      "model_module": "@jupyter-widgets/controls",
      "model_module_version": "1.2.0",
      "model_name": "VBoxModel",
      "state": {
       "children": [
        "IPY_MODEL_b71313ac79e347c4a57c640b0a551add"
       ],
       "layout": "IPY_MODEL_27ee8218491e490389eeb82139ca7aaf"
      }
     },
     "fd4939179db749c98fc6c1027e97376e": {
      "model_module": "@jupyter-widgets/base",
      "model_module_version": "1.0.0",
      "model_name": "LayoutModel",
      "state": {}
     },
     "fd7041dcf2cb476993fde75a512e216e": {
      "model_module": "@jupyter-widgets/base",
      "model_module_version": "1.0.0",
      "model_name": "LayoutModel",
      "state": {}
     },
     "fdf49cf59d5b470b89b6244e49d3d7e5": {
      "model_module": "bqplot",
      "model_module_version": "^0.3.6",
      "model_name": "BarsModel",
      "state": {
       "color": {
        "type": null,
        "values": null
       },
       "colors": [
        "blue"
       ],
       "interactions": {
        "click": "select",
        "hover": "tooltip",
        "legend_hover": "highlight_axes"
       },
       "labels": [
        "Connect Activity"
       ],
       "scales": {
        "x": "IPY_MODEL_47087cd3626147b1b758e235b484b4ea",
        "y": "IPY_MODEL_de3e723f316c4653b9759d67b9c439dd"
       },
       "selected": [],
       "selected_style": {
        "fill": "red"
       },
       "tooltip": "IPY_MODEL_325fd9ba8cdc40399da3c457a5e082b6",
       "x": {
        "type": "object",
        "values": [
         "Connect",
         "Disconnect"
        ]
       },
       "y": {
        "type": "float",
        "values": [
         357.017,
         354.629
        ]
       }
      }
     },
     "fe46b84be739460787c1f26ad849b0d8": {
      "model_module": "bqplot",
      "model_module_version": "^0.3.6",
      "model_name": "TooltipModel",
      "state": {
       "fields": [
        "x",
        "y"
       ],
       "formats": [
        "",
        "f"
       ],
       "labels": [
        "Date",
        "Number of USB Connections"
       ],
       "layout": "IPY_MODEL_9c9255ff66c24fe6ad75ec26f378cb5a"
      }
     },
     "fe810ba531c34ab7ba0253da2e4e67f0": {
      "model_module": "bqplot",
      "model_module_version": "^0.3.6",
      "model_name": "LinearScaleModel",
      "state": {
       "stabilized": false
      }
     },
     "fe998a47a20347c082ce86ca8e78d486": {
      "model_module": "bqplot",
      "model_module_version": "^0.3.6",
      "model_name": "LinearScaleModel",
      "state": {
       "stabilized": false
      }
     },
     "fedb5c9639b944b3822d3f75b021b948": {
      "model_module": "@jupyter-widgets/controls",
      "model_module_version": "1.2.0",
      "model_name": "DropdownModel",
      "state": {
       "_options_labels": [
        "AAC0610",
        "AAP1919"
       ],
       "index": 0,
       "layout": "IPY_MODEL_7607e30f6e6b4e3e9f2f472b68997ec4",
       "style": "IPY_MODEL_934b33affab3470a9f3b1dccb879c924"
      }
     },
     "fee2268458e54853ad1d757eac929089": {
      "model_module": "bqplot",
      "model_module_version": "^0.3.6",
      "model_name": "FigureModel",
      "state": {
       "_dom_classes": [],
       "animation_duration": 3000,
       "axes": [
        "IPY_MODEL_5da3b2bc80fc4b7f9c83588f86db238d",
        "IPY_MODEL_0735322fc8074fe9818f912e098e586e"
       ],
       "background_style": {
        "fill": "aliceblue"
       },
       "layout": "IPY_MODEL_e66adf27db7a4619b093ea97ec24db5c",
       "marks": [
        "IPY_MODEL_72935bafc5ee4986a115eb49823a807e"
       ],
       "max_aspect_ratio": 6,
       "scale_x": "IPY_MODEL_0ee822bb5ce34db29d915131e59e9a66",
       "scale_y": "IPY_MODEL_8f732de35aac440483974eeea731c2c8",
       "title": "USB Connections Per Employee"
      }
     },
     "ffb7f72f852a4ce6a28bbb7152e00dae": {
      "model_module": "bqplot",
      "model_module_version": "^0.3.6",
      "model_name": "AxisModel",
      "state": {
       "label": "Number of USB Connections",
       "orientation": "vertical",
       "scale": "IPY_MODEL_6d4fc5cefa4a47ab9b7d9e21679270bb",
       "side": "left",
       "tick_format": "0.2f",
       "tick_values": {
        "type": null,
        "values": null
       }
      }
     },
     "ffe914ea76d54773bd37fd64a711ba30": {
      "model_module": "@jupyter-widgets/controls",
      "model_module_version": "1.2.0",
      "model_name": "VBoxModel",
      "state": {
       "children": [
        "IPY_MODEL_b7affab0a4524adfaab088ecb7b07f61"
       ],
       "layout": "IPY_MODEL_d504e7cf7e184a76ba7116d6886cbce2"
      }
     },
     "fff198a7a8664c558a82e3e8ae640491": {
      "model_module": "bqplot",
      "model_module_version": "^0.3.6",
      "model_name": "AxisModel",
      "state": {
       "label": "Computer ID",
       "scale": "IPY_MODEL_08c34fbb369e4a4b93e1645fc889bace",
       "side": "bottom",
       "tick_values": {
        "type": null,
        "values": null
       }
      }
     }
    },
    "version_major": 2,
    "version_minor": 0
   }
  }
 },
 "nbformat": 4,
 "nbformat_minor": 2
}
